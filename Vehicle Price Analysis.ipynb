{
 "cells": [
  {
   "cell_type": "markdown",
   "metadata": {},
   "source": [
    "# Vehicle Price Analysis"
   ]
  },
  {
   "cell_type": "markdown",
   "metadata": {},
   "source": [
    "### Objective: To determine which factors influence the price of the vehicle"
   ]
  },
  {
   "cell_type": "markdown",
   "metadata": {},
   "source": [
    "## Description of the data\n",
    "The dataset contains the following fields:\n",
    " - price\n",
    " - model_year\n",
    " - model\n",
    " - condition\n",
    " - cylinders\n",
    " - fuel — gas, diesel, etc.\n",
    " - odometer — the vehicle's mileage when the ad was published\n",
    " - transmission\n",
    " - paint_color\n",
    " - is_4wd — whether the vehicle has 4-wheel drive Boolean type)\n",
    " - date_posted — the date the ad was published\n",
    " - days_listed — from publication to removal"
   ]
  },
  {
   "cell_type": "markdown",
   "metadata": {},
   "source": [
    "## Step 1. Open the data file and study the general information"
   ]
  },
  {
   "cell_type": "code",
   "execution_count": 63,
   "metadata": {},
   "outputs": [],
   "source": [
    "import random\n",
    "import numpy as np\n",
    "import matplotlib.pyplot as plt \n",
    "import seaborn as sns \n",
    "import warnings\n",
    "warnings.simplefilter(action=\"ignore\", category=FutureWarning)"
   ]
  },
  {
   "cell_type": "code",
   "execution_count": 5,
   "metadata": {},
   "outputs": [
    {
     "data": {
      "text/html": [
       "<div>\n",
       "<style scoped>\n",
       "    .dataframe tbody tr th:only-of-type {\n",
       "        vertical-align: middle;\n",
       "    }\n",
       "\n",
       "    .dataframe tbody tr th {\n",
       "        vertical-align: top;\n",
       "    }\n",
       "\n",
       "    .dataframe thead th {\n",
       "        text-align: right;\n",
       "    }\n",
       "</style>\n",
       "<table border=\"1\" class=\"dataframe\">\n",
       "  <thead>\n",
       "    <tr style=\"text-align: right;\">\n",
       "      <th></th>\n",
       "      <th>price</th>\n",
       "      <th>model_year</th>\n",
       "      <th>model</th>\n",
       "      <th>condition</th>\n",
       "      <th>cylinders</th>\n",
       "      <th>fuel</th>\n",
       "      <th>odometer</th>\n",
       "      <th>transmission</th>\n",
       "      <th>type</th>\n",
       "      <th>paint_color</th>\n",
       "      <th>is_4wd</th>\n",
       "      <th>date_posted</th>\n",
       "      <th>days_listed</th>\n",
       "    </tr>\n",
       "  </thead>\n",
       "  <tbody>\n",
       "    <tr>\n",
       "      <td>0</td>\n",
       "      <td>9400</td>\n",
       "      <td>2011.0</td>\n",
       "      <td>bmw x5</td>\n",
       "      <td>good</td>\n",
       "      <td>6.0</td>\n",
       "      <td>gas</td>\n",
       "      <td>145000.0</td>\n",
       "      <td>automatic</td>\n",
       "      <td>SUV</td>\n",
       "      <td>NaN</td>\n",
       "      <td>1.0</td>\n",
       "      <td>2018-06-23</td>\n",
       "      <td>19</td>\n",
       "    </tr>\n",
       "    <tr>\n",
       "      <td>1</td>\n",
       "      <td>25500</td>\n",
       "      <td>NaN</td>\n",
       "      <td>ford f-150</td>\n",
       "      <td>good</td>\n",
       "      <td>6.0</td>\n",
       "      <td>gas</td>\n",
       "      <td>88705.0</td>\n",
       "      <td>automatic</td>\n",
       "      <td>pickup</td>\n",
       "      <td>white</td>\n",
       "      <td>1.0</td>\n",
       "      <td>2018-10-19</td>\n",
       "      <td>50</td>\n",
       "    </tr>\n",
       "    <tr>\n",
       "      <td>2</td>\n",
       "      <td>5500</td>\n",
       "      <td>2013.0</td>\n",
       "      <td>hyundai sonata</td>\n",
       "      <td>like new</td>\n",
       "      <td>4.0</td>\n",
       "      <td>gas</td>\n",
       "      <td>110000.0</td>\n",
       "      <td>automatic</td>\n",
       "      <td>sedan</td>\n",
       "      <td>red</td>\n",
       "      <td>NaN</td>\n",
       "      <td>2019-02-07</td>\n",
       "      <td>79</td>\n",
       "    </tr>\n",
       "    <tr>\n",
       "      <td>3</td>\n",
       "      <td>1500</td>\n",
       "      <td>2003.0</td>\n",
       "      <td>ford f-150</td>\n",
       "      <td>fair</td>\n",
       "      <td>8.0</td>\n",
       "      <td>gas</td>\n",
       "      <td>NaN</td>\n",
       "      <td>automatic</td>\n",
       "      <td>pickup</td>\n",
       "      <td>NaN</td>\n",
       "      <td>NaN</td>\n",
       "      <td>2019-03-22</td>\n",
       "      <td>9</td>\n",
       "    </tr>\n",
       "    <tr>\n",
       "      <td>4</td>\n",
       "      <td>14900</td>\n",
       "      <td>2017.0</td>\n",
       "      <td>chrysler 200</td>\n",
       "      <td>excellent</td>\n",
       "      <td>4.0</td>\n",
       "      <td>gas</td>\n",
       "      <td>80903.0</td>\n",
       "      <td>automatic</td>\n",
       "      <td>sedan</td>\n",
       "      <td>black</td>\n",
       "      <td>NaN</td>\n",
       "      <td>2019-04-02</td>\n",
       "      <td>28</td>\n",
       "    </tr>\n",
       "    <tr>\n",
       "      <td>...</td>\n",
       "      <td>...</td>\n",
       "      <td>...</td>\n",
       "      <td>...</td>\n",
       "      <td>...</td>\n",
       "      <td>...</td>\n",
       "      <td>...</td>\n",
       "      <td>...</td>\n",
       "      <td>...</td>\n",
       "      <td>...</td>\n",
       "      <td>...</td>\n",
       "      <td>...</td>\n",
       "      <td>...</td>\n",
       "      <td>...</td>\n",
       "    </tr>\n",
       "    <tr>\n",
       "      <td>51520</td>\n",
       "      <td>9249</td>\n",
       "      <td>2013.0</td>\n",
       "      <td>nissan maxima</td>\n",
       "      <td>like new</td>\n",
       "      <td>6.0</td>\n",
       "      <td>gas</td>\n",
       "      <td>88136.0</td>\n",
       "      <td>automatic</td>\n",
       "      <td>sedan</td>\n",
       "      <td>black</td>\n",
       "      <td>NaN</td>\n",
       "      <td>2018-10-03</td>\n",
       "      <td>37</td>\n",
       "    </tr>\n",
       "    <tr>\n",
       "      <td>51521</td>\n",
       "      <td>2700</td>\n",
       "      <td>2002.0</td>\n",
       "      <td>honda civic</td>\n",
       "      <td>salvage</td>\n",
       "      <td>4.0</td>\n",
       "      <td>gas</td>\n",
       "      <td>181500.0</td>\n",
       "      <td>automatic</td>\n",
       "      <td>sedan</td>\n",
       "      <td>white</td>\n",
       "      <td>NaN</td>\n",
       "      <td>2018-11-14</td>\n",
       "      <td>22</td>\n",
       "    </tr>\n",
       "    <tr>\n",
       "      <td>51522</td>\n",
       "      <td>3950</td>\n",
       "      <td>2009.0</td>\n",
       "      <td>hyundai sonata</td>\n",
       "      <td>excellent</td>\n",
       "      <td>4.0</td>\n",
       "      <td>gas</td>\n",
       "      <td>128000.0</td>\n",
       "      <td>automatic</td>\n",
       "      <td>sedan</td>\n",
       "      <td>blue</td>\n",
       "      <td>NaN</td>\n",
       "      <td>2018-11-15</td>\n",
       "      <td>32</td>\n",
       "    </tr>\n",
       "    <tr>\n",
       "      <td>51523</td>\n",
       "      <td>7455</td>\n",
       "      <td>2013.0</td>\n",
       "      <td>toyota corolla</td>\n",
       "      <td>good</td>\n",
       "      <td>4.0</td>\n",
       "      <td>gas</td>\n",
       "      <td>139573.0</td>\n",
       "      <td>automatic</td>\n",
       "      <td>sedan</td>\n",
       "      <td>black</td>\n",
       "      <td>NaN</td>\n",
       "      <td>2018-07-02</td>\n",
       "      <td>71</td>\n",
       "    </tr>\n",
       "    <tr>\n",
       "      <td>51524</td>\n",
       "      <td>6300</td>\n",
       "      <td>2014.0</td>\n",
       "      <td>nissan altima</td>\n",
       "      <td>good</td>\n",
       "      <td>4.0</td>\n",
       "      <td>gas</td>\n",
       "      <td>NaN</td>\n",
       "      <td>automatic</td>\n",
       "      <td>sedan</td>\n",
       "      <td>NaN</td>\n",
       "      <td>NaN</td>\n",
       "      <td>2018-06-05</td>\n",
       "      <td>10</td>\n",
       "    </tr>\n",
       "  </tbody>\n",
       "</table>\n",
       "<p>51525 rows × 13 columns</p>\n",
       "</div>"
      ],
      "text/plain": [
       "       price  model_year           model  condition  cylinders fuel  odometer  \\\n",
       "0       9400      2011.0          bmw x5       good        6.0  gas  145000.0   \n",
       "1      25500         NaN      ford f-150       good        6.0  gas   88705.0   \n",
       "2       5500      2013.0  hyundai sonata   like new        4.0  gas  110000.0   \n",
       "3       1500      2003.0      ford f-150       fair        8.0  gas       NaN   \n",
       "4      14900      2017.0    chrysler 200  excellent        4.0  gas   80903.0   \n",
       "...      ...         ...             ...        ...        ...  ...       ...   \n",
       "51520   9249      2013.0   nissan maxima   like new        6.0  gas   88136.0   \n",
       "51521   2700      2002.0     honda civic    salvage        4.0  gas  181500.0   \n",
       "51522   3950      2009.0  hyundai sonata  excellent        4.0  gas  128000.0   \n",
       "51523   7455      2013.0  toyota corolla       good        4.0  gas  139573.0   \n",
       "51524   6300      2014.0   nissan altima       good        4.0  gas       NaN   \n",
       "\n",
       "      transmission    type paint_color  is_4wd date_posted  days_listed  \n",
       "0        automatic     SUV         NaN     1.0  2018-06-23           19  \n",
       "1        automatic  pickup       white     1.0  2018-10-19           50  \n",
       "2        automatic   sedan         red     NaN  2019-02-07           79  \n",
       "3        automatic  pickup         NaN     NaN  2019-03-22            9  \n",
       "4        automatic   sedan       black     NaN  2019-04-02           28  \n",
       "...            ...     ...         ...     ...         ...          ...  \n",
       "51520    automatic   sedan       black     NaN  2018-10-03           37  \n",
       "51521    automatic   sedan       white     NaN  2018-11-14           22  \n",
       "51522    automatic   sedan        blue     NaN  2018-11-15           32  \n",
       "51523    automatic   sedan       black     NaN  2018-07-02           71  \n",
       "51524    automatic   sedan         NaN     NaN  2018-06-05           10  \n",
       "\n",
       "[51525 rows x 13 columns]"
      ]
     },
     "execution_count": 5,
     "metadata": {},
     "output_type": "execute_result"
    }
   ],
   "source": [
    "import pandas as pd\n",
    "from io import BytesIO\n",
    "import requests\n",
    "spreadsheet_id = '1UliEfA8hDCaJiJzbIKSVg068Q0P8ydzrYyl4aUY2XkA'\n",
    "file_name = 'https://docs.google.com/spreadsheets/d/{}/export?format=csv'.format(spreadsheet_id)\n",
    "r = requests.get(file_name)\n",
    "vehicle_data = pd.read_csv(BytesIO(r.content))\n",
    "vehicle_data"
   ]
  },
  {
   "cell_type": "code",
   "execution_count": 6,
   "metadata": {},
   "outputs": [
    {
     "data": {
      "text/html": [
       "<div>\n",
       "<style scoped>\n",
       "    .dataframe tbody tr th:only-of-type {\n",
       "        vertical-align: middle;\n",
       "    }\n",
       "\n",
       "    .dataframe tbody tr th {\n",
       "        vertical-align: top;\n",
       "    }\n",
       "\n",
       "    .dataframe thead th {\n",
       "        text-align: right;\n",
       "    }\n",
       "</style>\n",
       "<table border=\"1\" class=\"dataframe\">\n",
       "  <thead>\n",
       "    <tr style=\"text-align: right;\">\n",
       "      <th></th>\n",
       "      <th>price</th>\n",
       "      <th>model_year</th>\n",
       "      <th>cylinders</th>\n",
       "      <th>odometer</th>\n",
       "      <th>is_4wd</th>\n",
       "      <th>days_listed</th>\n",
       "    </tr>\n",
       "  </thead>\n",
       "  <tbody>\n",
       "    <tr>\n",
       "      <td>count</td>\n",
       "      <td>51525.000000</td>\n",
       "      <td>47906.000000</td>\n",
       "      <td>46265.000000</td>\n",
       "      <td>43633.000000</td>\n",
       "      <td>25572.0</td>\n",
       "      <td>51525.00000</td>\n",
       "    </tr>\n",
       "    <tr>\n",
       "      <td>mean</td>\n",
       "      <td>12132.464920</td>\n",
       "      <td>2009.750470</td>\n",
       "      <td>6.125235</td>\n",
       "      <td>115553.461738</td>\n",
       "      <td>1.0</td>\n",
       "      <td>39.55476</td>\n",
       "    </tr>\n",
       "    <tr>\n",
       "      <td>std</td>\n",
       "      <td>10040.803015</td>\n",
       "      <td>6.282065</td>\n",
       "      <td>1.660360</td>\n",
       "      <td>65094.611341</td>\n",
       "      <td>0.0</td>\n",
       "      <td>28.20427</td>\n",
       "    </tr>\n",
       "    <tr>\n",
       "      <td>min</td>\n",
       "      <td>1.000000</td>\n",
       "      <td>1908.000000</td>\n",
       "      <td>3.000000</td>\n",
       "      <td>0.000000</td>\n",
       "      <td>1.0</td>\n",
       "      <td>0.00000</td>\n",
       "    </tr>\n",
       "    <tr>\n",
       "      <td>25%</td>\n",
       "      <td>5000.000000</td>\n",
       "      <td>2006.000000</td>\n",
       "      <td>4.000000</td>\n",
       "      <td>70000.000000</td>\n",
       "      <td>1.0</td>\n",
       "      <td>19.00000</td>\n",
       "    </tr>\n",
       "    <tr>\n",
       "      <td>50%</td>\n",
       "      <td>9000.000000</td>\n",
       "      <td>2011.000000</td>\n",
       "      <td>6.000000</td>\n",
       "      <td>113000.000000</td>\n",
       "      <td>1.0</td>\n",
       "      <td>33.00000</td>\n",
       "    </tr>\n",
       "    <tr>\n",
       "      <td>75%</td>\n",
       "      <td>16839.000000</td>\n",
       "      <td>2014.000000</td>\n",
       "      <td>8.000000</td>\n",
       "      <td>155000.000000</td>\n",
       "      <td>1.0</td>\n",
       "      <td>53.00000</td>\n",
       "    </tr>\n",
       "    <tr>\n",
       "      <td>max</td>\n",
       "      <td>375000.000000</td>\n",
       "      <td>2019.000000</td>\n",
       "      <td>12.000000</td>\n",
       "      <td>990000.000000</td>\n",
       "      <td>1.0</td>\n",
       "      <td>271.00000</td>\n",
       "    </tr>\n",
       "  </tbody>\n",
       "</table>\n",
       "</div>"
      ],
      "text/plain": [
       "               price    model_year     cylinders       odometer   is_4wd  \\\n",
       "count   51525.000000  47906.000000  46265.000000   43633.000000  25572.0   \n",
       "mean    12132.464920   2009.750470      6.125235  115553.461738      1.0   \n",
       "std     10040.803015      6.282065      1.660360   65094.611341      0.0   \n",
       "min         1.000000   1908.000000      3.000000       0.000000      1.0   \n",
       "25%      5000.000000   2006.000000      4.000000   70000.000000      1.0   \n",
       "50%      9000.000000   2011.000000      6.000000  113000.000000      1.0   \n",
       "75%     16839.000000   2014.000000      8.000000  155000.000000      1.0   \n",
       "max    375000.000000   2019.000000     12.000000  990000.000000      1.0   \n",
       "\n",
       "       days_listed  \n",
       "count  51525.00000  \n",
       "mean      39.55476  \n",
       "std       28.20427  \n",
       "min        0.00000  \n",
       "25%       19.00000  \n",
       "50%       33.00000  \n",
       "75%       53.00000  \n",
       "max      271.00000  "
      ]
     },
     "execution_count": 6,
     "metadata": {},
     "output_type": "execute_result"
    }
   ],
   "source": [
    "vehicle_data.describe()"
   ]
  },
  {
   "cell_type": "code",
   "execution_count": 7,
   "metadata": {},
   "outputs": [
    {
     "name": "stdout",
     "output_type": "stream",
     "text": [
      "<class 'pandas.core.frame.DataFrame'>\n",
      "RangeIndex: 51525 entries, 0 to 51524\n",
      "Data columns (total 13 columns):\n",
      "price           51525 non-null int64\n",
      "model_year      47906 non-null float64\n",
      "model           51525 non-null object\n",
      "condition       51525 non-null object\n",
      "cylinders       46265 non-null float64\n",
      "fuel            51525 non-null object\n",
      "odometer        43633 non-null float64\n",
      "transmission    51525 non-null object\n",
      "type            51525 non-null object\n",
      "paint_color     42258 non-null object\n",
      "is_4wd          25572 non-null float64\n",
      "date_posted     51525 non-null object\n",
      "days_listed     51525 non-null int64\n",
      "dtypes: float64(4), int64(2), object(7)\n",
      "memory usage: 5.1+ MB\n"
     ]
    }
   ],
   "source": [
    "vehicle_data.info()"
   ]
  },
  {
   "cell_type": "code",
   "execution_count": 8,
   "metadata": {},
   "outputs": [
    {
     "data": {
      "text/html": [
       "<div>\n",
       "<style scoped>\n",
       "    .dataframe tbody tr th:only-of-type {\n",
       "        vertical-align: middle;\n",
       "    }\n",
       "\n",
       "    .dataframe tbody tr th {\n",
       "        vertical-align: top;\n",
       "    }\n",
       "\n",
       "    .dataframe thead th {\n",
       "        text-align: right;\n",
       "    }\n",
       "</style>\n",
       "<table border=\"1\" class=\"dataframe\">\n",
       "  <thead>\n",
       "    <tr style=\"text-align: right;\">\n",
       "      <th></th>\n",
       "      <th>price</th>\n",
       "      <th>model_year</th>\n",
       "      <th>model</th>\n",
       "      <th>condition</th>\n",
       "      <th>cylinders</th>\n",
       "      <th>fuel</th>\n",
       "      <th>odometer</th>\n",
       "      <th>transmission</th>\n",
       "      <th>type</th>\n",
       "      <th>paint_color</th>\n",
       "      <th>is_4wd</th>\n",
       "      <th>date_posted</th>\n",
       "      <th>days_listed</th>\n",
       "    </tr>\n",
       "  </thead>\n",
       "  <tbody>\n",
       "    <tr>\n",
       "      <td>0</td>\n",
       "      <td>9400</td>\n",
       "      <td>2011.0</td>\n",
       "      <td>bmw x5</td>\n",
       "      <td>good</td>\n",
       "      <td>6.0</td>\n",
       "      <td>gas</td>\n",
       "      <td>145000.0</td>\n",
       "      <td>automatic</td>\n",
       "      <td>SUV</td>\n",
       "      <td>NaN</td>\n",
       "      <td>1.0</td>\n",
       "      <td>2018-06-23</td>\n",
       "      <td>19</td>\n",
       "    </tr>\n",
       "    <tr>\n",
       "      <td>1</td>\n",
       "      <td>25500</td>\n",
       "      <td>NaN</td>\n",
       "      <td>ford f-150</td>\n",
       "      <td>good</td>\n",
       "      <td>6.0</td>\n",
       "      <td>gas</td>\n",
       "      <td>88705.0</td>\n",
       "      <td>automatic</td>\n",
       "      <td>pickup</td>\n",
       "      <td>white</td>\n",
       "      <td>1.0</td>\n",
       "      <td>2018-10-19</td>\n",
       "      <td>50</td>\n",
       "    </tr>\n",
       "    <tr>\n",
       "      <td>2</td>\n",
       "      <td>5500</td>\n",
       "      <td>2013.0</td>\n",
       "      <td>hyundai sonata</td>\n",
       "      <td>like new</td>\n",
       "      <td>4.0</td>\n",
       "      <td>gas</td>\n",
       "      <td>110000.0</td>\n",
       "      <td>automatic</td>\n",
       "      <td>sedan</td>\n",
       "      <td>red</td>\n",
       "      <td>NaN</td>\n",
       "      <td>2019-02-07</td>\n",
       "      <td>79</td>\n",
       "    </tr>\n",
       "    <tr>\n",
       "      <td>3</td>\n",
       "      <td>1500</td>\n",
       "      <td>2003.0</td>\n",
       "      <td>ford f-150</td>\n",
       "      <td>fair</td>\n",
       "      <td>8.0</td>\n",
       "      <td>gas</td>\n",
       "      <td>NaN</td>\n",
       "      <td>automatic</td>\n",
       "      <td>pickup</td>\n",
       "      <td>NaN</td>\n",
       "      <td>NaN</td>\n",
       "      <td>2019-03-22</td>\n",
       "      <td>9</td>\n",
       "    </tr>\n",
       "    <tr>\n",
       "      <td>4</td>\n",
       "      <td>14900</td>\n",
       "      <td>2017.0</td>\n",
       "      <td>chrysler 200</td>\n",
       "      <td>excellent</td>\n",
       "      <td>4.0</td>\n",
       "      <td>gas</td>\n",
       "      <td>80903.0</td>\n",
       "      <td>automatic</td>\n",
       "      <td>sedan</td>\n",
       "      <td>black</td>\n",
       "      <td>NaN</td>\n",
       "      <td>2019-04-02</td>\n",
       "      <td>28</td>\n",
       "    </tr>\n",
       "    <tr>\n",
       "      <td>5</td>\n",
       "      <td>14990</td>\n",
       "      <td>2014.0</td>\n",
       "      <td>chrysler 300</td>\n",
       "      <td>excellent</td>\n",
       "      <td>6.0</td>\n",
       "      <td>gas</td>\n",
       "      <td>57954.0</td>\n",
       "      <td>automatic</td>\n",
       "      <td>sedan</td>\n",
       "      <td>black</td>\n",
       "      <td>1.0</td>\n",
       "      <td>2018-06-20</td>\n",
       "      <td>15</td>\n",
       "    </tr>\n",
       "    <tr>\n",
       "      <td>6</td>\n",
       "      <td>12990</td>\n",
       "      <td>2015.0</td>\n",
       "      <td>toyota camry</td>\n",
       "      <td>excellent</td>\n",
       "      <td>4.0</td>\n",
       "      <td>gas</td>\n",
       "      <td>79212.0</td>\n",
       "      <td>automatic</td>\n",
       "      <td>sedan</td>\n",
       "      <td>white</td>\n",
       "      <td>NaN</td>\n",
       "      <td>2018-12-27</td>\n",
       "      <td>73</td>\n",
       "    </tr>\n",
       "    <tr>\n",
       "      <td>7</td>\n",
       "      <td>15990</td>\n",
       "      <td>2013.0</td>\n",
       "      <td>honda pilot</td>\n",
       "      <td>excellent</td>\n",
       "      <td>6.0</td>\n",
       "      <td>gas</td>\n",
       "      <td>109473.0</td>\n",
       "      <td>automatic</td>\n",
       "      <td>SUV</td>\n",
       "      <td>black</td>\n",
       "      <td>1.0</td>\n",
       "      <td>2019-01-07</td>\n",
       "      <td>68</td>\n",
       "    </tr>\n",
       "    <tr>\n",
       "      <td>8</td>\n",
       "      <td>11500</td>\n",
       "      <td>2012.0</td>\n",
       "      <td>kia sorento</td>\n",
       "      <td>excellent</td>\n",
       "      <td>4.0</td>\n",
       "      <td>gas</td>\n",
       "      <td>104174.0</td>\n",
       "      <td>automatic</td>\n",
       "      <td>SUV</td>\n",
       "      <td>NaN</td>\n",
       "      <td>1.0</td>\n",
       "      <td>2018-07-16</td>\n",
       "      <td>19</td>\n",
       "    </tr>\n",
       "    <tr>\n",
       "      <td>9</td>\n",
       "      <td>9200</td>\n",
       "      <td>2008.0</td>\n",
       "      <td>honda pilot</td>\n",
       "      <td>excellent</td>\n",
       "      <td>NaN</td>\n",
       "      <td>gas</td>\n",
       "      <td>147191.0</td>\n",
       "      <td>automatic</td>\n",
       "      <td>SUV</td>\n",
       "      <td>blue</td>\n",
       "      <td>1.0</td>\n",
       "      <td>2019-02-15</td>\n",
       "      <td>17</td>\n",
       "    </tr>\n",
       "  </tbody>\n",
       "</table>\n",
       "</div>"
      ],
      "text/plain": [
       "   price  model_year           model  condition  cylinders fuel  odometer  \\\n",
       "0   9400      2011.0          bmw x5       good        6.0  gas  145000.0   \n",
       "1  25500         NaN      ford f-150       good        6.0  gas   88705.0   \n",
       "2   5500      2013.0  hyundai sonata   like new        4.0  gas  110000.0   \n",
       "3   1500      2003.0      ford f-150       fair        8.0  gas       NaN   \n",
       "4  14900      2017.0    chrysler 200  excellent        4.0  gas   80903.0   \n",
       "5  14990      2014.0    chrysler 300  excellent        6.0  gas   57954.0   \n",
       "6  12990      2015.0    toyota camry  excellent        4.0  gas   79212.0   \n",
       "7  15990      2013.0     honda pilot  excellent        6.0  gas  109473.0   \n",
       "8  11500      2012.0     kia sorento  excellent        4.0  gas  104174.0   \n",
       "9   9200      2008.0     honda pilot  excellent        NaN  gas  147191.0   \n",
       "\n",
       "  transmission    type paint_color  is_4wd date_posted  days_listed  \n",
       "0    automatic     SUV         NaN     1.0  2018-06-23           19  \n",
       "1    automatic  pickup       white     1.0  2018-10-19           50  \n",
       "2    automatic   sedan         red     NaN  2019-02-07           79  \n",
       "3    automatic  pickup         NaN     NaN  2019-03-22            9  \n",
       "4    automatic   sedan       black     NaN  2019-04-02           28  \n",
       "5    automatic   sedan       black     1.0  2018-06-20           15  \n",
       "6    automatic   sedan       white     NaN  2018-12-27           73  \n",
       "7    automatic     SUV       black     1.0  2019-01-07           68  \n",
       "8    automatic     SUV         NaN     1.0  2018-07-16           19  \n",
       "9    automatic     SUV        blue     1.0  2019-02-15           17  "
      ]
     },
     "execution_count": 8,
     "metadata": {},
     "output_type": "execute_result"
    }
   ],
   "source": [
    "vehicle_data.head(10)"
   ]
  },
  {
   "cell_type": "markdown",
   "metadata": {},
   "source": [
    "> - At first glance, there is a lot of missing values especially in the <b>is_4wd</b> column\n",
    "> -  The maximum price is 375,000, which can't be right.\n",
    "> - The maximum value for <b>odometer</b> is 990,000, which is a lot and could be a misprint\n",
    "> - We need to determine how we are going to fill the missing values or if we're going to drop them"
   ]
  },
  {
   "cell_type": "code",
   "execution_count": 9,
   "metadata": {},
   "outputs": [
    {
     "data": {
      "text/html": [
       "<div>\n",
       "<style scoped>\n",
       "    .dataframe tbody tr th:only-of-type {\n",
       "        vertical-align: middle;\n",
       "    }\n",
       "\n",
       "    .dataframe tbody tr th {\n",
       "        vertical-align: top;\n",
       "    }\n",
       "\n",
       "    .dataframe thead th {\n",
       "        text-align: right;\n",
       "    }\n",
       "</style>\n",
       "<table border=\"1\" class=\"dataframe\">\n",
       "  <thead>\n",
       "    <tr style=\"text-align: right;\">\n",
       "      <th></th>\n",
       "      <th>Null Values</th>\n",
       "      <th>Percentage of Null Values</th>\n",
       "    </tr>\n",
       "  </thead>\n",
       "  <tbody>\n",
       "    <tr>\n",
       "      <td>price</td>\n",
       "      <td>0</td>\n",
       "      <td>0.00</td>\n",
       "    </tr>\n",
       "    <tr>\n",
       "      <td>model_year</td>\n",
       "      <td>3619</td>\n",
       "      <td>7.02</td>\n",
       "    </tr>\n",
       "    <tr>\n",
       "      <td>model</td>\n",
       "      <td>0</td>\n",
       "      <td>0.00</td>\n",
       "    </tr>\n",
       "    <tr>\n",
       "      <td>condition</td>\n",
       "      <td>0</td>\n",
       "      <td>0.00</td>\n",
       "    </tr>\n",
       "    <tr>\n",
       "      <td>cylinders</td>\n",
       "      <td>5260</td>\n",
       "      <td>10.21</td>\n",
       "    </tr>\n",
       "    <tr>\n",
       "      <td>fuel</td>\n",
       "      <td>0</td>\n",
       "      <td>0.00</td>\n",
       "    </tr>\n",
       "    <tr>\n",
       "      <td>odometer</td>\n",
       "      <td>7892</td>\n",
       "      <td>15.32</td>\n",
       "    </tr>\n",
       "    <tr>\n",
       "      <td>transmission</td>\n",
       "      <td>0</td>\n",
       "      <td>0.00</td>\n",
       "    </tr>\n",
       "    <tr>\n",
       "      <td>type</td>\n",
       "      <td>0</td>\n",
       "      <td>0.00</td>\n",
       "    </tr>\n",
       "    <tr>\n",
       "      <td>paint_color</td>\n",
       "      <td>9267</td>\n",
       "      <td>17.99</td>\n",
       "    </tr>\n",
       "    <tr>\n",
       "      <td>is_4wd</td>\n",
       "      <td>25953</td>\n",
       "      <td>50.37</td>\n",
       "    </tr>\n",
       "    <tr>\n",
       "      <td>date_posted</td>\n",
       "      <td>0</td>\n",
       "      <td>0.00</td>\n",
       "    </tr>\n",
       "    <tr>\n",
       "      <td>days_listed</td>\n",
       "      <td>0</td>\n",
       "      <td>0.00</td>\n",
       "    </tr>\n",
       "  </tbody>\n",
       "</table>\n",
       "</div>"
      ],
      "text/plain": [
       "              Null Values  Percentage of Null Values\n",
       "price                   0                       0.00\n",
       "model_year           3619                       7.02\n",
       "model                   0                       0.00\n",
       "condition               0                       0.00\n",
       "cylinders            5260                      10.21\n",
       "fuel                    0                       0.00\n",
       "odometer             7892                      15.32\n",
       "transmission            0                       0.00\n",
       "type                    0                       0.00\n",
       "paint_color          9267                      17.99\n",
       "is_4wd              25953                      50.37\n",
       "date_posted             0                       0.00\n",
       "days_listed             0                       0.00"
      ]
     },
     "execution_count": 9,
     "metadata": {},
     "output_type": "execute_result"
    }
   ],
   "source": [
    "def number_of_nulls(vehicle_data):\n",
    "    null_values = vehicle_data.isnull().sum()\n",
    "    percentage_of_null_values = vehicle_data.isnull().sum() / len(vehicle_data) *100\n",
    "    null_values_table = pd.concat([null_values, percentage_of_null_values], axis = 1).\\\n",
    "                        rename(columns = {0 : 'Null Values', 1 : 'Percentage of Null Values'}).round(2)\n",
    "    return null_values_table\n",
    "\n",
    "number_of_nulls(vehicle_data)"
   ]
  },
  {
   "cell_type": "markdown",
   "metadata": {},
   "source": [
    ">  We have 5 rows that have missing values. Also, we can see that we need to fix the datatype. There are missing values because whomever collected the data either left it blank or that was the way the data was transferred. Now onto preprocessing."
   ]
  },
  {
   "cell_type": "markdown",
   "metadata": {},
   "source": [
    "## Step 2. Data preprocessing"
   ]
  },
  {
   "cell_type": "code",
   "execution_count": 10,
   "metadata": {},
   "outputs": [
    {
     "data": {
      "text/plain": [
       "price               0\n",
       "model_year       3619\n",
       "model               0\n",
       "condition           0\n",
       "cylinders        5260\n",
       "fuel                0\n",
       "odometer         7892\n",
       "transmission        0\n",
       "type                0\n",
       "paint_color      9267\n",
       "is_4wd          25953\n",
       "date_posted         0\n",
       "days_listed         0\n",
       "dtype: int64"
      ]
     },
     "execution_count": 10,
     "metadata": {},
     "output_type": "execute_result"
    }
   ],
   "source": [
    "vehicle_data.isnull().sum()"
   ]
  },
  {
   "cell_type": "code",
   "execution_count": 11,
   "metadata": {},
   "outputs": [
    {
     "data": {
      "text/plain": [
       "mean      115553.46\n",
       "median    113000.00\n",
       "Name: odometer, dtype: float64"
      ]
     },
     "metadata": {},
     "output_type": "display_data"
    }
   ],
   "source": [
    "display(vehicle_data['odometer'].agg(['mean', 'median']).round(2))\n",
    "vehicle_data['odometer'] = vehicle_data['odometer'].fillna(vehicle_data['odometer'].median())\n"
   ]
  },
  {
   "cell_type": "code",
   "execution_count": 12,
   "metadata": {},
   "outputs": [],
   "source": [
    "vehicle_data = vehicle_data.dropna(subset=['model_year', 'cylinders']).reset_index(drop=True)\n",
    "#vehicle_data.isnull().sum()"
   ]
  },
  {
   "cell_type": "code",
   "execution_count": 13,
   "metadata": {},
   "outputs": [],
   "source": [
    "vehicle_data['paint_color']= vehicle_data['paint_color'].fillna('other')"
   ]
  },
  {
   "cell_type": "code",
   "execution_count": 14,
   "metadata": {},
   "outputs": [],
   "source": [
    "vehicle_data['is_4wd'] = vehicle_data['is_4wd'].fillna(0)"
   ]
  },
  {
   "cell_type": "markdown",
   "metadata": {},
   "source": [
    "> - I decided to fill in the odometer using the median\n",
    "> - I dropped the missing values in <b>model_year</b> and <b>cylinders</b> because it is only less than 10% of the data and dropping it would not skew the result very much\n",
    "> - I filled in the missing values in paint_color column by creating a new category \"other' because the color might not be on the list\n",
    "> - Column <b>is_4wd</b> is a Boolean with 1 as True and we can safely assume that the missing values represent 0 or False"
   ]
  },
  {
   "cell_type": "code",
   "execution_count": 15,
   "metadata": {},
   "outputs": [
    {
     "data": {
      "text/html": [
       "<div>\n",
       "<style scoped>\n",
       "    .dataframe tbody tr th:only-of-type {\n",
       "        vertical-align: middle;\n",
       "    }\n",
       "\n",
       "    .dataframe tbody tr th {\n",
       "        vertical-align: top;\n",
       "    }\n",
       "\n",
       "    .dataframe thead th {\n",
       "        text-align: right;\n",
       "    }\n",
       "</style>\n",
       "<table border=\"1\" class=\"dataframe\">\n",
       "  <thead>\n",
       "    <tr style=\"text-align: right;\">\n",
       "      <th></th>\n",
       "      <th>Null Values</th>\n",
       "      <th>Percentage of Null Values</th>\n",
       "    </tr>\n",
       "  </thead>\n",
       "  <tbody>\n",
       "    <tr>\n",
       "      <td>price</td>\n",
       "      <td>0</td>\n",
       "      <td>0.0</td>\n",
       "    </tr>\n",
       "    <tr>\n",
       "      <td>model_year</td>\n",
       "      <td>0</td>\n",
       "      <td>0.0</td>\n",
       "    </tr>\n",
       "    <tr>\n",
       "      <td>model</td>\n",
       "      <td>0</td>\n",
       "      <td>0.0</td>\n",
       "    </tr>\n",
       "    <tr>\n",
       "      <td>condition</td>\n",
       "      <td>0</td>\n",
       "      <td>0.0</td>\n",
       "    </tr>\n",
       "    <tr>\n",
       "      <td>cylinders</td>\n",
       "      <td>0</td>\n",
       "      <td>0.0</td>\n",
       "    </tr>\n",
       "    <tr>\n",
       "      <td>fuel</td>\n",
       "      <td>0</td>\n",
       "      <td>0.0</td>\n",
       "    </tr>\n",
       "    <tr>\n",
       "      <td>odometer</td>\n",
       "      <td>0</td>\n",
       "      <td>0.0</td>\n",
       "    </tr>\n",
       "    <tr>\n",
       "      <td>transmission</td>\n",
       "      <td>0</td>\n",
       "      <td>0.0</td>\n",
       "    </tr>\n",
       "    <tr>\n",
       "      <td>type</td>\n",
       "      <td>0</td>\n",
       "      <td>0.0</td>\n",
       "    </tr>\n",
       "    <tr>\n",
       "      <td>paint_color</td>\n",
       "      <td>0</td>\n",
       "      <td>0.0</td>\n",
       "    </tr>\n",
       "    <tr>\n",
       "      <td>is_4wd</td>\n",
       "      <td>0</td>\n",
       "      <td>0.0</td>\n",
       "    </tr>\n",
       "    <tr>\n",
       "      <td>date_posted</td>\n",
       "      <td>0</td>\n",
       "      <td>0.0</td>\n",
       "    </tr>\n",
       "    <tr>\n",
       "      <td>days_listed</td>\n",
       "      <td>0</td>\n",
       "      <td>0.0</td>\n",
       "    </tr>\n",
       "  </tbody>\n",
       "</table>\n",
       "</div>"
      ],
      "text/plain": [
       "              Null Values  Percentage of Null Values\n",
       "price                   0                        0.0\n",
       "model_year              0                        0.0\n",
       "model                   0                        0.0\n",
       "condition               0                        0.0\n",
       "cylinders               0                        0.0\n",
       "fuel                    0                        0.0\n",
       "odometer                0                        0.0\n",
       "transmission            0                        0.0\n",
       "type                    0                        0.0\n",
       "paint_color             0                        0.0\n",
       "is_4wd                  0                        0.0\n",
       "date_posted             0                        0.0\n",
       "days_listed             0                        0.0"
      ]
     },
     "execution_count": 15,
     "metadata": {},
     "output_type": "execute_result"
    }
   ],
   "source": [
    "vehicle_data.isnull().sum()\n",
    "number_of_nulls(vehicle_data)\n"
   ]
  },
  {
   "cell_type": "markdown",
   "metadata": {},
   "source": [
    "> There's no more missing values and now we can go ahead and continue. We need to check if the columns have appropriate datatypes"
   ]
  },
  {
   "cell_type": "markdown",
   "metadata": {},
   "source": [
    "### Converting to required data types"
   ]
  },
  {
   "cell_type": "code",
   "execution_count": 16,
   "metadata": {},
   "outputs": [
    {
     "name": "stdout",
     "output_type": "stream",
     "text": [
      "<class 'pandas.core.frame.DataFrame'>\n",
      "RangeIndex: 43009 entries, 0 to 43008\n",
      "Data columns (total 13 columns):\n",
      "price           43009 non-null int64\n",
      "model_year      43009 non-null float64\n",
      "model           43009 non-null object\n",
      "condition       43009 non-null object\n",
      "cylinders       43009 non-null float64\n",
      "fuel            43009 non-null object\n",
      "odometer        43009 non-null float64\n",
      "transmission    43009 non-null object\n",
      "type            43009 non-null object\n",
      "paint_color     43009 non-null object\n",
      "is_4wd          43009 non-null float64\n",
      "date_posted     43009 non-null object\n",
      "days_listed     43009 non-null int64\n",
      "dtypes: float64(4), int64(2), object(7)\n",
      "memory usage: 4.3+ MB\n"
     ]
    }
   ],
   "source": [
    "vehicle_data.info()"
   ]
  },
  {
   "cell_type": "code",
   "execution_count": 17,
   "metadata": {},
   "outputs": [],
   "source": [
    "#changing datatypes\n",
    "vehicle_data[['model_year','cylinders','odometer', 'is_4wd']] = vehicle_data[['model_year',\\\n",
    "                                                                              'cylinders',\\\n",
    "                                                                              'odometer',\\\n",
    "                                                                              'is_4wd']].astype(int)"
   ]
  },
  {
   "cell_type": "code",
   "execution_count": 18,
   "metadata": {
    "scrolled": true
   },
   "outputs": [
    {
     "name": "stdout",
     "output_type": "stream",
     "text": [
      "<class 'pandas.core.frame.DataFrame'>\n",
      "RangeIndex: 43009 entries, 0 to 43008\n",
      "Data columns (total 13 columns):\n",
      "price           43009 non-null int64\n",
      "model_year      43009 non-null int64\n",
      "model           43009 non-null object\n",
      "condition       43009 non-null object\n",
      "cylinders       43009 non-null int64\n",
      "fuel            43009 non-null object\n",
      "odometer        43009 non-null int64\n",
      "transmission    43009 non-null object\n",
      "type            43009 non-null object\n",
      "paint_color     43009 non-null object\n",
      "is_4wd          43009 non-null int64\n",
      "date_posted     43009 non-null object\n",
      "days_listed     43009 non-null int64\n",
      "dtypes: int64(6), object(7)\n",
      "memory usage: 4.3+ MB\n"
     ]
    }
   ],
   "source": [
    "vehicle_data.info()\n"
   ]
  },
  {
   "cell_type": "markdown",
   "metadata": {},
   "source": [
    "> We changed the datatype and now everything is in its correct datatype"
   ]
  },
  {
   "cell_type": "code",
   "execution_count": 19,
   "metadata": {},
   "outputs": [
    {
     "data": {
      "text/plain": [
       "0"
      ]
     },
     "execution_count": 19,
     "metadata": {},
     "output_type": "execute_result"
    }
   ],
   "source": [
    "#Checking for duplicates\n",
    "vehicle_data.duplicated().sum()"
   ]
  },
  {
   "cell_type": "markdown",
   "metadata": {},
   "source": [
    "> There are no duplicates so we can keep going"
   ]
  },
  {
   "cell_type": "code",
   "execution_count": 20,
   "metadata": {},
   "outputs": [
    {
     "data": {
      "text/html": [
       "<div>\n",
       "<style scoped>\n",
       "    .dataframe tbody tr th:only-of-type {\n",
       "        vertical-align: middle;\n",
       "    }\n",
       "\n",
       "    .dataframe tbody tr th {\n",
       "        vertical-align: top;\n",
       "    }\n",
       "\n",
       "    .dataframe thead th {\n",
       "        text-align: right;\n",
       "    }\n",
       "</style>\n",
       "<table border=\"1\" class=\"dataframe\">\n",
       "  <thead>\n",
       "    <tr style=\"text-align: right;\">\n",
       "      <th></th>\n",
       "      <th>price</th>\n",
       "      <th>model_year</th>\n",
       "      <th>model</th>\n",
       "      <th>condition</th>\n",
       "      <th>cylinders</th>\n",
       "      <th>fuel</th>\n",
       "      <th>odometer</th>\n",
       "      <th>transmission</th>\n",
       "      <th>type</th>\n",
       "      <th>paint_color</th>\n",
       "      <th>is_4wd</th>\n",
       "      <th>date_posted</th>\n",
       "      <th>days_listed</th>\n",
       "    </tr>\n",
       "  </thead>\n",
       "  <tbody>\n",
       "    <tr>\n",
       "      <td>10477</td>\n",
       "      <td>375000</td>\n",
       "      <td>1999</td>\n",
       "      <td>nissan frontier</td>\n",
       "      <td>good</td>\n",
       "      <td>6</td>\n",
       "      <td>gas</td>\n",
       "      <td>115000</td>\n",
       "      <td>automatic</td>\n",
       "      <td>pickup</td>\n",
       "      <td>blue</td>\n",
       "      <td>1</td>\n",
       "      <td>2018-05-19</td>\n",
       "      <td>21</td>\n",
       "    </tr>\n",
       "  </tbody>\n",
       "</table>\n",
       "</div>"
      ],
      "text/plain": [
       "        price  model_year            model condition  cylinders fuel  \\\n",
       "10477  375000        1999  nissan frontier      good          6  gas   \n",
       "\n",
       "       odometer transmission    type paint_color  is_4wd date_posted  \\\n",
       "10477    115000    automatic  pickup        blue       1  2018-05-19   \n",
       "\n",
       "       days_listed  \n",
       "10477           21  "
      ]
     },
     "metadata": {},
     "output_type": "display_data"
    },
    {
     "data": {
      "text/html": [
       "<div>\n",
       "<style scoped>\n",
       "    .dataframe tbody tr th:only-of-type {\n",
       "        vertical-align: middle;\n",
       "    }\n",
       "\n",
       "    .dataframe tbody tr th {\n",
       "        vertical-align: top;\n",
       "    }\n",
       "\n",
       "    .dataframe thead th {\n",
       "        text-align: right;\n",
       "    }\n",
       "</style>\n",
       "<table border=\"1\" class=\"dataframe\">\n",
       "  <thead>\n",
       "    <tr style=\"text-align: right;\">\n",
       "      <th></th>\n",
       "      <th>price</th>\n",
       "      <th>model_year</th>\n",
       "      <th>model</th>\n",
       "      <th>condition</th>\n",
       "      <th>cylinders</th>\n",
       "      <th>fuel</th>\n",
       "      <th>odometer</th>\n",
       "      <th>transmission</th>\n",
       "      <th>type</th>\n",
       "      <th>paint_color</th>\n",
       "      <th>is_4wd</th>\n",
       "      <th>date_posted</th>\n",
       "      <th>days_listed</th>\n",
       "    </tr>\n",
       "  </thead>\n",
       "  <tbody>\n",
       "    <tr>\n",
       "      <td>33998</td>\n",
       "      <td>4700</td>\n",
       "      <td>2013</td>\n",
       "      <td>chevrolet cruze</td>\n",
       "      <td>good</td>\n",
       "      <td>6</td>\n",
       "      <td>gas</td>\n",
       "      <td>990000</td>\n",
       "      <td>automatic</td>\n",
       "      <td>sedan</td>\n",
       "      <td>black</td>\n",
       "      <td>0</td>\n",
       "      <td>2018-05-02</td>\n",
       "      <td>4</td>\n",
       "    </tr>\n",
       "  </tbody>\n",
       "</table>\n",
       "</div>"
      ],
      "text/plain": [
       "       price  model_year            model condition  cylinders fuel  odometer  \\\n",
       "33998   4700        2013  chevrolet cruze      good          6  gas    990000   \n",
       "\n",
       "      transmission   type paint_color  is_4wd date_posted  days_listed  \n",
       "33998    automatic  sedan       black       0  2018-05-02            4  "
      ]
     },
     "metadata": {},
     "output_type": "display_data"
    }
   ],
   "source": [
    "display(vehicle_data[vehicle_data['price'] == 375000])\n",
    "display(vehicle_data[vehicle_data['odometer'] ==990000])"
   ]
  },
  {
   "cell_type": "markdown",
   "metadata": {},
   "source": [
    "> 375,000 for a 1999 Nissan Frontier is definitely a misprint and also 990,000 miles for a Chevy Cruze is not possible so that definitely is a misprint too"
   ]
  },
  {
   "cell_type": "markdown",
   "metadata": {},
   "source": [
    "## Step 3. Calculate and add to the table the following:"
   ]
  },
  {
   "cell_type": "markdown",
   "metadata": {},
   "source": [
    "> - Day of the week, month, and year the ad was placed\n",
    "> - The vehicle's age (in years) when the ad was placed\n",
    "> - The vehicle's average mileage per year"
   ]
  },
  {
   "cell_type": "code",
   "execution_count": 21,
   "metadata": {},
   "outputs": [],
   "source": [
    "vehicle_data['date_posted'] = pd.to_datetime(vehicle_data['date_posted'])"
   ]
  },
  {
   "cell_type": "code",
   "execution_count": 22,
   "metadata": {},
   "outputs": [
    {
     "data": {
      "text/html": [
       "<div>\n",
       "<style scoped>\n",
       "    .dataframe tbody tr th:only-of-type {\n",
       "        vertical-align: middle;\n",
       "    }\n",
       "\n",
       "    .dataframe tbody tr th {\n",
       "        vertical-align: top;\n",
       "    }\n",
       "\n",
       "    .dataframe thead th {\n",
       "        text-align: right;\n",
       "    }\n",
       "</style>\n",
       "<table border=\"1\" class=\"dataframe\">\n",
       "  <thead>\n",
       "    <tr style=\"text-align: right;\">\n",
       "      <th></th>\n",
       "      <th>price</th>\n",
       "      <th>model_year</th>\n",
       "      <th>model</th>\n",
       "      <th>condition</th>\n",
       "      <th>cylinders</th>\n",
       "      <th>fuel</th>\n",
       "      <th>odometer</th>\n",
       "      <th>transmission</th>\n",
       "      <th>type</th>\n",
       "      <th>paint_color</th>\n",
       "      <th>is_4wd</th>\n",
       "      <th>date_posted</th>\n",
       "      <th>days_listed</th>\n",
       "      <th>dow_posted</th>\n",
       "      <th>week_posted</th>\n",
       "      <th>month_posted</th>\n",
       "      <th>year_posted</th>\n",
       "    </tr>\n",
       "  </thead>\n",
       "  <tbody>\n",
       "    <tr>\n",
       "      <td>0</td>\n",
       "      <td>9400</td>\n",
       "      <td>2011</td>\n",
       "      <td>bmw x5</td>\n",
       "      <td>good</td>\n",
       "      <td>6</td>\n",
       "      <td>gas</td>\n",
       "      <td>145000</td>\n",
       "      <td>automatic</td>\n",
       "      <td>SUV</td>\n",
       "      <td>other</td>\n",
       "      <td>1</td>\n",
       "      <td>2018-06-23</td>\n",
       "      <td>19</td>\n",
       "      <td>5</td>\n",
       "      <td>5</td>\n",
       "      <td>6</td>\n",
       "      <td>2018</td>\n",
       "    </tr>\n",
       "    <tr>\n",
       "      <td>1</td>\n",
       "      <td>5500</td>\n",
       "      <td>2013</td>\n",
       "      <td>hyundai sonata</td>\n",
       "      <td>like new</td>\n",
       "      <td>4</td>\n",
       "      <td>gas</td>\n",
       "      <td>110000</td>\n",
       "      <td>automatic</td>\n",
       "      <td>sedan</td>\n",
       "      <td>red</td>\n",
       "      <td>0</td>\n",
       "      <td>2019-02-07</td>\n",
       "      <td>79</td>\n",
       "      <td>3</td>\n",
       "      <td>3</td>\n",
       "      <td>2</td>\n",
       "      <td>2019</td>\n",
       "    </tr>\n",
       "    <tr>\n",
       "      <td>2</td>\n",
       "      <td>1500</td>\n",
       "      <td>2003</td>\n",
       "      <td>ford f-150</td>\n",
       "      <td>fair</td>\n",
       "      <td>8</td>\n",
       "      <td>gas</td>\n",
       "      <td>113000</td>\n",
       "      <td>automatic</td>\n",
       "      <td>pickup</td>\n",
       "      <td>other</td>\n",
       "      <td>0</td>\n",
       "      <td>2019-03-22</td>\n",
       "      <td>9</td>\n",
       "      <td>4</td>\n",
       "      <td>4</td>\n",
       "      <td>3</td>\n",
       "      <td>2019</td>\n",
       "    </tr>\n",
       "    <tr>\n",
       "      <td>3</td>\n",
       "      <td>14900</td>\n",
       "      <td>2017</td>\n",
       "      <td>chrysler 200</td>\n",
       "      <td>excellent</td>\n",
       "      <td>4</td>\n",
       "      <td>gas</td>\n",
       "      <td>80903</td>\n",
       "      <td>automatic</td>\n",
       "      <td>sedan</td>\n",
       "      <td>black</td>\n",
       "      <td>0</td>\n",
       "      <td>2019-04-02</td>\n",
       "      <td>28</td>\n",
       "      <td>1</td>\n",
       "      <td>1</td>\n",
       "      <td>4</td>\n",
       "      <td>2019</td>\n",
       "    </tr>\n",
       "    <tr>\n",
       "      <td>4</td>\n",
       "      <td>14990</td>\n",
       "      <td>2014</td>\n",
       "      <td>chrysler 300</td>\n",
       "      <td>excellent</td>\n",
       "      <td>6</td>\n",
       "      <td>gas</td>\n",
       "      <td>57954</td>\n",
       "      <td>automatic</td>\n",
       "      <td>sedan</td>\n",
       "      <td>black</td>\n",
       "      <td>1</td>\n",
       "      <td>2018-06-20</td>\n",
       "      <td>15</td>\n",
       "      <td>2</td>\n",
       "      <td>2</td>\n",
       "      <td>6</td>\n",
       "      <td>2018</td>\n",
       "    </tr>\n",
       "    <tr>\n",
       "      <td>...</td>\n",
       "      <td>...</td>\n",
       "      <td>...</td>\n",
       "      <td>...</td>\n",
       "      <td>...</td>\n",
       "      <td>...</td>\n",
       "      <td>...</td>\n",
       "      <td>...</td>\n",
       "      <td>...</td>\n",
       "      <td>...</td>\n",
       "      <td>...</td>\n",
       "      <td>...</td>\n",
       "      <td>...</td>\n",
       "      <td>...</td>\n",
       "      <td>...</td>\n",
       "      <td>...</td>\n",
       "      <td>...</td>\n",
       "      <td>...</td>\n",
       "    </tr>\n",
       "    <tr>\n",
       "      <td>43004</td>\n",
       "      <td>9249</td>\n",
       "      <td>2013</td>\n",
       "      <td>nissan maxima</td>\n",
       "      <td>like new</td>\n",
       "      <td>6</td>\n",
       "      <td>gas</td>\n",
       "      <td>88136</td>\n",
       "      <td>automatic</td>\n",
       "      <td>sedan</td>\n",
       "      <td>black</td>\n",
       "      <td>0</td>\n",
       "      <td>2018-10-03</td>\n",
       "      <td>37</td>\n",
       "      <td>2</td>\n",
       "      <td>2</td>\n",
       "      <td>10</td>\n",
       "      <td>2018</td>\n",
       "    </tr>\n",
       "    <tr>\n",
       "      <td>43005</td>\n",
       "      <td>2700</td>\n",
       "      <td>2002</td>\n",
       "      <td>honda civic</td>\n",
       "      <td>salvage</td>\n",
       "      <td>4</td>\n",
       "      <td>gas</td>\n",
       "      <td>181500</td>\n",
       "      <td>automatic</td>\n",
       "      <td>sedan</td>\n",
       "      <td>white</td>\n",
       "      <td>0</td>\n",
       "      <td>2018-11-14</td>\n",
       "      <td>22</td>\n",
       "      <td>2</td>\n",
       "      <td>2</td>\n",
       "      <td>11</td>\n",
       "      <td>2018</td>\n",
       "    </tr>\n",
       "    <tr>\n",
       "      <td>43006</td>\n",
       "      <td>3950</td>\n",
       "      <td>2009</td>\n",
       "      <td>hyundai sonata</td>\n",
       "      <td>excellent</td>\n",
       "      <td>4</td>\n",
       "      <td>gas</td>\n",
       "      <td>128000</td>\n",
       "      <td>automatic</td>\n",
       "      <td>sedan</td>\n",
       "      <td>blue</td>\n",
       "      <td>0</td>\n",
       "      <td>2018-11-15</td>\n",
       "      <td>32</td>\n",
       "      <td>3</td>\n",
       "      <td>3</td>\n",
       "      <td>11</td>\n",
       "      <td>2018</td>\n",
       "    </tr>\n",
       "    <tr>\n",
       "      <td>43007</td>\n",
       "      <td>7455</td>\n",
       "      <td>2013</td>\n",
       "      <td>toyota corolla</td>\n",
       "      <td>good</td>\n",
       "      <td>4</td>\n",
       "      <td>gas</td>\n",
       "      <td>139573</td>\n",
       "      <td>automatic</td>\n",
       "      <td>sedan</td>\n",
       "      <td>black</td>\n",
       "      <td>0</td>\n",
       "      <td>2018-07-02</td>\n",
       "      <td>71</td>\n",
       "      <td>0</td>\n",
       "      <td>0</td>\n",
       "      <td>7</td>\n",
       "      <td>2018</td>\n",
       "    </tr>\n",
       "    <tr>\n",
       "      <td>43008</td>\n",
       "      <td>6300</td>\n",
       "      <td>2014</td>\n",
       "      <td>nissan altima</td>\n",
       "      <td>good</td>\n",
       "      <td>4</td>\n",
       "      <td>gas</td>\n",
       "      <td>113000</td>\n",
       "      <td>automatic</td>\n",
       "      <td>sedan</td>\n",
       "      <td>other</td>\n",
       "      <td>0</td>\n",
       "      <td>2018-06-05</td>\n",
       "      <td>10</td>\n",
       "      <td>1</td>\n",
       "      <td>1</td>\n",
       "      <td>6</td>\n",
       "      <td>2018</td>\n",
       "    </tr>\n",
       "  </tbody>\n",
       "</table>\n",
       "<p>43009 rows × 17 columns</p>\n",
       "</div>"
      ],
      "text/plain": [
       "       price  model_year           model  condition  cylinders fuel  odometer  \\\n",
       "0       9400        2011          bmw x5       good          6  gas    145000   \n",
       "1       5500        2013  hyundai sonata   like new          4  gas    110000   \n",
       "2       1500        2003      ford f-150       fair          8  gas    113000   \n",
       "3      14900        2017    chrysler 200  excellent          4  gas     80903   \n",
       "4      14990        2014    chrysler 300  excellent          6  gas     57954   \n",
       "...      ...         ...             ...        ...        ...  ...       ...   \n",
       "43004   9249        2013   nissan maxima   like new          6  gas     88136   \n",
       "43005   2700        2002     honda civic    salvage          4  gas    181500   \n",
       "43006   3950        2009  hyundai sonata  excellent          4  gas    128000   \n",
       "43007   7455        2013  toyota corolla       good          4  gas    139573   \n",
       "43008   6300        2014   nissan altima       good          4  gas    113000   \n",
       "\n",
       "      transmission    type paint_color  is_4wd date_posted  days_listed  \\\n",
       "0        automatic     SUV       other       1  2018-06-23           19   \n",
       "1        automatic   sedan         red       0  2019-02-07           79   \n",
       "2        automatic  pickup       other       0  2019-03-22            9   \n",
       "3        automatic   sedan       black       0  2019-04-02           28   \n",
       "4        automatic   sedan       black       1  2018-06-20           15   \n",
       "...            ...     ...         ...     ...         ...          ...   \n",
       "43004    automatic   sedan       black       0  2018-10-03           37   \n",
       "43005    automatic   sedan       white       0  2018-11-14           22   \n",
       "43006    automatic   sedan        blue       0  2018-11-15           32   \n",
       "43007    automatic   sedan       black       0  2018-07-02           71   \n",
       "43008    automatic   sedan       other       0  2018-06-05           10   \n",
       "\n",
       "       dow_posted  week_posted  month_posted  year_posted  \n",
       "0               5            5             6         2018  \n",
       "1               3            3             2         2019  \n",
       "2               4            4             3         2019  \n",
       "3               1            1             4         2019  \n",
       "4               2            2             6         2018  \n",
       "...           ...          ...           ...          ...  \n",
       "43004           2            2            10         2018  \n",
       "43005           2            2            11         2018  \n",
       "43006           3            3            11         2018  \n",
       "43007           0            0             7         2018  \n",
       "43008           1            1             6         2018  \n",
       "\n",
       "[43009 rows x 17 columns]"
      ]
     },
     "execution_count": 22,
     "metadata": {},
     "output_type": "execute_result"
    }
   ],
   "source": [
    "#Adding day, week , month and year to the dataframe\n",
    "vehicle_data['dow_posted'] = vehicle_data['date_posted'].dt.dayofweek\n",
    "vehicle_data['week_posted'] = vehicle_data['date_posted'].dt.weekday\n",
    "vehicle_data['month_posted'] = vehicle_data['date_posted'].dt.month\n",
    "vehicle_data['year_posted'] = vehicle_data['date_posted'].dt.year\n",
    "vehicle_data"
   ]
  },
  {
   "cell_type": "markdown",
   "metadata": {},
   "source": [
    "> - I casted the <b>date_posted</b> column to make it easier to get the day,week, month and year from that column\n",
    "> - I then created a new column based on the results we got"
   ]
  },
  {
   "cell_type": "code",
   "execution_count": 23,
   "metadata": {},
   "outputs": [],
   "source": [
    "#Calculating vehicle's age\n",
    "vehicle_data['age_in_yrs'] = vehicle_data['year_posted'] - vehicle_data['model_year']\n"
   ]
  },
  {
   "cell_type": "code",
   "execution_count": 24,
   "metadata": {},
   "outputs": [],
   "source": [
    "#changing age_in_yrs ==0 with 1\n",
    "vehicle_data['age_in_yrs'] = vehicle_data['age_in_yrs'].replace(0,1)"
   ]
  },
  {
   "cell_type": "code",
   "execution_count": 25,
   "metadata": {},
   "outputs": [],
   "source": [
    "#Calculating avg miles per year \n",
    "vehicle_data['avg_miles_per_yr'] = vehicle_data['odometer'] /vehicle_data['age_in_yrs']\n",
    "vehicle_data['avg_miles_per_yr'] = vehicle_data['avg_miles_per_yr'].round(2)"
   ]
  },
  {
   "cell_type": "code",
   "execution_count": 26,
   "metadata": {},
   "outputs": [
    {
     "data": {
      "text/html": [
       "<div>\n",
       "<style scoped>\n",
       "    .dataframe tbody tr th:only-of-type {\n",
       "        vertical-align: middle;\n",
       "    }\n",
       "\n",
       "    .dataframe tbody tr th {\n",
       "        vertical-align: top;\n",
       "    }\n",
       "\n",
       "    .dataframe thead th {\n",
       "        text-align: right;\n",
       "    }\n",
       "</style>\n",
       "<table border=\"1\" class=\"dataframe\">\n",
       "  <thead>\n",
       "    <tr style=\"text-align: right;\">\n",
       "      <th></th>\n",
       "      <th>price</th>\n",
       "      <th>model_year</th>\n",
       "      <th>cylinders</th>\n",
       "      <th>odometer</th>\n",
       "      <th>is_4wd</th>\n",
       "      <th>days_listed</th>\n",
       "      <th>dow_posted</th>\n",
       "      <th>week_posted</th>\n",
       "      <th>month_posted</th>\n",
       "      <th>year_posted</th>\n",
       "      <th>age_in_yrs</th>\n",
       "      <th>avg_miles_per_yr</th>\n",
       "    </tr>\n",
       "  </thead>\n",
       "  <tbody>\n",
       "    <tr>\n",
       "      <td>count</td>\n",
       "      <td>43009.000000</td>\n",
       "      <td>43009.000000</td>\n",
       "      <td>43009.000000</td>\n",
       "      <td>43009.000000</td>\n",
       "      <td>43009.000000</td>\n",
       "      <td>43009.000000</td>\n",
       "      <td>43009.000000</td>\n",
       "      <td>43009.000000</td>\n",
       "      <td>43009.000000</td>\n",
       "      <td>43009.000000</td>\n",
       "      <td>43009.000000</td>\n",
       "      <td>43009.000000</td>\n",
       "    </tr>\n",
       "    <tr>\n",
       "      <td>mean</td>\n",
       "      <td>12168.670604</td>\n",
       "      <td>2009.761073</td>\n",
       "      <td>6.126276</td>\n",
       "      <td>114967.597038</td>\n",
       "      <td>0.496873</td>\n",
       "      <td>39.573671</td>\n",
       "      <td>2.997047</td>\n",
       "      <td>2.997047</td>\n",
       "      <td>6.640471</td>\n",
       "      <td>2018.306471</td>\n",
       "      <td>8.590481</td>\n",
       "      <td>19362.106016</td>\n",
       "    </tr>\n",
       "    <tr>\n",
       "      <td>std</td>\n",
       "      <td>10019.342590</td>\n",
       "      <td>6.266108</td>\n",
       "      <td>1.659540</td>\n",
       "      <td>59882.186015</td>\n",
       "      <td>0.499996</td>\n",
       "      <td>28.180113</td>\n",
       "      <td>1.998934</td>\n",
       "      <td>1.998934</td>\n",
       "      <td>3.474455</td>\n",
       "      <td>0.461033</td>\n",
       "      <td>6.219468</td>\n",
       "      <td>17258.645337</td>\n",
       "    </tr>\n",
       "    <tr>\n",
       "      <td>min</td>\n",
       "      <td>1.000000</td>\n",
       "      <td>1908.000000</td>\n",
       "      <td>3.000000</td>\n",
       "      <td>0.000000</td>\n",
       "      <td>0.000000</td>\n",
       "      <td>0.000000</td>\n",
       "      <td>0.000000</td>\n",
       "      <td>0.000000</td>\n",
       "      <td>1.000000</td>\n",
       "      <td>2018.000000</td>\n",
       "      <td>1.000000</td>\n",
       "      <td>0.000000</td>\n",
       "    </tr>\n",
       "    <tr>\n",
       "      <td>25%</td>\n",
       "      <td>5000.000000</td>\n",
       "      <td>2006.000000</td>\n",
       "      <td>4.000000</td>\n",
       "      <td>78840.000000</td>\n",
       "      <td>0.000000</td>\n",
       "      <td>19.000000</td>\n",
       "      <td>1.000000</td>\n",
       "      <td>1.000000</td>\n",
       "      <td>3.000000</td>\n",
       "      <td>2018.000000</td>\n",
       "      <td>4.000000</td>\n",
       "      <td>10307.690000</td>\n",
       "    </tr>\n",
       "    <tr>\n",
       "      <td>50%</td>\n",
       "      <td>9000.000000</td>\n",
       "      <td>2011.000000</td>\n",
       "      <td>6.000000</td>\n",
       "      <td>113000.000000</td>\n",
       "      <td>0.000000</td>\n",
       "      <td>33.000000</td>\n",
       "      <td>3.000000</td>\n",
       "      <td>3.000000</td>\n",
       "      <td>7.000000</td>\n",
       "      <td>2018.000000</td>\n",
       "      <td>7.000000</td>\n",
       "      <td>15081.360000</td>\n",
       "    </tr>\n",
       "    <tr>\n",
       "      <td>75%</td>\n",
       "      <td>16900.000000</td>\n",
       "      <td>2014.000000</td>\n",
       "      <td>8.000000</td>\n",
       "      <td>146345.000000</td>\n",
       "      <td>1.000000</td>\n",
       "      <td>53.000000</td>\n",
       "      <td>5.000000</td>\n",
       "      <td>5.000000</td>\n",
       "      <td>10.000000</td>\n",
       "      <td>2019.000000</td>\n",
       "      <td>12.000000</td>\n",
       "      <td>22458.180000</td>\n",
       "    </tr>\n",
       "    <tr>\n",
       "      <td>max</td>\n",
       "      <td>375000.000000</td>\n",
       "      <td>2019.000000</td>\n",
       "      <td>12.000000</td>\n",
       "      <td>990000.000000</td>\n",
       "      <td>1.000000</td>\n",
       "      <td>271.000000</td>\n",
       "      <td>6.000000</td>\n",
       "      <td>6.000000</td>\n",
       "      <td>12.000000</td>\n",
       "      <td>2019.000000</td>\n",
       "      <td>110.000000</td>\n",
       "      <td>373200.000000</td>\n",
       "    </tr>\n",
       "  </tbody>\n",
       "</table>\n",
       "</div>"
      ],
      "text/plain": [
       "               price    model_year     cylinders       odometer        is_4wd  \\\n",
       "count   43009.000000  43009.000000  43009.000000   43009.000000  43009.000000   \n",
       "mean    12168.670604   2009.761073      6.126276  114967.597038      0.496873   \n",
       "std     10019.342590      6.266108      1.659540   59882.186015      0.499996   \n",
       "min         1.000000   1908.000000      3.000000       0.000000      0.000000   \n",
       "25%      5000.000000   2006.000000      4.000000   78840.000000      0.000000   \n",
       "50%      9000.000000   2011.000000      6.000000  113000.000000      0.000000   \n",
       "75%     16900.000000   2014.000000      8.000000  146345.000000      1.000000   \n",
       "max    375000.000000   2019.000000     12.000000  990000.000000      1.000000   \n",
       "\n",
       "        days_listed    dow_posted   week_posted  month_posted   year_posted  \\\n",
       "count  43009.000000  43009.000000  43009.000000  43009.000000  43009.000000   \n",
       "mean      39.573671      2.997047      2.997047      6.640471   2018.306471   \n",
       "std       28.180113      1.998934      1.998934      3.474455      0.461033   \n",
       "min        0.000000      0.000000      0.000000      1.000000   2018.000000   \n",
       "25%       19.000000      1.000000      1.000000      3.000000   2018.000000   \n",
       "50%       33.000000      3.000000      3.000000      7.000000   2018.000000   \n",
       "75%       53.000000      5.000000      5.000000     10.000000   2019.000000   \n",
       "max      271.000000      6.000000      6.000000     12.000000   2019.000000   \n",
       "\n",
       "         age_in_yrs  avg_miles_per_yr  \n",
       "count  43009.000000      43009.000000  \n",
       "mean       8.590481      19362.106016  \n",
       "std        6.219468      17258.645337  \n",
       "min        1.000000          0.000000  \n",
       "25%        4.000000      10307.690000  \n",
       "50%        7.000000      15081.360000  \n",
       "75%       12.000000      22458.180000  \n",
       "max      110.000000     373200.000000  "
      ]
     },
     "execution_count": 26,
     "metadata": {},
     "output_type": "execute_result"
    }
   ],
   "source": [
    "vehicle_data.describe()"
   ]
  },
  {
   "cell_type": "markdown",
   "metadata": {},
   "source": [
    "> - To avoid getting inf value, I decided to replace the 0 values in **age_in_yrs** with 1 and we won't need to drop the data\n"
   ]
  },
  {
   "cell_type": "markdown",
   "metadata": {},
   "source": [
    "In the condition column, replace string values with a numeric scale:\n",
    "> - new = 5\n",
    "> - like new = 4\n",
    "> - excellent = 3\n",
    "> - good = 2\n",
    "> - fair = 1\n",
    "> - salvage = 0"
   ]
  },
  {
   "cell_type": "code",
   "execution_count": 27,
   "metadata": {},
   "outputs": [],
   "source": [
    "vehicle_data['condition'] = vehicle_data['condition'].\\\n",
    "                            replace(['new','like new', 'excellent', 'good','fair','salvage'],[5, 4, 3, 2, 1, 0])"
   ]
  },
  {
   "cell_type": "code",
   "execution_count": 28,
   "metadata": {},
   "outputs": [
    {
     "data": {
      "text/plain": [
       "3    20639\n",
       "2    16841\n",
       "4     3965\n",
       "1     1348\n",
       "5      122\n",
       "0       94\n",
       "Name: condition, dtype: int64"
      ]
     },
     "execution_count": 28,
     "metadata": {},
     "output_type": "execute_result"
    }
   ],
   "source": [
    "vehicle_data['condition'].value_counts()"
   ]
  },
  {
   "cell_type": "markdown",
   "metadata": {},
   "source": [
    "> I replaced the string values with a numeric scale. Now it's easier to distinguish the condition of the vehicles. Looking at these, a lot of cars are in excellent and good conditions "
   ]
  },
  {
   "cell_type": "code",
   "execution_count": 29,
   "metadata": {},
   "outputs": [
    {
     "data": {
      "text/html": [
       "<div>\n",
       "<style scoped>\n",
       "    .dataframe tbody tr th:only-of-type {\n",
       "        vertical-align: middle;\n",
       "    }\n",
       "\n",
       "    .dataframe tbody tr th {\n",
       "        vertical-align: top;\n",
       "    }\n",
       "\n",
       "    .dataframe thead th {\n",
       "        text-align: right;\n",
       "    }\n",
       "</style>\n",
       "<table border=\"1\" class=\"dataframe\">\n",
       "  <thead>\n",
       "    <tr style=\"text-align: right;\">\n",
       "      <th></th>\n",
       "      <th>price</th>\n",
       "      <th>model_year</th>\n",
       "      <th>condition</th>\n",
       "      <th>cylinders</th>\n",
       "      <th>odometer</th>\n",
       "      <th>days_listed</th>\n",
       "      <th>age_in_yrs</th>\n",
       "    </tr>\n",
       "  </thead>\n",
       "  <tbody>\n",
       "    <tr>\n",
       "      <td>price</td>\n",
       "      <td>1.000000</td>\n",
       "      <td>0.434491</td>\n",
       "      <td>0.222394</td>\n",
       "      <td>0.295579</td>\n",
       "      <td>-0.390359</td>\n",
       "      <td>-0.001103</td>\n",
       "      <td>-0.428073</td>\n",
       "    </tr>\n",
       "    <tr>\n",
       "      <td>model_year</td>\n",
       "      <td>0.434491</td>\n",
       "      <td>1.000000</td>\n",
       "      <td>0.282918</td>\n",
       "      <td>-0.148040</td>\n",
       "      <td>-0.436010</td>\n",
       "      <td>-0.006295</td>\n",
       "      <td>-0.996896</td>\n",
       "    </tr>\n",
       "    <tr>\n",
       "      <td>condition</td>\n",
       "      <td>0.222394</td>\n",
       "      <td>0.282918</td>\n",
       "      <td>1.000000</td>\n",
       "      <td>-0.063130</td>\n",
       "      <td>-0.277292</td>\n",
       "      <td>-0.005643</td>\n",
       "      <td>-0.280406</td>\n",
       "    </tr>\n",
       "    <tr>\n",
       "      <td>cylinders</td>\n",
       "      <td>0.295579</td>\n",
       "      <td>-0.148040</td>\n",
       "      <td>-0.063130</td>\n",
       "      <td>1.000000</td>\n",
       "      <td>0.082703</td>\n",
       "      <td>0.002502</td>\n",
       "      <td>0.149753</td>\n",
       "    </tr>\n",
       "    <tr>\n",
       "      <td>odometer</td>\n",
       "      <td>-0.390359</td>\n",
       "      <td>-0.436010</td>\n",
       "      <td>-0.277292</td>\n",
       "      <td>0.082703</td>\n",
       "      <td>1.000000</td>\n",
       "      <td>0.004797</td>\n",
       "      <td>0.429074</td>\n",
       "    </tr>\n",
       "    <tr>\n",
       "      <td>days_listed</td>\n",
       "      <td>-0.001103</td>\n",
       "      <td>-0.006295</td>\n",
       "      <td>-0.005643</td>\n",
       "      <td>0.002502</td>\n",
       "      <td>0.004797</td>\n",
       "      <td>1.000000</td>\n",
       "      <td>0.006968</td>\n",
       "    </tr>\n",
       "    <tr>\n",
       "      <td>age_in_yrs</td>\n",
       "      <td>-0.428073</td>\n",
       "      <td>-0.996896</td>\n",
       "      <td>-0.280406</td>\n",
       "      <td>0.149753</td>\n",
       "      <td>0.429074</td>\n",
       "      <td>0.006968</td>\n",
       "      <td>1.000000</td>\n",
       "    </tr>\n",
       "  </tbody>\n",
       "</table>\n",
       "</div>"
      ],
      "text/plain": [
       "                price  model_year  condition  cylinders  odometer  \\\n",
       "price        1.000000    0.434491   0.222394   0.295579 -0.390359   \n",
       "model_year   0.434491    1.000000   0.282918  -0.148040 -0.436010   \n",
       "condition    0.222394    0.282918   1.000000  -0.063130 -0.277292   \n",
       "cylinders    0.295579   -0.148040  -0.063130   1.000000  0.082703   \n",
       "odometer    -0.390359   -0.436010  -0.277292   0.082703  1.000000   \n",
       "days_listed -0.001103   -0.006295  -0.005643   0.002502  0.004797   \n",
       "age_in_yrs  -0.428073   -0.996896  -0.280406   0.149753  0.429074   \n",
       "\n",
       "             days_listed  age_in_yrs  \n",
       "price          -0.001103   -0.428073  \n",
       "model_year     -0.006295   -0.996896  \n",
       "condition      -0.005643   -0.280406  \n",
       "cylinders       0.002502    0.149753  \n",
       "odometer        0.004797    0.429074  \n",
       "days_listed     1.000000    0.006968  \n",
       "age_in_yrs      0.006968    1.000000  "
      ]
     },
     "execution_count": 29,
     "metadata": {},
     "output_type": "execute_result"
    }
   ],
   "source": [
    "vehicle_data[['price', 'model_year', 'condition', 'cylinders','odometer','days_listed','age_in_yrs']].corr()"
   ]
  },
  {
   "cell_type": "markdown",
   "metadata": {},
   "source": [
    "> There is lof of negative correlation between values. Although it's pretty clear that vehicle's age and condition should be correlated to the vehicle's price and odomoter with vehicle's age."
   ]
  },
  {
   "cell_type": "code",
   "execution_count": 30,
   "metadata": {},
   "outputs": [
    {
     "data": {
      "text/plain": [
       "Text(0.5, 0.98, 'Histograms of unfiltered data')"
      ]
     },
     "execution_count": 30,
     "metadata": {},
     "output_type": "execute_result"
    },
    {
     "data": {
      "image/png": "[encoded data removed]",
      "text/plain": [
       "<Figure size 1080x720 with 6 Axes>"
      ]
     },
     "metadata": {
      "needs_background": "light"
     },
     "output_type": "display_data"
    }
   ],
   "source": [
    "vehicle_data[['price', 'condition', 'cylinders','odometer','age_in_yrs']].hist(bins = 100,figsize=(15,10))\n",
    "plt.suptitle('Histograms of unfiltered data')\n"
   ]
  },
  {
   "cell_type": "code",
   "execution_count": 31,
   "metadata": {
    "scrolled": true
   },
   "outputs": [
    {
     "data": {
      "text/plain": [
       "Text(0.5, 1.0, \"Histogram of vehicle's mileage\")"
      ]
     },
     "execution_count": 31,
     "metadata": {},
     "output_type": "execute_result"
    },
    {
     "data": {
      "image/png": "[encoded data removed]",
      "text/plain": [
       "<Figure size 864x360 with 1 Axes>"
      ]
     },
     "metadata": {
      "needs_background": "light"
     },
     "output_type": "display_data"
    }
   ],
   "source": [
    "vehicle_data['odometer'].hist(bins = 50,figsize=(12,5),range=(0, 400000))\n",
    "plt.ylabel('Frequency')\n",
    "plt.xlabel('Odometer')\n",
    "plt.title(\"Histogram of vehicle's mileage\")"
   ]
  },
  {
   "cell_type": "markdown",
   "metadata": {},
   "source": [
    "> - The price histogram chart shows that the distribution is right-skewed. Most of the price values fall within the low range. There is a significant outlier as we can see from the histogram. Prices above 50000 are outliers\n",
    "> - For the condition's histogram, it shows that vehicles are mostly in good and excellent condition. It has very few outliers\n",
    "> - Cylinder histogram chart show that most cars have 6 and 8 cylinders. It does contains some few outlier but nothing significant\n",
    "> - The histogram chart for age_in_yrs shows that most values falls between 0 to 25 with a few values that falls in higher range. We can conclude that vehicle's age older than 30 years is an outlier\n",
    "> - The histogram chart for vehicle's mileage is right-skewed with and looking closely to the odometer column, vehicle's mileage above 300000 are outliers "
   ]
  },
  {
   "cell_type": "code",
   "execution_count": 32,
   "metadata": {},
   "outputs": [
    {
     "data": {
      "text/html": [
       "<div>\n",
       "<style scoped>\n",
       "    .dataframe tbody tr th:only-of-type {\n",
       "        vertical-align: middle;\n",
       "    }\n",
       "\n",
       "    .dataframe tbody tr th {\n",
       "        vertical-align: top;\n",
       "    }\n",
       "\n",
       "    .dataframe thead th {\n",
       "        text-align: right;\n",
       "    }\n",
       "</style>\n",
       "<table border=\"1\" class=\"dataframe\">\n",
       "  <thead>\n",
       "    <tr style=\"text-align: right;\">\n",
       "      <th></th>\n",
       "      <th>price</th>\n",
       "      <th>condition</th>\n",
       "      <th>cylinders</th>\n",
       "      <th>odometer</th>\n",
       "      <th>age_in_yrs</th>\n",
       "    </tr>\n",
       "  </thead>\n",
       "  <tbody>\n",
       "    <tr>\n",
       "      <td>count</td>\n",
       "      <td>43009.000000</td>\n",
       "      <td>43009.000000</td>\n",
       "      <td>43009.000000</td>\n",
       "      <td>43009.000000</td>\n",
       "      <td>43009.000000</td>\n",
       "    </tr>\n",
       "    <tr>\n",
       "      <td>mean</td>\n",
       "      <td>12168.670604</td>\n",
       "      <td>2.637053</td>\n",
       "      <td>6.126276</td>\n",
       "      <td>114967.597038</td>\n",
       "      <td>8.590481</td>\n",
       "    </tr>\n",
       "    <tr>\n",
       "      <td>std</td>\n",
       "      <td>10019.342590</td>\n",
       "      <td>0.713040</td>\n",
       "      <td>1.659540</td>\n",
       "      <td>59882.186015</td>\n",
       "      <td>6.219468</td>\n",
       "    </tr>\n",
       "    <tr>\n",
       "      <td>min</td>\n",
       "      <td>1.000000</td>\n",
       "      <td>0.000000</td>\n",
       "      <td>3.000000</td>\n",
       "      <td>0.000000</td>\n",
       "      <td>1.000000</td>\n",
       "    </tr>\n",
       "    <tr>\n",
       "      <td>25%</td>\n",
       "      <td>5000.000000</td>\n",
       "      <td>2.000000</td>\n",
       "      <td>4.000000</td>\n",
       "      <td>78840.000000</td>\n",
       "      <td>4.000000</td>\n",
       "    </tr>\n",
       "    <tr>\n",
       "      <td>50%</td>\n",
       "      <td>9000.000000</td>\n",
       "      <td>3.000000</td>\n",
       "      <td>6.000000</td>\n",
       "      <td>113000.000000</td>\n",
       "      <td>7.000000</td>\n",
       "    </tr>\n",
       "    <tr>\n",
       "      <td>75%</td>\n",
       "      <td>16900.000000</td>\n",
       "      <td>3.000000</td>\n",
       "      <td>8.000000</td>\n",
       "      <td>146345.000000</td>\n",
       "      <td>12.000000</td>\n",
       "    </tr>\n",
       "    <tr>\n",
       "      <td>max</td>\n",
       "      <td>375000.000000</td>\n",
       "      <td>5.000000</td>\n",
       "      <td>12.000000</td>\n",
       "      <td>990000.000000</td>\n",
       "      <td>110.000000</td>\n",
       "    </tr>\n",
       "  </tbody>\n",
       "</table>\n",
       "</div>"
      ],
      "text/plain": [
       "               price     condition     cylinders       odometer    age_in_yrs\n",
       "count   43009.000000  43009.000000  43009.000000   43009.000000  43009.000000\n",
       "mean    12168.670604      2.637053      6.126276  114967.597038      8.590481\n",
       "std     10019.342590      0.713040      1.659540   59882.186015      6.219468\n",
       "min         1.000000      0.000000      3.000000       0.000000      1.000000\n",
       "25%      5000.000000      2.000000      4.000000   78840.000000      4.000000\n",
       "50%      9000.000000      3.000000      6.000000  113000.000000      7.000000\n",
       "75%     16900.000000      3.000000      8.000000  146345.000000     12.000000\n",
       "max    375000.000000      5.000000     12.000000  990000.000000    110.000000"
      ]
     },
     "execution_count": 32,
     "metadata": {},
     "output_type": "execute_result"
    }
   ],
   "source": [
    "vehicle_data[['price', 'condition', 'cylinders','odometer','age_in_yrs']].describe()"
   ]
  },
  {
   "cell_type": "markdown",
   "metadata": {},
   "source": [
    "### Removing outliers using IQR"
   ]
  },
  {
   "cell_type": "markdown",
   "metadata": {},
   "source": [
    "> This [article](https://www.geeksforgeeks.org/detect-and-remove-the-outliers-using-python/) gives us multiple ways to remove outliers. I'm just going to use IQR, which is the widely used one"
   ]
  },
  {
   "cell_type": "code",
   "execution_count": 33,
   "metadata": {},
   "outputs": [
    {
     "data": {
      "text/html": [
       "<div>\n",
       "<style scoped>\n",
       "    .dataframe tbody tr th:only-of-type {\n",
       "        vertical-align: middle;\n",
       "    }\n",
       "\n",
       "    .dataframe tbody tr th {\n",
       "        vertical-align: top;\n",
       "    }\n",
       "\n",
       "    .dataframe thead th {\n",
       "        text-align: right;\n",
       "    }\n",
       "</style>\n",
       "<table border=\"1\" class=\"dataframe\">\n",
       "  <thead>\n",
       "    <tr style=\"text-align: right;\">\n",
       "      <th></th>\n",
       "      <th>price</th>\n",
       "      <th>model_year</th>\n",
       "      <th>model</th>\n",
       "      <th>condition</th>\n",
       "      <th>cylinders</th>\n",
       "      <th>fuel</th>\n",
       "      <th>odometer</th>\n",
       "      <th>transmission</th>\n",
       "      <th>type</th>\n",
       "      <th>paint_color</th>\n",
       "      <th>is_4wd</th>\n",
       "      <th>date_posted</th>\n",
       "      <th>days_listed</th>\n",
       "      <th>dow_posted</th>\n",
       "      <th>week_posted</th>\n",
       "      <th>month_posted</th>\n",
       "      <th>year_posted</th>\n",
       "      <th>age_in_yrs</th>\n",
       "      <th>avg_miles_per_yr</th>\n",
       "    </tr>\n",
       "  </thead>\n",
       "  <tbody>\n",
       "    <tr>\n",
       "      <td>0</td>\n",
       "      <td>9400</td>\n",
       "      <td>2011</td>\n",
       "      <td>bmw x5</td>\n",
       "      <td>2</td>\n",
       "      <td>6</td>\n",
       "      <td>gas</td>\n",
       "      <td>145000</td>\n",
       "      <td>automatic</td>\n",
       "      <td>SUV</td>\n",
       "      <td>other</td>\n",
       "      <td>1</td>\n",
       "      <td>2018-06-23</td>\n",
       "      <td>19</td>\n",
       "      <td>5</td>\n",
       "      <td>5</td>\n",
       "      <td>6</td>\n",
       "      <td>2018</td>\n",
       "      <td>7</td>\n",
       "      <td>20714.29</td>\n",
       "    </tr>\n",
       "    <tr>\n",
       "      <td>1</td>\n",
       "      <td>5500</td>\n",
       "      <td>2013</td>\n",
       "      <td>hyundai sonata</td>\n",
       "      <td>4</td>\n",
       "      <td>4</td>\n",
       "      <td>gas</td>\n",
       "      <td>110000</td>\n",
       "      <td>automatic</td>\n",
       "      <td>sedan</td>\n",
       "      <td>red</td>\n",
       "      <td>0</td>\n",
       "      <td>2019-02-07</td>\n",
       "      <td>79</td>\n",
       "      <td>3</td>\n",
       "      <td>3</td>\n",
       "      <td>2</td>\n",
       "      <td>2019</td>\n",
       "      <td>6</td>\n",
       "      <td>18333.33</td>\n",
       "    </tr>\n",
       "    <tr>\n",
       "      <td>2</td>\n",
       "      <td>1500</td>\n",
       "      <td>2003</td>\n",
       "      <td>ford f-150</td>\n",
       "      <td>1</td>\n",
       "      <td>8</td>\n",
       "      <td>gas</td>\n",
       "      <td>113000</td>\n",
       "      <td>automatic</td>\n",
       "      <td>pickup</td>\n",
       "      <td>other</td>\n",
       "      <td>0</td>\n",
       "      <td>2019-03-22</td>\n",
       "      <td>9</td>\n",
       "      <td>4</td>\n",
       "      <td>4</td>\n",
       "      <td>3</td>\n",
       "      <td>2019</td>\n",
       "      <td>16</td>\n",
       "      <td>7062.50</td>\n",
       "    </tr>\n",
       "    <tr>\n",
       "      <td>3</td>\n",
       "      <td>14900</td>\n",
       "      <td>2017</td>\n",
       "      <td>chrysler 200</td>\n",
       "      <td>3</td>\n",
       "      <td>4</td>\n",
       "      <td>gas</td>\n",
       "      <td>80903</td>\n",
       "      <td>automatic</td>\n",
       "      <td>sedan</td>\n",
       "      <td>black</td>\n",
       "      <td>0</td>\n",
       "      <td>2019-04-02</td>\n",
       "      <td>28</td>\n",
       "      <td>1</td>\n",
       "      <td>1</td>\n",
       "      <td>4</td>\n",
       "      <td>2019</td>\n",
       "      <td>2</td>\n",
       "      <td>40451.50</td>\n",
       "    </tr>\n",
       "    <tr>\n",
       "      <td>4</td>\n",
       "      <td>14990</td>\n",
       "      <td>2014</td>\n",
       "      <td>chrysler 300</td>\n",
       "      <td>3</td>\n",
       "      <td>6</td>\n",
       "      <td>gas</td>\n",
       "      <td>57954</td>\n",
       "      <td>automatic</td>\n",
       "      <td>sedan</td>\n",
       "      <td>black</td>\n",
       "      <td>1</td>\n",
       "      <td>2018-06-20</td>\n",
       "      <td>15</td>\n",
       "      <td>2</td>\n",
       "      <td>2</td>\n",
       "      <td>6</td>\n",
       "      <td>2018</td>\n",
       "      <td>4</td>\n",
       "      <td>14488.50</td>\n",
       "    </tr>\n",
       "    <tr>\n",
       "      <td>...</td>\n",
       "      <td>...</td>\n",
       "      <td>...</td>\n",
       "      <td>...</td>\n",
       "      <td>...</td>\n",
       "      <td>...</td>\n",
       "      <td>...</td>\n",
       "      <td>...</td>\n",
       "      <td>...</td>\n",
       "      <td>...</td>\n",
       "      <td>...</td>\n",
       "      <td>...</td>\n",
       "      <td>...</td>\n",
       "      <td>...</td>\n",
       "      <td>...</td>\n",
       "      <td>...</td>\n",
       "      <td>...</td>\n",
       "      <td>...</td>\n",
       "      <td>...</td>\n",
       "      <td>...</td>\n",
       "    </tr>\n",
       "    <tr>\n",
       "      <td>43004</td>\n",
       "      <td>9249</td>\n",
       "      <td>2013</td>\n",
       "      <td>nissan maxima</td>\n",
       "      <td>4</td>\n",
       "      <td>6</td>\n",
       "      <td>gas</td>\n",
       "      <td>88136</td>\n",
       "      <td>automatic</td>\n",
       "      <td>sedan</td>\n",
       "      <td>black</td>\n",
       "      <td>0</td>\n",
       "      <td>2018-10-03</td>\n",
       "      <td>37</td>\n",
       "      <td>2</td>\n",
       "      <td>2</td>\n",
       "      <td>10</td>\n",
       "      <td>2018</td>\n",
       "      <td>5</td>\n",
       "      <td>17627.20</td>\n",
       "    </tr>\n",
       "    <tr>\n",
       "      <td>43005</td>\n",
       "      <td>2700</td>\n",
       "      <td>2002</td>\n",
       "      <td>honda civic</td>\n",
       "      <td>0</td>\n",
       "      <td>4</td>\n",
       "      <td>gas</td>\n",
       "      <td>181500</td>\n",
       "      <td>automatic</td>\n",
       "      <td>sedan</td>\n",
       "      <td>white</td>\n",
       "      <td>0</td>\n",
       "      <td>2018-11-14</td>\n",
       "      <td>22</td>\n",
       "      <td>2</td>\n",
       "      <td>2</td>\n",
       "      <td>11</td>\n",
       "      <td>2018</td>\n",
       "      <td>16</td>\n",
       "      <td>11343.75</td>\n",
       "    </tr>\n",
       "    <tr>\n",
       "      <td>43006</td>\n",
       "      <td>3950</td>\n",
       "      <td>2009</td>\n",
       "      <td>hyundai sonata</td>\n",
       "      <td>3</td>\n",
       "      <td>4</td>\n",
       "      <td>gas</td>\n",
       "      <td>128000</td>\n",
       "      <td>automatic</td>\n",
       "      <td>sedan</td>\n",
       "      <td>blue</td>\n",
       "      <td>0</td>\n",
       "      <td>2018-11-15</td>\n",
       "      <td>32</td>\n",
       "      <td>3</td>\n",
       "      <td>3</td>\n",
       "      <td>11</td>\n",
       "      <td>2018</td>\n",
       "      <td>9</td>\n",
       "      <td>14222.22</td>\n",
       "    </tr>\n",
       "    <tr>\n",
       "      <td>43007</td>\n",
       "      <td>7455</td>\n",
       "      <td>2013</td>\n",
       "      <td>toyota corolla</td>\n",
       "      <td>2</td>\n",
       "      <td>4</td>\n",
       "      <td>gas</td>\n",
       "      <td>139573</td>\n",
       "      <td>automatic</td>\n",
       "      <td>sedan</td>\n",
       "      <td>black</td>\n",
       "      <td>0</td>\n",
       "      <td>2018-07-02</td>\n",
       "      <td>71</td>\n",
       "      <td>0</td>\n",
       "      <td>0</td>\n",
       "      <td>7</td>\n",
       "      <td>2018</td>\n",
       "      <td>5</td>\n",
       "      <td>27914.60</td>\n",
       "    </tr>\n",
       "    <tr>\n",
       "      <td>43008</td>\n",
       "      <td>6300</td>\n",
       "      <td>2014</td>\n",
       "      <td>nissan altima</td>\n",
       "      <td>2</td>\n",
       "      <td>4</td>\n",
       "      <td>gas</td>\n",
       "      <td>113000</td>\n",
       "      <td>automatic</td>\n",
       "      <td>sedan</td>\n",
       "      <td>other</td>\n",
       "      <td>0</td>\n",
       "      <td>2018-06-05</td>\n",
       "      <td>10</td>\n",
       "      <td>1</td>\n",
       "      <td>1</td>\n",
       "      <td>6</td>\n",
       "      <td>2018</td>\n",
       "      <td>4</td>\n",
       "      <td>28250.00</td>\n",
       "    </tr>\n",
       "  </tbody>\n",
       "</table>\n",
       "<p>40069 rows × 19 columns</p>\n",
       "</div>"
      ],
      "text/plain": [
       "       price  model_year           model  condition  cylinders fuel  odometer  \\\n",
       "0       9400        2011          bmw x5          2          6  gas    145000   \n",
       "1       5500        2013  hyundai sonata          4          4  gas    110000   \n",
       "2       1500        2003      ford f-150          1          8  gas    113000   \n",
       "3      14900        2017    chrysler 200          3          4  gas     80903   \n",
       "4      14990        2014    chrysler 300          3          6  gas     57954   \n",
       "...      ...         ...             ...        ...        ...  ...       ...   \n",
       "43004   9249        2013   nissan maxima          4          6  gas     88136   \n",
       "43005   2700        2002     honda civic          0          4  gas    181500   \n",
       "43006   3950        2009  hyundai sonata          3          4  gas    128000   \n",
       "43007   7455        2013  toyota corolla          2          4  gas    139573   \n",
       "43008   6300        2014   nissan altima          2          4  gas    113000   \n",
       "\n",
       "      transmission    type paint_color  is_4wd date_posted  days_listed  \\\n",
       "0        automatic     SUV       other       1  2018-06-23           19   \n",
       "1        automatic   sedan         red       0  2019-02-07           79   \n",
       "2        automatic  pickup       other       0  2019-03-22            9   \n",
       "3        automatic   sedan       black       0  2019-04-02           28   \n",
       "4        automatic   sedan       black       1  2018-06-20           15   \n",
       "...            ...     ...         ...     ...         ...          ...   \n",
       "43004    automatic   sedan       black       0  2018-10-03           37   \n",
       "43005    automatic   sedan       white       0  2018-11-14           22   \n",
       "43006    automatic   sedan        blue       0  2018-11-15           32   \n",
       "43007    automatic   sedan       black       0  2018-07-02           71   \n",
       "43008    automatic   sedan       other       0  2018-06-05           10   \n",
       "\n",
       "       dow_posted  week_posted  month_posted  year_posted  age_in_yrs  \\\n",
       "0               5            5             6         2018           7   \n",
       "1               3            3             2         2019           6   \n",
       "2               4            4             3         2019          16   \n",
       "3               1            1             4         2019           2   \n",
       "4               2            2             6         2018           4   \n",
       "...           ...          ...           ...          ...         ...   \n",
       "43004           2            2            10         2018           5   \n",
       "43005           2            2            11         2018          16   \n",
       "43006           3            3            11         2018           9   \n",
       "43007           0            0             7         2018           5   \n",
       "43008           1            1             6         2018           4   \n",
       "\n",
       "       avg_miles_per_yr  \n",
       "0              20714.29  \n",
       "1              18333.33  \n",
       "2               7062.50  \n",
       "3              40451.50  \n",
       "4              14488.50  \n",
       "...                 ...  \n",
       "43004          17627.20  \n",
       "43005          11343.75  \n",
       "43006          14222.22  \n",
       "43007          27914.60  \n",
       "43008          28250.00  \n",
       "\n",
       "[40069 rows x 19 columns]"
      ]
     },
     "execution_count": 33,
     "metadata": {},
     "output_type": "execute_result"
    }
   ],
   "source": [
    "cols = ['price','age_in_yrs', 'odometer']\n",
    "\n",
    "Q1 = vehicle_data[cols].quantile(0.25)\n",
    "Q3 = vehicle_data[cols].quantile(0.75)\n",
    "IQR = Q3 - Q1 \n",
    "\n",
    "vehicle_no_outliers = vehicle_data[~((vehicle_data[cols] < (Q1 - 1.5 * IQR)) | \\\n",
    "                                     (vehicle_data[cols] > (Q3 + 1.5 * IQR))).any(axis=1)]\n",
    "vehicle_no_outliers"
   ]
  },
  {
   "cell_type": "code",
   "execution_count": 34,
   "metadata": {},
   "outputs": [
    {
     "data": {
      "text/html": [
       "<div>\n",
       "<style scoped>\n",
       "    .dataframe tbody tr th:only-of-type {\n",
       "        vertical-align: middle;\n",
       "    }\n",
       "\n",
       "    .dataframe tbody tr th {\n",
       "        vertical-align: top;\n",
       "    }\n",
       "\n",
       "    .dataframe thead th {\n",
       "        text-align: right;\n",
       "    }\n",
       "</style>\n",
       "<table border=\"1\" class=\"dataframe\">\n",
       "  <thead>\n",
       "    <tr style=\"text-align: right;\">\n",
       "      <th></th>\n",
       "      <th>price</th>\n",
       "      <th>model_year</th>\n",
       "      <th>condition</th>\n",
       "      <th>cylinders</th>\n",
       "      <th>odometer</th>\n",
       "      <th>is_4wd</th>\n",
       "      <th>days_listed</th>\n",
       "      <th>dow_posted</th>\n",
       "      <th>week_posted</th>\n",
       "      <th>month_posted</th>\n",
       "      <th>year_posted</th>\n",
       "      <th>age_in_yrs</th>\n",
       "      <th>avg_miles_per_yr</th>\n",
       "    </tr>\n",
       "  </thead>\n",
       "  <tbody>\n",
       "    <tr>\n",
       "      <td>count</td>\n",
       "      <td>40069.000000</td>\n",
       "      <td>40069.000000</td>\n",
       "      <td>40069.000000</td>\n",
       "      <td>40069.000000</td>\n",
       "      <td>40069.000000</td>\n",
       "      <td>40069.000000</td>\n",
       "      <td>40069.000000</td>\n",
       "      <td>40069.000000</td>\n",
       "      <td>40069.000000</td>\n",
       "      <td>40069.000000</td>\n",
       "      <td>40069.000000</td>\n",
       "      <td>40069.000000</td>\n",
       "      <td>40069.000000</td>\n",
       "    </tr>\n",
       "    <tr>\n",
       "      <td>mean</td>\n",
       "      <td>11296.751404</td>\n",
       "      <td>2010.090594</td>\n",
       "      <td>2.638623</td>\n",
       "      <td>6.053258</td>\n",
       "      <td>112863.423020</td>\n",
       "      <td>0.485238</td>\n",
       "      <td>39.567571</td>\n",
       "      <td>2.995233</td>\n",
       "      <td>2.995233</td>\n",
       "      <td>6.641968</td>\n",
       "      <td>2018.306097</td>\n",
       "      <td>8.251067</td>\n",
       "      <td>19085.216901</td>\n",
       "    </tr>\n",
       "    <tr>\n",
       "      <td>std</td>\n",
       "      <td>7845.725595</td>\n",
       "      <td>5.166314</td>\n",
       "      <td>0.697606</td>\n",
       "      <td>1.658909</td>\n",
       "      <td>51819.219054</td>\n",
       "      <td>0.499788</td>\n",
       "      <td>28.207308</td>\n",
       "      <td>1.997291</td>\n",
       "      <td>1.997291</td>\n",
       "      <td>3.474496</td>\n",
       "      <td>0.460876</td>\n",
       "      <td>5.125203</td>\n",
       "      <td>16322.857391</td>\n",
       "    </tr>\n",
       "    <tr>\n",
       "      <td>min</td>\n",
       "      <td>1.000000</td>\n",
       "      <td>1994.000000</td>\n",
       "      <td>0.000000</td>\n",
       "      <td>3.000000</td>\n",
       "      <td>0.000000</td>\n",
       "      <td>0.000000</td>\n",
       "      <td>0.000000</td>\n",
       "      <td>0.000000</td>\n",
       "      <td>0.000000</td>\n",
       "      <td>1.000000</td>\n",
       "      <td>2018.000000</td>\n",
       "      <td>1.000000</td>\n",
       "      <td>0.000000</td>\n",
       "    </tr>\n",
       "    <tr>\n",
       "      <td>25%</td>\n",
       "      <td>5000.000000</td>\n",
       "      <td>2007.000000</td>\n",
       "      <td>2.000000</td>\n",
       "      <td>4.000000</td>\n",
       "      <td>81256.000000</td>\n",
       "      <td>0.000000</td>\n",
       "      <td>19.000000</td>\n",
       "      <td>1.000000</td>\n",
       "      <td>1.000000</td>\n",
       "      <td>3.000000</td>\n",
       "      <td>2018.000000</td>\n",
       "      <td>4.000000</td>\n",
       "      <td>10400.000000</td>\n",
       "    </tr>\n",
       "    <tr>\n",
       "      <td>50%</td>\n",
       "      <td>8995.000000</td>\n",
       "      <td>2011.000000</td>\n",
       "      <td>3.000000</td>\n",
       "      <td>6.000000</td>\n",
       "      <td>113000.000000</td>\n",
       "      <td>0.000000</td>\n",
       "      <td>33.000000</td>\n",
       "      <td>3.000000</td>\n",
       "      <td>3.000000</td>\n",
       "      <td>7.000000</td>\n",
       "      <td>2018.000000</td>\n",
       "      <td>7.000000</td>\n",
       "      <td>15000.000000</td>\n",
       "    </tr>\n",
       "    <tr>\n",
       "      <td>75%</td>\n",
       "      <td>15995.000000</td>\n",
       "      <td>2014.000000</td>\n",
       "      <td>3.000000</td>\n",
       "      <td>8.000000</td>\n",
       "      <td>144400.000000</td>\n",
       "      <td>1.000000</td>\n",
       "      <td>53.000000</td>\n",
       "      <td>5.000000</td>\n",
       "      <td>5.000000</td>\n",
       "      <td>10.000000</td>\n",
       "      <td>2019.000000</td>\n",
       "      <td>12.000000</td>\n",
       "      <td>22162.000000</td>\n",
       "    </tr>\n",
       "    <tr>\n",
       "      <td>max</td>\n",
       "      <td>34700.000000</td>\n",
       "      <td>2019.000000</td>\n",
       "      <td>5.000000</td>\n",
       "      <td>12.000000</td>\n",
       "      <td>247548.000000</td>\n",
       "      <td>1.000000</td>\n",
       "      <td>271.000000</td>\n",
       "      <td>6.000000</td>\n",
       "      <td>6.000000</td>\n",
       "      <td>12.000000</td>\n",
       "      <td>2019.000000</td>\n",
       "      <td>24.000000</td>\n",
       "      <td>195700.000000</td>\n",
       "    </tr>\n",
       "  </tbody>\n",
       "</table>\n",
       "</div>"
      ],
      "text/plain": [
       "              price    model_year     condition     cylinders       odometer  \\\n",
       "count  40069.000000  40069.000000  40069.000000  40069.000000   40069.000000   \n",
       "mean   11296.751404   2010.090594      2.638623      6.053258  112863.423020   \n",
       "std     7845.725595      5.166314      0.697606      1.658909   51819.219054   \n",
       "min        1.000000   1994.000000      0.000000      3.000000       0.000000   \n",
       "25%     5000.000000   2007.000000      2.000000      4.000000   81256.000000   \n",
       "50%     8995.000000   2011.000000      3.000000      6.000000  113000.000000   \n",
       "75%    15995.000000   2014.000000      3.000000      8.000000  144400.000000   \n",
       "max    34700.000000   2019.000000      5.000000     12.000000  247548.000000   \n",
       "\n",
       "             is_4wd   days_listed    dow_posted   week_posted  month_posted  \\\n",
       "count  40069.000000  40069.000000  40069.000000  40069.000000  40069.000000   \n",
       "mean       0.485238     39.567571      2.995233      2.995233      6.641968   \n",
       "std        0.499788     28.207308      1.997291      1.997291      3.474496   \n",
       "min        0.000000      0.000000      0.000000      0.000000      1.000000   \n",
       "25%        0.000000     19.000000      1.000000      1.000000      3.000000   \n",
       "50%        0.000000     33.000000      3.000000      3.000000      7.000000   \n",
       "75%        1.000000     53.000000      5.000000      5.000000     10.000000   \n",
       "max        1.000000    271.000000      6.000000      6.000000     12.000000   \n",
       "\n",
       "        year_posted    age_in_yrs  avg_miles_per_yr  \n",
       "count  40069.000000  40069.000000      40069.000000  \n",
       "mean    2018.306097      8.251067      19085.216901  \n",
       "std        0.460876      5.125203      16322.857391  \n",
       "min     2018.000000      1.000000          0.000000  \n",
       "25%     2018.000000      4.000000      10400.000000  \n",
       "50%     2018.000000      7.000000      15000.000000  \n",
       "75%     2019.000000     12.000000      22162.000000  \n",
       "max     2019.000000     24.000000     195700.000000  "
      ]
     },
     "execution_count": 34,
     "metadata": {},
     "output_type": "execute_result"
    }
   ],
   "source": [
    "vehicle_no_outliers.describe()"
   ]
  },
  {
   "cell_type": "markdown",
   "metadata": {},
   "source": [
    "> - To remove significant outliers, I used IQR to find the limit value.\n",
    "> - <b>Age_in_yrs</b>, <b>price</b>, and <b>mileage</b> have significant amount of outliers and that's why I only removed outliers from these columns\n",
    "> - I then created a new dataframe to store the filtered data. Now we can look closely how our data would look without outliers"
   ]
  },
  {
   "cell_type": "markdown",
   "metadata": {},
   "source": [
    "### Plot histogram using filtered data"
   ]
  },
  {
   "cell_type": "code",
   "execution_count": 35,
   "metadata": {},
   "outputs": [
    {
     "data": {
      "text/plain": [
       "Text(0.5, 0.98, 'Histograms with filtered data')"
      ]
     },
     "execution_count": 35,
     "metadata": {},
     "output_type": "execute_result"
    },
    {
     "data": {
      "image/png": "[encoded data removed]",
      "text/plain": [
       "<Figure size 1080x720 with 4 Axes>"
      ]
     },
     "metadata": {
      "needs_background": "light"
     },
     "output_type": "display_data"
    }
   ],
   "source": [
    "vehicle_no_outliers[['price','age_in_yrs', 'odometer']].hist(bins=30, figsize=(15,10))\n",
    "plt.suptitle(\"Histograms with filtered data\")"
   ]
  },
  {
   "cell_type": "markdown",
   "metadata": {},
   "source": [
    "> - As we can see after removing outliers, we can no longer see tails of large values to the right of the histogram and  the distribution looks more normal"
   ]
  },
  {
   "cell_type": "markdown",
   "metadata": {},
   "source": [
    "### Analyze days_listed"
   ]
  },
  {
   "cell_type": "code",
   "execution_count": 36,
   "metadata": {},
   "outputs": [
    {
     "data": {
      "text/plain": [
       "Text(0.5, 0, 'Days_listed')"
      ]
     },
     "execution_count": 36,
     "metadata": {},
     "output_type": "execute_result"
    },
    {
     "data": {
      "image/png": "[encoded data removed]",
      "text/plain": [
       "<Figure size 432x288 with 1 Axes>"
      ]
     },
     "metadata": {
      "needs_background": "light"
     },
     "output_type": "display_data"
    }
   ],
   "source": [
    "vehicle_no_outliers['days_listed'].hist()\n",
    "plt.title(\"Histogram of days_listed\")\n",
    "plt.ylabel(\"Frequency\")\n",
    "plt.xlabel(\"Days_listed\")"
   ]
  },
  {
   "cell_type": "code",
   "execution_count": 37,
   "metadata": {},
   "outputs": [
    {
     "data": {
      "text/plain": [
       "count    40069.000000\n",
       "mean        39.567571\n",
       "std         28.207308\n",
       "min          0.000000\n",
       "25%         19.000000\n",
       "50%         33.000000\n",
       "75%         53.000000\n",
       "max        271.000000\n",
       "Name: days_listed, dtype: float64"
      ]
     },
     "execution_count": 37,
     "metadata": {},
     "output_type": "execute_result"
    }
   ],
   "source": [
    "vehicle_no_outliers['days_listed'].describe()"
   ]
  },
  {
   "cell_type": "markdown",
   "metadata": {},
   "source": [
    "> - As we can see from the histogram, most cars are listed for at least a month. We need to take this into account when selling a vehicle\n",
    "> - There are cars that are listed for 0 days which could mean that the car was sold the same day.\n",
    "> - The mean of the days that the car is listed is 39.56 and the median is 33.\n",
    "> - The longest amount of days that the car is listed for is 271 days, which is almost a year and a long time for a car to be on sale\n"
   ]
  },
  {
   "cell_type": "code",
   "execution_count": 38,
   "metadata": {},
   "outputs": [
    {
     "data": {
      "text/plain": [
       "38"
      ]
     },
     "execution_count": 38,
     "metadata": {},
     "output_type": "execute_result"
    }
   ],
   "source": [
    "#vehicles listed for less than a day\n",
    "day_0_listing = vehicle_no_outliers.query('days_listed == 0')\n",
    "len(day_0_listing)"
   ]
  },
  {
   "cell_type": "code",
   "execution_count": 39,
   "metadata": {},
   "outputs": [
    {
     "data": {
      "text/plain": [
       "135"
      ]
     },
     "execution_count": 39,
     "metadata": {},
     "output_type": "execute_result"
    }
   ],
   "source": [
    "#vehicles listed for 1 day\n",
    "day_1_listing = vehicle_no_outliers.query('days_listed ==1')\n",
    "len(day_1_listing)"
   ]
  },
  {
   "cell_type": "code",
   "execution_count": 40,
   "metadata": {},
   "outputs": [
    {
     "data": {
      "text/plain": [
       "1513"
      ]
     },
     "execution_count": 40,
     "metadata": {},
     "output_type": "execute_result"
    }
   ],
   "source": [
    "#vehicles listed for more than 100 days\n",
    "day_100_listing = vehicle_no_outliers.query('days_listed > 100')\n",
    "len(day_100_listing)"
   ]
  },
  {
   "cell_type": "code",
   "execution_count": 41,
   "metadata": {},
   "outputs": [
    {
     "data": {
      "text/plain": [
       "1"
      ]
     },
     "execution_count": 41,
     "metadata": {},
     "output_type": "execute_result"
    }
   ],
   "source": [
    "day_271 = vehicle_no_outliers.query('days_listed == 271')\n",
    "len(day_271)"
   ]
  },
  {
   "cell_type": "code",
   "execution_count": 42,
   "metadata": {},
   "outputs": [
    {
     "data": {
      "text/html": [
       "<div>\n",
       "<style scoped>\n",
       "    .dataframe tbody tr th:only-of-type {\n",
       "        vertical-align: middle;\n",
       "    }\n",
       "\n",
       "    .dataframe tbody tr th {\n",
       "        vertical-align: top;\n",
       "    }\n",
       "\n",
       "    .dataframe thead th {\n",
       "        text-align: right;\n",
       "    }\n",
       "</style>\n",
       "<table border=\"1\" class=\"dataframe\">\n",
       "  <thead>\n",
       "    <tr style=\"text-align: right;\">\n",
       "      <th></th>\n",
       "      <th>price</th>\n",
       "      <th>model_year</th>\n",
       "      <th>model</th>\n",
       "      <th>condition</th>\n",
       "      <th>cylinders</th>\n",
       "      <th>fuel</th>\n",
       "      <th>odometer</th>\n",
       "      <th>transmission</th>\n",
       "      <th>type</th>\n",
       "      <th>paint_color</th>\n",
       "      <th>is_4wd</th>\n",
       "      <th>date_posted</th>\n",
       "      <th>days_listed</th>\n",
       "      <th>dow_posted</th>\n",
       "      <th>week_posted</th>\n",
       "      <th>month_posted</th>\n",
       "      <th>year_posted</th>\n",
       "      <th>age_in_yrs</th>\n",
       "      <th>avg_miles_per_yr</th>\n",
       "    </tr>\n",
       "  </thead>\n",
       "  <tbody>\n",
       "    <tr>\n",
       "      <td>3681</td>\n",
       "      <td>5200</td>\n",
       "      <td>2011</td>\n",
       "      <td>chevrolet impala</td>\n",
       "      <td>4</td>\n",
       "      <td>6</td>\n",
       "      <td>gas</td>\n",
       "      <td>122000</td>\n",
       "      <td>automatic</td>\n",
       "      <td>sedan</td>\n",
       "      <td>other</td>\n",
       "      <td>0</td>\n",
       "      <td>2018-05-24</td>\n",
       "      <td>271</td>\n",
       "      <td>3</td>\n",
       "      <td>3</td>\n",
       "      <td>5</td>\n",
       "      <td>2018</td>\n",
       "      <td>7</td>\n",
       "      <td>17428.57</td>\n",
       "    </tr>\n",
       "  </tbody>\n",
       "</table>\n",
       "</div>"
      ],
      "text/plain": [
       "      price  model_year             model  condition  cylinders fuel  \\\n",
       "3681   5200        2011  chevrolet impala          4          6  gas   \n",
       "\n",
       "      odometer transmission   type paint_color  is_4wd date_posted  \\\n",
       "3681    122000    automatic  sedan       other       0  2018-05-24   \n",
       "\n",
       "      days_listed  dow_posted  week_posted  month_posted  year_posted  \\\n",
       "3681          271           3            3             5         2018   \n",
       "\n",
       "      age_in_yrs  avg_miles_per_yr  \n",
       "3681           7          17428.57  "
      ]
     },
     "execution_count": 42,
     "metadata": {},
     "output_type": "execute_result"
    }
   ],
   "source": [
    "vehicle_no_outliers.loc[vehicle_no_outliers['days_listed']== 271]"
   ]
  },
  {
   "cell_type": "markdown",
   "metadata": {},
   "source": [
    "> - As we can see, most cars are listed for at least a month which is pretty reasonable, but of course it also depends on the condition of the car.\n",
    "> - We can also see that there are 38 cars that are listed for less than a day and 135 cars that are only listed for 1 day.\n",
    "> - There are 1513 cars that are listed for more than 100 days.\n",
    "> - There is 1 car that is listed for 271 days which is a long time for a car to be on sale.\n",
    "> -Looking closely at the data, the car that is listed for 271 days is a Chevy Impala with 'like new' condition, which is inaccurate considering the car has 122000 miles. This could be why it's still listed . We can conclude that the ads were removed quickly after 1 day and abnormally listed for 271 days."
   ]
  },
  {
   "cell_type": "markdown",
   "metadata": {},
   "source": [
    "### Analyze the number of ads and the average price for each type of vehicle"
   ]
  },
  {
   "cell_type": "code",
   "execution_count": 43,
   "metadata": {},
   "outputs": [],
   "source": [
    "#calculate the average price for each type\n",
    "vehicle_type = vehicle_no_outliers.pivot_table(index = 'type', values = 'price', aggfunc =['mean','count'])"
   ]
  },
  {
   "cell_type": "code",
   "execution_count": 44,
   "metadata": {},
   "outputs": [
    {
     "data": {
      "text/html": [
       "<div>\n",
       "<style scoped>\n",
       "    .dataframe tbody tr th:only-of-type {\n",
       "        vertical-align: middle;\n",
       "    }\n",
       "\n",
       "    .dataframe tbody tr th {\n",
       "        vertical-align: top;\n",
       "    }\n",
       "\n",
       "    .dataframe thead th {\n",
       "        text-align: right;\n",
       "    }\n",
       "</style>\n",
       "<table border=\"1\" class=\"dataframe\">\n",
       "  <thead>\n",
       "    <tr style=\"text-align: right;\">\n",
       "      <th></th>\n",
       "      <th>price</th>\n",
       "    </tr>\n",
       "    <tr>\n",
       "      <th>type</th>\n",
       "      <th></th>\n",
       "    </tr>\n",
       "  </thead>\n",
       "  <tbody>\n",
       "    <tr>\n",
       "      <td>bus</td>\n",
       "      <td>18340.29</td>\n",
       "    </tr>\n",
       "    <tr>\n",
       "      <td>pickup</td>\n",
       "      <td>15257.67</td>\n",
       "    </tr>\n",
       "    <tr>\n",
       "      <td>truck</td>\n",
       "      <td>15185.25</td>\n",
       "    </tr>\n",
       "    <tr>\n",
       "      <td>offroad</td>\n",
       "      <td>14403.45</td>\n",
       "    </tr>\n",
       "    <tr>\n",
       "      <td>coupe</td>\n",
       "      <td>13470.22</td>\n",
       "    </tr>\n",
       "    <tr>\n",
       "      <td>convertible</td>\n",
       "      <td>12862.09</td>\n",
       "    </tr>\n",
       "    <tr>\n",
       "      <td>other</td>\n",
       "      <td>10723.15</td>\n",
       "    </tr>\n",
       "    <tr>\n",
       "      <td>SUV</td>\n",
       "      <td>10511.67</td>\n",
       "    </tr>\n",
       "    <tr>\n",
       "      <td>wagon</td>\n",
       "      <td>9022.51</td>\n",
       "    </tr>\n",
       "    <tr>\n",
       "      <td>van</td>\n",
       "      <td>8879.95</td>\n",
       "    </tr>\n",
       "    <tr>\n",
       "      <td>mini-van</td>\n",
       "      <td>8113.57</td>\n",
       "    </tr>\n",
       "    <tr>\n",
       "      <td>sedan</td>\n",
       "      <td>7032.67</td>\n",
       "    </tr>\n",
       "    <tr>\n",
       "      <td>hatchback</td>\n",
       "      <td>6770.37</td>\n",
       "    </tr>\n",
       "  </tbody>\n",
       "</table>\n",
       "</div>"
      ],
      "text/plain": [
       "                price\n",
       "type                 \n",
       "bus          18340.29\n",
       "pickup       15257.67\n",
       "truck        15185.25\n",
       "offroad      14403.45\n",
       "coupe        13470.22\n",
       "convertible  12862.09\n",
       "other        10723.15\n",
       "SUV          10511.67\n",
       "wagon         9022.51\n",
       "van           8879.95\n",
       "mini-van      8113.57\n",
       "sedan         7032.67\n",
       "hatchback     6770.37"
      ]
     },
     "execution_count": 44,
     "metadata": {},
     "output_type": "execute_result"
    }
   ],
   "source": [
    "vehicle_type['mean'].sort_values(by='price', ascending=False).round(2)"
   ]
  },
  {
   "cell_type": "code",
   "execution_count": 45,
   "metadata": {},
   "outputs": [
    {
     "data": {
      "text/plain": [
       "Text(0, 0.5, 'price')"
      ]
     },
     "execution_count": 45,
     "metadata": {},
     "output_type": "execute_result"
    },
    {
     "data": {
      "image/png": "[encoded data removed]",
      "text/plain": [
       "<Figure size 432x288 with 1 Axes>"
      ]
     },
     "metadata": {
      "needs_background": "light"
     },
     "output_type": "display_data"
    }
   ],
   "source": [
    "vehicle_type['mean'].sort_values(by='price',ascending=False).plot(kind='bar', title='Average price by vehicle type')\n",
    "plt.ylabel('price')"
   ]
  },
  {
   "cell_type": "markdown",
   "metadata": {},
   "source": [
    "> According to this, the most expensive cars are \"bus\", \"pickup\" and \"truck\". This would makes sense because they are the also the biggest"
   ]
  },
  {
   "cell_type": "code",
   "execution_count": 46,
   "metadata": {},
   "outputs": [
    {
     "data": {
      "text/plain": [
       "Text(0, 0.5, 'Number of ads')"
      ]
     },
     "execution_count": 46,
     "metadata": {},
     "output_type": "execute_result"
    },
    {
     "data": {
      "image/png": "[encoded data removed]",
      "text/plain": [
       "<Figure size 432x288 with 1 Axes>"
      ]
     },
     "metadata": {
      "needs_background": "light"
     },
     "output_type": "display_data"
    }
   ],
   "source": [
    "vehicle_type['count'].sort_values(by='price',ascending=False).plot(kind='bar', title = 'Number of Ads by Vehicle Type')\n",
    "plt.ylabel('Number of ads')"
   ]
  },
  {
   "cell_type": "markdown",
   "metadata": {},
   "source": [
    "> We can see that the Sedan and SUV have the most ads."
   ]
  },
  {
   "cell_type": "code",
   "execution_count": 47,
   "metadata": {},
   "outputs": [],
   "source": [
    "# selecting top 2 vehicles\n",
    "top_vehicles = vehicle_no_outliers[vehicle_no_outliers['type'].isin(['SUV','sedan'])]\n"
   ]
  },
  {
   "cell_type": "markdown",
   "metadata": {},
   "source": [
    "### Factors that impact price the most"
   ]
  },
  {
   "cell_type": "code",
   "execution_count": 48,
   "metadata": {},
   "outputs": [
    {
     "data": {
      "text/plain": [
       "<matplotlib.axes._subplots.AxesSubplot at 0x7f5cf1f9f550>"
      ]
     },
     "execution_count": 48,
     "metadata": {},
     "output_type": "execute_result"
    },
    {
     "data": {
      "image/png": "[encoded data removed]",
      "text/plain": [
       "<Figure size 432x288 with 1 Axes>"
      ]
     },
     "metadata": {
      "needs_background": "light"
     },
     "output_type": "display_data"
    }
   ],
   "source": [
    "top_vehicles.plot.scatter(x='age_in_yrs',y= 'price', alpha =.15,title= \"Correlation between price and vehicle's age\")"
   ]
  },
  {
   "cell_type": "markdown",
   "metadata": {},
   "source": [
    "> As we can see, the newer the vehicle, the higher the price and the older the vehicle, the lower the price. Which makes sense."
   ]
  },
  {
   "cell_type": "code",
   "execution_count": 49,
   "metadata": {},
   "outputs": [
    {
     "data": {
      "text/plain": [
       "<matplotlib.axes._subplots.AxesSubplot at 0x7f5cf1f01e90>"
      ]
     },
     "execution_count": 49,
     "metadata": {},
     "output_type": "execute_result"
    },
    {
     "data": {
      "image/png": "[encoded data removed]",
      "text/plain": [
       "<Figure size 432x288 with 1 Axes>"
      ]
     },
     "metadata": {
      "needs_background": "light"
     },
     "output_type": "display_data"
    }
   ],
   "source": [
    "top_vehicles.plot.scatter(x='odometer',y= 'price', alpha =.15,title= \"Correlation between price and vehicle's mileage\")\n",
    "plt.show()"
   ]
  },
  {
   "cell_type": "markdown",
   "metadata": {},
   "source": [
    "> The above scatter plot shows that as the odometer increases, price of a vehicle tends to decrease. It makes sense too as the lower the mileage the higher the price "
   ]
  },
  {
   "cell_type": "code",
   "execution_count": 50,
   "metadata": {},
   "outputs": [
    {
     "data": {
      "text/plain": [
       "<matplotlib.axes._subplots.AxesSubplot at 0x7f5cf068b110>"
      ]
     },
     "execution_count": 50,
     "metadata": {},
     "output_type": "execute_result"
    },
    {
     "data": {
      "image/png": "[encoded data removed]",
      "text/plain": [
       "<Figure size 432x288 with 1 Axes>"
      ]
     },
     "metadata": {
      "needs_background": "light"
     },
     "output_type": "display_data"
    }
   ],
   "source": [
    "top_vehicles.plot.scatter(x='condition',y= 'price', alpha =.25,\\\n",
    "                          title= \"Correlation between price and vehicle's condition\")\n",
    "plt.show()"
   ]
  },
  {
   "cell_type": "code",
   "execution_count": 51,
   "metadata": {},
   "outputs": [
    {
     "data": {
      "text/plain": [
       "Text(0.5, 1.0, 'Correlation between price and condition')"
      ]
     },
     "execution_count": 51,
     "metadata": {},
     "output_type": "execute_result"
    },
    {
     "data": {
      "image/png": "[encoded data removed]",
      "text/plain": [
       "<Figure size 432x288 with 1 Axes>"
      ]
     },
     "metadata": {
      "needs_background": "light"
     },
     "output_type": "display_data"
    }
   ],
   "source": [
    "sns.boxplot(x='condition',y= 'price', data =top_vehicles).set_title(\"Correlation between price and condition\")\n",
    "plt.show()"
   ]
  },
  {
   "cell_type": "markdown",
   "metadata": {},
   "source": [
    "> We can see that on average, the better the condition, the price tend to be higher. The condition with the most price is the <b>like new</b> condition. The boxplot shows vehicles with <b>fair</b> condition have the lowest price than the rest. This confirms that the condition has an impact on the price"
   ]
  },
  {
   "cell_type": "markdown",
   "metadata": {},
   "source": [
    "> Categorical variables must have at least 50 ads. Let's see whether categorical variables have at least 50 ads"
   ]
  },
  {
   "cell_type": "code",
   "execution_count": 52,
   "metadata": {},
   "outputs": [
    {
     "data": {
      "text/plain": [
       "automatic    18741\n",
       "manual         846\n",
       "other          253\n",
       "Name: transmission, dtype: int64"
      ]
     },
     "execution_count": 52,
     "metadata": {},
     "output_type": "execute_result"
    }
   ],
   "source": [
    "top_vehicles['transmission'].value_counts()"
   ]
  },
  {
   "cell_type": "code",
   "execution_count": 53,
   "metadata": {},
   "outputs": [
    {
     "data": {
      "text/plain": [
       "Text(0.5, 1.0, 'Relationship between price and transmission')"
      ]
     },
     "execution_count": 53,
     "metadata": {},
     "output_type": "execute_result"
    },
    {
     "data": {
      "image/png": "[encoded data removed]",
      "text/plain": [
       "<Figure size 432x288 with 1 Axes>"
      ]
     },
     "metadata": {
      "needs_background": "light"
     },
     "output_type": "display_data"
    }
   ],
   "source": [
    "sns.boxplot(x='transmission', y='price', data=top_vehicles).set_title('Relationship between price and transmission')\n",
    "plt.show()"
   ]
  },
  {
   "cell_type": "markdown",
   "metadata": {},
   "source": [
    "> Vehicles with automatic transmission tend to be more costly than those with manual transmission. Automatic transmission is easier to operate and thus most newer cars have automatic transmission"
   ]
  },
  {
   "cell_type": "code",
   "execution_count": 54,
   "metadata": {},
   "outputs": [
    {
     "data": {
      "text/plain": [
       "other     3586\n",
       "black     3236\n",
       "silver    2944\n",
       "white     2780\n",
       "grey      2277\n",
       "blue      1840\n",
       "red       1525\n",
       "green      505\n",
       "custom     497\n",
       "brown      480\n",
       "orange      72\n",
       "yellow      50\n",
       "Name: paint_color, dtype: int64"
      ]
     },
     "execution_count": 54,
     "metadata": {},
     "output_type": "execute_result"
    }
   ],
   "source": [
    "top_vehicles['paint_color'].value_counts().loc[lambda x : x >=50]"
   ]
  },
  {
   "cell_type": "code",
   "execution_count": 64,
   "metadata": {},
   "outputs": [
    {
     "name": "stderr",
     "output_type": "stream",
     "text": [
      "/opt/conda/lib/python3.7/site-packages/numpy/core/_asarray.py:83: VisibleDeprecationWarning: Creating an ndarray from ragged nested sequences (which is a list-or-tuple of lists-or-tuples-or ndarrays with different lengths or shapes) is deprecated. If you meant to do this, you must specify 'dtype=object' when creating the ndarray\n",
      "  return array(a, dtype, copy=False, order=order)\n"
     ]
    },
    {
     "data": {
      "image/png": "[encoded data removed]",
      "text/plain": [
       "<Figure size 720x360 with 1 Axes>"
      ]
     },
     "metadata": {
      "needs_background": "light"
     },
     "output_type": "display_data"
    }
   ],
   "source": [
    "top_vehicles.boxplot(by = 'paint_color',column= 'price',figsize=(10,5))\n",
    "#plt.suptitle('')\n",
    "plt.title('Relationship between price and paint color')\n",
    "plt.suptitle('')\n",
    "plt.show();"
   ]
  },
  {
   "cell_type": "code",
   "execution_count": 56,
   "metadata": {},
   "outputs": [
    {
     "data": {
      "text/plain": [
       "paint_color\n",
       "other     34700\n",
       "custom    34700\n",
       "white     34699\n",
       "black     34600\n",
       "silver    34595\n",
       "red       34000\n",
       "grey      33995\n",
       "blue      32999\n",
       "yellow    30999\n",
       "orange    30000\n",
       "brown     29000\n",
       "purple    28000\n",
       "green     25950\n",
       "Name: price, dtype: int64"
      ]
     },
     "execution_count": 56,
     "metadata": {},
     "output_type": "execute_result"
    }
   ],
   "source": [
    "top_vehicles.groupby('paint_color')['price'].max().sort_values(ascending=False)"
   ]
  },
  {
   "cell_type": "markdown",
   "metadata": {},
   "source": [
    "> We can see that there is no clear connection between the vehicle's color and price. This might be because color depends on the customer's preference. Because of that, paint color is not a good price predictor."
   ]
  },
  {
   "cell_type": "markdown",
   "metadata": {},
   "source": [
    "## Overall Conclusion"
   ]
  },
  {
   "cell_type": "markdown",
   "metadata": {},
   "source": [
    "> I studied and analyzed the data from Crankshaft List to determine which factors influence vehicle price. The first step was the preprocessing stage and there were five columns that had missing values. I filled missing values with the appropriate method and dropped them if they were less than 10% because it would not affect the result much.\n",
    "\n",
    "> Then I extracted day of the week, month, and year when an ad was placed,calculated a vehicle's age when the ad was placed and calculated a vehicle's average mileage per year. Then I replaced string values with a numeric scale in the condition column to make analysis easier.\n",
    "\n",
    "> I also did exploratory analysis.I plotted histograms to look closely at price,vehicle's age, mileage, number of cylinders and condition There were significant outliers with price,vehicle's age and odometer. I decided to use IQR to determine limit values and remove significant outliers.I then plotted another histograms to the filtered data and saw that it was less skewed\n",
    "\n",
    "> Lastly I went on to analyze what factors influence price the most. I conducted this analysis with the two vehicles that had the most number of ads (sedan and SUV).There were several factors that influence the price that we were asked to analyze. I plotted scatter plots and boxplot to illustrate the correlation between price and these factors and these are the results:\n",
    "> - The correlation plot of age with price showed that the older the vehicle the lower the price it is and the newer the vehicle, the higher the price which makes sense\n",
    "> - The scatter plot with vehicle's age shows that the newer the vehicle, the higher the price and the higher the mileage, the lower the price.Typically, fewer miles translate to higher resale value. \n",
    "> - Then I move on to the condition. The condition of the car is a key feature.  As we can see from the data that we analyze, cars with good, excellent, and like-new conditions mean higher prices than cars with other conditions. \n",
    "> - Based on the scatterplot for the relationship between transmission type and price, we can see that cars with automatic transmission tend to have a higher price than manual transmission types. This shows that the type of transmission is an important factor that affects car price.\n",
    "> Paint color did not affect the price as it is dependent on the customer's preference and it is not a good price predictor"
   ]
  }
 ],
 "metadata": {
  "ExecuteTimeLog": [
   {
    "duration": 102,
    "start_time": "2021-07-23T05:31:02.232Z"
   },
   {
    "duration": 207,
    "start_time": "2021-07-26T02:41:31.898Z"
   },
   {
    "duration": 173,
    "start_time": "2021-07-26T02:41:32.326Z"
   },
   {
    "duration": 179,
    "start_time": "2021-07-26T02:41:32.504Z"
   },
   {
    "duration": 180,
    "start_time": "2021-07-26T02:41:32.949Z"
   },
   {
    "duration": 5318,
    "start_time": "2021-07-26T02:41:42.108Z"
   },
   {
    "duration": 34,
    "start_time": "2021-07-26T02:41:47.427Z"
   },
   {
    "duration": 29,
    "start_time": "2021-07-26T02:41:47.463Z"
   },
   {
    "duration": 13,
    "start_time": "2021-07-26T02:41:47.494Z"
   },
   {
    "duration": 35,
    "start_time": "2021-07-26T02:41:47.508Z"
   },
   {
    "duration": 17,
    "start_time": "2021-07-26T02:41:47.544Z"
   },
   {
    "duration": 9,
    "start_time": "2021-07-26T02:41:47.585Z"
   },
   {
    "duration": 14,
    "start_time": "2021-07-26T02:41:47.596Z"
   },
   {
    "duration": 4,
    "start_time": "2021-07-26T02:41:47.612Z"
   },
   {
    "duration": 6,
    "start_time": "2021-07-26T02:41:47.617Z"
   },
   {
    "duration": 61,
    "start_time": "2021-07-26T02:41:47.624Z"
   },
   {
    "duration": 15,
    "start_time": "2021-07-26T02:41:47.687Z"
   },
   {
    "duration": 7,
    "start_time": "2021-07-26T02:41:47.703Z"
   },
   {
    "duration": 19,
    "start_time": "2021-07-26T02:41:47.711Z"
   },
   {
    "duration": 22,
    "start_time": "2021-07-26T02:41:47.732Z"
   },
   {
    "duration": 41,
    "start_time": "2021-07-26T02:41:47.755Z"
   },
   {
    "duration": 10,
    "start_time": "2021-07-26T02:41:50.347Z"
   },
   {
    "duration": 38,
    "start_time": "2021-07-26T02:41:50.786Z"
   },
   {
    "duration": 4,
    "start_time": "2021-07-26T02:41:52.893Z"
   },
   {
    "duration": 4,
    "start_time": "2021-07-26T02:41:54.124Z"
   },
   {
    "duration": 5,
    "start_time": "2021-07-26T02:41:55.901Z"
   },
   {
    "duration": 57,
    "start_time": "2021-07-26T02:42:00.220Z"
   },
   {
    "duration": 4371,
    "start_time": "2021-07-26T02:43:16.256Z"
   },
   {
    "duration": 10,
    "start_time": "2021-07-26T02:43:25.212Z"
   },
   {
    "duration": 51,
    "start_time": "2021-07-26T02:44:19.727Z"
   },
   {
    "duration": 3,
    "start_time": "2021-07-26T02:50:06.982Z"
   },
   {
    "duration": 6,
    "start_time": "2021-07-26T02:50:06.987Z"
   },
   {
    "duration": 5,
    "start_time": "2021-07-26T02:50:07.078Z"
   },
   {
    "duration": 52,
    "start_time": "2021-07-26T02:50:07.340Z"
   },
   {
    "duration": 19,
    "start_time": "2021-07-26T02:50:13.879Z"
   },
   {
    "duration": 298,
    "start_time": "2021-07-26T02:53:45.407Z"
   },
   {
    "duration": 296,
    "start_time": "2021-07-26T02:53:56.787Z"
   },
   {
    "duration": 356,
    "start_time": "2021-07-26T02:54:07.702Z"
   },
   {
    "duration": 178,
    "start_time": "2021-07-26T02:57:35.891Z"
   },
   {
    "duration": 36,
    "start_time": "2021-07-26T02:57:48.722Z"
   },
   {
    "duration": 47,
    "start_time": "2021-07-26T02:57:49.476Z"
   },
   {
    "duration": 55,
    "start_time": "2021-07-26T02:57:49.665Z"
   },
   {
    "duration": 676,
    "start_time": "2021-07-26T02:57:58.031Z"
   },
   {
    "duration": 193,
    "start_time": "2021-07-26T02:58:07.174Z"
   },
   {
    "duration": 187,
    "start_time": "2021-07-26T02:58:20.923Z"
   },
   {
    "duration": 700,
    "start_time": "2021-07-26T03:00:55.518Z"
   },
   {
    "duration": 790,
    "start_time": "2021-07-26T03:01:26.565Z"
   },
   {
    "duration": 709,
    "start_time": "2021-07-26T03:04:12.886Z"
   },
   {
    "duration": 183,
    "start_time": "2021-07-26T03:05:01.021Z"
   },
   {
    "duration": 730,
    "start_time": "2021-07-26T03:05:29.360Z"
   },
   {
    "duration": 209,
    "start_time": "2021-07-26T03:05:30.091Z"
   },
   {
    "duration": 9,
    "start_time": "2021-07-26T03:05:30.461Z"
   },
   {
    "duration": 15,
    "start_time": "2021-07-26T03:05:30.472Z"
   },
   {
    "duration": 7,
    "start_time": "2021-07-26T03:05:30.673Z"
   },
   {
    "duration": 7,
    "start_time": "2021-07-26T03:05:30.787Z"
   },
   {
    "duration": 6,
    "start_time": "2021-07-26T03:05:31.032Z"
   },
   {
    "duration": 14,
    "start_time": "2021-07-26T03:05:31.226Z"
   },
   {
    "duration": 19,
    "start_time": "2021-07-26T03:05:43.896Z"
   },
   {
    "duration": 10,
    "start_time": "2021-07-26T03:05:44.276Z"
   },
   {
    "duration": 210,
    "start_time": "2021-07-26T03:05:45.567Z"
   },
   {
    "duration": 207,
    "start_time": "2021-07-26T03:07:52.567Z"
   },
   {
    "duration": 202,
    "start_time": "2021-07-26T03:08:08.016Z"
   },
   {
    "duration": 9,
    "start_time": "2021-07-26T03:08:22.466Z"
   },
   {
    "duration": 497,
    "start_time": "2021-07-26T03:08:58.915Z"
   },
   {
    "duration": 393,
    "start_time": "2021-07-26T03:09:23.301Z"
   },
   {
    "duration": 378,
    "start_time": "2021-07-26T03:09:40.260Z"
   },
   {
    "duration": 5050,
    "start_time": "2021-07-26T03:09:57.397Z"
   },
   {
    "duration": 49,
    "start_time": "2021-07-26T03:10:02.448Z"
   },
   {
    "duration": 24,
    "start_time": "2021-07-26T03:10:02.499Z"
   },
   {
    "duration": 14,
    "start_time": "2021-07-26T03:10:02.525Z"
   },
   {
    "duration": 56,
    "start_time": "2021-07-26T03:10:02.541Z"
   },
   {
    "duration": 17,
    "start_time": "2021-07-26T03:10:02.598Z"
   },
   {
    "duration": 9,
    "start_time": "2021-07-26T03:10:02.617Z"
   },
   {
    "duration": 13,
    "start_time": "2021-07-26T03:10:02.628Z"
   },
   {
    "duration": 5,
    "start_time": "2021-07-26T03:10:02.642Z"
   },
   {
    "duration": 36,
    "start_time": "2021-07-26T03:10:02.649Z"
   },
   {
    "duration": 40,
    "start_time": "2021-07-26T03:10:02.687Z"
   },
   {
    "duration": 18,
    "start_time": "2021-07-26T03:10:02.745Z"
   },
   {
    "duration": 7,
    "start_time": "2021-07-26T03:10:02.910Z"
   },
   {
    "duration": 18,
    "start_time": "2021-07-26T03:10:03.145Z"
   },
   {
    "duration": 23,
    "start_time": "2021-07-26T03:10:03.458Z"
   },
   {
    "duration": 19,
    "start_time": "2021-07-26T03:10:04.638Z"
   },
   {
    "duration": 11,
    "start_time": "2021-07-26T03:10:04.887Z"
   },
   {
    "duration": 40,
    "start_time": "2021-07-26T03:10:05.259Z"
   },
   {
    "duration": 4,
    "start_time": "2021-07-26T03:10:09.799Z"
   },
   {
    "duration": 5,
    "start_time": "2021-07-26T03:10:10.025Z"
   },
   {
    "duration": 5,
    "start_time": "2021-07-26T03:10:17.340Z"
   },
   {
    "duration": 53,
    "start_time": "2021-07-26T03:10:18.040Z"
   },
   {
    "duration": 19,
    "start_time": "2021-07-26T03:10:20.025Z"
   },
   {
    "duration": 6,
    "start_time": "2021-07-26T03:10:20.223Z"
   },
   {
    "duration": 25,
    "start_time": "2021-07-26T03:10:21.038Z"
   },
   {
    "duration": 1711,
    "start_time": "2021-07-26T03:10:21.392Z"
   },
   {
    "duration": 347,
    "start_time": "2021-07-26T03:10:23.105Z"
   },
   {
    "duration": 37,
    "start_time": "2021-07-26T03:10:23.454Z"
   },
   {
    "duration": 39,
    "start_time": "2021-07-26T03:10:24.047Z"
   },
   {
    "duration": 60,
    "start_time": "2021-07-26T03:10:24.332Z"
   },
   {
    "duration": 698,
    "start_time": "2021-07-26T03:10:27.633Z"
   },
   {
    "duration": 3,
    "start_time": "2021-07-26T03:16:58.757Z"
   },
   {
    "duration": 4119,
    "start_time": "2021-07-26T03:16:59.437Z"
   },
   {
    "duration": 45,
    "start_time": "2021-07-26T03:17:03.557Z"
   },
   {
    "duration": 19,
    "start_time": "2021-07-26T03:17:03.889Z"
   },
   {
    "duration": 3,
    "start_time": "2021-07-26T03:17:17.793Z"
   },
   {
    "duration": 2453,
    "start_time": "2021-07-26T03:17:18.315Z"
   },
   {
    "duration": 44,
    "start_time": "2021-07-26T03:17:20.769Z"
   },
   {
    "duration": 19,
    "start_time": "2021-07-26T03:17:21.444Z"
   },
   {
    "duration": 16,
    "start_time": "2021-07-26T03:17:22.339Z"
   },
   {
    "duration": 37,
    "start_time": "2021-07-26T03:17:23.299Z"
   },
   {
    "duration": 711,
    "start_time": "2021-07-26T03:22:55.337Z"
   },
   {
    "duration": 208,
    "start_time": "2021-07-26T03:24:44.677Z"
   },
   {
    "duration": 190,
    "start_time": "2021-07-26T03:24:54.403Z"
   },
   {
    "duration": 4583,
    "start_time": "2021-07-26T03:25:11.925Z"
   },
   {
    "duration": -712,
    "start_time": "2021-07-26T03:25:17.222Z"
   },
   {
    "duration": -721,
    "start_time": "2021-07-26T03:25:17.232Z"
   },
   {
    "duration": -733,
    "start_time": "2021-07-26T03:25:17.244Z"
   },
   {
    "duration": -737,
    "start_time": "2021-07-26T03:25:17.249Z"
   },
   {
    "duration": -750,
    "start_time": "2021-07-26T03:25:17.263Z"
   },
   {
    "duration": -755,
    "start_time": "2021-07-26T03:25:17.269Z"
   },
   {
    "duration": 169,
    "start_time": "2021-07-26T03:25:17.070Z"
   },
   {
    "duration": 194,
    "start_time": "2021-07-26T03:25:33.078Z"
   },
   {
    "duration": 185,
    "start_time": "2021-07-26T03:25:39.517Z"
   },
   {
    "duration": 3,
    "start_time": "2021-07-26T03:25:48.951Z"
   },
   {
    "duration": 4812,
    "start_time": "2021-07-26T03:25:49.210Z"
   },
   {
    "duration": 36,
    "start_time": "2021-07-26T03:25:54.024Z"
   },
   {
    "duration": 38,
    "start_time": "2021-07-26T03:25:54.062Z"
   },
   {
    "duration": 17,
    "start_time": "2021-07-26T03:25:54.102Z"
   },
   {
    "duration": 38,
    "start_time": "2021-07-26T03:25:54.120Z"
   },
   {
    "duration": 39,
    "start_time": "2021-07-26T03:25:54.160Z"
   },
   {
    "duration": 11,
    "start_time": "2021-07-26T03:25:54.200Z"
   },
   {
    "duration": 11,
    "start_time": "2021-07-26T03:25:54.213Z"
   },
   {
    "duration": 5,
    "start_time": "2021-07-26T03:25:54.226Z"
   },
   {
    "duration": 6,
    "start_time": "2021-07-26T03:25:54.232Z"
   },
   {
    "duration": 63,
    "start_time": "2021-07-26T03:25:54.239Z"
   },
   {
    "duration": 16,
    "start_time": "2021-07-26T03:25:54.304Z"
   },
   {
    "duration": 7,
    "start_time": "2021-07-26T03:25:54.406Z"
   },
   {
    "duration": 16,
    "start_time": "2021-07-26T03:25:54.532Z"
   },
   {
    "duration": 23,
    "start_time": "2021-07-26T03:25:54.901Z"
   },
   {
    "duration": 18,
    "start_time": "2021-07-26T03:25:55.526Z"
   },
   {
    "duration": 10,
    "start_time": "2021-07-26T03:26:05.332Z"
   },
   {
    "duration": 48,
    "start_time": "2021-07-26T03:26:08.221Z"
   },
   {
    "duration": 4,
    "start_time": "2021-07-26T03:26:11.050Z"
   },
   {
    "duration": 4,
    "start_time": "2021-07-26T03:26:14.751Z"
   },
   {
    "duration": 6,
    "start_time": "2021-07-26T03:26:15.130Z"
   },
   {
    "duration": 56,
    "start_time": "2021-07-26T03:26:15.314Z"
   },
   {
    "duration": 19,
    "start_time": "2021-07-26T03:26:31.987Z"
   },
   {
    "duration": 6,
    "start_time": "2021-07-26T03:26:32.623Z"
   },
   {
    "duration": 21,
    "start_time": "2021-07-26T03:26:35.281Z"
   },
   {
    "duration": 1729,
    "start_time": "2021-07-26T03:26:51.640Z"
   },
   {
    "duration": 1763,
    "start_time": "2021-07-26T03:27:48.172Z"
   },
   {
    "duration": 1563,
    "start_time": "2021-07-26T03:29:06.516Z"
   },
   {
    "duration": 1833,
    "start_time": "2021-07-26T03:29:59.813Z"
   },
   {
    "duration": 384,
    "start_time": "2021-07-26T03:31:00.660Z"
   },
   {
    "duration": 412,
    "start_time": "2021-07-26T03:33:25.197Z"
   },
   {
    "duration": 8,
    "start_time": "2021-07-26T03:33:29.298Z"
   },
   {
    "duration": 385,
    "start_time": "2021-07-26T03:33:42.076Z"
   },
   {
    "duration": 397,
    "start_time": "2021-07-26T03:33:49.377Z"
   },
   {
    "duration": 198,
    "start_time": "2021-07-26T03:34:26.691Z"
   },
   {
    "duration": 66,
    "start_time": "2021-07-26T15:05:13.186Z"
   },
   {
    "duration": 57,
    "start_time": "2021-07-26T15:06:49.702Z"
   },
   {
    "duration": 218,
    "start_time": "2021-07-26T15:06:57.819Z"
   },
   {
    "duration": 1043,
    "start_time": "2021-07-26T15:07:12.637Z"
   },
   {
    "duration": 4816,
    "start_time": "2021-07-26T15:07:13.682Z"
   },
   {
    "duration": 35,
    "start_time": "2021-07-26T15:07:18.500Z"
   },
   {
    "duration": 17,
    "start_time": "2021-07-26T15:07:18.537Z"
   },
   {
    "duration": 30,
    "start_time": "2021-07-26T15:07:18.556Z"
   },
   {
    "duration": 48,
    "start_time": "2021-07-26T15:07:18.588Z"
   },
   {
    "duration": 17,
    "start_time": "2021-07-26T15:07:18.638Z"
   },
   {
    "duration": 18,
    "start_time": "2021-07-26T15:07:18.657Z"
   },
   {
    "duration": 18,
    "start_time": "2021-07-26T15:07:18.677Z"
   },
   {
    "duration": 5,
    "start_time": "2021-07-26T15:07:18.696Z"
   },
   {
    "duration": 20,
    "start_time": "2021-07-26T15:07:18.703Z"
   },
   {
    "duration": 42,
    "start_time": "2021-07-26T15:07:18.725Z"
   },
   {
    "duration": 15,
    "start_time": "2021-07-26T15:07:18.769Z"
   },
   {
    "duration": 6,
    "start_time": "2021-07-26T15:07:18.786Z"
   },
   {
    "duration": 17,
    "start_time": "2021-07-26T15:07:18.794Z"
   },
   {
    "duration": 22,
    "start_time": "2021-07-26T15:07:18.813Z"
   },
   {
    "duration": 18,
    "start_time": "2021-07-26T15:07:18.837Z"
   },
   {
    "duration": 37,
    "start_time": "2021-07-26T15:07:18.856Z"
   },
   {
    "duration": 40,
    "start_time": "2021-07-26T15:07:19.724Z"
   },
   {
    "duration": 4,
    "start_time": "2021-07-26T15:07:20.201Z"
   },
   {
    "duration": 4,
    "start_time": "2021-07-26T15:07:20.386Z"
   },
   {
    "duration": 5,
    "start_time": "2021-07-26T15:07:20.659Z"
   },
   {
    "duration": 57,
    "start_time": "2021-07-26T15:07:20.800Z"
   },
   {
    "duration": 19,
    "start_time": "2021-07-26T15:07:22.202Z"
   },
   {
    "duration": 7,
    "start_time": "2021-07-26T15:07:22.330Z"
   },
   {
    "duration": 24,
    "start_time": "2021-07-26T15:07:23.000Z"
   },
   {
    "duration": 1739,
    "start_time": "2021-07-26T15:07:23.420Z"
   },
   {
    "duration": 331,
    "start_time": "2021-07-26T15:07:25.161Z"
   },
   {
    "duration": 30,
    "start_time": "2021-07-26T15:07:25.493Z"
   },
   {
    "duration": 41,
    "start_time": "2021-07-26T15:07:26.079Z"
   },
   {
    "duration": 57,
    "start_time": "2021-07-26T15:07:26.631Z"
   },
   {
    "duration": 730,
    "start_time": "2021-07-26T15:07:27.933Z"
   },
   {
    "duration": 200,
    "start_time": "2021-07-26T15:07:30.148Z"
   },
   {
    "duration": 10,
    "start_time": "2021-07-26T15:07:30.702Z"
   },
   {
    "duration": 9,
    "start_time": "2021-07-26T15:07:31.092Z"
   },
   {
    "duration": 7,
    "start_time": "2021-07-26T15:07:31.832Z"
   },
   {
    "duration": 8,
    "start_time": "2021-07-26T15:07:31.950Z"
   },
   {
    "duration": 7,
    "start_time": "2021-07-26T15:07:32.180Z"
   },
   {
    "duration": 13,
    "start_time": "2021-07-26T15:07:32.755Z"
   },
   {
    "duration": 19,
    "start_time": "2021-07-26T15:07:34.616Z"
   },
   {
    "duration": 10,
    "start_time": "2021-07-26T15:07:35.216Z"
   },
   {
    "duration": 221,
    "start_time": "2021-07-26T15:07:35.809Z"
   },
   {
    "duration": 231,
    "start_time": "2021-07-26T15:07:36.032Z"
   },
   {
    "duration": 8,
    "start_time": "2021-07-26T15:07:36.271Z"
   },
   {
    "duration": 549,
    "start_time": "2021-07-26T15:07:37.206Z"
   },
   {
    "duration": 495,
    "start_time": "2021-07-26T15:07:37.757Z"
   },
   {
    "duration": 476,
    "start_time": "2021-07-26T15:07:38.255Z"
   },
   {
    "duration": 233,
    "start_time": "2021-07-26T15:07:38.733Z"
   },
   {
    "duration": 8,
    "start_time": "2021-07-26T15:07:39.437Z"
   },
   {
    "duration": 177,
    "start_time": "2021-07-26T15:07:40.775Z"
   },
   {
    "duration": 8,
    "start_time": "2021-07-26T15:07:41.257Z"
   },
   {
    "duration": 391,
    "start_time": "2021-07-26T15:07:41.595Z"
   },
   {
    "duration": 7,
    "start_time": "2021-07-26T15:07:41.988Z"
   },
   {
    "duration": 407,
    "start_time": "2021-07-26T15:08:12.182Z"
   },
   {
    "duration": 405,
    "start_time": "2021-07-26T15:08:44.349Z"
   },
   {
    "duration": 517,
    "start_time": "2021-07-26T15:09:05.432Z"
   },
   {
    "duration": 408,
    "start_time": "2021-07-26T15:09:18.796Z"
   },
   {
    "duration": 67,
    "start_time": "2021-07-26T15:09:31.765Z"
   },
   {
    "duration": 383,
    "start_time": "2021-07-26T15:09:40.543Z"
   },
   {
    "duration": 3,
    "start_time": "2021-07-26T15:10:09.541Z"
   },
   {
    "duration": 388,
    "start_time": "2021-07-26T15:11:01.434Z"
   }
  ],
  "kernelspec": {
   "display_name": "Python 3",
   "language": "python",
   "name": "python3"
  },
  "language_info": {
   "codemirror_mode": {
    "name": "ipython",
    "version": 3
   },
   "file_extension": ".py",
   "mimetype": "text/x-python",
   "name": "python",
   "nbconvert_exporter": "python",
   "pygments_lexer": "ipython3",
   "version": "3.8.5"
  },
  "toc": {
   "base_numbering": 1,
   "nav_menu": {},
   "number_sections": true,
   "sideBar": true,
   "skip_h1_title": true,
   "title_cell": "Table of Contents",
   "title_sidebar": "Contents",
   "toc_cell": false,
   "toc_position": {},
   "toc_section_display": true,
   "toc_window_display": false
  }
 },
 "nbformat": 4,
 "nbformat_minor": 4
}
