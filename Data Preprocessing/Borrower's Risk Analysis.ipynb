{
 "cells": [
  {
   "cell_type": "markdown",
   "metadata": {},
   "source": [
    "# Borrower's Risk Analysis"
   ]
  },
  {
   "cell_type": "markdown",
   "metadata": {},
   "source": [
    "Your project is to prepare a report for a bank’s loan division. You’ll need to find out if a customer’s marital status and number of children has an impact on whether they will default on a loan. The bank already has some data on customers’ credit worthiness.\n",
    "Your report will be considered when building a **credit score** for a potential customer. A **credit score** is used to evaluate the ability of a potential borrower to repay their loan."
   ]
  },
  {
   "cell_type": "markdown",
   "metadata": {},
   "source": [
    "## Description of the data\n",
    "\n",
    "    children: the number of children in the family\n",
    "    days_employed: how long the customer has been working\n",
    "    dob_years: the customer’s age\n",
    "    education: the customer’s education level\n",
    "    education_id: identifier for the customer’s education\n",
    "    family_status: the customer’s marital status\n",
    "    family_status_id: identifier for the customer’s marital status\n",
    "    gender: the customer’s gender\n",
    "    income_type: the customer’s income type\n",
    "    debt: whether the customer has ever defaulted on a loan\n",
    "    total_income: monthly income\n",
    "    purpose: reason for taking out a loan"
   ]
  },
  {
   "cell_type": "markdown",
   "metadata": {},
   "source": [
    "## Step 1.Open the data file and have a look at general information"
   ]
  },
  {
   "cell_type": "code",
   "execution_count": 1,
   "metadata": {},
   "outputs": [
    {
     "data": {
      "text/html": [
       "<div>\n",
       "<style scoped>\n",
       "    .dataframe tbody tr th:only-of-type {\n",
       "        vertical-align: middle;\n",
       "    }\n",
       "\n",
       "    .dataframe tbody tr th {\n",
       "        vertical-align: top;\n",
       "    }\n",
       "\n",
       "    .dataframe thead th {\n",
       "        text-align: right;\n",
       "    }\n",
       "</style>\n",
       "<table border=\"1\" class=\"dataframe\">\n",
       "  <thead>\n",
       "    <tr style=\"text-align: right;\">\n",
       "      <th></th>\n",
       "      <th>children</th>\n",
       "      <th>days_employed</th>\n",
       "      <th>dob_years</th>\n",
       "      <th>education</th>\n",
       "      <th>education_id</th>\n",
       "      <th>family_status</th>\n",
       "      <th>family_status_id</th>\n",
       "      <th>gender</th>\n",
       "      <th>income_type</th>\n",
       "      <th>debt</th>\n",
       "      <th>total_income</th>\n",
       "      <th>purpose</th>\n",
       "    </tr>\n",
       "  </thead>\n",
       "  <tbody>\n",
       "    <tr>\n",
       "      <td>0</td>\n",
       "      <td>1</td>\n",
       "      <td>-8437.673028</td>\n",
       "      <td>42</td>\n",
       "      <td>bachelor's degree</td>\n",
       "      <td>0</td>\n",
       "      <td>married</td>\n",
       "      <td>0</td>\n",
       "      <td>F</td>\n",
       "      <td>employee</td>\n",
       "      <td>0</td>\n",
       "      <td>40620.102</td>\n",
       "      <td>purchase of the house</td>\n",
       "    </tr>\n",
       "    <tr>\n",
       "      <td>1</td>\n",
       "      <td>1</td>\n",
       "      <td>-4024.803754</td>\n",
       "      <td>36</td>\n",
       "      <td>secondary education</td>\n",
       "      <td>1</td>\n",
       "      <td>married</td>\n",
       "      <td>0</td>\n",
       "      <td>F</td>\n",
       "      <td>employee</td>\n",
       "      <td>0</td>\n",
       "      <td>17932.802</td>\n",
       "      <td>car purchase</td>\n",
       "    </tr>\n",
       "    <tr>\n",
       "      <td>2</td>\n",
       "      <td>0</td>\n",
       "      <td>-5623.422610</td>\n",
       "      <td>33</td>\n",
       "      <td>Secondary Education</td>\n",
       "      <td>1</td>\n",
       "      <td>married</td>\n",
       "      <td>0</td>\n",
       "      <td>M</td>\n",
       "      <td>employee</td>\n",
       "      <td>0</td>\n",
       "      <td>23341.752</td>\n",
       "      <td>purchase of the house</td>\n",
       "    </tr>\n",
       "    <tr>\n",
       "      <td>3</td>\n",
       "      <td>3</td>\n",
       "      <td>-4124.747207</td>\n",
       "      <td>32</td>\n",
       "      <td>secondary education</td>\n",
       "      <td>1</td>\n",
       "      <td>married</td>\n",
       "      <td>0</td>\n",
       "      <td>M</td>\n",
       "      <td>employee</td>\n",
       "      <td>0</td>\n",
       "      <td>42820.568</td>\n",
       "      <td>supplementary education</td>\n",
       "    </tr>\n",
       "    <tr>\n",
       "      <td>4</td>\n",
       "      <td>0</td>\n",
       "      <td>340266.072000</td>\n",
       "      <td>53</td>\n",
       "      <td>secondary education</td>\n",
       "      <td>1</td>\n",
       "      <td>civil partnership</td>\n",
       "      <td>1</td>\n",
       "      <td>F</td>\n",
       "      <td>retiree</td>\n",
       "      <td>0</td>\n",
       "      <td>25378.572</td>\n",
       "      <td>to have a wedding</td>\n",
       "    </tr>\n",
       "    <tr>\n",
       "      <td>...</td>\n",
       "      <td>...</td>\n",
       "      <td>...</td>\n",
       "      <td>...</td>\n",
       "      <td>...</td>\n",
       "      <td>...</td>\n",
       "      <td>...</td>\n",
       "      <td>...</td>\n",
       "      <td>...</td>\n",
       "      <td>...</td>\n",
       "      <td>...</td>\n",
       "      <td>...</td>\n",
       "      <td>...</td>\n",
       "    </tr>\n",
       "    <tr>\n",
       "      <td>21520</td>\n",
       "      <td>1</td>\n",
       "      <td>-4529.316663</td>\n",
       "      <td>43</td>\n",
       "      <td>secondary education</td>\n",
       "      <td>1</td>\n",
       "      <td>civil partnership</td>\n",
       "      <td>1</td>\n",
       "      <td>F</td>\n",
       "      <td>business</td>\n",
       "      <td>0</td>\n",
       "      <td>35966.698</td>\n",
       "      <td>housing transactions</td>\n",
       "    </tr>\n",
       "    <tr>\n",
       "      <td>21521</td>\n",
       "      <td>0</td>\n",
       "      <td>343937.404100</td>\n",
       "      <td>67</td>\n",
       "      <td>secondary education</td>\n",
       "      <td>1</td>\n",
       "      <td>married</td>\n",
       "      <td>0</td>\n",
       "      <td>F</td>\n",
       "      <td>retiree</td>\n",
       "      <td>0</td>\n",
       "      <td>24959.969</td>\n",
       "      <td>purchase of a car</td>\n",
       "    </tr>\n",
       "    <tr>\n",
       "      <td>21522</td>\n",
       "      <td>1</td>\n",
       "      <td>-2113.346888</td>\n",
       "      <td>38</td>\n",
       "      <td>secondary education</td>\n",
       "      <td>1</td>\n",
       "      <td>civil partnership</td>\n",
       "      <td>1</td>\n",
       "      <td>M</td>\n",
       "      <td>employee</td>\n",
       "      <td>1</td>\n",
       "      <td>14347.610</td>\n",
       "      <td>property</td>\n",
       "    </tr>\n",
       "    <tr>\n",
       "      <td>21523</td>\n",
       "      <td>3</td>\n",
       "      <td>-3112.481705</td>\n",
       "      <td>38</td>\n",
       "      <td>secondary education</td>\n",
       "      <td>1</td>\n",
       "      <td>married</td>\n",
       "      <td>0</td>\n",
       "      <td>M</td>\n",
       "      <td>employee</td>\n",
       "      <td>1</td>\n",
       "      <td>39054.888</td>\n",
       "      <td>buying my own car</td>\n",
       "    </tr>\n",
       "    <tr>\n",
       "      <td>21524</td>\n",
       "      <td>2</td>\n",
       "      <td>-1984.507589</td>\n",
       "      <td>40</td>\n",
       "      <td>secondary education</td>\n",
       "      <td>1</td>\n",
       "      <td>married</td>\n",
       "      <td>0</td>\n",
       "      <td>F</td>\n",
       "      <td>employee</td>\n",
       "      <td>0</td>\n",
       "      <td>13127.587</td>\n",
       "      <td>to buy a car</td>\n",
       "    </tr>\n",
       "  </tbody>\n",
       "</table>\n",
       "<p>21525 rows × 12 columns</p>\n",
       "</div>"
      ],
      "text/plain": [
       "       children  days_employed  dob_years            education  education_id  \\\n",
       "0             1   -8437.673028         42    bachelor's degree             0   \n",
       "1             1   -4024.803754         36  secondary education             1   \n",
       "2             0   -5623.422610         33  Secondary Education             1   \n",
       "3             3   -4124.747207         32  secondary education             1   \n",
       "4             0  340266.072000         53  secondary education             1   \n",
       "...         ...            ...        ...                  ...           ...   \n",
       "21520         1   -4529.316663         43  secondary education             1   \n",
       "21521         0  343937.404100         67  secondary education             1   \n",
       "21522         1   -2113.346888         38  secondary education             1   \n",
       "21523         3   -3112.481705         38  secondary education             1   \n",
       "21524         2   -1984.507589         40  secondary education             1   \n",
       "\n",
       "           family_status  family_status_id gender income_type  debt  \\\n",
       "0                married                 0      F    employee     0   \n",
       "1                married                 0      F    employee     0   \n",
       "2                married                 0      M    employee     0   \n",
       "3                married                 0      M    employee     0   \n",
       "4      civil partnership                 1      F     retiree     0   \n",
       "...                  ...               ...    ...         ...   ...   \n",
       "21520  civil partnership                 1      F    business     0   \n",
       "21521            married                 0      F     retiree     0   \n",
       "21522  civil partnership                 1      M    employee     1   \n",
       "21523            married                 0      M    employee     1   \n",
       "21524            married                 0      F    employee     0   \n",
       "\n",
       "       total_income                  purpose  \n",
       "0         40620.102    purchase of the house  \n",
       "1         17932.802             car purchase  \n",
       "2         23341.752    purchase of the house  \n",
       "3         42820.568  supplementary education  \n",
       "4         25378.572        to have a wedding  \n",
       "...             ...                      ...  \n",
       "21520     35966.698     housing transactions  \n",
       "21521     24959.969        purchase of a car  \n",
       "21522     14347.610                 property  \n",
       "21523     39054.888        buying my own car  \n",
       "21524     13127.587             to buy a car  \n",
       "\n",
       "[21525 rows x 12 columns]"
      ]
     },
     "execution_count": 1,
     "metadata": {},
     "output_type": "execute_result"
    }
   ],
   "source": [
    "import pandas as pd\n",
    "from io import BytesIO  \n",
    "import requests\n",
    "spreadsheet_id = '1pRv73thHcppT_Yszw8RRxNXKjVMPnOL6_9mQu9XLb8U'\n",
    "file_name = 'https://docs.google.com/spreadsheets/d/{}/export?format=csv'.format(spreadsheet_id)\n",
    "r = requests.get(file_name)\n",
    "credit = pd.read_csv(BytesIO(r.content))\n",
    "credit"
   ]
  },
  {
   "cell_type": "markdown",
   "metadata": {},
   "source": [
    "## Step 2. Data Preprocessing"
   ]
  },
  {
   "cell_type": "code",
   "execution_count": 2,
   "metadata": {},
   "outputs": [
    {
     "data": {
      "text/html": [
       "<div>\n",
       "<style scoped>\n",
       "    .dataframe tbody tr th:only-of-type {\n",
       "        vertical-align: middle;\n",
       "    }\n",
       "\n",
       "    .dataframe tbody tr th {\n",
       "        vertical-align: top;\n",
       "    }\n",
       "\n",
       "    .dataframe thead th {\n",
       "        text-align: right;\n",
       "    }\n",
       "</style>\n",
       "<table border=\"1\" class=\"dataframe\">\n",
       "  <thead>\n",
       "    <tr style=\"text-align: right;\">\n",
       "      <th></th>\n",
       "      <th>children</th>\n",
       "      <th>days_employed</th>\n",
       "      <th>dob_years</th>\n",
       "      <th>education</th>\n",
       "      <th>education_id</th>\n",
       "      <th>family_status</th>\n",
       "      <th>family_status_id</th>\n",
       "      <th>gender</th>\n",
       "      <th>income_type</th>\n",
       "      <th>debt</th>\n",
       "      <th>total_income</th>\n",
       "      <th>purpose</th>\n",
       "    </tr>\n",
       "  </thead>\n",
       "  <tbody>\n",
       "    <tr>\n",
       "      <td>0</td>\n",
       "      <td>1</td>\n",
       "      <td>-8437.673028</td>\n",
       "      <td>42</td>\n",
       "      <td>bachelor's degree</td>\n",
       "      <td>0</td>\n",
       "      <td>married</td>\n",
       "      <td>0</td>\n",
       "      <td>F</td>\n",
       "      <td>employee</td>\n",
       "      <td>0</td>\n",
       "      <td>40620.102</td>\n",
       "      <td>purchase of the house</td>\n",
       "    </tr>\n",
       "    <tr>\n",
       "      <td>1</td>\n",
       "      <td>1</td>\n",
       "      <td>-4024.803754</td>\n",
       "      <td>36</td>\n",
       "      <td>secondary education</td>\n",
       "      <td>1</td>\n",
       "      <td>married</td>\n",
       "      <td>0</td>\n",
       "      <td>F</td>\n",
       "      <td>employee</td>\n",
       "      <td>0</td>\n",
       "      <td>17932.802</td>\n",
       "      <td>car purchase</td>\n",
       "    </tr>\n",
       "    <tr>\n",
       "      <td>2</td>\n",
       "      <td>0</td>\n",
       "      <td>-5623.422610</td>\n",
       "      <td>33</td>\n",
       "      <td>Secondary Education</td>\n",
       "      <td>1</td>\n",
       "      <td>married</td>\n",
       "      <td>0</td>\n",
       "      <td>M</td>\n",
       "      <td>employee</td>\n",
       "      <td>0</td>\n",
       "      <td>23341.752</td>\n",
       "      <td>purchase of the house</td>\n",
       "    </tr>\n",
       "    <tr>\n",
       "      <td>3</td>\n",
       "      <td>3</td>\n",
       "      <td>-4124.747207</td>\n",
       "      <td>32</td>\n",
       "      <td>secondary education</td>\n",
       "      <td>1</td>\n",
       "      <td>married</td>\n",
       "      <td>0</td>\n",
       "      <td>M</td>\n",
       "      <td>employee</td>\n",
       "      <td>0</td>\n",
       "      <td>42820.568</td>\n",
       "      <td>supplementary education</td>\n",
       "    </tr>\n",
       "    <tr>\n",
       "      <td>4</td>\n",
       "      <td>0</td>\n",
       "      <td>340266.072000</td>\n",
       "      <td>53</td>\n",
       "      <td>secondary education</td>\n",
       "      <td>1</td>\n",
       "      <td>civil partnership</td>\n",
       "      <td>1</td>\n",
       "      <td>F</td>\n",
       "      <td>retiree</td>\n",
       "      <td>0</td>\n",
       "      <td>25378.572</td>\n",
       "      <td>to have a wedding</td>\n",
       "    </tr>\n",
       "    <tr>\n",
       "      <td>5</td>\n",
       "      <td>0</td>\n",
       "      <td>-926.185831</td>\n",
       "      <td>27</td>\n",
       "      <td>bachelor's degree</td>\n",
       "      <td>0</td>\n",
       "      <td>civil partnership</td>\n",
       "      <td>1</td>\n",
       "      <td>M</td>\n",
       "      <td>business</td>\n",
       "      <td>0</td>\n",
       "      <td>40922.170</td>\n",
       "      <td>purchase of the house</td>\n",
       "    </tr>\n",
       "    <tr>\n",
       "      <td>6</td>\n",
       "      <td>0</td>\n",
       "      <td>-2879.202052</td>\n",
       "      <td>43</td>\n",
       "      <td>bachelor's degree</td>\n",
       "      <td>0</td>\n",
       "      <td>married</td>\n",
       "      <td>0</td>\n",
       "      <td>F</td>\n",
       "      <td>business</td>\n",
       "      <td>0</td>\n",
       "      <td>38484.156</td>\n",
       "      <td>housing transactions</td>\n",
       "    </tr>\n",
       "    <tr>\n",
       "      <td>7</td>\n",
       "      <td>0</td>\n",
       "      <td>-152.779569</td>\n",
       "      <td>50</td>\n",
       "      <td>SECONDARY EDUCATION</td>\n",
       "      <td>1</td>\n",
       "      <td>married</td>\n",
       "      <td>0</td>\n",
       "      <td>M</td>\n",
       "      <td>employee</td>\n",
       "      <td>0</td>\n",
       "      <td>21731.829</td>\n",
       "      <td>education</td>\n",
       "    </tr>\n",
       "    <tr>\n",
       "      <td>8</td>\n",
       "      <td>2</td>\n",
       "      <td>-6929.865299</td>\n",
       "      <td>35</td>\n",
       "      <td>BACHELOR'S DEGREE</td>\n",
       "      <td>0</td>\n",
       "      <td>civil partnership</td>\n",
       "      <td>1</td>\n",
       "      <td>F</td>\n",
       "      <td>employee</td>\n",
       "      <td>0</td>\n",
       "      <td>15337.093</td>\n",
       "      <td>having a wedding</td>\n",
       "    </tr>\n",
       "    <tr>\n",
       "      <td>9</td>\n",
       "      <td>0</td>\n",
       "      <td>-2188.756445</td>\n",
       "      <td>41</td>\n",
       "      <td>secondary education</td>\n",
       "      <td>1</td>\n",
       "      <td>married</td>\n",
       "      <td>0</td>\n",
       "      <td>M</td>\n",
       "      <td>employee</td>\n",
       "      <td>0</td>\n",
       "      <td>23108.150</td>\n",
       "      <td>purchase of the house for my family</td>\n",
       "    </tr>\n",
       "  </tbody>\n",
       "</table>\n",
       "</div>"
      ],
      "text/plain": [
       "   children  days_employed  dob_years            education  education_id  \\\n",
       "0         1   -8437.673028         42    bachelor's degree             0   \n",
       "1         1   -4024.803754         36  secondary education             1   \n",
       "2         0   -5623.422610         33  Secondary Education             1   \n",
       "3         3   -4124.747207         32  secondary education             1   \n",
       "4         0  340266.072000         53  secondary education             1   \n",
       "5         0    -926.185831         27    bachelor's degree             0   \n",
       "6         0   -2879.202052         43    bachelor's degree             0   \n",
       "7         0    -152.779569         50  SECONDARY EDUCATION             1   \n",
       "8         2   -6929.865299         35    BACHELOR'S DEGREE             0   \n",
       "9         0   -2188.756445         41  secondary education             1   \n",
       "\n",
       "       family_status  family_status_id gender income_type  debt  total_income  \\\n",
       "0            married                 0      F    employee     0     40620.102   \n",
       "1            married                 0      F    employee     0     17932.802   \n",
       "2            married                 0      M    employee     0     23341.752   \n",
       "3            married                 0      M    employee     0     42820.568   \n",
       "4  civil partnership                 1      F     retiree     0     25378.572   \n",
       "5  civil partnership                 1      M    business     0     40922.170   \n",
       "6            married                 0      F    business     0     38484.156   \n",
       "7            married                 0      M    employee     0     21731.829   \n",
       "8  civil partnership                 1      F    employee     0     15337.093   \n",
       "9            married                 0      M    employee     0     23108.150   \n",
       "\n",
       "                               purpose  \n",
       "0                purchase of the house  \n",
       "1                         car purchase  \n",
       "2                purchase of the house  \n",
       "3              supplementary education  \n",
       "4                    to have a wedding  \n",
       "5                purchase of the house  \n",
       "6                 housing transactions  \n",
       "7                            education  \n",
       "8                     having a wedding  \n",
       "9  purchase of the house for my family  "
      ]
     },
     "execution_count": 2,
     "metadata": {},
     "output_type": "execute_result"
    }
   ],
   "source": [
    "credit.head(10)        \n"
   ]
  },
  {
   "cell_type": "markdown",
   "metadata": {},
   "source": [
    "First look, we can see that the data has negative values on days_employed column and there is a lot of duplicate values which basically saying the same thing like car purchase, purchase of a car which can just be combined to just one category."
   ]
  },
  {
   "cell_type": "code",
   "execution_count": 3,
   "metadata": {},
   "outputs": [
    {
     "data": {
      "text/html": [
       "<div>\n",
       "<style scoped>\n",
       "    .dataframe tbody tr th:only-of-type {\n",
       "        vertical-align: middle;\n",
       "    }\n",
       "\n",
       "    .dataframe tbody tr th {\n",
       "        vertical-align: top;\n",
       "    }\n",
       "\n",
       "    .dataframe thead th {\n",
       "        text-align: right;\n",
       "    }\n",
       "</style>\n",
       "<table border=\"1\" class=\"dataframe\">\n",
       "  <thead>\n",
       "    <tr style=\"text-align: right;\">\n",
       "      <th></th>\n",
       "      <th>children</th>\n",
       "      <th>days_employed</th>\n",
       "      <th>dob_years</th>\n",
       "      <th>education_id</th>\n",
       "      <th>family_status_id</th>\n",
       "      <th>debt</th>\n",
       "      <th>total_income</th>\n",
       "    </tr>\n",
       "  </thead>\n",
       "  <tbody>\n",
       "    <tr>\n",
       "      <td>count</td>\n",
       "      <td>21525.000000</td>\n",
       "      <td>19351.000000</td>\n",
       "      <td>21525.000000</td>\n",
       "      <td>21525.000000</td>\n",
       "      <td>21525.000000</td>\n",
       "      <td>21525.000000</td>\n",
       "      <td>19351.000000</td>\n",
       "    </tr>\n",
       "    <tr>\n",
       "      <td>mean</td>\n",
       "      <td>0.538908</td>\n",
       "      <td>63046.497661</td>\n",
       "      <td>43.293380</td>\n",
       "      <td>0.817236</td>\n",
       "      <td>0.972544</td>\n",
       "      <td>0.080883</td>\n",
       "      <td>26787.568355</td>\n",
       "    </tr>\n",
       "    <tr>\n",
       "      <td>std</td>\n",
       "      <td>1.381587</td>\n",
       "      <td>140827.311974</td>\n",
       "      <td>12.574584</td>\n",
       "      <td>0.548138</td>\n",
       "      <td>1.420324</td>\n",
       "      <td>0.272661</td>\n",
       "      <td>16475.450632</td>\n",
       "    </tr>\n",
       "    <tr>\n",
       "      <td>min</td>\n",
       "      <td>-1.000000</td>\n",
       "      <td>-18388.949900</td>\n",
       "      <td>0.000000</td>\n",
       "      <td>0.000000</td>\n",
       "      <td>0.000000</td>\n",
       "      <td>0.000000</td>\n",
       "      <td>3306.762000</td>\n",
       "    </tr>\n",
       "    <tr>\n",
       "      <td>25%</td>\n",
       "      <td>0.000000</td>\n",
       "      <td>-2747.423626</td>\n",
       "      <td>33.000000</td>\n",
       "      <td>1.000000</td>\n",
       "      <td>0.000000</td>\n",
       "      <td>0.000000</td>\n",
       "      <td>16488.504500</td>\n",
       "    </tr>\n",
       "    <tr>\n",
       "      <td>50%</td>\n",
       "      <td>0.000000</td>\n",
       "      <td>-1203.369529</td>\n",
       "      <td>42.000000</td>\n",
       "      <td>1.000000</td>\n",
       "      <td>0.000000</td>\n",
       "      <td>0.000000</td>\n",
       "      <td>23202.870000</td>\n",
       "    </tr>\n",
       "    <tr>\n",
       "      <td>75%</td>\n",
       "      <td>1.000000</td>\n",
       "      <td>-291.095954</td>\n",
       "      <td>53.000000</td>\n",
       "      <td>1.000000</td>\n",
       "      <td>1.000000</td>\n",
       "      <td>0.000000</td>\n",
       "      <td>32549.611000</td>\n",
       "    </tr>\n",
       "    <tr>\n",
       "      <td>max</td>\n",
       "      <td>20.000000</td>\n",
       "      <td>401755.400500</td>\n",
       "      <td>75.000000</td>\n",
       "      <td>4.000000</td>\n",
       "      <td>4.000000</td>\n",
       "      <td>1.000000</td>\n",
       "      <td>362496.645000</td>\n",
       "    </tr>\n",
       "  </tbody>\n",
       "</table>\n",
       "</div>"
      ],
      "text/plain": [
       "           children  days_employed     dob_years  education_id  \\\n",
       "count  21525.000000   19351.000000  21525.000000  21525.000000   \n",
       "mean       0.538908   63046.497661     43.293380      0.817236   \n",
       "std        1.381587  140827.311974     12.574584      0.548138   \n",
       "min       -1.000000  -18388.949900      0.000000      0.000000   \n",
       "25%        0.000000   -2747.423626     33.000000      1.000000   \n",
       "50%        0.000000   -1203.369529     42.000000      1.000000   \n",
       "75%        1.000000    -291.095954     53.000000      1.000000   \n",
       "max       20.000000  401755.400500     75.000000      4.000000   \n",
       "\n",
       "       family_status_id          debt   total_income  \n",
       "count      21525.000000  21525.000000   19351.000000  \n",
       "mean           0.972544      0.080883   26787.568355  \n",
       "std            1.420324      0.272661   16475.450632  \n",
       "min            0.000000      0.000000    3306.762000  \n",
       "25%            0.000000      0.000000   16488.504500  \n",
       "50%            0.000000      0.000000   23202.870000  \n",
       "75%            1.000000      0.000000   32549.611000  \n",
       "max            4.000000      1.000000  362496.645000  "
      ]
     },
     "execution_count": 3,
     "metadata": {},
     "output_type": "execute_result"
    }
   ],
   "source": [
    "credit.describe()"
   ]
  },
  {
   "cell_type": "markdown",
   "metadata": {},
   "source": [
    "Taking a closer look at the data, children column have -1 value which can't be right and just possibly a typo and it also has a max value of 20 which could also be a typo and we can just replace that to 2. Days employed column has negative values which needs to be fixed as well."
   ]
  },
  {
   "cell_type": "code",
   "execution_count": 4,
   "metadata": {},
   "outputs": [],
   "source": [
    "#changing -1 to 1 from the children column\n",
    "credit['children'] = credit['children'].abs()\n",
    "#changing 20 to 2\n",
    "credit.loc[credit['children']==20,'children']= 2"
   ]
  },
  {
   "cell_type": "markdown",
   "metadata": {},
   "source": [
    "> Changing -1 to 1 from the children column and 20 to 2 because these are unusual and  clearly typos."
   ]
  },
  {
   "cell_type": "code",
   "execution_count": 5,
   "metadata": {},
   "outputs": [
    {
     "data": {
      "text/plain": [
       "retiree       3443\n",
       "unemployed       2\n",
       "Name: income_type, dtype: int64"
      ]
     },
     "execution_count": 5,
     "metadata": {},
     "output_type": "execute_result"
    }
   ],
   "source": [
    "credit.query('days_employed > 0')['income_type'].value_counts()"
   ]
  },
  {
   "cell_type": "code",
   "execution_count": 6,
   "metadata": {
    "scrolled": true
   },
   "outputs": [
    {
     "data": {
      "text/html": [
       "<div>\n",
       "<style scoped>\n",
       "    .dataframe tbody tr th:only-of-type {\n",
       "        vertical-align: middle;\n",
       "    }\n",
       "\n",
       "    .dataframe tbody tr th {\n",
       "        vertical-align: top;\n",
       "    }\n",
       "\n",
       "    .dataframe thead th {\n",
       "        text-align: right;\n",
       "    }\n",
       "</style>\n",
       "<table border=\"1\" class=\"dataframe\">\n",
       "  <thead>\n",
       "    <tr style=\"text-align: right;\">\n",
       "      <th></th>\n",
       "      <th>children</th>\n",
       "      <th>days_employed</th>\n",
       "      <th>dob_years</th>\n",
       "      <th>education</th>\n",
       "      <th>education_id</th>\n",
       "      <th>family_status</th>\n",
       "      <th>family_status_id</th>\n",
       "      <th>gender</th>\n",
       "      <th>income_type</th>\n",
       "      <th>debt</th>\n",
       "      <th>total_income</th>\n",
       "      <th>purpose</th>\n",
       "    </tr>\n",
       "  </thead>\n",
       "  <tbody>\n",
       "    <tr>\n",
       "      <td>0</td>\n",
       "      <td>1</td>\n",
       "      <td>-8437.673028</td>\n",
       "      <td>42</td>\n",
       "      <td>bachelor's degree</td>\n",
       "      <td>0</td>\n",
       "      <td>married</td>\n",
       "      <td>0</td>\n",
       "      <td>F</td>\n",
       "      <td>employee</td>\n",
       "      <td>0</td>\n",
       "      <td>40620.102</td>\n",
       "      <td>purchase of the house</td>\n",
       "    </tr>\n",
       "    <tr>\n",
       "      <td>1</td>\n",
       "      <td>1</td>\n",
       "      <td>-4024.803754</td>\n",
       "      <td>36</td>\n",
       "      <td>secondary education</td>\n",
       "      <td>1</td>\n",
       "      <td>married</td>\n",
       "      <td>0</td>\n",
       "      <td>F</td>\n",
       "      <td>employee</td>\n",
       "      <td>0</td>\n",
       "      <td>17932.802</td>\n",
       "      <td>car purchase</td>\n",
       "    </tr>\n",
       "    <tr>\n",
       "      <td>2</td>\n",
       "      <td>0</td>\n",
       "      <td>-5623.422610</td>\n",
       "      <td>33</td>\n",
       "      <td>Secondary Education</td>\n",
       "      <td>1</td>\n",
       "      <td>married</td>\n",
       "      <td>0</td>\n",
       "      <td>M</td>\n",
       "      <td>employee</td>\n",
       "      <td>0</td>\n",
       "      <td>23341.752</td>\n",
       "      <td>purchase of the house</td>\n",
       "    </tr>\n",
       "    <tr>\n",
       "      <td>3</td>\n",
       "      <td>3</td>\n",
       "      <td>-4124.747207</td>\n",
       "      <td>32</td>\n",
       "      <td>secondary education</td>\n",
       "      <td>1</td>\n",
       "      <td>married</td>\n",
       "      <td>0</td>\n",
       "      <td>M</td>\n",
       "      <td>employee</td>\n",
       "      <td>0</td>\n",
       "      <td>42820.568</td>\n",
       "      <td>supplementary education</td>\n",
       "    </tr>\n",
       "    <tr>\n",
       "      <td>4</td>\n",
       "      <td>0</td>\n",
       "      <td>0.000000</td>\n",
       "      <td>53</td>\n",
       "      <td>secondary education</td>\n",
       "      <td>1</td>\n",
       "      <td>civil partnership</td>\n",
       "      <td>1</td>\n",
       "      <td>F</td>\n",
       "      <td>retiree</td>\n",
       "      <td>0</td>\n",
       "      <td>25378.572</td>\n",
       "      <td>to have a wedding</td>\n",
       "    </tr>\n",
       "  </tbody>\n",
       "</table>\n",
       "</div>"
      ],
      "text/plain": [
       "   children  days_employed  dob_years            education  education_id  \\\n",
       "0         1   -8437.673028         42    bachelor's degree             0   \n",
       "1         1   -4024.803754         36  secondary education             1   \n",
       "2         0   -5623.422610         33  Secondary Education             1   \n",
       "3         3   -4124.747207         32  secondary education             1   \n",
       "4         0       0.000000         53  secondary education             1   \n",
       "\n",
       "       family_status  family_status_id gender income_type  debt  total_income  \\\n",
       "0            married                 0      F    employee     0     40620.102   \n",
       "1            married                 0      F    employee     0     17932.802   \n",
       "2            married                 0      M    employee     0     23341.752   \n",
       "3            married                 0      M    employee     0     42820.568   \n",
       "4  civil partnership                 1      F     retiree     0     25378.572   \n",
       "\n",
       "                   purpose  \n",
       "0    purchase of the house  \n",
       "1             car purchase  \n",
       "2    purchase of the house  \n",
       "3  supplementary education  \n",
       "4        to have a wedding  "
      ]
     },
     "execution_count": 6,
     "metadata": {},
     "output_type": "execute_result"
    }
   ],
   "source": [
    "#replacing positive days_employed with 0\n",
    "credit.loc[credit['days_employed']> 0,'days_employed']= 0\n",
    "credit.head()"
   ]
  },
  {
   "cell_type": "code",
   "execution_count": 7,
   "metadata": {},
   "outputs": [],
   "source": [
    "#changing the negative days_employed to positive \n",
    "credit['days_employed'] = credit['days_employed'].abs()\n"
   ]
  },
  {
   "cell_type": "markdown",
   "metadata": {},
   "source": [
    ">  We can see that not only retirees has positive days_employed values but unemployed as well. We can pretty much differentiate that positive values indicates current unemployed status while negative values indicates currently employed.I replaced positive values on days_employed with 0 as it contains retirees and unemployed.I changed the negative values to positive indicating currently employed to differentiate the days_employed column."
   ]
  },
  {
   "cell_type": "code",
   "execution_count": 8,
   "metadata": {},
   "outputs": [
    {
     "name": "stdout",
     "output_type": "stream",
     "text": [
      "children               0\n",
      "days_employed       2174\n",
      "dob_years              0\n",
      "education              0\n",
      "education_id           0\n",
      "family_status          0\n",
      "family_status_id       0\n",
      "gender                 0\n",
      "income_type            0\n",
      "debt                   0\n",
      "total_income        2174\n",
      "purpose                0\n",
      "dtype: int64\n"
     ]
    }
   ],
   "source": [
    "#looking for missing values\n",
    "print(credit.isnull().sum())"
   ]
  },
  {
   "cell_type": "markdown",
   "metadata": {},
   "source": [
    ">  **2174** missing values for days_employed and total_income. This makes sense, if the individual has not been employed then they have no income."
   ]
  },
  {
   "cell_type": "code",
   "execution_count": 9,
   "metadata": {},
   "outputs": [
    {
     "name": "stdout",
     "output_type": "stream",
     "text": [
      "1934.12\n",
      "1203.37\n",
      "26787.57\n",
      "23202.87\n"
     ]
    }
   ],
   "source": [
    "#finding mean and median to determine what's best to fill in missing values\n",
    "days_employed_mean = credit['days_employed'].mean()\n",
    "days_employed_median = credit['days_employed'].median()\n",
    "total_income_mean = credit['total_income'].mean()\n",
    "total_income_median = credit['total_income'].median()\n",
    "print('{:.2f}'.format(days_employed_mean))\n",
    "print('{:.2f}'.format(days_employed_median))\n",
    "print('{:.2f}'.format(total_income_mean))\n",
    "print('{:.2f}'.format(total_income_median))"
   ]
  },
  {
   "cell_type": "code",
   "execution_count": 10,
   "metadata": {},
   "outputs": [
    {
     "name": "stdout",
     "output_type": "stream",
     "text": [
      "<class 'pandas.core.frame.DataFrame'>\n",
      "RangeIndex: 21525 entries, 0 to 21524\n",
      "Data columns (total 12 columns):\n",
      "children            21525 non-null int64\n",
      "days_employed       21525 non-null float64\n",
      "dob_years           21525 non-null int64\n",
      "education           21525 non-null object\n",
      "education_id        21525 non-null int64\n",
      "family_status       21525 non-null object\n",
      "family_status_id    21525 non-null int64\n",
      "gender              21525 non-null object\n",
      "income_type         21525 non-null object\n",
      "debt                21525 non-null int64\n",
      "total_income        21525 non-null float64\n",
      "purpose             21525 non-null object\n",
      "dtypes: float64(2), int64(5), object(5)\n",
      "memory usage: 2.0+ MB\n"
     ]
    }
   ],
   "source": [
    "#filling in  missing values. \n",
    "credit['days_employed'] = credit['days_employed'].fillna(0)\n",
    "credit['total_income'] = credit['total_income'].fillna(0)\n",
    "credit.info()"
   ]
  },
  {
   "cell_type": "markdown",
   "metadata": {},
   "source": [
    "> I decided to just fill in the missing values with 0. Missing values is only **10%** of the data and not going to skew the result much and will not affect the overall result. Assuming the missing values belongs to the data that defaulted, it will stil not affect the overall result but I decided to not drop them and just replace it with 0.  We have missing values because the user might have forgotten to fill it out or the way the data was imported."
   ]
  },
  {
   "cell_type": "code",
   "execution_count": 11,
   "metadata": {},
   "outputs": [
    {
     "name": "stdout",
     "output_type": "stream",
     "text": [
      "<class 'pandas.core.frame.DataFrame'>\n",
      "RangeIndex: 21525 entries, 0 to 21524\n",
      "Data columns (total 12 columns):\n",
      "children            21525 non-null int64\n",
      "days_employed       21525 non-null int64\n",
      "dob_years           21525 non-null int64\n",
      "education           21525 non-null object\n",
      "education_id        21525 non-null int64\n",
      "family_status       21525 non-null object\n",
      "family_status_id    21525 non-null int64\n",
      "gender              21525 non-null object\n",
      "income_type         21525 non-null object\n",
      "debt                21525 non-null int64\n",
      "total_income        21525 non-null int64\n",
      "purpose             21525 non-null object\n",
      "dtypes: int64(7), object(5)\n",
      "memory usage: 2.0+ MB\n"
     ]
    }
   ],
   "source": [
    "#Replacing data type with integer type\n",
    "credit['days_employed'] = credit['days_employed'].astype(int)\n",
    "credit['total_income'] = credit['total_income'].astype(int)\n",
    "credit.info()\n"
   ]
  },
  {
   "cell_type": "code",
   "execution_count": 12,
   "metadata": {},
   "outputs": [
    {
     "data": {
      "text/plain": [
       "54"
      ]
     },
     "execution_count": 12,
     "metadata": {},
     "output_type": "execute_result"
    }
   ],
   "source": [
    "#finding duplicates\n",
    "credit.duplicated().sum()\n"
   ]
  },
  {
   "cell_type": "code",
   "execution_count": 13,
   "metadata": {},
   "outputs": [],
   "source": [
    "#dropping duplicates\n",
    "credit = credit.drop_duplicates().reset_index(drop=True)"
   ]
  },
  {
   "cell_type": "markdown",
   "metadata": {},
   "source": [
    ">   I identified **54** duplicates in the data or **less than 1% percent** which is not much. I decided to drop it."
   ]
  },
  {
   "cell_type": "code",
   "execution_count": 14,
   "metadata": {},
   "outputs": [
    {
     "name": "stdout",
     "output_type": "stream",
     "text": [
      "[\"bachelor's degree\" 'secondary education' 'Secondary Education'\n",
      " 'SECONDARY EDUCATION' \"BACHELOR'S DEGREE\" 'some college'\n",
      " 'primary education' \"Bachelor's Degree\" 'SOME COLLEGE' 'Some College'\n",
      " 'PRIMARY EDUCATION' 'Primary Education' 'Graduate Degree'\n",
      " 'GRADUATE DEGREE' 'graduate degree']\n"
     ]
    }
   ],
   "source": [
    "print(credit['education'].unique())"
   ]
  },
  {
   "cell_type": "code",
   "execution_count": 15,
   "metadata": {},
   "outputs": [
    {
     "data": {
      "text/plain": [
       "secondary education    15188\n",
       "bachelor's degree       5251\n",
       "some college             744\n",
       "primary education        282\n",
       "graduate degree            6\n",
       "Name: education_lowercase, dtype: int64"
      ]
     },
     "execution_count": 15,
     "metadata": {},
     "output_type": "execute_result"
    }
   ],
   "source": [
    "#Fixing duplicate values for education column\n",
    "credit['education_lowercase'] = credit['education'].str.lower()\n",
    "credit['education_lowercase'].value_counts()\n"
   ]
  },
  {
   "cell_type": "code",
   "execution_count": 16,
   "metadata": {},
   "outputs": [
    {
     "data": {
      "text/plain": [
       "array([\"bachelor's degree\", 'secondary education', 'some college',\n",
       "       'primary education', 'graduate degree'], dtype=object)"
      ]
     },
     "execution_count": 16,
     "metadata": {},
     "output_type": "execute_result"
    }
   ],
   "source": [
    "credit['education_lowercase'].unique()"
   ]
  },
  {
   "cell_type": "markdown",
   "metadata": {},
   "source": [
    "> Notice that education column is listed in uppercase and lowercase so I converted it to lower case to get the unique value. I also created a new column to store the lowercase values.\n"
   ]
  },
  {
   "cell_type": "code",
   "execution_count": 17,
   "metadata": {},
   "outputs": [
    {
     "name": "stdout",
     "output_type": "stream",
     "text": [
      "source word - house,after stemming - hous\n",
      "source word - education,after stemming - educ\n",
      "source word - university,after stemming - univers\n",
      "source word - car,after stemming - car\n",
      "source word - estate,after stemming - estat\n",
      "source word - property,after stemming - properti\n",
      "source word - wedding,after stemming - wed\n"
     ]
    }
   ],
   "source": [
    "from nltk.stem import SnowballStemmer\n",
    "english_stemmer = SnowballStemmer('english')\n",
    "purpose_words= ['house', 'education', 'university','car', 'estate', 'property','wedding']\n",
    "            \n",
    "for word in purpose_words:\n",
    "    print('source word - {},after stemming - {}'.format(word, english_stemmer.stem(word)))\n"
   ]
  },
  {
   "cell_type": "markdown",
   "metadata": {},
   "source": [
    "> Now if we look at the purpose column, there is multiple entries  that say 'car purchase','buying a second hand car' which we can condensed to just car purchase. There is also 'secondary education','university education' which we can just categorize as education. We need to create a new column for 'purpose' column to condense multiple entries that basically says the same thing."
   ]
  },
  {
   "cell_type": "code",
   "execution_count": 18,
   "metadata": {},
   "outputs": [
    {
     "name": "stdout",
     "output_type": "stream",
     "text": [
      "['housing' 'car purchase' 'education' 'wedding' 'real estate']\n"
     ]
    }
   ],
   "source": [
    "from nltk.stem import SnowballStemmer\n",
    "english_stemmer = SnowballStemmer('english')\n",
    "queries = credit['purpose']\n",
    "\n",
    "def purpose_newcategory(queries):\n",
    "    for word in queries.split(' '):\n",
    "        stemmed_word = english_stemmer.stem(word)\n",
    "        if stemmed_word == 'hous':\n",
    "            return 'housing'\n",
    "        if stemmed_word == 'educ' or stemmed_word == 'univers':\n",
    "            return 'education'\n",
    "        if stemmed_word == 'car':\n",
    "            return 'car purchase'\n",
    "        if stemmed_word == 'estat' or stemmed_word == 'properti':\n",
    "            return 'real estate'\n",
    "        if stemmed_word == 'wed':\n",
    "            return 'wedding'\n",
    "    return 'other'\n",
    "credit['purpose_new_category'] = credit['purpose'].apply(purpose_newcategory)\n",
    "print(credit['purpose_new_category'].unique())"
   ]
  },
  {
   "cell_type": "markdown",
   "metadata": {},
   "source": [
    ">  We need to create a function that will find the stem of the word from the 'purpose' column so we can combine the similar categories. And then we need to create a new column to store the results.\n"
   ]
  },
  {
   "cell_type": "code",
   "execution_count": 19,
   "metadata": {},
   "outputs": [
    {
     "data": {
      "text/plain": [
       "real estate     7005\n",
       "car purchase    4308\n",
       "education       4014\n",
       "housing         3809\n",
       "wedding         2335\n",
       "Name: purpose_new_category, dtype: int64"
      ]
     },
     "execution_count": 19,
     "metadata": {},
     "output_type": "execute_result"
    }
   ],
   "source": [
    "credit['purpose_new_category'].value_counts()"
   ]
  },
  {
   "cell_type": "markdown",
   "metadata": {},
   "source": [
    ">  And then we count how many entries represents each category. We use value_counts to get the count of unique values. Real estate make up 30% of loan purpose"
   ]
  },
  {
   "cell_type": "code",
   "execution_count": 20,
   "metadata": {},
   "outputs": [
    {
     "data": {
      "text/plain": [
       "employee                       11091\n",
       "business                        5080\n",
       "retiree                         3837\n",
       "civil servant                   1457\n",
       "unemployed                         2\n",
       "entrepreneur                       2\n",
       "student                            1\n",
       "paternity / maternity leave        1\n",
       "Name: income_type, dtype: int64"
      ]
     },
     "execution_count": 20,
     "metadata": {},
     "output_type": "execute_result"
    }
   ],
   "source": [
    "credit['income_type'].value_counts()"
   ]
  },
  {
   "cell_type": "markdown",
   "metadata": {},
   "source": [
    ">  Now we take a look at the income type.Employee makes up most of the data."
   ]
  },
  {
   "cell_type": "code",
   "execution_count": 21,
   "metadata": {},
   "outputs": [
    {
     "data": {
      "text/plain": [
       "debt\n",
       "0    19730\n",
       "1     1741\n",
       "Name: children, dtype: int64"
      ]
     },
     "execution_count": 21,
     "metadata": {},
     "output_type": "execute_result"
    }
   ],
   "source": [
    "credit.groupby('debt')['children'].count()"
   ]
  },
  {
   "cell_type": "markdown",
   "metadata": {},
   "source": [
    "> There's **1741** who defaulted loan that has children compare to **19730** that don't. 1741 borrowers that defaulted is not much compared to 19730, 1741 is **8 percent of the data**."
   ]
  },
  {
   "cell_type": "markdown",
   "metadata": {},
   "source": [
    "## Step 3. Answer these questions:\n",
    "\n"
   ]
  },
  {
   "cell_type": "markdown",
   "metadata": {},
   "source": [
    "####   Is there a connection between having kids and repaying a loan on time?"
   ]
  },
  {
   "cell_type": "code",
   "execution_count": 22,
   "metadata": {},
   "outputs": [
    {
     "data": {
      "text/plain": [
       "children  debt\n",
       "0         0          0\n",
       "          1       1063\n",
       "1         0          0\n",
       "          1        445\n",
       "2         0          0\n",
       "          1        202\n",
       "3         0          0\n",
       "          1         27\n",
       "4         0          0\n",
       "          1          4\n",
       "5         0          0\n",
       "Name: debt, dtype: int64"
      ]
     },
     "execution_count": 22,
     "metadata": {},
     "output_type": "execute_result"
    }
   ],
   "source": [
    "credit.groupby(['children','debt']).debt.sum()"
   ]
  },
  {
   "cell_type": "code",
   "execution_count": 23,
   "metadata": {},
   "outputs": [
    {
     "data": {
      "text/plain": [
       "count    21471.000000\n",
       "mean         0.480229\n",
       "std          0.755892\n",
       "min          0.000000\n",
       "25%          0.000000\n",
       "50%          0.000000\n",
       "75%          1.000000\n",
       "max          5.000000\n",
       "Name: children, dtype: float64"
      ]
     },
     "execution_count": 23,
     "metadata": {},
     "output_type": "execute_result"
    }
   ],
   "source": [
    "credit['children'].describe()"
   ]
  },
  {
   "cell_type": "code",
   "execution_count": 24,
   "metadata": {},
   "outputs": [],
   "source": [
    "def children_category(y):\n",
    "    if y == 0:\n",
    "        return 'Borrowers with no child'\n",
    "    if y == 1:\n",
    "        return 'Borrowers that have a child'\n",
    "    else:\n",
    "        return 'Borrowers that have more than 1 child'\n",
    "credit['children_category'] = credit['children'].apply(children_category)\n"
   ]
  },
  {
   "cell_type": "code",
   "execution_count": 25,
   "metadata": {},
   "outputs": [
    {
     "data": {
      "text/plain": [
       "Borrowers with no child                  14107\n",
       "Borrowers that have a child               4856\n",
       "Borrowers that have more than 1 child     2508\n",
       "Name: children_category, dtype: int64"
      ]
     },
     "execution_count": 25,
     "metadata": {},
     "output_type": "execute_result"
    }
   ],
   "source": [
    "credit['children_category'].value_counts()"
   ]
  },
  {
   "cell_type": "code",
   "execution_count": 26,
   "metadata": {},
   "outputs": [
    {
     "data": {
      "text/plain": [
       "children  debt\n",
       "0         0        0.000000\n",
       "          1       61.056864\n",
       "1         0        0.000000\n",
       "          1       25.560023\n",
       "2         0        0.000000\n",
       "          1       11.602527\n",
       "3         0        0.000000\n",
       "          1        1.550833\n",
       "4         0        0.000000\n",
       "          1        0.229753\n",
       "5         0        0.000000\n",
       "Name: debt, dtype: float64"
      ]
     },
     "execution_count": 26,
     "metadata": {},
     "output_type": "execute_result"
    }
   ],
   "source": [
    "credit.groupby(['children','debt']).debt.sum() / credit['debt'].sum()*100\n",
    "\n",
    "\n"
   ]
  },
  {
   "cell_type": "markdown",
   "metadata": {},
   "source": [
    "> - These tell us how many borrowers have defaulted on a loan based on how many children are in a household. As we can see, **1063** defaulted on a loan with **0** children which is **61%** of the total borrowers that defaulted on a loan compared to the **39%** that did default and have kids. \n",
    "> - Most individuals with no child tend to borrow more than the ones that have children. **66%** borrowers have no children compare to the other **34%** that do.\n",
    "> - These pretty much answers the question if there is a connection between having kids and repaying loans on time. And it also shows that the more children a borrower have, the less likely they are to default on a loan."
   ]
  },
  {
   "cell_type": "markdown",
   "metadata": {},
   "source": [
    "   #### Is there a connection between marital status and repaying a loan on time?"
   ]
  },
  {
   "cell_type": "code",
   "execution_count": 27,
   "metadata": {},
   "outputs": [
    {
     "data": {
      "text/html": [
       "<div>\n",
       "<style scoped>\n",
       "    .dataframe tbody tr th:only-of-type {\n",
       "        vertical-align: middle;\n",
       "    }\n",
       "\n",
       "    .dataframe tbody tr th {\n",
       "        vertical-align: top;\n",
       "    }\n",
       "\n",
       "    .dataframe thead th {\n",
       "        text-align: right;\n",
       "    }\n",
       "</style>\n",
       "<table border=\"1\" class=\"dataframe\">\n",
       "  <thead>\n",
       "    <tr style=\"text-align: right;\">\n",
       "      <th></th>\n",
       "      <th>family_status_id</th>\n",
       "    </tr>\n",
       "    <tr>\n",
       "      <th>family_status</th>\n",
       "      <th></th>\n",
       "    </tr>\n",
       "  </thead>\n",
       "  <tbody>\n",
       "    <tr>\n",
       "      <td>civil partnership</td>\n",
       "      <td>1</td>\n",
       "    </tr>\n",
       "    <tr>\n",
       "      <td>divorced</td>\n",
       "      <td>3</td>\n",
       "    </tr>\n",
       "    <tr>\n",
       "      <td>married</td>\n",
       "      <td>0</td>\n",
       "    </tr>\n",
       "    <tr>\n",
       "      <td>unmarried</td>\n",
       "      <td>4</td>\n",
       "    </tr>\n",
       "    <tr>\n",
       "      <td>widow / widower</td>\n",
       "      <td>2</td>\n",
       "    </tr>\n",
       "  </tbody>\n",
       "</table>\n",
       "</div>"
      ],
      "text/plain": [
       "                   family_status_id\n",
       "family_status                      \n",
       "civil partnership                 1\n",
       "divorced                          3\n",
       "married                           0\n",
       "unmarried                         4\n",
       "widow / widower                   2"
      ]
     },
     "execution_count": 27,
     "metadata": {},
     "output_type": "execute_result"
    }
   ],
   "source": [
    "#categorizing family_status based on family_status_id\n",
    "family_status_pivot = credit.pivot_table(index= 'family_status', values = 'family_status_id')\n",
    "family_status_pivot"
   ]
  },
  {
   "cell_type": "code",
   "execution_count": 28,
   "metadata": {},
   "outputs": [
    {
     "data": {
      "text/plain": [
       "family_status      debt\n",
       "civil partnership  0         0\n",
       "                   1       388\n",
       "divorced           0         0\n",
       "                   1        85\n",
       "married            0         0\n",
       "                   1       931\n",
       "unmarried          0         0\n",
       "                   1       274\n",
       "widow / widower    0         0\n",
       "                   1        63\n",
       "Name: debt, dtype: int64"
      ]
     },
     "execution_count": 28,
     "metadata": {},
     "output_type": "execute_result"
    }
   ],
   "source": [
    "credit.groupby(by= ['family_status','debt']).debt.sum()"
   ]
  },
  {
   "cell_type": "code",
   "execution_count": 29,
   "metadata": {},
   "outputs": [
    {
     "data": {
      "text/plain": [
       "married              12344\n",
       "civil partnership     4163\n",
       "unmarried             2810\n",
       "divorced              1195\n",
       "widow / widower        959\n",
       "Name: family_status, dtype: int64"
      ]
     },
     "execution_count": 29,
     "metadata": {},
     "output_type": "execute_result"
    }
   ],
   "source": [
    "credit['family_status'].value_counts()"
   ]
  },
  {
   "cell_type": "markdown",
   "metadata": {},
   "source": [
    "As you can see, married people tend to default on a loan more often compared to unmarried people because married people tend to borrow more than the other familly status."
   ]
  },
  {
   "cell_type": "markdown",
   "metadata": {},
   "source": [
    "#### Is there a connection between income level and repaying a loan on time?"
   ]
  },
  {
   "cell_type": "code",
   "execution_count": 30,
   "metadata": {},
   "outputs": [
    {
     "data": {
      "text/plain": [
       "income_type                  debt\n",
       "business                     0          0\n",
       "                             1        376\n",
       "civil servant                0          0\n",
       "                             1         86\n",
       "employee                     0          0\n",
       "                             1       1061\n",
       "entrepreneur                 0          0\n",
       "paternity / maternity leave  1          1\n",
       "retiree                      0          0\n",
       "                             1        216\n",
       "student                      0          0\n",
       "unemployed                   0          0\n",
       "                             1          1\n",
       "Name: debt, dtype: int64"
      ]
     },
     "execution_count": 30,
     "metadata": {},
     "output_type": "execute_result"
    }
   ],
   "source": [
    "credit.groupby(by= ['income_type','debt']).debt.sum()"
   ]
  },
  {
   "cell_type": "code",
   "execution_count": 31,
   "metadata": {},
   "outputs": [
    {
     "data": {
      "text/plain": [
       "count     21471.000000\n",
       "mean      24142.173909\n",
       "std       17564.008086\n",
       "min           0.000000\n",
       "25%       14231.000000\n",
       "50%       21714.000000\n",
       "75%       31320.000000\n",
       "max      362496.000000\n",
       "Name: total_income, dtype: float64"
      ]
     },
     "execution_count": 31,
     "metadata": {},
     "output_type": "execute_result"
    }
   ],
   "source": [
    "credit['total_income'].describe()"
   ]
  },
  {
   "cell_type": "code",
   "execution_count": 32,
   "metadata": {},
   "outputs": [],
   "source": [
    "def total_income_category(x):\n",
    "    if x <20000:\n",
    "        return 'Low Income'\n",
    "    if 20000 < x < 40000:\n",
    "        return 'Average Income'\n",
    "    if 40000 < x < 75000:\n",
    "        return \"Above Average Income\"\n",
    "    else:\n",
    "        return \"High Income\"\n",
    "credit['total_income_category'] = credit['total_income'].apply(total_income_category)"
   ]
  },
  {
   "cell_type": "code",
   "execution_count": 33,
   "metadata": {},
   "outputs": [
    {
     "data": {
      "text/plain": [
       "Low Income              9489\n",
       "Average Income          9169\n",
       "Above Average Income    2524\n",
       "High Income              289\n",
       "Name: total_income_category, dtype: int64"
      ]
     },
     "metadata": {},
     "output_type": "display_data"
    },
    {
     "data": {
      "text/plain": [
       "total_income_category  debt\n",
       "Above Average Income   0         0\n",
       "                       1       178\n",
       "Average Income         0         0\n",
       "                       1       769\n",
       "High Income            0         0\n",
       "                       1        16\n",
       "Low Income             0         0\n",
       "                       1       778\n",
       "Name: debt, dtype: int64"
      ]
     },
     "execution_count": 33,
     "metadata": {},
     "output_type": "execute_result"
    }
   ],
   "source": [
    "display(credit['total_income_category'].value_counts())\n",
    "credit.groupby(by= ['total_income_category', 'debt']).debt.sum()"
   ]
  },
  {
   "cell_type": "markdown",
   "metadata": {},
   "source": [
    "> - I categorized total_income to look on how income level affects > - Those who are employed and own a business tend to default on a loan, both combined making up 82.5% of the defaulted loans (376 + 1061 = 1437, 1437/1741 = 82.5%).\n",
    "> - Low income and average income borrowers tend to borrow more which makes sense because they need the money but borrowers that have low income tend to default a bit more and average income coming in close to second. People does tend to spend more above their means."
   ]
  },
  {
   "cell_type": "code",
   "execution_count": 34,
   "metadata": {},
   "outputs": [
    {
     "data": {
      "text/plain": [
       "purpose_new_category  debt\n",
       "car purchase          0         0\n",
       "                      1       403\n",
       "education             0         0\n",
       "                      1       370\n",
       "housing               0         0\n",
       "                      1       256\n",
       "real estate           0         0\n",
       "                      1       526\n",
       "wedding               0         0\n",
       "                      1       186\n",
       "Name: debt, dtype: int64"
      ]
     },
     "execution_count": 34,
     "metadata": {},
     "output_type": "execute_result"
    }
   ],
   "source": [
    "credit.groupby(by= ['purpose_new_category','debt']).debt.sum()"
   ]
  },
  {
   "cell_type": "markdown",
   "metadata": {},
   "source": [
    "> Defaulting on a loan based on its purpose is pretty close in all categories. Although from this data, we can conclude that borrowers of real etate and car purchase are less likely to repay their loans on time than the ones borrowing for  housing, wedding and education."
   ]
  },
  {
   "cell_type": "markdown",
   "metadata": {},
   "source": [
    "## Step 4. Overall conclusion"
   ]
  },
  {
   "cell_type": "markdown",
   "metadata": {},
   "source": [
    "#### In conclusion:\n",
    "\n",
    "> - Overall, there is a unsubtatantial correlation on defaulting on a loan based on children as it is only comprised of 8% of overall data. \n",
    "> - From this data, most of the borrowers do not have children. There could be a lot of different factors to keep in mind in combination with having children. Although the ones that did default, 61%  do not have children compare to 39% that do.\n",
    "> - Married borrowers tend to default more than unmarried ones because they do tend to borrow more than the other group from that same category.\n",
    "> - Low income earners tend to borrow more and default more\n",
    "> - Borrowers of real estate and car purchase are less likely to repay their loans than the ones borrowing for other purposes\n",
    "    \n",
    "     \n",
    "    "
   ]
  }
 ],
 "metadata": {
  "ExecuteTimeLog": [
   {
    "duration": 3315,
    "start_time": "2021-06-09T11:55:53.792Z"
   },
   {
    "duration": 18,
    "start_time": "2021-06-09T11:55:57.109Z"
   },
   {
    "duration": 71,
    "start_time": "2021-06-09T11:55:57.131Z"
   },
   {
    "duration": 9,
    "start_time": "2021-06-09T11:55:57.205Z"
   },
   {
    "duration": 18,
    "start_time": "2021-06-09T11:55:57.216Z"
   },
   {
    "duration": 20,
    "start_time": "2021-06-09T11:55:57.236Z"
   },
   {
    "duration": 27,
    "start_time": "2021-06-09T11:55:57.258Z"
   },
   {
    "duration": 13,
    "start_time": "2021-06-09T11:55:57.289Z"
   },
   {
    "duration": 10,
    "start_time": "2021-06-09T11:55:57.305Z"
   },
   {
    "duration": 17,
    "start_time": "2021-06-09T11:55:57.318Z"
   },
   {
    "duration": 58,
    "start_time": "2021-06-09T11:55:57.338Z"
   },
   {
    "duration": 18,
    "start_time": "2021-06-09T11:55:57.398Z"
   },
   {
    "duration": 21,
    "start_time": "2021-06-09T11:55:57.419Z"
   },
   {
    "duration": 43,
    "start_time": "2021-06-09T11:55:57.442Z"
   },
   {
    "duration": 23,
    "start_time": "2021-06-09T11:55:57.487Z"
   },
   {
    "duration": 11,
    "start_time": "2021-06-09T11:55:57.513Z"
   },
   {
    "duration": 803,
    "start_time": "2021-06-09T11:55:57.526Z"
   },
   {
    "duration": 1719,
    "start_time": "2021-06-09T11:55:58.332Z"
   },
   {
    "duration": 13,
    "start_time": "2021-06-09T11:56:00.054Z"
   },
   {
    "duration": 13,
    "start_time": "2021-06-09T11:56:00.083Z"
   },
   {
    "duration": 21,
    "start_time": "2021-06-09T11:56:00.098Z"
   },
   {
    "duration": 13,
    "start_time": "2021-06-09T11:56:00.122Z"
   },
   {
    "duration": 51,
    "start_time": "2021-06-09T11:56:00.142Z"
   },
   {
    "duration": 27,
    "start_time": "2021-06-09T11:56:00.196Z"
   },
   {
    "duration": 21,
    "start_time": "2021-06-09T11:56:00.226Z"
   },
   {
    "duration": 39,
    "start_time": "2021-06-09T11:56:00.251Z"
   },
   {
    "duration": 11,
    "start_time": "2021-06-09T11:56:00.294Z"
   },
   {
    "duration": 6677,
    "start_time": "2021-06-09T11:56:00.308Z"
   },
   {
    "duration": -46,
    "start_time": "2021-06-09T11:56:07.034Z"
   },
   {
    "duration": 4065,
    "start_time": "2021-06-09T14:42:45.661Z"
   },
   {
    "duration": 19,
    "start_time": "2021-06-09T14:42:49.729Z"
   },
   {
    "duration": 64,
    "start_time": "2021-06-09T14:42:49.751Z"
   },
   {
    "duration": 9,
    "start_time": "2021-06-09T14:42:49.818Z"
   },
   {
    "duration": 20,
    "start_time": "2021-06-09T14:42:49.829Z"
   },
   {
    "duration": 41,
    "start_time": "2021-06-09T14:42:49.851Z"
   },
   {
    "duration": 6,
    "start_time": "2021-06-09T14:42:49.894Z"
   },
   {
    "duration": 27,
    "start_time": "2021-06-09T14:42:49.903Z"
   },
   {
    "duration": 10,
    "start_time": "2021-06-09T14:42:49.933Z"
   },
   {
    "duration": 40,
    "start_time": "2021-06-09T14:42:49.945Z"
   },
   {
    "duration": 17,
    "start_time": "2021-06-09T14:42:49.988Z"
   },
   {
    "duration": 21,
    "start_time": "2021-06-09T14:42:50.008Z"
   },
   {
    "duration": 51,
    "start_time": "2021-06-09T14:42:50.032Z"
   },
   {
    "duration": 6,
    "start_time": "2021-06-09T14:42:50.086Z"
   },
   {
    "duration": 44,
    "start_time": "2021-06-09T14:42:50.095Z"
   },
   {
    "duration": 9,
    "start_time": "2021-06-09T14:42:50.142Z"
   },
   {
    "duration": 821,
    "start_time": "2021-06-09T14:42:50.153Z"
   },
   {
    "duration": 971,
    "start_time": "2021-06-09T14:42:50.976Z"
   },
   {
    "duration": 10,
    "start_time": "2021-06-09T14:42:51.950Z"
   },
   {
    "duration": 24,
    "start_time": "2021-06-09T14:42:51.963Z"
   },
   {
    "duration": 15,
    "start_time": "2021-06-09T14:42:51.990Z"
   },
   {
    "duration": 11,
    "start_time": "2021-06-09T14:42:52.008Z"
   },
   {
    "duration": 13,
    "start_time": "2021-06-09T14:42:52.023Z"
   },
   {
    "duration": 61,
    "start_time": "2021-06-09T14:42:52.039Z"
   },
   {
    "duration": 12,
    "start_time": "2021-06-09T14:42:52.103Z"
   },
   {
    "duration": 13,
    "start_time": "2021-06-09T14:42:52.117Z"
   },
   {
    "duration": 51,
    "start_time": "2021-06-09T14:42:52.132Z"
   },
   {
    "duration": 6121,
    "start_time": "2021-06-09T14:42:52.186Z"
   },
   {
    "duration": -61,
    "start_time": "2021-06-09T14:42:58.371Z"
   },
   {
    "duration": 3600,
    "start_time": "2021-06-15T04:39:11.043Z"
   },
   {
    "duration": 19,
    "start_time": "2021-06-15T04:39:14.646Z"
   },
   {
    "duration": 48,
    "start_time": "2021-06-15T04:39:14.686Z"
   },
   {
    "duration": 8,
    "start_time": "2021-06-15T04:39:14.737Z"
   },
   {
    "duration": 39,
    "start_time": "2021-06-15T04:39:14.748Z"
   },
   {
    "duration": 22,
    "start_time": "2021-06-15T04:39:14.789Z"
   },
   {
    "duration": 4,
    "start_time": "2021-06-15T04:39:14.813Z"
   },
   {
    "duration": 16,
    "start_time": "2021-06-15T04:39:14.820Z"
   },
   {
    "duration": 50,
    "start_time": "2021-06-15T04:39:14.839Z"
   },
   {
    "duration": 16,
    "start_time": "2021-06-15T04:39:14.938Z"
   },
   {
    "duration": 20,
    "start_time": "2021-06-15T04:39:16.145Z"
   },
   {
    "duration": 20,
    "start_time": "2021-06-15T04:39:16.840Z"
   },
   {
    "duration": 23,
    "start_time": "2021-06-15T04:39:16.942Z"
   },
   {
    "duration": 6,
    "start_time": "2021-06-15T04:39:18.092Z"
   },
   {
    "duration": 23,
    "start_time": "2021-06-15T04:39:18.902Z"
   },
   {
    "duration": 7,
    "start_time": "2021-06-15T04:39:19.629Z"
   },
   {
    "duration": 747,
    "start_time": "2021-06-15T04:39:21.988Z"
   },
   {
    "duration": 931,
    "start_time": "2021-06-15T04:39:23.678Z"
   },
   {
    "duration": 10,
    "start_time": "2021-06-15T04:39:25.201Z"
   },
   {
    "duration": 11,
    "start_time": "2021-06-15T04:39:26.652Z"
   },
   {
    "duration": 14,
    "start_time": "2021-06-15T04:39:26.990Z"
   },
   {
    "duration": 12,
    "start_time": "2021-06-15T04:39:29.254Z"
   },
   {
    "duration": 12,
    "start_time": "2021-06-15T04:39:32.886Z"
   },
   {
    "duration": 20,
    "start_time": "2021-06-15T04:39:35.239Z"
   },
   {
    "duration": 14,
    "start_time": "2021-06-15T04:39:35.682Z"
   },
   {
    "duration": 13,
    "start_time": "2021-06-15T04:39:40.984Z"
   },
   {
    "duration": 14,
    "start_time": "2021-06-15T04:39:41.659Z"
   },
   {
    "duration": 7491,
    "start_time": "2021-06-15T04:39:45.596Z"
   },
   {
    "duration": 1899,
    "start_time": "2021-06-15T04:39:51.191Z"
   },
   {
    "duration": 4,
    "start_time": "2021-06-15T05:06:49.491Z"
   },
   {
    "duration": 1419,
    "start_time": "2021-06-15T05:09:02.720Z"
   },
   {
    "duration": 1421,
    "start_time": "2021-06-15T05:09:05.994Z"
   },
   {
    "duration": 1706,
    "start_time": "2021-06-15T05:09:36.023Z"
   },
   {
    "duration": 13,
    "start_time": "2021-06-15T05:10:43.999Z"
   },
   {
    "duration": 13,
    "start_time": "2021-06-15T05:11:02.670Z"
   },
   {
    "duration": 26,
    "start_time": "2021-06-15T05:11:03.750Z"
   },
   {
    "duration": 12,
    "start_time": "2021-06-15T05:11:38.045Z"
   },
   {
    "duration": 19,
    "start_time": "2021-06-15T05:11:39.361Z"
   },
   {
    "duration": 11,
    "start_time": "2021-06-15T05:39:23.071Z"
   },
   {
    "duration": 3,
    "start_time": "2021-06-15T05:39:23.085Z"
   },
   {
    "duration": 120,
    "start_time": "2021-06-15T05:52:28.934Z"
   },
   {
    "duration": 101,
    "start_time": "2021-06-15T05:52:42.451Z"
   },
   {
    "duration": 136,
    "start_time": "2021-06-15T05:53:01.445Z"
   },
   {
    "duration": 101,
    "start_time": "2021-06-15T05:53:14.695Z"
   },
   {
    "duration": 290,
    "start_time": "2021-06-15T05:53:27.515Z"
   },
   {
    "duration": 294,
    "start_time": "2021-06-15T05:54:29.674Z"
   },
   {
    "duration": 302,
    "start_time": "2021-06-15T05:54:44.678Z"
   },
   {
    "duration": 301,
    "start_time": "2021-06-15T05:55:50.182Z"
   },
   {
    "duration": 326,
    "start_time": "2021-06-15T05:56:02.957Z"
   },
   {
    "duration": 334,
    "start_time": "2021-06-15T05:56:14.390Z"
   },
   {
    "duration": 334,
    "start_time": "2021-06-15T05:57:07.650Z"
   },
   {
    "duration": 586,
    "start_time": "2021-06-15T06:00:20.171Z"
   },
   {
    "duration": 480,
    "start_time": "2021-06-15T06:00:28.148Z"
   },
   {
    "duration": 6,
    "start_time": "2021-06-15T06:01:13.490Z"
   },
   {
    "duration": 122,
    "start_time": "2021-06-15T06:01:43.349Z"
   },
   {
    "duration": 5,
    "start_time": "2021-06-15T06:02:16.917Z"
   },
   {
    "duration": 304,
    "start_time": "2021-06-15T06:02:31.211Z"
   },
   {
    "duration": 106,
    "start_time": "2021-06-15T06:05:06.269Z"
   },
   {
    "duration": 348,
    "start_time": "2021-06-15T06:06:02.646Z"
   },
   {
    "duration": 492,
    "start_time": "2021-06-15T06:07:22.693Z"
   },
   {
    "duration": 8,
    "start_time": "2021-06-15T06:07:54.769Z"
   },
   {
    "duration": 10,
    "start_time": "2021-06-15T06:08:18.535Z"
   },
   {
    "duration": 9,
    "start_time": "2021-06-15T06:08:29.241Z"
   },
   {
    "duration": 9,
    "start_time": "2021-06-15T06:08:36.541Z"
   },
   {
    "duration": 10,
    "start_time": "2021-06-15T06:08:49.093Z"
   },
   {
    "duration": 8,
    "start_time": "2021-06-15T06:09:17.486Z"
   },
   {
    "duration": 9,
    "start_time": "2021-06-15T06:09:28.366Z"
   },
   {
    "duration": 9,
    "start_time": "2021-06-15T06:10:17.419Z"
   },
   {
    "duration": 8,
    "start_time": "2021-06-15T06:10:28.969Z"
   },
   {
    "duration": 10,
    "start_time": "2021-06-15T06:10:45.152Z"
   },
   {
    "duration": 9,
    "start_time": "2021-06-15T06:11:17.304Z"
   },
   {
    "duration": 10,
    "start_time": "2021-06-15T06:11:31.270Z"
   },
   {
    "duration": 8,
    "start_time": "2021-06-15T06:11:46.263Z"
   },
   {
    "duration": 8,
    "start_time": "2021-06-15T06:12:45.842Z"
   },
   {
    "duration": 7,
    "start_time": "2021-06-15T06:12:55.773Z"
   },
   {
    "duration": 6,
    "start_time": "2021-06-15T06:13:01.838Z"
   },
   {
    "duration": 6,
    "start_time": "2021-06-15T06:13:09.738Z"
   },
   {
    "duration": 7,
    "start_time": "2021-06-15T06:13:17.613Z"
   },
   {
    "duration": 7,
    "start_time": "2021-06-15T06:14:07.987Z"
   },
   {
    "duration": 14,
    "start_time": "2021-06-15T06:14:57.463Z"
   },
   {
    "duration": 9,
    "start_time": "2021-06-15T06:15:08.060Z"
   },
   {
    "duration": 7,
    "start_time": "2021-06-15T06:15:28.894Z"
   },
   {
    "duration": 7,
    "start_time": "2021-06-15T06:16:06.642Z"
   },
   {
    "duration": 12,
    "start_time": "2021-06-15T06:22:44.463Z"
   },
   {
    "duration": 10,
    "start_time": "2021-06-15T06:23:40.529Z"
   },
   {
    "duration": 13,
    "start_time": "2021-06-15T06:24:51.816Z"
   },
   {
    "duration": 28,
    "start_time": "2021-06-15T06:24:53.047Z"
   },
   {
    "duration": 11,
    "start_time": "2021-06-15T06:25:32.046Z"
   },
   {
    "duration": 10,
    "start_time": "2021-06-15T06:25:32.712Z"
   },
   {
    "duration": 10,
    "start_time": "2021-06-15T06:27:21.379Z"
   },
   {
    "duration": 10,
    "start_time": "2021-06-15T06:27:22.044Z"
   },
   {
    "duration": 12,
    "start_time": "2021-06-15T06:29:33.891Z"
   },
   {
    "duration": 10,
    "start_time": "2021-06-15T06:29:35.342Z"
   },
   {
    "duration": 14,
    "start_time": "2021-06-15T06:44:36.301Z"
   },
   {
    "duration": 12,
    "start_time": "2021-06-15T06:46:38.604Z"
   },
   {
    "duration": 10,
    "start_time": "2021-06-15T06:47:22.092Z"
   },
   {
    "duration": 3644,
    "start_time": "2021-06-15T18:23:47.460Z"
   },
   {
    "duration": 13,
    "start_time": "2021-06-15T18:23:51.106Z"
   },
   {
    "duration": 36,
    "start_time": "2021-06-15T18:23:51.121Z"
   },
   {
    "duration": 9,
    "start_time": "2021-06-15T18:23:51.159Z"
   },
   {
    "duration": 35,
    "start_time": "2021-06-15T18:23:51.169Z"
   },
   {
    "duration": 13,
    "start_time": "2021-06-15T18:23:51.206Z"
   },
   {
    "duration": 3,
    "start_time": "2021-06-15T18:23:51.220Z"
   },
   {
    "duration": 10,
    "start_time": "2021-06-15T18:23:51.226Z"
   },
   {
    "duration": 17,
    "start_time": "2021-06-15T18:23:51.238Z"
   },
   {
    "duration": 39,
    "start_time": "2021-06-15T18:23:51.257Z"
   },
   {
    "duration": 16,
    "start_time": "2021-06-15T18:23:51.298Z"
   },
   {
    "duration": 14,
    "start_time": "2021-06-15T18:23:51.315Z"
   },
   {
    "duration": 16,
    "start_time": "2021-06-15T18:23:51.330Z"
   },
   {
    "duration": 4,
    "start_time": "2021-06-15T18:23:51.348Z"
   },
   {
    "duration": 41,
    "start_time": "2021-06-15T18:23:51.354Z"
   },
   {
    "duration": 7,
    "start_time": "2021-06-15T18:23:51.397Z"
   },
   {
    "duration": 1983,
    "start_time": "2021-06-15T18:23:51.405Z"
   },
   {
    "duration": 622,
    "start_time": "2021-06-15T18:23:53.390Z"
   },
   {
    "duration": 7,
    "start_time": "2021-06-15T18:23:54.014Z"
   },
   {
    "duration": 9,
    "start_time": "2021-06-15T18:23:54.024Z"
   },
   {
    "duration": 8,
    "start_time": "2021-06-15T18:23:54.034Z"
   },
   {
    "duration": 10,
    "start_time": "2021-06-15T18:23:54.044Z"
   },
   {
    "duration": 41,
    "start_time": "2021-06-15T18:23:54.057Z"
   },
   {
    "duration": 8,
    "start_time": "2021-06-15T18:23:54.101Z"
   },
   {
    "duration": 9,
    "start_time": "2021-06-15T18:23:54.111Z"
   },
   {
    "duration": 13,
    "start_time": "2021-06-15T18:23:54.122Z"
   },
   {
    "duration": 23,
    "start_time": "2021-06-15T18:23:54.136Z"
   },
   {
    "duration": 38,
    "start_time": "2021-06-15T18:23:54.160Z"
   },
   {
    "duration": 7,
    "start_time": "2021-06-15T18:23:54.200Z"
   },
   {
    "duration": 12,
    "start_time": "2021-06-15T18:23:54.208Z"
   },
   {
    "duration": 7,
    "start_time": "2021-06-15T18:23:54.222Z"
   },
   {
    "duration": 8,
    "start_time": "2021-06-15T18:23:54.231Z"
   },
   {
    "duration": 24,
    "start_time": "2021-06-15T18:23:54.240Z"
   },
   {
    "duration": 20,
    "start_time": "2021-06-15T18:23:54.266Z"
   },
   {
    "duration": 3538,
    "start_time": "2021-06-16T01:24:15.053Z"
   },
   {
    "duration": 19,
    "start_time": "2021-06-16T01:24:18.593Z"
   },
   {
    "duration": 64,
    "start_time": "2021-06-16T01:24:18.616Z"
   },
   {
    "duration": 10,
    "start_time": "2021-06-16T01:24:18.684Z"
   },
   {
    "duration": 23,
    "start_time": "2021-06-16T01:24:18.697Z"
   },
   {
    "duration": 49,
    "start_time": "2021-06-16T01:24:18.723Z"
   },
   {
    "duration": 5,
    "start_time": "2021-06-16T01:24:18.775Z"
   },
   {
    "duration": 13,
    "start_time": "2021-06-16T01:24:18.785Z"
   },
   {
    "duration": 52,
    "start_time": "2021-06-16T01:24:18.802Z"
   },
   {
    "duration": 18,
    "start_time": "2021-06-16T01:24:18.857Z"
   },
   {
    "duration": 20,
    "start_time": "2021-06-16T01:24:18.877Z"
   },
   {
    "duration": 57,
    "start_time": "2021-06-16T01:24:18.900Z"
   },
   {
    "duration": 25,
    "start_time": "2021-06-16T01:24:18.960Z"
   },
   {
    "duration": 7,
    "start_time": "2021-06-16T01:24:18.988Z"
   },
   {
    "duration": 57,
    "start_time": "2021-06-16T01:24:18.998Z"
   },
   {
    "duration": 6,
    "start_time": "2021-06-16T01:24:19.058Z"
   },
   {
    "duration": 872,
    "start_time": "2021-06-16T01:24:19.067Z"
   },
   {
    "duration": 993,
    "start_time": "2021-06-16T01:24:19.941Z"
   },
   {
    "duration": 21,
    "start_time": "2021-06-16T01:24:20.937Z"
   },
   {
    "duration": 14,
    "start_time": "2021-06-16T01:24:20.961Z"
   },
   {
    "duration": 15,
    "start_time": "2021-06-16T01:24:20.977Z"
   },
   {
    "duration": 10,
    "start_time": "2021-06-16T01:24:20.995Z"
   },
   {
    "duration": 45,
    "start_time": "2021-06-16T01:24:21.010Z"
   },
   {
    "duration": 11,
    "start_time": "2021-06-16T01:24:21.058Z"
   },
   {
    "duration": 18,
    "start_time": "2021-06-16T01:24:21.071Z"
   },
   {
    "duration": 26,
    "start_time": "2021-06-16T01:24:21.092Z"
   },
   {
    "duration": 40,
    "start_time": "2021-06-16T01:24:21.120Z"
   },
   {
    "duration": 11,
    "start_time": "2021-06-16T01:24:21.163Z"
   },
   {
    "duration": 11,
    "start_time": "2021-06-16T01:24:21.177Z"
   },
   {
    "duration": 16,
    "start_time": "2021-06-16T01:24:21.190Z"
   },
   {
    "duration": 10,
    "start_time": "2021-06-16T01:24:21.209Z"
   },
   {
    "duration": 13,
    "start_time": "2021-06-16T01:24:21.255Z"
   },
   {
    "duration": 26,
    "start_time": "2021-06-16T01:24:21.271Z"
   },
   {
    "duration": 12,
    "start_time": "2021-06-16T01:24:21.299Z"
   }
  ],
  "kernelspec": {
   "display_name": "Python 3",
   "language": "python",
   "name": "python3"
  },
  "language_info": {
   "codemirror_mode": {
    "name": "ipython",
    "version": 3
   },
   "file_extension": ".py",
   "mimetype": "text/x-python",
   "name": "python",
   "nbconvert_exporter": "python",
   "pygments_lexer": "ipython3",
   "version": "3.8.5"
  },
  "toc": {
   "base_numbering": 1,
   "nav_menu": {},
   "number_sections": true,
   "sideBar": true,
   "skip_h1_title": true,
   "title_cell": "Table of Contents",
   "title_sidebar": "Contents",
   "toc_cell": false,
   "toc_position": {},
   "toc_section_display": true,
   "toc_window_display": false
  }
 },
 "nbformat": 4,
 "nbformat_minor": 4
}
