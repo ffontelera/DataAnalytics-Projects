{
 "cells": [
  {
   "cell_type": "markdown",
   "metadata": {},
   "source": [
    "# A/B Testing\n"
   ]
  },
  {
   "cell_type": "markdown",
   "metadata": {},
   "source": [
    "#### Objective: To help boost revenue for a big online store by conducting and analyzing an A/B test \n"
   ]
  },
  {
   "cell_type": "markdown",
   "metadata": {},
   "source": [
    "### Data Description"
   ]
  },
  {
   "cell_type": "markdown",
   "metadata": {},
   "source": [
    "Data used in the first part of the project\n",
    "***/datasets/hypotheses_us.csv*** \n",
    "\n",
    "    Hypotheses — brief descriptions of the hypotheses\n",
    "    Reach — user reach, on a scale of one to ten\n",
    "    Impact — impact on users, on a scale of one to ten\n",
    "    Confidence — confidence in the hypothesis, on a scale of one to ten\n",
    "    Effort — the resources required to test a hypothesis, on a scale of one to ten. The higher the Effort value, the more resource-intensive the test.\n",
    "    \n",
    "Data used in the second part of the project\n",
    "(Orders table\n",
    "***/datasets/orders_us.csv***)\n",
    "\n",
    "    transactionId — order identifier\n",
    "    visitorId — identifier of the user who placed the order\n",
    "    date — of the order\n",
    "    revenue — from the order\n",
    "    group — the A/B test group that the user belongs to\n",
    "\n",
    "(Visits table\n",
    "***/datasets/visits_us.csv***)\n",
    "\n",
    "    date — date\n",
    "    group — A/B test group\n",
    "    visits — the number of visits on the date specified in the A/B test group specified"
   ]
  },
  {
   "cell_type": "markdown",
   "metadata": {},
   "source": [
    "## Import data "
   ]
  },
  {
   "cell_type": "code",
   "execution_count": 1,
   "metadata": {},
   "outputs": [],
   "source": [
    "import pandas as pd\n",
    "import numpy as np\n",
    "import matplotlib.pyplot as plt \n",
    "import seaborn as sns \n",
    "import datetime as dt\n",
    "import warnings\n",
    "warnings.simplefilter(action=\"ignore\", category=FutureWarning)\n",
    "from scipy import stats as st\n",
    "from io import BytesIO\n",
    "import requests\n"
   ]
  },
  {
   "cell_type": "code",
   "execution_count": 2,
   "metadata": {},
   "outputs": [],
   "source": [
    "spreadsheet_id = '143vPyy2Oxkhw0SNbrH2llAn-FUoDZUoUxC2NiW1dVpY'\n",
    "file_name = 'https://docs.google.com/spreadsheets/d/{}/export?format=csv'.format(spreadsheet_id)\n",
    "r = requests.get(file_name)\n",
    "hypotheses = pd.read_csv(BytesIO(r.content))\n",
    "\n",
    "spreadsheet_id = '1kCcyk7nnr3dlXzxlZEuM2rwhYgi6pkhnwrulOeoSKgQ'\n",
    "file_name = 'https://docs.google.com/spreadsheets/d/{}/export?format=csv'.format(spreadsheet_id)\n",
    "r = requests.get(file_name)\n",
    "orders = pd.read_csv(BytesIO(r.content))\n",
    "\n",
    "spreadsheet_id = '1jK0jwBfbhTQY5BxpnVU1O_5g586j7Ea2ophC8ilT8xs'\n",
    "file_name = 'https://docs.google.com/spreadsheets/d/{}/export?format=csv'.format(spreadsheet_id)\n",
    "r = requests.get(file_name)\n",
    "visits = pd.read_csv(BytesIO(r.content))\n",
    " "
   ]
  },
  {
   "cell_type": "code",
   "execution_count": 3,
   "metadata": {},
   "outputs": [
    {
     "name": "stdout",
     "output_type": "stream",
     "text": [
      "<class 'pandas.core.frame.DataFrame'>\n",
      "RangeIndex: 9 entries, 0 to 8\n",
      "Data columns (total 5 columns):\n",
      " #   Column      Non-Null Count  Dtype \n",
      "---  ------      --------------  ----- \n",
      " 0   Hypothesis  9 non-null      object\n",
      " 1   Reach       9 non-null      int64 \n",
      " 2   Impact      9 non-null      int64 \n",
      " 3   Confidence  9 non-null      int64 \n",
      " 4   Effort      9 non-null      int64 \n",
      "dtypes: int64(4), object(1)\n",
      "memory usage: 488.0+ bytes\n"
     ]
    },
    {
     "data": {
      "text/plain": [
       "None"
      ]
     },
     "metadata": {},
     "output_type": "display_data"
    },
    {
     "data": {
      "text/html": [
       "<div>\n",
       "<style scoped>\n",
       "    .dataframe tbody tr th:only-of-type {\n",
       "        vertical-align: middle;\n",
       "    }\n",
       "\n",
       "    .dataframe tbody tr th {\n",
       "        vertical-align: top;\n",
       "    }\n",
       "\n",
       "    .dataframe thead th {\n",
       "        text-align: right;\n",
       "    }\n",
       "</style>\n",
       "<table border=\"1\" class=\"dataframe\">\n",
       "  <thead>\n",
       "    <tr style=\"text-align: right;\">\n",
       "      <th></th>\n",
       "      <th>Reach</th>\n",
       "      <th>Impact</th>\n",
       "      <th>Confidence</th>\n",
       "      <th>Effort</th>\n",
       "    </tr>\n",
       "  </thead>\n",
       "  <tbody>\n",
       "    <tr>\n",
       "      <th>count</th>\n",
       "      <td>9.000000</td>\n",
       "      <td>9.000000</td>\n",
       "      <td>9.000000</td>\n",
       "      <td>9.000000</td>\n",
       "    </tr>\n",
       "    <tr>\n",
       "      <th>mean</th>\n",
       "      <td>4.777778</td>\n",
       "      <td>4.777778</td>\n",
       "      <td>5.555556</td>\n",
       "      <td>4.888889</td>\n",
       "    </tr>\n",
       "    <tr>\n",
       "      <th>std</th>\n",
       "      <td>3.153481</td>\n",
       "      <td>3.192874</td>\n",
       "      <td>3.045944</td>\n",
       "      <td>2.803767</td>\n",
       "    </tr>\n",
       "    <tr>\n",
       "      <th>min</th>\n",
       "      <td>1.000000</td>\n",
       "      <td>1.000000</td>\n",
       "      <td>1.000000</td>\n",
       "      <td>1.000000</td>\n",
       "    </tr>\n",
       "    <tr>\n",
       "      <th>25%</th>\n",
       "      <td>3.000000</td>\n",
       "      <td>3.000000</td>\n",
       "      <td>3.000000</td>\n",
       "      <td>3.000000</td>\n",
       "    </tr>\n",
       "    <tr>\n",
       "      <th>50%</th>\n",
       "      <td>3.000000</td>\n",
       "      <td>3.000000</td>\n",
       "      <td>7.000000</td>\n",
       "      <td>5.000000</td>\n",
       "    </tr>\n",
       "    <tr>\n",
       "      <th>75%</th>\n",
       "      <td>8.000000</td>\n",
       "      <td>7.000000</td>\n",
       "      <td>8.000000</td>\n",
       "      <td>6.000000</td>\n",
       "    </tr>\n",
       "    <tr>\n",
       "      <th>max</th>\n",
       "      <td>10.000000</td>\n",
       "      <td>10.000000</td>\n",
       "      <td>9.000000</td>\n",
       "      <td>10.000000</td>\n",
       "    </tr>\n",
       "  </tbody>\n",
       "</table>\n",
       "</div>"
      ],
      "text/plain": [
       "           Reach     Impact  Confidence     Effort\n",
       "count   9.000000   9.000000    9.000000   9.000000\n",
       "mean    4.777778   4.777778    5.555556   4.888889\n",
       "std     3.153481   3.192874    3.045944   2.803767\n",
       "min     1.000000   1.000000    1.000000   1.000000\n",
       "25%     3.000000   3.000000    3.000000   3.000000\n",
       "50%     3.000000   3.000000    7.000000   5.000000\n",
       "75%     8.000000   7.000000    8.000000   6.000000\n",
       "max    10.000000  10.000000    9.000000  10.000000"
      ]
     },
     "metadata": {},
     "output_type": "display_data"
    },
    {
     "data": {
      "text/html": [
       "<div>\n",
       "<style scoped>\n",
       "    .dataframe tbody tr th:only-of-type {\n",
       "        vertical-align: middle;\n",
       "    }\n",
       "\n",
       "    .dataframe tbody tr th {\n",
       "        vertical-align: top;\n",
       "    }\n",
       "\n",
       "    .dataframe thead th {\n",
       "        text-align: right;\n",
       "    }\n",
       "</style>\n",
       "<table border=\"1\" class=\"dataframe\">\n",
       "  <thead>\n",
       "    <tr style=\"text-align: right;\">\n",
       "      <th></th>\n",
       "      <th>Hypothesis</th>\n",
       "      <th>Reach</th>\n",
       "      <th>Impact</th>\n",
       "      <th>Confidence</th>\n",
       "      <th>Effort</th>\n",
       "    </tr>\n",
       "  </thead>\n",
       "  <tbody>\n",
       "    <tr>\n",
       "      <th>7</th>\n",
       "      <td>Add a subscription form to all the main pages....</td>\n",
       "      <td>10</td>\n",
       "      <td>7</td>\n",
       "      <td>8</td>\n",
       "      <td>5</td>\n",
       "    </tr>\n",
       "  </tbody>\n",
       "</table>\n",
       "</div>"
      ],
      "text/plain": [
       "                                          Hypothesis  Reach  Impact  \\\n",
       "7  Add a subscription form to all the main pages....     10       7   \n",
       "\n",
       "   Confidence  Effort  \n",
       "7           8       5  "
      ]
     },
     "metadata": {},
     "output_type": "display_data"
    },
    {
     "data": {
      "text/html": [
       "<div>\n",
       "<style scoped>\n",
       "    .dataframe tbody tr th:only-of-type {\n",
       "        vertical-align: middle;\n",
       "    }\n",
       "\n",
       "    .dataframe tbody tr th {\n",
       "        vertical-align: top;\n",
       "    }\n",
       "\n",
       "    .dataframe thead th {\n",
       "        text-align: right;\n",
       "    }\n",
       "</style>\n",
       "<table border=\"1\" class=\"dataframe\">\n",
       "  <thead>\n",
       "    <tr style=\"text-align: right;\">\n",
       "      <th></th>\n",
       "      <th>Hypothesis</th>\n",
       "      <th>Reach</th>\n",
       "      <th>Impact</th>\n",
       "      <th>Confidence</th>\n",
       "      <th>Effort</th>\n",
       "    </tr>\n",
       "  </thead>\n",
       "  <tbody>\n",
       "    <tr>\n",
       "      <th>0</th>\n",
       "      <td>Add two new channels for attracting traffic. T...</td>\n",
       "      <td>3</td>\n",
       "      <td>10</td>\n",
       "      <td>8</td>\n",
       "      <td>6</td>\n",
       "    </tr>\n",
       "    <tr>\n",
       "      <th>1</th>\n",
       "      <td>Launch your own delivery service. This will sh...</td>\n",
       "      <td>2</td>\n",
       "      <td>5</td>\n",
       "      <td>4</td>\n",
       "      <td>10</td>\n",
       "    </tr>\n",
       "    <tr>\n",
       "      <th>2</th>\n",
       "      <td>Add product recommendation blocks to the store...</td>\n",
       "      <td>8</td>\n",
       "      <td>3</td>\n",
       "      <td>7</td>\n",
       "      <td>3</td>\n",
       "    </tr>\n",
       "    <tr>\n",
       "      <th>3</th>\n",
       "      <td>Change the category structure. This will incre...</td>\n",
       "      <td>8</td>\n",
       "      <td>3</td>\n",
       "      <td>3</td>\n",
       "      <td>8</td>\n",
       "    </tr>\n",
       "    <tr>\n",
       "      <th>4</th>\n",
       "      <td>Change the background color on the main page. ...</td>\n",
       "      <td>3</td>\n",
       "      <td>1</td>\n",
       "      <td>1</td>\n",
       "      <td>1</td>\n",
       "    </tr>\n",
       "  </tbody>\n",
       "</table>\n",
       "</div>"
      ],
      "text/plain": [
       "                                          Hypothesis  Reach  Impact  \\\n",
       "0  Add two new channels for attracting traffic. T...      3      10   \n",
       "1  Launch your own delivery service. This will sh...      2       5   \n",
       "2  Add product recommendation blocks to the store...      8       3   \n",
       "3  Change the category structure. This will incre...      8       3   \n",
       "4  Change the background color on the main page. ...      3       1   \n",
       "\n",
       "   Confidence  Effort  \n",
       "0           8       6  \n",
       "1           4      10  \n",
       "2           7       3  \n",
       "3           3       8  \n",
       "4           1       1  "
      ]
     },
     "metadata": {},
     "output_type": "display_data"
    }
   ],
   "source": [
    "display(hypotheses.info())\n",
    "display(hypotheses.describe())\n",
    "display(hypotheses.sample())\n",
    "display(hypotheses.head())\n",
    "pd.set_option('display.max_colwidth', -1)"
   ]
  },
  {
   "cell_type": "markdown",
   "metadata": {},
   "source": [
    "> First look, we can see that there are columns that we need to change the data type. It will help our data to be more readable and helps the data load faster. We do not need to make changes with the **hypotheses** data since it's a short dataframe but we do need to make slight changes with the orders and visits dataframe. First, we need to look at our first data set and do some calculations."
   ]
  },
  {
   "cell_type": "markdown",
   "metadata": {},
   "source": [
    "## Part 1. Prioritizing Hypotheses"
   ]
  },
  {
   "cell_type": "code",
   "execution_count": 4,
   "metadata": {},
   "outputs": [],
   "source": [
    "#Change columns to lowercase\n",
    "hypotheses.columns = hypotheses.columns.str.lower()"
   ]
  },
  {
   "cell_type": "markdown",
   "metadata": {},
   "source": [
    "> To prioritize hypotheses, we're going to be using:\n",
    "> - **ICE** - Impact, Confidence, Ease\n",
    "> - **RICE** - Reach, Impact, Confidence, Ease\n",
    "> - Reach - how many users will be affected \n",
    "> - Impact - how it will affect the users and their experiecnce\n",
    "> - Confidence - how sure you are that the product will affect them\n",
    "> - Effort - how much it will cost to test the hypothesis"
   ]
  },
  {
   "cell_type": "markdown",
   "metadata": {},
   "source": [
    "##### Task 1. Apply the ICE framework to prioritize hypotheses"
   ]
  },
  {
   "cell_type": "code",
   "execution_count": 5,
   "metadata": {},
   "outputs": [
    {
     "data": {
      "text/html": [
       "<div>\n",
       "<style scoped>\n",
       "    .dataframe tbody tr th:only-of-type {\n",
       "        vertical-align: middle;\n",
       "    }\n",
       "\n",
       "    .dataframe tbody tr th {\n",
       "        vertical-align: top;\n",
       "    }\n",
       "\n",
       "    .dataframe thead th {\n",
       "        text-align: right;\n",
       "    }\n",
       "</style>\n",
       "<table border=\"1\" class=\"dataframe\">\n",
       "  <thead>\n",
       "    <tr style=\"text-align: right;\">\n",
       "      <th></th>\n",
       "      <th>hypothesis</th>\n",
       "      <th>reach</th>\n",
       "      <th>impact</th>\n",
       "      <th>confidence</th>\n",
       "      <th>effort</th>\n",
       "      <th>ice</th>\n",
       "    </tr>\n",
       "  </thead>\n",
       "  <tbody>\n",
       "    <tr>\n",
       "      <th>8</th>\n",
       "      <td>Launch a promotion that gives users discounts on their birthdays</td>\n",
       "      <td>1</td>\n",
       "      <td>9</td>\n",
       "      <td>9</td>\n",
       "      <td>5</td>\n",
       "      <td>16.20</td>\n",
       "    </tr>\n",
       "    <tr>\n",
       "      <th>0</th>\n",
       "      <td>Add two new channels for attracting traffic. This will bring 30% more users</td>\n",
       "      <td>3</td>\n",
       "      <td>10</td>\n",
       "      <td>8</td>\n",
       "      <td>6</td>\n",
       "      <td>13.33</td>\n",
       "    </tr>\n",
       "    <tr>\n",
       "      <th>7</th>\n",
       "      <td>Add a subscription form to all the main pages. This will help you compile a mailing list</td>\n",
       "      <td>10</td>\n",
       "      <td>7</td>\n",
       "      <td>8</td>\n",
       "      <td>5</td>\n",
       "      <td>11.20</td>\n",
       "    </tr>\n",
       "    <tr>\n",
       "      <th>6</th>\n",
       "      <td>Show banners with current offers and sales on the main page. This will boost conversion</td>\n",
       "      <td>5</td>\n",
       "      <td>3</td>\n",
       "      <td>8</td>\n",
       "      <td>3</td>\n",
       "      <td>8.00</td>\n",
       "    </tr>\n",
       "    <tr>\n",
       "      <th>2</th>\n",
       "      <td>Add product recommendation blocks to the store's site. This will increase conversion and average purchase size</td>\n",
       "      <td>8</td>\n",
       "      <td>3</td>\n",
       "      <td>7</td>\n",
       "      <td>3</td>\n",
       "      <td>7.00</td>\n",
       "    </tr>\n",
       "    <tr>\n",
       "      <th>1</th>\n",
       "      <td>Launch your own delivery service. This will shorten delivery time</td>\n",
       "      <td>2</td>\n",
       "      <td>5</td>\n",
       "      <td>4</td>\n",
       "      <td>10</td>\n",
       "      <td>2.00</td>\n",
       "    </tr>\n",
       "    <tr>\n",
       "      <th>5</th>\n",
       "      <td>Add a customer review page. This will increase the number of orders</td>\n",
       "      <td>3</td>\n",
       "      <td>2</td>\n",
       "      <td>2</td>\n",
       "      <td>3</td>\n",
       "      <td>1.33</td>\n",
       "    </tr>\n",
       "    <tr>\n",
       "      <th>3</th>\n",
       "      <td>Change the category structure. This will increase conversion since users will find the products they want more quickly</td>\n",
       "      <td>8</td>\n",
       "      <td>3</td>\n",
       "      <td>3</td>\n",
       "      <td>8</td>\n",
       "      <td>1.12</td>\n",
       "    </tr>\n",
       "    <tr>\n",
       "      <th>4</th>\n",
       "      <td>Change the background color on the main page. This will increase user engagement</td>\n",
       "      <td>3</td>\n",
       "      <td>1</td>\n",
       "      <td>1</td>\n",
       "      <td>1</td>\n",
       "      <td>1.00</td>\n",
       "    </tr>\n",
       "  </tbody>\n",
       "</table>\n",
       "</div>"
      ],
      "text/plain": [
       "                                                                                                               hypothesis  \\\n",
       "8  Launch a promotion that gives users discounts on their birthdays                                                         \n",
       "0  Add two new channels for attracting traffic. This will bring 30% more users                                              \n",
       "7  Add a subscription form to all the main pages. This will help you compile a mailing list                                 \n",
       "6  Show banners with current offers and sales on the main page. This will boost conversion                                  \n",
       "2  Add product recommendation blocks to the store's site. This will increase conversion and average purchase size           \n",
       "1  Launch your own delivery service. This will shorten delivery time                                                        \n",
       "5  Add a customer review page. This will increase the number of orders                                                      \n",
       "3  Change the category structure. This will increase conversion since users will find the products they want more quickly   \n",
       "4  Change the background color on the main page. This will increase user engagement                                         \n",
       "\n",
       "   reach  impact  confidence  effort    ice  \n",
       "8  1      9       9           5       16.20  \n",
       "0  3      10      8           6       13.33  \n",
       "7  10     7       8           5       11.20  \n",
       "6  5      3       8           3       8.00   \n",
       "2  8      3       7           3       7.00   \n",
       "1  2      5       4           10      2.00   \n",
       "5  3      2       2           3       1.33   \n",
       "3  8      3       3           8       1.12   \n",
       "4  3      1       1           1       1.00   "
      ]
     },
     "execution_count": 5,
     "metadata": {},
     "output_type": "execute_result"
    }
   ],
   "source": [
    "hypotheses['ice']= hypotheses['impact'] * hypotheses['confidence'] / hypotheses['effort']\n",
    "hypotheses= hypotheses.round(2).sort_values(by='ice', ascending=False)\n",
    "hypotheses\n"
   ]
  },
  {
   "cell_type": "markdown",
   "metadata": {},
   "source": [
    "> According to Ice, we should prioritize ***hypothesis 8***, which is launching a promotion that gives discounts with a high level of Impact and Confidence and median level of Effort. This was followed by hypotheses ***0 and 7***,both have high level of Impact and Confidence and median level of Effort."
   ]
  },
  {
   "cell_type": "markdown",
   "metadata": {},
   "source": [
    "##### Task 2 . Apply the RICE framework to prioritize hypotheses"
   ]
  },
  {
   "cell_type": "code",
   "execution_count": 6,
   "metadata": {},
   "outputs": [
    {
     "data": {
      "text/html": [
       "<div>\n",
       "<style scoped>\n",
       "    .dataframe tbody tr th:only-of-type {\n",
       "        vertical-align: middle;\n",
       "    }\n",
       "\n",
       "    .dataframe tbody tr th {\n",
       "        vertical-align: top;\n",
       "    }\n",
       "\n",
       "    .dataframe thead th {\n",
       "        text-align: right;\n",
       "    }\n",
       "</style>\n",
       "<table border=\"1\" class=\"dataframe\">\n",
       "  <thead>\n",
       "    <tr style=\"text-align: right;\">\n",
       "      <th></th>\n",
       "      <th>hypothesis</th>\n",
       "      <th>reach</th>\n",
       "      <th>impact</th>\n",
       "      <th>confidence</th>\n",
       "      <th>effort</th>\n",
       "      <th>ice</th>\n",
       "      <th>rice</th>\n",
       "    </tr>\n",
       "  </thead>\n",
       "  <tbody>\n",
       "    <tr>\n",
       "      <th>7</th>\n",
       "      <td>Add a subscription form to all the main pages. This will help you compile a mailing list</td>\n",
       "      <td>10</td>\n",
       "      <td>7</td>\n",
       "      <td>8</td>\n",
       "      <td>5</td>\n",
       "      <td>11.20</td>\n",
       "      <td>112.0</td>\n",
       "    </tr>\n",
       "    <tr>\n",
       "      <th>2</th>\n",
       "      <td>Add product recommendation blocks to the store's site. This will increase conversion and average purchase size</td>\n",
       "      <td>8</td>\n",
       "      <td>3</td>\n",
       "      <td>7</td>\n",
       "      <td>3</td>\n",
       "      <td>7.00</td>\n",
       "      <td>56.0</td>\n",
       "    </tr>\n",
       "    <tr>\n",
       "      <th>0</th>\n",
       "      <td>Add two new channels for attracting traffic. This will bring 30% more users</td>\n",
       "      <td>3</td>\n",
       "      <td>10</td>\n",
       "      <td>8</td>\n",
       "      <td>6</td>\n",
       "      <td>13.33</td>\n",
       "      <td>40.0</td>\n",
       "    </tr>\n",
       "    <tr>\n",
       "      <th>6</th>\n",
       "      <td>Show banners with current offers and sales on the main page. This will boost conversion</td>\n",
       "      <td>5</td>\n",
       "      <td>3</td>\n",
       "      <td>8</td>\n",
       "      <td>3</td>\n",
       "      <td>8.00</td>\n",
       "      <td>40.0</td>\n",
       "    </tr>\n",
       "    <tr>\n",
       "      <th>8</th>\n",
       "      <td>Launch a promotion that gives users discounts on their birthdays</td>\n",
       "      <td>1</td>\n",
       "      <td>9</td>\n",
       "      <td>9</td>\n",
       "      <td>5</td>\n",
       "      <td>16.20</td>\n",
       "      <td>16.2</td>\n",
       "    </tr>\n",
       "    <tr>\n",
       "      <th>3</th>\n",
       "      <td>Change the category structure. This will increase conversion since users will find the products they want more quickly</td>\n",
       "      <td>8</td>\n",
       "      <td>3</td>\n",
       "      <td>3</td>\n",
       "      <td>8</td>\n",
       "      <td>1.12</td>\n",
       "      <td>9.0</td>\n",
       "    </tr>\n",
       "    <tr>\n",
       "      <th>1</th>\n",
       "      <td>Launch your own delivery service. This will shorten delivery time</td>\n",
       "      <td>2</td>\n",
       "      <td>5</td>\n",
       "      <td>4</td>\n",
       "      <td>10</td>\n",
       "      <td>2.00</td>\n",
       "      <td>4.0</td>\n",
       "    </tr>\n",
       "    <tr>\n",
       "      <th>5</th>\n",
       "      <td>Add a customer review page. This will increase the number of orders</td>\n",
       "      <td>3</td>\n",
       "      <td>2</td>\n",
       "      <td>2</td>\n",
       "      <td>3</td>\n",
       "      <td>1.33</td>\n",
       "      <td>4.0</td>\n",
       "    </tr>\n",
       "    <tr>\n",
       "      <th>4</th>\n",
       "      <td>Change the background color on the main page. This will increase user engagement</td>\n",
       "      <td>3</td>\n",
       "      <td>1</td>\n",
       "      <td>1</td>\n",
       "      <td>1</td>\n",
       "      <td>1.00</td>\n",
       "      <td>3.0</td>\n",
       "    </tr>\n",
       "  </tbody>\n",
       "</table>\n",
       "</div>"
      ],
      "text/plain": [
       "                                                                                                               hypothesis  \\\n",
       "7  Add a subscription form to all the main pages. This will help you compile a mailing list                                 \n",
       "2  Add product recommendation blocks to the store's site. This will increase conversion and average purchase size           \n",
       "0  Add two new channels for attracting traffic. This will bring 30% more users                                              \n",
       "6  Show banners with current offers and sales on the main page. This will boost conversion                                  \n",
       "8  Launch a promotion that gives users discounts on their birthdays                                                         \n",
       "3  Change the category structure. This will increase conversion since users will find the products they want more quickly   \n",
       "1  Launch your own delivery service. This will shorten delivery time                                                        \n",
       "5  Add a customer review page. This will increase the number of orders                                                      \n",
       "4  Change the background color on the main page. This will increase user engagement                                         \n",
       "\n",
       "   reach  impact  confidence  effort    ice   rice  \n",
       "7  10     7       8           5       11.20  112.0  \n",
       "2  8      3       7           3       7.00   56.0   \n",
       "0  3      10      8           6       13.33  40.0   \n",
       "6  5      3       8           3       8.00   40.0   \n",
       "8  1      9       9           5       16.20  16.2   \n",
       "3  8      3       3           8       1.12   9.0    \n",
       "1  2      5       4           10      2.00   4.0    \n",
       "5  3      2       2           3       1.33   4.0    \n",
       "4  3      1       1           1       1.00   3.0    "
      ]
     },
     "execution_count": 6,
     "metadata": {},
     "output_type": "execute_result"
    }
   ],
   "source": [
    "hypotheses['rice'] = hypotheses['reach'] * hypotheses['impact'] * hypotheses['confidence'] / hypotheses['effort']\n",
    "hypotheses = hypotheses.round(2).sort_values(by='rice', ascending=False)\n",
    "hypotheses"
   ]
  },
  {
   "cell_type": "markdown",
   "metadata": {},
   "source": [
    "> According to ***RICE***, we should prioritize ***hypothesis 7*** with adding a subscription which has high level of Reach, Impact and Confidence with median level Effort. This was followed by ***hypotheses 2*** with adding product recommendation which has a high level of Reach and Confidence and not a lot of Effort needed but the impact is not as strong as hypothesis 7. ***Hypothesis 0*** comes in third with adding two new channels for attracting traffic, which has a high level of Impact and Confidence, median level effort but the Reach is really low. "
   ]
  },
  {
   "cell_type": "markdown",
   "metadata": {},
   "source": [
    "##### Task 3.  Changes between the ICE and RICE"
   ]
  },
  {
   "cell_type": "code",
   "execution_count": 7,
   "metadata": {},
   "outputs": [
    {
     "data": {
      "text/html": [
       "<div>\n",
       "<style scoped>\n",
       "    .dataframe tbody tr th:only-of-type {\n",
       "        vertical-align: middle;\n",
       "    }\n",
       "\n",
       "    .dataframe tbody tr th {\n",
       "        vertical-align: top;\n",
       "    }\n",
       "\n",
       "    .dataframe thead th {\n",
       "        text-align: right;\n",
       "    }\n",
       "</style>\n",
       "<table border=\"1\" class=\"dataframe\">\n",
       "  <thead>\n",
       "    <tr style=\"text-align: right;\">\n",
       "      <th></th>\n",
       "      <th>hypothesis</th>\n",
       "      <th>ice</th>\n",
       "      <th>rice</th>\n",
       "      <th>change</th>\n",
       "    </tr>\n",
       "  </thead>\n",
       "  <tbody>\n",
       "    <tr>\n",
       "      <th>7</th>\n",
       "      <td>Add a subscription form to all the main pages. This will help you compile a mailing list</td>\n",
       "      <td>11.20</td>\n",
       "      <td>112.0</td>\n",
       "      <td>2.0</td>\n",
       "    </tr>\n",
       "    <tr>\n",
       "      <th>2</th>\n",
       "      <td>Add product recommendation blocks to the store's site. This will increase conversion and average purchase size</td>\n",
       "      <td>7.00</td>\n",
       "      <td>56.0</td>\n",
       "      <td>3.0</td>\n",
       "    </tr>\n",
       "    <tr>\n",
       "      <th>0</th>\n",
       "      <td>Add two new channels for attracting traffic. This will bring 30% more users</td>\n",
       "      <td>13.33</td>\n",
       "      <td>40.0</td>\n",
       "      <td>-1.5</td>\n",
       "    </tr>\n",
       "    <tr>\n",
       "      <th>6</th>\n",
       "      <td>Show banners with current offers and sales on the main page. This will boost conversion</td>\n",
       "      <td>8.00</td>\n",
       "      <td>40.0</td>\n",
       "      <td>0.5</td>\n",
       "    </tr>\n",
       "    <tr>\n",
       "      <th>8</th>\n",
       "      <td>Launch a promotion that gives users discounts on their birthdays</td>\n",
       "      <td>16.20</td>\n",
       "      <td>16.2</td>\n",
       "      <td>-4.0</td>\n",
       "    </tr>\n",
       "    <tr>\n",
       "      <th>3</th>\n",
       "      <td>Change the category structure. This will increase conversion since users will find the products they want more quickly</td>\n",
       "      <td>1.12</td>\n",
       "      <td>9.0</td>\n",
       "      <td>2.0</td>\n",
       "    </tr>\n",
       "    <tr>\n",
       "      <th>1</th>\n",
       "      <td>Launch your own delivery service. This will shorten delivery time</td>\n",
       "      <td>2.00</td>\n",
       "      <td>4.0</td>\n",
       "      <td>-1.5</td>\n",
       "    </tr>\n",
       "    <tr>\n",
       "      <th>5</th>\n",
       "      <td>Add a customer review page. This will increase the number of orders</td>\n",
       "      <td>1.33</td>\n",
       "      <td>4.0</td>\n",
       "      <td>-0.5</td>\n",
       "    </tr>\n",
       "    <tr>\n",
       "      <th>4</th>\n",
       "      <td>Change the background color on the main page. This will increase user engagement</td>\n",
       "      <td>1.00</td>\n",
       "      <td>3.0</td>\n",
       "      <td>0.0</td>\n",
       "    </tr>\n",
       "  </tbody>\n",
       "</table>\n",
       "</div>"
      ],
      "text/plain": [
       "                                                                                                               hypothesis  \\\n",
       "7  Add a subscription form to all the main pages. This will help you compile a mailing list                                 \n",
       "2  Add product recommendation blocks to the store's site. This will increase conversion and average purchase size           \n",
       "0  Add two new channels for attracting traffic. This will bring 30% more users                                              \n",
       "6  Show banners with current offers and sales on the main page. This will boost conversion                                  \n",
       "8  Launch a promotion that gives users discounts on their birthdays                                                         \n",
       "3  Change the category structure. This will increase conversion since users will find the products they want more quickly   \n",
       "1  Launch your own delivery service. This will shorten delivery time                                                        \n",
       "5  Add a customer review page. This will increase the number of orders                                                      \n",
       "4  Change the background color on the main page. This will increase user engagement                                         \n",
       "\n",
       "     ice   rice  change  \n",
       "7  11.20  112.0  2.0     \n",
       "2  7.00   56.0   3.0     \n",
       "0  13.33  40.0  -1.5     \n",
       "6  8.00   40.0   0.5     \n",
       "8  16.20  16.2  -4.0     \n",
       "3  1.12   9.0    2.0     \n",
       "1  2.00   4.0   -1.5     \n",
       "5  1.33   4.0   -0.5     \n",
       "4  1.00   3.0    0.0     "
      ]
     },
     "execution_count": 7,
     "metadata": {},
     "output_type": "execute_result"
    }
   ],
   "source": [
    "#Calculating the changes between the two\n",
    "hypotheses['change'] = hypotheses['rice'].rank() - hypotheses['ice'].rank()\n",
    "hypotheses[['hypothesis','ice','rice','change']]"
   ]
  },
  {
   "cell_type": "code",
   "execution_count": 8,
   "metadata": {},
   "outputs": [
    {
     "data": {
      "text/html": [
       "<div>\n",
       "<style scoped>\n",
       "    .dataframe tbody tr th:only-of-type {\n",
       "        vertical-align: middle;\n",
       "    }\n",
       "\n",
       "    .dataframe tbody tr th {\n",
       "        vertical-align: top;\n",
       "    }\n",
       "\n",
       "    .dataframe thead th {\n",
       "        text-align: right;\n",
       "    }\n",
       "</style>\n",
       "<table border=\"1\" class=\"dataframe\">\n",
       "  <thead>\n",
       "    <tr style=\"text-align: right;\">\n",
       "      <th></th>\n",
       "      <th>hypothesis</th>\n",
       "      <th>ice</th>\n",
       "      <th>ice_priority</th>\n",
       "      <th>rice</th>\n",
       "      <th>rice_priority</th>\n",
       "      <th>change</th>\n",
       "    </tr>\n",
       "  </thead>\n",
       "  <tbody>\n",
       "    <tr>\n",
       "      <th>7</th>\n",
       "      <td>Add a subscription form to all the main pages. This will help you compile a mailing list</td>\n",
       "      <td>11.20</td>\n",
       "      <td>3.0</td>\n",
       "      <td>112.0</td>\n",
       "      <td>1.0</td>\n",
       "      <td>2.0</td>\n",
       "    </tr>\n",
       "    <tr>\n",
       "      <th>2</th>\n",
       "      <td>Add product recommendation blocks to the store's site. This will increase conversion and average purchase size</td>\n",
       "      <td>7.00</td>\n",
       "      <td>5.0</td>\n",
       "      <td>56.0</td>\n",
       "      <td>2.0</td>\n",
       "      <td>3.0</td>\n",
       "    </tr>\n",
       "    <tr>\n",
       "      <th>0</th>\n",
       "      <td>Add two new channels for attracting traffic. This will bring 30% more users</td>\n",
       "      <td>13.33</td>\n",
       "      <td>2.0</td>\n",
       "      <td>40.0</td>\n",
       "      <td>3.5</td>\n",
       "      <td>-1.5</td>\n",
       "    </tr>\n",
       "    <tr>\n",
       "      <th>6</th>\n",
       "      <td>Show banners with current offers and sales on the main page. This will boost conversion</td>\n",
       "      <td>8.00</td>\n",
       "      <td>4.0</td>\n",
       "      <td>40.0</td>\n",
       "      <td>3.5</td>\n",
       "      <td>0.5</td>\n",
       "    </tr>\n",
       "    <tr>\n",
       "      <th>8</th>\n",
       "      <td>Launch a promotion that gives users discounts on their birthdays</td>\n",
       "      <td>16.20</td>\n",
       "      <td>1.0</td>\n",
       "      <td>16.2</td>\n",
       "      <td>5.0</td>\n",
       "      <td>-4.0</td>\n",
       "    </tr>\n",
       "    <tr>\n",
       "      <th>3</th>\n",
       "      <td>Change the category structure. This will increase conversion since users will find the products they want more quickly</td>\n",
       "      <td>1.12</td>\n",
       "      <td>8.0</td>\n",
       "      <td>9.0</td>\n",
       "      <td>6.0</td>\n",
       "      <td>2.0</td>\n",
       "    </tr>\n",
       "    <tr>\n",
       "      <th>1</th>\n",
       "      <td>Launch your own delivery service. This will shorten delivery time</td>\n",
       "      <td>2.00</td>\n",
       "      <td>6.0</td>\n",
       "      <td>4.0</td>\n",
       "      <td>7.5</td>\n",
       "      <td>-1.5</td>\n",
       "    </tr>\n",
       "    <tr>\n",
       "      <th>5</th>\n",
       "      <td>Add a customer review page. This will increase the number of orders</td>\n",
       "      <td>1.33</td>\n",
       "      <td>7.0</td>\n",
       "      <td>4.0</td>\n",
       "      <td>7.5</td>\n",
       "      <td>-0.5</td>\n",
       "    </tr>\n",
       "    <tr>\n",
       "      <th>4</th>\n",
       "      <td>Change the background color on the main page. This will increase user engagement</td>\n",
       "      <td>1.00</td>\n",
       "      <td>9.0</td>\n",
       "      <td>3.0</td>\n",
       "      <td>9.0</td>\n",
       "      <td>0.0</td>\n",
       "    </tr>\n",
       "  </tbody>\n",
       "</table>\n",
       "</div>"
      ],
      "text/plain": [
       "                                                                                                               hypothesis  \\\n",
       "7  Add a subscription form to all the main pages. This will help you compile a mailing list                                 \n",
       "2  Add product recommendation blocks to the store's site. This will increase conversion and average purchase size           \n",
       "0  Add two new channels for attracting traffic. This will bring 30% more users                                              \n",
       "6  Show banners with current offers and sales on the main page. This will boost conversion                                  \n",
       "8  Launch a promotion that gives users discounts on their birthdays                                                         \n",
       "3  Change the category structure. This will increase conversion since users will find the products they want more quickly   \n",
       "1  Launch your own delivery service. This will shorten delivery time                                                        \n",
       "5  Add a customer review page. This will increase the number of orders                                                      \n",
       "4  Change the background color on the main page. This will increase user engagement                                         \n",
       "\n",
       "     ice  ice_priority   rice  rice_priority  change  \n",
       "7  11.20  3.0           112.0  1.0            2.0     \n",
       "2  7.00   5.0           56.0   2.0            3.0     \n",
       "0  13.33  2.0           40.0   3.5           -1.5     \n",
       "6  8.00   4.0           40.0   3.5            0.5     \n",
       "8  16.20  1.0           16.2   5.0           -4.0     \n",
       "3  1.12   8.0           9.0    6.0            2.0     \n",
       "1  2.00   6.0           4.0    7.5           -1.5     \n",
       "5  1.33   7.0           4.0    7.5           -0.5     \n",
       "4  1.00   9.0           3.0    9.0            0.0     "
      ]
     },
     "execution_count": 8,
     "metadata": {},
     "output_type": "execute_result"
    }
   ],
   "source": [
    "hypotheses['ice_priority'] = 10 - hypotheses['ice'].rank()\n",
    "hypotheses['rice_priority'] = 10 - hypotheses['rice'].rank()\n",
    "\n",
    "hypotheses[['hypothesis','ice','ice_priority','rice','rice_priority','change']].sort_values(by='rice', ascending=False)"
   ]
  },
  {
   "cell_type": "markdown",
   "metadata": {},
   "source": [
    "##### Conclusion"
   ]
  },
  {
   "cell_type": "markdown",
   "metadata": {},
   "source": [
    "The top priority for each framework:\n",
    "- RICE - hypothesis 7- adding a subscription form should be prioritized - highest reach score\n",
    "- ICE - hypothesis 8 - launching birthday discounts should be prioritized - lowest reach score\n",
    "\n",
    "***Hypothesis 7*** (adding a subscription) and ***hypothesis 2*** (adding product recommendation blocks) moved up mainly because they have a broader reach than the other hypotheses. ***Hypothesis 8*** (launch birthday discounts promotion) which was the top one under Ice framework,sunk to fifth place due to small reach.  This makes sense since it can only be used once a year for each user. The difference between ICE and RICE frameworks is the reach parameter. This parameter adds another factor to the framework, making RICE scores higher than ICE scores. Reach is an important factor to consider. Adding a subscription had been very consistent with high level of reach, impact and confidence with a median level of effort.\n",
    "\n"
   ]
  },
  {
   "cell_type": "markdown",
   "metadata": {},
   "source": [
    "## Import second data and preprocessing"
   ]
  },
  {
   "cell_type": "markdown",
   "metadata": {},
   "source": [
    "#### Orders"
   ]
  },
  {
   "cell_type": "code",
   "execution_count": 9,
   "metadata": {},
   "outputs": [
    {
     "name": "stdout",
     "output_type": "stream",
     "text": [
      "<class 'pandas.core.frame.DataFrame'>\n",
      "RangeIndex: 1197 entries, 0 to 1196\n",
      "Data columns (total 5 columns):\n",
      " #   Column         Non-Null Count  Dtype  \n",
      "---  ------         --------------  -----  \n",
      " 0   transactionId  1197 non-null   int64  \n",
      " 1   visitorId      1197 non-null   int64  \n",
      " 2   date           1197 non-null   object \n",
      " 3   revenue        1197 non-null   float64\n",
      " 4   group          1197 non-null   object \n",
      "dtypes: float64(1), int64(2), object(2)\n",
      "memory usage: 46.9+ KB\n"
     ]
    },
    {
     "data": {
      "text/plain": [
       "None"
      ]
     },
     "metadata": {},
     "output_type": "display_data"
    },
    {
     "data": {
      "text/html": [
       "<div>\n",
       "<style scoped>\n",
       "    .dataframe tbody tr th:only-of-type {\n",
       "        vertical-align: middle;\n",
       "    }\n",
       "\n",
       "    .dataframe tbody tr th {\n",
       "        vertical-align: top;\n",
       "    }\n",
       "\n",
       "    .dataframe thead th {\n",
       "        text-align: right;\n",
       "    }\n",
       "</style>\n",
       "<table border=\"1\" class=\"dataframe\">\n",
       "  <thead>\n",
       "    <tr style=\"text-align: right;\">\n",
       "      <th></th>\n",
       "      <th>transactionId</th>\n",
       "      <th>visitorId</th>\n",
       "      <th>revenue</th>\n",
       "    </tr>\n",
       "  </thead>\n",
       "  <tbody>\n",
       "    <tr>\n",
       "      <th>count</th>\n",
       "      <td>1.197000e+03</td>\n",
       "      <td>1.197000e+03</td>\n",
       "      <td>1197.000000</td>\n",
       "    </tr>\n",
       "    <tr>\n",
       "      <th>mean</th>\n",
       "      <td>2.155621e+09</td>\n",
       "      <td>2.165960e+09</td>\n",
       "      <td>131.491646</td>\n",
       "    </tr>\n",
       "    <tr>\n",
       "      <th>std</th>\n",
       "      <td>1.229085e+09</td>\n",
       "      <td>1.236014e+09</td>\n",
       "      <td>603.004729</td>\n",
       "    </tr>\n",
       "    <tr>\n",
       "      <th>min</th>\n",
       "      <td>1.062393e+06</td>\n",
       "      <td>5.114589e+06</td>\n",
       "      <td>5.000000</td>\n",
       "    </tr>\n",
       "    <tr>\n",
       "      <th>25%</th>\n",
       "      <td>1.166776e+09</td>\n",
       "      <td>1.111826e+09</td>\n",
       "      <td>20.800000</td>\n",
       "    </tr>\n",
       "    <tr>\n",
       "      <th>50%</th>\n",
       "      <td>2.145194e+09</td>\n",
       "      <td>2.217985e+09</td>\n",
       "      <td>50.200000</td>\n",
       "    </tr>\n",
       "    <tr>\n",
       "      <th>75%</th>\n",
       "      <td>3.237740e+09</td>\n",
       "      <td>3.177606e+09</td>\n",
       "      <td>130.400000</td>\n",
       "    </tr>\n",
       "    <tr>\n",
       "      <th>max</th>\n",
       "      <td>4.293856e+09</td>\n",
       "      <td>4.283872e+09</td>\n",
       "      <td>19920.400000</td>\n",
       "    </tr>\n",
       "  </tbody>\n",
       "</table>\n",
       "</div>"
      ],
      "text/plain": [
       "       transactionId     visitorId       revenue\n",
       "count  1.197000e+03   1.197000e+03  1197.000000 \n",
       "mean   2.155621e+09   2.165960e+09  131.491646  \n",
       "std    1.229085e+09   1.236014e+09  603.004729  \n",
       "min    1.062393e+06   5.114589e+06  5.000000    \n",
       "25%    1.166776e+09   1.111826e+09  20.800000   \n",
       "50%    2.145194e+09   2.217985e+09  50.200000   \n",
       "75%    3.237740e+09   3.177606e+09  130.400000  \n",
       "max    4.293856e+09   4.283872e+09  19920.400000"
      ]
     },
     "metadata": {},
     "output_type": "display_data"
    },
    {
     "data": {
      "text/html": [
       "<div>\n",
       "<style scoped>\n",
       "    .dataframe tbody tr th:only-of-type {\n",
       "        vertical-align: middle;\n",
       "    }\n",
       "\n",
       "    .dataframe tbody tr th {\n",
       "        vertical-align: top;\n",
       "    }\n",
       "\n",
       "    .dataframe thead th {\n",
       "        text-align: right;\n",
       "    }\n",
       "</style>\n",
       "<table border=\"1\" class=\"dataframe\">\n",
       "  <thead>\n",
       "    <tr style=\"text-align: right;\">\n",
       "      <th></th>\n",
       "      <th>transactionId</th>\n",
       "      <th>visitorId</th>\n",
       "      <th>date</th>\n",
       "      <th>revenue</th>\n",
       "      <th>group</th>\n",
       "    </tr>\n",
       "  </thead>\n",
       "  <tbody>\n",
       "    <tr>\n",
       "      <th>333</th>\n",
       "      <td>968111463</td>\n",
       "      <td>458253749</td>\n",
       "      <td>8/25/2019</td>\n",
       "      <td>15.2</td>\n",
       "      <td>B</td>\n",
       "    </tr>\n",
       "  </tbody>\n",
       "</table>\n",
       "</div>"
      ],
      "text/plain": [
       "     transactionId  visitorId       date  revenue group\n",
       "333  968111463      458253749  8/25/2019  15.2     B   "
      ]
     },
     "metadata": {},
     "output_type": "display_data"
    },
    {
     "data": {
      "text/html": [
       "<div>\n",
       "<style scoped>\n",
       "    .dataframe tbody tr th:only-of-type {\n",
       "        vertical-align: middle;\n",
       "    }\n",
       "\n",
       "    .dataframe tbody tr th {\n",
       "        vertical-align: top;\n",
       "    }\n",
       "\n",
       "    .dataframe thead th {\n",
       "        text-align: right;\n",
       "    }\n",
       "</style>\n",
       "<table border=\"1\" class=\"dataframe\">\n",
       "  <thead>\n",
       "    <tr style=\"text-align: right;\">\n",
       "      <th></th>\n",
       "      <th>transactionId</th>\n",
       "      <th>visitorId</th>\n",
       "      <th>date</th>\n",
       "      <th>revenue</th>\n",
       "      <th>group</th>\n",
       "    </tr>\n",
       "  </thead>\n",
       "  <tbody>\n",
       "    <tr>\n",
       "      <th>0</th>\n",
       "      <td>3667963787</td>\n",
       "      <td>3312258926</td>\n",
       "      <td>8/15/2019</td>\n",
       "      <td>30.4</td>\n",
       "      <td>B</td>\n",
       "    </tr>\n",
       "    <tr>\n",
       "      <th>1</th>\n",
       "      <td>2804400009</td>\n",
       "      <td>3642806036</td>\n",
       "      <td>8/15/2019</td>\n",
       "      <td>15.2</td>\n",
       "      <td>B</td>\n",
       "    </tr>\n",
       "    <tr>\n",
       "      <th>2</th>\n",
       "      <td>2961555356</td>\n",
       "      <td>4069496402</td>\n",
       "      <td>8/15/2019</td>\n",
       "      <td>10.2</td>\n",
       "      <td>A</td>\n",
       "    </tr>\n",
       "    <tr>\n",
       "      <th>3</th>\n",
       "      <td>3797467345</td>\n",
       "      <td>1196621759</td>\n",
       "      <td>8/15/2019</td>\n",
       "      <td>155.1</td>\n",
       "      <td>B</td>\n",
       "    </tr>\n",
       "    <tr>\n",
       "      <th>4</th>\n",
       "      <td>2282983706</td>\n",
       "      <td>2322279887</td>\n",
       "      <td>8/15/2019</td>\n",
       "      <td>40.5</td>\n",
       "      <td>B</td>\n",
       "    </tr>\n",
       "  </tbody>\n",
       "</table>\n",
       "</div>"
      ],
      "text/plain": [
       "   transactionId   visitorId       date  revenue group\n",
       "0  3667963787     3312258926  8/15/2019  30.4     B   \n",
       "1  2804400009     3642806036  8/15/2019  15.2     B   \n",
       "2  2961555356     4069496402  8/15/2019  10.2     A   \n",
       "3  3797467345     1196621759  8/15/2019  155.1    B   \n",
       "4  2282983706     2322279887  8/15/2019  40.5     B   "
      ]
     },
     "metadata": {},
     "output_type": "display_data"
    }
   ],
   "source": [
    "display(orders.info())\n",
    "display(orders.describe())\n",
    "display(orders.sample())\n",
    "display(orders.head())\n"
   ]
  },
  {
   "cell_type": "code",
   "execution_count": 10,
   "metadata": {},
   "outputs": [
    {
     "data": {
      "text/plain": [
       "0"
      ]
     },
     "metadata": {},
     "output_type": "display_data"
    },
    {
     "data": {
      "text/plain": [
       "transactionId    0\n",
       "visitorId        0\n",
       "date             0\n",
       "revenue          0\n",
       "group            0\n",
       "dtype: int64"
      ]
     },
     "metadata": {},
     "output_type": "display_data"
    }
   ],
   "source": [
    "#Change data types\n",
    "orders['date'] = pd.to_datetime(orders['date'])\n",
    "#orders['group'] = orders['group'].astype('category')\n",
    "\n",
    "#Check for duplicates\n",
    "display(orders.duplicated().sum())\n",
    "\n",
    "#Check for nulls\n",
    "display(orders.isnull().sum())\n",
    "                                "
   ]
  },
  {
   "cell_type": "markdown",
   "metadata": {},
   "source": [
    "#### Visits"
   ]
  },
  {
   "cell_type": "code",
   "execution_count": 11,
   "metadata": {},
   "outputs": [
    {
     "name": "stdout",
     "output_type": "stream",
     "text": [
      "<class 'pandas.core.frame.DataFrame'>\n",
      "RangeIndex: 62 entries, 0 to 61\n",
      "Data columns (total 3 columns):\n",
      " #   Column  Non-Null Count  Dtype \n",
      "---  ------  --------------  ----- \n",
      " 0   date    62 non-null     object\n",
      " 1   group   62 non-null     object\n",
      " 2   visits  62 non-null     int64 \n",
      "dtypes: int64(1), object(2)\n",
      "memory usage: 1.6+ KB\n"
     ]
    },
    {
     "data": {
      "text/plain": [
       "None"
      ]
     },
     "metadata": {},
     "output_type": "display_data"
    },
    {
     "data": {
      "text/html": [
       "<div>\n",
       "<style scoped>\n",
       "    .dataframe tbody tr th:only-of-type {\n",
       "        vertical-align: middle;\n",
       "    }\n",
       "\n",
       "    .dataframe tbody tr th {\n",
       "        vertical-align: top;\n",
       "    }\n",
       "\n",
       "    .dataframe thead th {\n",
       "        text-align: right;\n",
       "    }\n",
       "</style>\n",
       "<table border=\"1\" class=\"dataframe\">\n",
       "  <thead>\n",
       "    <tr style=\"text-align: right;\">\n",
       "      <th></th>\n",
       "      <th>visits</th>\n",
       "    </tr>\n",
       "  </thead>\n",
       "  <tbody>\n",
       "    <tr>\n",
       "      <th>count</th>\n",
       "      <td>62.000000</td>\n",
       "    </tr>\n",
       "    <tr>\n",
       "      <th>mean</th>\n",
       "      <td>607.290323</td>\n",
       "    </tr>\n",
       "    <tr>\n",
       "      <th>std</th>\n",
       "      <td>114.400560</td>\n",
       "    </tr>\n",
       "    <tr>\n",
       "      <th>min</th>\n",
       "      <td>361.000000</td>\n",
       "    </tr>\n",
       "    <tr>\n",
       "      <th>25%</th>\n",
       "      <td>534.000000</td>\n",
       "    </tr>\n",
       "    <tr>\n",
       "      <th>50%</th>\n",
       "      <td>624.500000</td>\n",
       "    </tr>\n",
       "    <tr>\n",
       "      <th>75%</th>\n",
       "      <td>710.500000</td>\n",
       "    </tr>\n",
       "    <tr>\n",
       "      <th>max</th>\n",
       "      <td>770.000000</td>\n",
       "    </tr>\n",
       "  </tbody>\n",
       "</table>\n",
       "</div>"
      ],
      "text/plain": [
       "           visits\n",
       "count  62.000000 \n",
       "mean   607.290323\n",
       "std    114.400560\n",
       "min    361.000000\n",
       "25%    534.000000\n",
       "50%    624.500000\n",
       "75%    710.500000\n",
       "max    770.000000"
      ]
     },
     "metadata": {},
     "output_type": "display_data"
    },
    {
     "data": {
      "text/html": [
       "<div>\n",
       "<style scoped>\n",
       "    .dataframe tbody tr th:only-of-type {\n",
       "        vertical-align: middle;\n",
       "    }\n",
       "\n",
       "    .dataframe tbody tr th {\n",
       "        vertical-align: top;\n",
       "    }\n",
       "\n",
       "    .dataframe thead th {\n",
       "        text-align: right;\n",
       "    }\n",
       "</style>\n",
       "<table border=\"1\" class=\"dataframe\">\n",
       "  <thead>\n",
       "    <tr style=\"text-align: right;\">\n",
       "      <th></th>\n",
       "      <th>date</th>\n",
       "      <th>group</th>\n",
       "      <th>visits</th>\n",
       "    </tr>\n",
       "  </thead>\n",
       "  <tbody>\n",
       "    <tr>\n",
       "      <th>29</th>\n",
       "      <td>8/30/2019</td>\n",
       "      <td>A</td>\n",
       "      <td>490</td>\n",
       "    </tr>\n",
       "  </tbody>\n",
       "</table>\n",
       "</div>"
      ],
      "text/plain": [
       "         date group  visits\n",
       "29  8/30/2019  A     490   "
      ]
     },
     "metadata": {},
     "output_type": "display_data"
    },
    {
     "data": {
      "text/html": [
       "<div>\n",
       "<style scoped>\n",
       "    .dataframe tbody tr th:only-of-type {\n",
       "        vertical-align: middle;\n",
       "    }\n",
       "\n",
       "    .dataframe tbody tr th {\n",
       "        vertical-align: top;\n",
       "    }\n",
       "\n",
       "    .dataframe thead th {\n",
       "        text-align: right;\n",
       "    }\n",
       "</style>\n",
       "<table border=\"1\" class=\"dataframe\">\n",
       "  <thead>\n",
       "    <tr style=\"text-align: right;\">\n",
       "      <th></th>\n",
       "      <th>date</th>\n",
       "      <th>group</th>\n",
       "      <th>visits</th>\n",
       "    </tr>\n",
       "  </thead>\n",
       "  <tbody>\n",
       "    <tr>\n",
       "      <th>0</th>\n",
       "      <td>8/1/2019</td>\n",
       "      <td>A</td>\n",
       "      <td>719</td>\n",
       "    </tr>\n",
       "    <tr>\n",
       "      <th>1</th>\n",
       "      <td>8/2/2019</td>\n",
       "      <td>A</td>\n",
       "      <td>619</td>\n",
       "    </tr>\n",
       "    <tr>\n",
       "      <th>2</th>\n",
       "      <td>8/3/2019</td>\n",
       "      <td>A</td>\n",
       "      <td>507</td>\n",
       "    </tr>\n",
       "    <tr>\n",
       "      <th>3</th>\n",
       "      <td>8/4/2019</td>\n",
       "      <td>A</td>\n",
       "      <td>717</td>\n",
       "    </tr>\n",
       "    <tr>\n",
       "      <th>4</th>\n",
       "      <td>8/5/2019</td>\n",
       "      <td>A</td>\n",
       "      <td>756</td>\n",
       "    </tr>\n",
       "  </tbody>\n",
       "</table>\n",
       "</div>"
      ],
      "text/plain": [
       "       date group  visits\n",
       "0  8/1/2019  A     719   \n",
       "1  8/2/2019  A     619   \n",
       "2  8/3/2019  A     507   \n",
       "3  8/4/2019  A     717   \n",
       "4  8/5/2019  A     756   "
      ]
     },
     "metadata": {},
     "output_type": "display_data"
    }
   ],
   "source": [
    "display(visits.info())\n",
    "display(visits.describe())\n",
    "display(visits.sample())\n",
    "display(visits.head())"
   ]
  },
  {
   "cell_type": "code",
   "execution_count": 12,
   "metadata": {
    "scrolled": true
   },
   "outputs": [
    {
     "data": {
      "text/plain": [
       "0"
      ]
     },
     "metadata": {},
     "output_type": "display_data"
    },
    {
     "data": {
      "text/plain": [
       "date      0\n",
       "group     0\n",
       "visits    0\n",
       "dtype: int64"
      ]
     },
     "metadata": {},
     "output_type": "display_data"
    }
   ],
   "source": [
    "#Change data types\n",
    "visits['date'] = pd.to_datetime(visits['date'])\n",
    "\n",
    "#Check for duplicates\n",
    "display(visits.duplicated().sum())\n",
    "\n",
    "#Check for nulls\n",
    "display(visits.isnull().sum())"
   ]
  },
  {
   "cell_type": "markdown",
   "metadata": {},
   "source": [
    "> Data types changed and no duplicates and null values. Now we need to check to make sure no visitors are in the same group"
   ]
  },
  {
   "cell_type": "code",
   "execution_count": 13,
   "metadata": {},
   "outputs": [
    {
     "name": "stdout",
     "output_type": "stream",
     "text": [
      "There are 58 visitors in both groups\n"
     ]
    }
   ],
   "source": [
    "#Check if the visitors are in both groups\n",
    "nunique_group = orders.groupby('visitorId').agg({'group':'nunique'})\n",
    "to_exclude = nunique_group[nunique_group['group']==2]\n",
    "to_include =  nunique_group[nunique_group['group']==1]\n",
    "print(\"There are \" + str(len(to_exclude)) + \" visitors in both groups\")\n"
   ]
  },
  {
   "cell_type": "code",
   "execution_count": 14,
   "metadata": {},
   "outputs": [],
   "source": [
    "#Remove users that are in both groups\n",
    "orders_filtered = orders.query('visitorId not in @to_exclude.index')\n"
   ]
  },
  {
   "cell_type": "markdown",
   "metadata": {},
   "source": [
    "##### Cumulative Revenue by Group"
   ]
  },
  {
   "cell_type": "code",
   "execution_count": 15,
   "metadata": {},
   "outputs": [],
   "source": [
    "#Create an array with unique date and group values\n",
    "dates_groups = orders_filtered[['date', 'group']].drop_duplicates()\n",
    "\n",
    "#Get the daily data from orders\n",
    "orders_aggregated = dates_groups.apply(\n",
    "    lambda x: orders_filtered[\n",
    "        np.logical_and(\n",
    "            orders_filtered['date'] <= x['date'], orders_filtered['group'] == x['group']\n",
    "        )\n",
    "    ].agg({'date': 'max',\n",
    "            'group': 'max',\n",
    "            'transactionId':'nunique',\n",
    "            'visitorId': 'nunique',\n",
    "            'revenue': 'sum',}), axis=1,).sort_values(by=['date', 'group'])\n",
    "    \n",
    "#Get daily data from visits\n",
    "visits_aggregated = dates_groups.apply(\n",
    "    lambda x: visits[\n",
    "        np.logical_and(\n",
    "            visits['date'] <= x['date'], visits['group'] == x['group']\n",
    "        )\n",
    "    ].agg({'date': 'max', 'group': 'max', 'visits': 'sum'}),\n",
    "    axis=1,).sort_values(by=['date', 'group'])\n",
    "\n",
    "#Merge the two tables into one and renaming column names\n",
    "cumulative_data = orders_aggregated.merge(\n",
    "    visits_aggregated, left_on=['date', 'group'], right_on=['date', 'group'])\n",
    "cumulative_data.columns = ['date','group','orders','buyers','revenue','visitors',]\n",
    "\n",
    "#Get cumulative orders and cumulative revenue by day on each group\n",
    "cum_rev_a = cumulative_data[cumulative_data['group']=='A'][['date','revenue', 'orders']]\n",
    "cum_rev_b = cumulative_data[cumulative_data['group']=='B'][['date','revenue', 'orders']]\n"
   ]
  },
  {
   "cell_type": "code",
   "execution_count": 16,
   "metadata": {},
   "outputs": [
    {
     "data": {
      "image/png": "[encoded data removed]",
      "text/plain": [
       "<Figure size 1080x432 with 1 Axes>"
      ]
     },
     "metadata": {
      "needs_background": "light"
     },
     "output_type": "display_data"
    }
   ],
   "source": [
    "#Plot a graph\n",
    "plt.figure(figsize=(15,6))\n",
    "sns.lineplot(data=cum_rev_a, x='date', y='revenue', label='Group A')\n",
    "sns.lineplot(data=cum_rev_b,x='date', y='revenue',label='Group B')\n",
    "sns.set(style='darkgrid')\n",
    "plt.title('Cumulative Revenue By Group', fontsize=20)\n",
    "plt.ylabel('Revenue')\n",
    "plt.xlabel('Date')\n",
    "plt.grid(color='.75')\n",
    "plt.show()"
   ]
  },
  {
   "cell_type": "markdown",
   "metadata": {},
   "source": [
    "> Revenue is increasing steadily throughout the whole test. **Group B's** cumulative revenue is higher than **Group A** and we can see a surge on 08/19. This could be either in increase in orders or buyers had expensive orders."
   ]
  },
  {
   "cell_type": "markdown",
   "metadata": {},
   "source": [
    "##### Cumulative Average Order Size by Group"
   ]
  },
  {
   "cell_type": "code",
   "execution_count": 17,
   "metadata": {},
   "outputs": [
    {
     "data": {
      "image/png": "[encoded data removed]",
      "text/plain": [
       "<Figure size 1080x432 with 1 Axes>"
      ]
     },
     "metadata": {},
     "output_type": "display_data"
    }
   ],
   "source": [
    "#Plot graph for cumulative orde size by each group\n",
    "plt.figure(figsize=(15,6))\n",
    "plt.plot(cum_rev_a['date'], cum_rev_a['revenue']/cum_rev_a['orders'], label='A')\n",
    "plt.plot(cum_rev_b['date'], cum_rev_b['revenue']/cum_rev_b['orders'], label='B')\n",
    "#sns.set(style='darkgrid')\n",
    "plt.title('Cumulative Average Order Size By Group', fontsize=20)\n",
    "plt.ylabel('Average Orders')\n",
    "plt.xlabel('Date')\n",
    "plt.legend()\n",
    "plt.grid(color='.75')\n",
    "plt.show()"
   ]
  },
  {
   "cell_type": "markdown",
   "metadata": {},
   "source": [
    "> As we can see, the average order size is higher in Group B. There was a sharp rise in orders  for Group B on 8/19 and from there continues to slowly drop. The sharp rise in Group B could be either from large orders or buyers had more expensive orders. Group A's order size is lower for the most part of the test but it did stabilized by the end of the test."
   ]
  },
  {
   "cell_type": "markdown",
   "metadata": {},
   "source": [
    "##### Relative Difference in Average Order Size"
   ]
  },
  {
   "cell_type": "code",
   "execution_count": 18,
   "metadata": {},
   "outputs": [
    {
     "data": {
      "image/png": "[encoded data removed]",
      "text/plain": [
       "<Figure size 1080x432 with 1 Axes>"
      ]
     },
     "metadata": {},
     "output_type": "display_data"
    }
   ],
   "source": [
    "#Combining the data into one dataframe\n",
    "merge_cum_rev = cum_rev_a.merge(cum_rev_b,\n",
    "                                left_on='date',\n",
    "                                right_on='date', \n",
    "                                how='left', \n",
    "                                suffixes=['A','B'])\n",
    "\n",
    "#Plot relative difference\n",
    "plt.figure(figsize=(15,6))\n",
    "plt.plot(merge_cum_rev['date'],(merge_cum_rev['revenueB']/merge_cum_rev['ordersB'])\\\n",
    "         /(merge_cum_rev['revenueA']/merge_cum_rev['ordersA'])-1)\n",
    "plt.axhline(y=0, color='black', linestyle='--')\n",
    "plt.title('Relative Difference in Cumulative Average Order Size', fontsize=20)\n",
    "#plt.ylabel('Average Orders')\n",
    "plt.grid(color='.75')\n",
    "plt.xlabel('Date')\n",
    "plt.show()"
   ]
  },
  {
   "cell_type": "markdown",
   "metadata": {},
   "source": [
    "> At several points, the difference between the group spikes. This means there must be some large orders and outliers."
   ]
  },
  {
   "cell_type": "markdown",
   "metadata": {},
   "source": [
    "##### Conversion Rate"
   ]
  },
  {
   "cell_type": "code",
   "execution_count": 19,
   "metadata": {},
   "outputs": [
    {
     "data": {
      "image/png": "[encoded data removed]",
      "text/plain": [
       "<Figure size 1080x432 with 1 Axes>"
      ]
     },
     "metadata": {},
     "output_type": "display_data"
    }
   ],
   "source": [
    "#Calculate cumulative conversion\n",
    "cumulative_data['conversion'] = cumulative_data['orders']/cumulative_data['visitors']\n",
    "\n",
    "#Select group data\n",
    "cumulative_data_A = cumulative_data[cumulative_data['group']== 'A']\n",
    "cumulative_data_B = cumulative_data[cumulative_data['group']== 'B']\n",
    "\n",
    "#Plot the graph\n",
    "plt.figure(figsize=(15,6))\n",
    "sns.lineplot(data=cumulative_data_A, x='date', y='conversion', label='Group A')\n",
    "sns.lineplot(data=cumulative_data_B, x='date', y='conversion',label='Group B')\n",
    "sns.set(style='darkgrid')\n",
    "plt.title('Conversion Rate By Group', fontsize=20)\n",
    "plt.ylabel('Conversion Rate')\n",
    "plt.grid(color='.75')\n",
    "plt.xlabel('Date')\n",
    "plt.show()"
   ]
  },
  {
   "cell_type": "markdown",
   "metadata": {},
   "source": [
    "> The graph shows that at the beginning of the test,Group B was behind but eventually caught up to Group A  and took the lead. By the end, both conversion rates have stabilized."
   ]
  },
  {
   "cell_type": "markdown",
   "metadata": {},
   "source": [
    "##### Number of orders per user and  calculate  95th and 99th percentile"
   ]
  },
  {
   "cell_type": "code",
   "execution_count": 20,
   "metadata": {},
   "outputs": [],
   "source": [
    "#Find the number of order per user\n",
    "order_per_user = orders_filtered.groupby('visitorId',as_index=False).agg({'transactionId':'nunique'})\n",
    "order_per_user.columns = ['visitorId', 'orders']"
   ]
  },
  {
   "cell_type": "code",
   "execution_count": 21,
   "metadata": {},
   "outputs": [
    {
     "data": {
      "image/png": "[encoded data removed]",
      "text/plain": [
       "<Figure size 1080x432 with 1 Axes>"
      ]
     },
     "metadata": {},
     "output_type": "display_data"
    }
   ],
   "source": [
    "#Plot scatter plot of the numbers of order per user\n",
    "plt.figure(figsize=(15,6))\n",
    "color = 'darkblue'\n",
    "sns.scatterplot(data=order_per_user,\n",
    "                x=range(0,len(order_per_user)),\n",
    "                y='orders', label='User', \n",
    "                color='darkblue',\n",
    "                alpha=.50)\n",
    "sns.set(style='darkgrid')\n",
    "#plt.axhline(color=color)\n",
    "plt.title('Orders Per User', fontsize=20)\n",
    "plt.ylabel('Number of Orders')\n",
    "plt.xlabel('Users')\n",
    "plt.show()"
   ]
  },
  {
   "cell_type": "code",
   "execution_count": 22,
   "metadata": {},
   "outputs": [
    {
     "data": {
      "text/plain": [
       "1    96.3%\n",
       "2    3.0% \n",
       "3    0.7% \n",
       "Name: orders, dtype: object"
      ]
     },
     "metadata": {},
     "output_type": "display_data"
    },
    {
     "name": "stdout",
     "output_type": "stream",
     "text": [
      "[1. 2.]\n"
     ]
    }
   ],
   "source": [
    "#Calculate order per user\n",
    "display(order_per_user['orders'].value_counts(normalize=True).mul(100).round(1).astype(str) + '%')\n",
    "\n",
    "#Calculate 95th and 99th percentile\n",
    "print(np.percentile(order_per_user['orders'], [95,99]))"
   ]
  },
  {
   "cell_type": "markdown",
   "metadata": {},
   "source": [
    "> Most users only placed 1 order about 96.3%. There are few users who placed 2 orders and even fewer users who had 3 orders. Based on our calculation:\n",
    "> - Not more than 5% users placed more than 1 order\n",
    "> - Not more than 1% placed more than 2 orders\n",
    "> - It would make sense to set the lower limit to **1 order per user** for the number of orders to filter out anomalies"
   ]
  },
  {
   "cell_type": "markdown",
   "metadata": {},
   "source": [
    "##### Order prices and calculate  95th and 99th percentile"
   ]
  },
  {
   "cell_type": "code",
   "execution_count": 23,
   "metadata": {},
   "outputs": [
    {
     "data": {
      "image/png": "[encoded data removed]",
      "text/plain": [
       "<Figure size 1080x432 with 1 Axes>"
      ]
     },
     "metadata": {},
     "output_type": "display_data"
    },
    {
     "data": {
      "image/png": "[encoded data removed]",
      "text/plain": [
       "<Figure size 1080x432 with 1 Axes>"
      ]
     },
     "metadata": {},
     "output_type": "display_data"
    }
   ],
   "source": [
    "#Plot order prices \n",
    "plt.figure(figsize=(15,6))\n",
    "sns.scatterplot(data=orders_filtered, x= range(0,len(orders_filtered)),\n",
    "                y='revenue', \n",
    "                label='Price',\n",
    "                color='darkblue',\n",
    "                alpha=.50)\n",
    "sns.set(style='darkgrid')\n",
    "plt.title('Order Prices', fontsize=20)\n",
    "plt.ylabel('Order Price')\n",
    "plt.xlabel('Users')\n",
    "plt.show()\n",
    "\n",
    "#Plot order prices with range of 0-2000\n",
    "plt.figure(figsize=(15,6))\n",
    "sns.scatterplot(data=orders_filtered, x= range(0,len(orders_filtered)),\n",
    "                y='revenue', \n",
    "                label='Price', \n",
    "                color='royalblue')\n",
    "sns.set(style='darkgrid')\n",
    "plt.title('Order Prices (\\$0 - \\$2000)',fontsize=20)\n",
    "plt.ylabel('Order Price')\n",
    "plt.xlabel('Users')\n",
    "plt.ylim(0,2000)\n",
    "plt.show()\n"
   ]
  },
  {
   "cell_type": "code",
   "execution_count": 24,
   "metadata": {},
   "outputs": [
    {
     "data": {
      "text/html": [
       "<div>\n",
       "<style scoped>\n",
       "    .dataframe tbody tr th:only-of-type {\n",
       "        vertical-align: middle;\n",
       "    }\n",
       "\n",
       "    .dataframe tbody tr th {\n",
       "        vertical-align: top;\n",
       "    }\n",
       "\n",
       "    .dataframe thead th {\n",
       "        text-align: right;\n",
       "    }\n",
       "</style>\n",
       "<table border=\"1\" class=\"dataframe\">\n",
       "  <thead>\n",
       "    <tr style=\"text-align: right;\">\n",
       "      <th></th>\n",
       "      <th>transactionId</th>\n",
       "      <th>visitorId</th>\n",
       "      <th>date</th>\n",
       "      <th>revenue</th>\n",
       "      <th>group</th>\n",
       "    </tr>\n",
       "  </thead>\n",
       "  <tbody>\n",
       "    <tr>\n",
       "      <th>425</th>\n",
       "      <td>590470918</td>\n",
       "      <td>1920142716</td>\n",
       "      <td>2019-08-19</td>\n",
       "      <td>19920.4</td>\n",
       "      <td>B</td>\n",
       "    </tr>\n",
       "  </tbody>\n",
       "</table>\n",
       "</div>"
      ],
      "text/plain": [
       "     transactionId   visitorId       date  revenue group\n",
       "425  590470918      1920142716 2019-08-19  19920.4  B   "
      ]
     },
     "execution_count": 24,
     "metadata": {},
     "output_type": "execute_result"
    }
   ],
   "source": [
    "orders_filtered[orders_filtered['revenue']>15000]"
   ]
  },
  {
   "cell_type": "markdown",
   "metadata": {},
   "source": [
    "> As predicted,there are a few large orders. The sudden rise on orders on 8/19 was the one order of 19920 which is definitely an outlier. Most of the orders falls below $500."
   ]
  },
  {
   "cell_type": "code",
   "execution_count": 178,
   "metadata": {},
   "outputs": [
    {
     "name": "stdout",
     "output_type": "stream",
     "text": [
      "[414.275 830.3  ]\n"
     ]
    }
   ],
   "source": [
    "#Calculate 95th and 99th percentile\n",
    "print(np.percentile(orders_filtered['revenue'], [95,99]))"
   ]
  },
  {
   "cell_type": "markdown",
   "metadata": {},
   "source": [
    "> - Not more than 5% of users placed more than **\\$414**\n",
    "> - Not more than 1% of users placed more than **\\$830**\n",
    "> - Based on this, we can determine the point at which the value becomes an anomaly when the revenue is **greater than $500** per order"
   ]
  },
  {
   "cell_type": "markdown",
   "metadata": {},
   "source": [
    "##### Find the statistical significance of the difference in conversion between the groups using raw data"
   ]
  },
  {
   "cell_type": "markdown",
   "metadata": {},
   "source": [
    "> - **$H_{0}$** -Null Hypothesis- There is no statistically significant difference in conversion between the two groups\n",
    "> - **$H_{1}$** -Alternative Hypothesis- There is a statistically significant difference in conversion between the two groups\n",
    "> - alpha = .05 - if the p-value is less than alpha, we reject the hypothesis\n",
    "> - **Mann Whitney Test** - to test the hypotheses"
   ]
  },
  {
   "cell_type": "code",
   "execution_count": 179,
   "metadata": {},
   "outputs": [
    {
     "name": "stdout",
     "output_type": "stream",
     "text": [
      "P_value: 0.0055\n",
      "The relative conversion gain by Group B compared with Group A is 16%\n"
     ]
    }
   ],
   "source": [
    "#Create the table user per order for each group\n",
    "orders_by_A = orders_filtered[orders_filtered['group']=='A']\\\n",
    "                            .groupby('visitorId', as_index=False)\\\n",
    "                            .agg({'transactionId' :'nunique'})\n",
    "orders_by_A.columns = ['userId', 'orders']\n",
    "\n",
    "orders_by_B = orders_filtered[orders_filtered['group']=='B']\\\n",
    "                            .groupby('visitorId', as_index=False)\\\n",
    "                            .agg({'transactionId' : 'nunique'})\n",
    "orders_by_B.columns = ['userId', 'orders'] \n",
    "\n",
    "#Create variables with users from different groups and corresponding numbers of orders\n",
    "sampleA = pd.concat([orders_by_A['orders'],\n",
    "                     pd.Series(0, index=np.arange(visits[visits['group']=='A']['visits'].sum()\\\n",
    "                        - len(orders_by_A['orders'])),\n",
    "                        name='orders')],axis=0)\n",
    "\n",
    "sampleB = pd.concat([orders_by_B['orders'],\n",
    "                     pd.Series(0, index=np.arange(visits[visits['group']=='B']['visits'].sum()\\\n",
    "                        - len(orders_by_B['orders'])),\n",
    "                        name='orders')],axis=0)\n",
    "\n",
    "#Mann Whitney test\n",
    "print(\"P_value: {0:.4f}\".format(st.mannwhitneyu(sampleA, sampleB)[1]))\n",
    "\n",
    "print(\"The relative conversion gain by Group B compared with Group A is {0:.0f}%\".format((sampleB.mean()\\\n",
    "                                                                                          /sampleA.mean()-1)*100))"
   ]
  },
  {
   "cell_type": "markdown",
   "metadata": {},
   "source": [
    ">  The p value of **0.0055** is less than the alpha level of 0.05 which means we can reject the null hypothesis. The raw data analysis showed that the groups' conversion rate have statistically significant difference. The relative conversion gain by Group B compared with Group A is **16%**"
   ]
  },
  {
   "cell_type": "markdown",
   "metadata": {},
   "source": [
    "##### Find the statistical ignificance of the difference in average order size between the groups using the raw data"
   ]
  },
  {
   "cell_type": "markdown",
   "metadata": {},
   "source": [
    "> - **$H_{0}$** -Null Hypothesis- The average order size is equal for both groups\n",
    "> - **$H_{1}$** -Alternative Hypothesis- The average order size is different for both groups\n",
    "> - alpha = .05 - if the p-value is less than alpha, we reject the hypothesis\n",
    "> - **Mann Whitney Test** - to test the hypotheses"
   ]
  },
  {
   "cell_type": "code",
   "execution_count": 180,
   "metadata": {},
   "outputs": [
    {
     "name": "stdout",
     "output_type": "stream",
     "text": [
      "P_value: 0.4311\n",
      "The relative difference is 28%\n"
     ]
    }
   ],
   "source": [
    "print('P_value: {0:.4f}'.format(st.mannwhitneyu(orders_filtered[orders_filtered['group']=='A']['revenue'],\n",
    "                                                orders_filtered[orders_filtered['group']=='B']['revenue'])[1]))\n",
    "print('The relative difference is {0:.0f}%'.format((orders_filtered[orders_filtered['group']=='B']['revenue'].mean()\n",
    "                                                    /orders_filtered[orders_filtered['group']=='A']['revenue'].mean()\\\n",
    "                                                    -1)*100))"
   ]
  },
  {
   "cell_type": "markdown",
   "metadata": {},
   "source": [
    "> The p value of **0.4311** is greater than .05 which means we cannot reject the null hypothesis and conclude that average order size differs between the groups. The relative difference is **28%**."
   ]
  },
  {
   "cell_type": "markdown",
   "metadata": {},
   "source": [
    "##### Find the statistical significance of the difference in conversion between the groups using the filtered data"
   ]
  },
  {
   "cell_type": "code",
   "execution_count": 189,
   "metadata": {},
   "outputs": [
    {
     "name": "stdout",
     "output_type": "stream",
     "text": [
      "There are 72 anomalous visitors in total\n"
     ]
    }
   ],
   "source": [
    "#Create the table for users who purchased more than 1\n",
    "order_limit = 1\n",
    "users_with_many_orders = pd.concat([orders_by_A[orders_by_A['orders'] > order_limit]['userId'],\n",
    "                                    orders_by_B[orders_by_B['orders'] > order_limit]['userId']], axis = 0)\n",
    "\n",
    "#Create a table for users who had an order more than $500\n",
    "order_size_limit = 500\n",
    "users_with_expensive_orders = orders_filtered[orders_filtered['revenue'] > order_size_limit]['visitorId']\n",
    "abnormal_users = pd.concat([users_with_many_orders,\n",
    "                            users_with_expensive_orders], \n",
    "                           axis = 0).drop_duplicates().sort_values()\n",
    "print('There are {:} anomalous visitors in total'.format(len(abnormal_users)))"
   ]
  },
  {
   "cell_type": "markdown",
   "metadata": {},
   "source": [
    " > As per previous findings, orders more than 1 per user and orders greater than \\$500 are considered an anomaly. Let's try to find out how much different removing these anomalies can affect our result. "
   ]
  },
  {
   "cell_type": "code",
   "execution_count": 196,
   "metadata": {},
   "outputs": [],
   "source": [
    "#Create the filtered samples for the test\n",
    "sampleA_filtered = pd.concat([orders_by_A[np.logical_not(orders_by_A['userId'].isin(abnormal_users))]['orders'],\n",
    "                              pd.Series(0, index=np.arange(visits[visits['group']=='A']['visits'].sum()\\\n",
    "                                                           - len(orders_by_A['orders'])),\n",
    "                                        name='orders')],axis=0)\n",
    "\n",
    "sampleB_filtered = pd.concat([orders_by_B[np.logical_not(orders_by_B['userId'].isin(abnormal_users))]['orders'],\n",
    "                              pd.Series(0, index=np.arange(visits[visits['group']=='B']['visits'].sum()\\\n",
    "                                                           - len(orders_by_B['orders'])),\n",
    "                                        name='orders')],axis=0)"
   ]
  },
  {
   "cell_type": "markdown",
   "metadata": {},
   "source": [
    "> - **$H_{0}$** -Null Hypothesis- There is no statistically significant difference in conversion between the two groups\n",
    "> - **$H_{1}$** -Alternative Hypothesis- There is a statistically significant difference in conversion between the two groups\n",
    "> - alpha = .05 - if the p-value is less than alpha, we reject the hypothesis\n",
    "> - **Mann Whitney Test** - to test the hypotheses"
   ]
  },
  {
   "cell_type": "code",
   "execution_count": 200,
   "metadata": {},
   "outputs": [
    {
     "name": "stdout",
     "output_type": "stream",
     "text": [
      "0.0048\n",
      "The relative conversion gain by Group B compared with Group A is 19%\n"
     ]
    }
   ],
   "source": [
    "print(\"{0:.4f}\".format(st.mannwhitneyu(sampleA_filtered, sampleB_filtered)[1]))\n",
    "print(\"The relative conversion gain by Group B compared with Group A is {0:.0f}%\"\n",
    "      .format((sampleB_filtered.mean()/sampleA_filtered.mean()-1)*100))"
   ]
  },
  {
   "cell_type": "markdown",
   "metadata": {},
   "source": [
    "> The p value of **0.0048** is less than the alpha level of 0.05 which means we can reject the null hypothesis. The filtered data analysis showed that the groups'conversion rate have statistically significant difference. The relative conversion gain by Group B compared with Group A is **19%**. This results determined that anomalous users did not really affect the test result and removing them did not make a significant difference."
   ]
  },
  {
   "cell_type": "markdown",
   "metadata": {},
   "source": [
    "##### Find the statistical significance of the difference in average order size between the groups using the filtered data"
   ]
  },
  {
   "cell_type": "markdown",
   "metadata": {},
   "source": [
    "> - **$H_{0}$** -Null Hypothesis- The average order size is equal for both groups\n",
    "> - **$H_{1}$** -Alternative Hypothesis- The average order size is different for both groups\n",
    "> - alpha = .05 - if the p-value is less than alpha, we reject the hypothesis\n",
    "> - Use the **Mann Whitney Test**, to test the hypotheses"
   ]
  },
  {
   "cell_type": "code",
   "execution_count": 198,
   "metadata": {},
   "outputs": [],
   "source": [
    "#Create a slice for order size for each group\n",
    "revenueA_filtered = (\n",
    "    orders_filtered[(np.logical_not(orders_filtered['visitorId'].\n",
    "                                   isin(abnormal_users)))                \n",
    "                   & (orders_filtered['group'] == 'A')])['revenue']\n",
    "revenueB_filtered = (\n",
    "    orders_filtered[(np.logical_not(orders_filtered['visitorId'].\n",
    "                                   isin(abnormal_users)))                \n",
    "                   & (orders_filtered['group'] == 'B')])['revenue']"
   ]
  },
  {
   "cell_type": "code",
   "execution_count": 199,
   "metadata": {},
   "outputs": [
    {
     "name": "stdout",
     "output_type": "stream",
     "text": [
      "P-value : 0.496\n",
      "Average order size in group B is better by 2%\n"
     ]
    }
   ],
   "source": [
    "print(\"P-value : {0:.3f}\"\n",
    "      .format(st.mannwhitneyu(revenueA_filtered, revenueB_filtered)[1]))\n",
    "print(\"Average order size in group B is better by {0:.0f}%\"\n",
    "      .format((revenueB_filtered.mean()/revenueA_filtered.mean()-1)*100))"
   ]
  },
  {
   "cell_type": "markdown",
   "metadata": {},
   "source": [
    "> The p value of **0.496** is greater than .05 which means we cannot reject the null hypothesis. The relative difference is **2%**. The average order size for group B is the same as for group A on the filtered data. The average order size does not change without the anomalous data."
   ]
  },
  {
   "cell_type": "markdown",
   "metadata": {},
   "source": [
    "##### Conclusion"
   ]
  },
  {
   "cell_type": "markdown",
   "metadata": {},
   "source": [
    "After conducting A/B tests, we found that:\n",
    "- There are statistically significant differences in conversion between groups A and B - both for raw data and for filtered data\n",
    "-  There are no statistically significant differences in the average order size between groups A and B - both for raw data and for filtered data\n",
    "\n",
    "On average, the number of orders for Group B is statistically significantly higher than Group A while the order size does not differ. The relative conversion gain by Group B compared with Group A is between 16%-19% for both tests. Based on these results, we can advise that the test is successful and should be stopped.  We can recommend to marketing department that we should invest more in Group B as it will generate higher revenue than Group A.\n"
   ]
  },
  {
   "cell_type": "markdown",
   "metadata": {},
   "source": [
    "## Overall Conclusion"
   ]
  },
  {
   "cell_type": "markdown",
   "metadata": {},
   "source": [
    "At first we had to prioritize hypotheses and the top priority for each framework:\n",
    "- **RICE - hypothesis 7**- adding a subscription form should be prioritized - highest reach score\n",
    "- **ICE - hypothesis 8**- launching birthday discounts should be prioritized - lowest reach score\n",
    "\n",
    "In comparison to both framework, ***Hypothesis 7*** (adding a subscription) and ***hypothesis 2*** (adding product recommendation blocks) moved up mainly because they have a broader reach than the other hypotheses. ***Hypothesis 8*** (launch birthday discounts promotion) which was the top one under Ice framework,sunk to fifth place due to small reach.  This makes sense since it can only be used once a year for each user. The difference between ICE and RICE frameworks is the reach parameter. This parameter adds another factor to the framework, making RICE scores higher than ICE scores. Reach is an important factor to consider. Adding a subscription had been very consistent with high level of reach, impact and confidence with a median level of effort.\n",
    "\n",
    "For our second dataset, we had conduct and analyze A/B test and these are our results:\n",
    " - There are statistically significant differences in conversion between groups A and B - both for raw data and for filtered data\n",
    " -  There are no statistically significant differences in the average order size between groups A and B - both for raw data and for filtered data\n",
    "\n",
    "We considered the test to be a success and should be stopped because we concluded that **Group B** is better and will generate more revenue compare to **Group A**. \n",
    "\n"
   ]
  }
 ],
 "metadata": {
  "ExecuteTimeLog": [
   {
    "duration": 1016,
    "start_time": "2021-12-05T08:35:14.402Z"
   },
   {
    "duration": 2793,
    "start_time": "2021-12-05T08:35:15.420Z"
   },
   {
    "duration": 33,
    "start_time": "2021-12-05T08:35:18.215Z"
   },
   {
    "duration": 2,
    "start_time": "2021-12-05T08:35:18.250Z"
   },
   {
    "duration": 20,
    "start_time": "2021-12-05T08:35:18.254Z"
   },
   {
    "duration": 12,
    "start_time": "2021-12-05T08:35:18.276Z"
   },
   {
    "duration": 11,
    "start_time": "2021-12-05T08:35:18.289Z"
   },
   {
    "duration": 17,
    "start_time": "2021-12-05T08:35:18.301Z"
   },
   {
    "duration": 27,
    "start_time": "2021-12-05T08:35:18.320Z"
   },
   {
    "duration": 12,
    "start_time": "2021-12-05T08:35:18.349Z"
   },
   {
    "duration": 19,
    "start_time": "2021-12-05T08:35:18.388Z"
   },
   {
    "duration": 10,
    "start_time": "2021-12-05T08:35:18.408Z"
   },
   {
    "duration": 6,
    "start_time": "2021-12-05T08:35:18.420Z"
   },
   {
    "duration": 4,
    "start_time": "2021-12-05T08:35:18.428Z"
   },
   {
    "duration": 342,
    "start_time": "2021-12-05T08:35:18.434Z"
   },
   {
    "duration": 295,
    "start_time": "2021-12-05T08:35:18.777Z"
   },
   {
    "duration": 333,
    "start_time": "2021-12-05T08:35:19.073Z"
   },
   {
    "duration": 433,
    "start_time": "2021-12-05T08:35:19.407Z"
   },
   {
    "duration": 413,
    "start_time": "2021-12-05T08:35:19.841Z"
   },
   {
    "duration": 5,
    "start_time": "2021-12-05T08:35:20.256Z"
   },
   {
    "duration": 452,
    "start_time": "2021-12-05T08:35:20.262Z"
   },
   {
    "duration": 7,
    "start_time": "2021-12-05T08:35:20.716Z"
   },
   {
    "duration": 850,
    "start_time": "2021-12-05T08:35:20.724Z"
   },
   {
    "duration": 14,
    "start_time": "2021-12-05T08:35:21.575Z"
   },
   {
    "duration": 11,
    "start_time": "2021-12-05T08:35:21.590Z"
   },
   {
    "duration": 31,
    "start_time": "2021-12-05T08:35:21.602Z"
   },
   {
    "duration": 8,
    "start_time": "2021-12-05T08:35:21.636Z"
   },
   {
    "duration": 12,
    "start_time": "2021-12-05T08:35:21.646Z"
   },
   {
    "duration": 20,
    "start_time": "2021-12-05T08:35:21.660Z"
   },
   {
    "duration": 20,
    "start_time": "2021-12-05T08:35:21.681Z"
   },
   {
    "duration": 8,
    "start_time": "2021-12-05T08:35:21.703Z"
   },
   {
    "duration": 16,
    "start_time": "2021-12-05T08:35:21.713Z"
   },
   {
    "duration": 564,
    "start_time": "2021-12-05T09:40:46.725Z"
   },
   {
    "duration": 475,
    "start_time": "2021-12-05T09:41:32.961Z"
   },
   {
    "duration": 471,
    "start_time": "2021-12-05T09:41:52.273Z"
   },
   {
    "duration": 9,
    "start_time": "2021-12-05T09:42:33.591Z"
   },
   {
    "duration": 6,
    "start_time": "2021-12-05T09:42:45.851Z"
   },
   {
    "duration": 4,
    "start_time": "2021-12-05T09:43:50.971Z"
   },
   {
    "duration": 6,
    "start_time": "2021-12-05T09:44:00.647Z"
   },
   {
    "duration": 8,
    "start_time": "2021-12-05T09:46:15.046Z"
   },
   {
    "duration": 1200,
    "start_time": "2021-12-05T09:53:47.373Z"
   },
   {
    "duration": 4071,
    "start_time": "2021-12-05T09:53:48.574Z"
   },
   {
    "duration": 34,
    "start_time": "2021-12-05T09:53:52.648Z"
   },
   {
    "duration": 3,
    "start_time": "2021-12-05T09:53:52.685Z"
   },
   {
    "duration": 21,
    "start_time": "2021-12-05T09:53:52.690Z"
   },
   {
    "duration": 12,
    "start_time": "2021-12-05T09:53:52.713Z"
   },
   {
    "duration": 15,
    "start_time": "2021-12-05T09:53:52.727Z"
   },
   {
    "duration": 13,
    "start_time": "2021-12-05T09:53:52.745Z"
   },
   {
    "duration": 57,
    "start_time": "2021-12-05T09:53:52.760Z"
   },
   {
    "duration": 21,
    "start_time": "2021-12-05T09:53:52.819Z"
   },
   {
    "duration": 25,
    "start_time": "2021-12-05T09:53:52.842Z"
   },
   {
    "duration": 32,
    "start_time": "2021-12-05T09:53:52.869Z"
   },
   {
    "duration": 8,
    "start_time": "2021-12-05T09:53:52.903Z"
   },
   {
    "duration": 5,
    "start_time": "2021-12-05T09:53:52.913Z"
   },
   {
    "duration": 337,
    "start_time": "2021-12-05T09:53:52.919Z"
   },
   {
    "duration": 312,
    "start_time": "2021-12-05T09:53:53.258Z"
   },
   {
    "duration": 349,
    "start_time": "2021-12-05T09:53:53.571Z"
   },
   {
    "duration": 447,
    "start_time": "2021-12-05T09:53:53.921Z"
   },
   {
    "duration": 457,
    "start_time": "2021-12-05T09:53:54.369Z"
   },
   {
    "duration": 6,
    "start_time": "2021-12-05T09:53:54.828Z"
   },
   {
    "duration": 446,
    "start_time": "2021-12-05T09:53:54.836Z"
   },
   {
    "duration": 10,
    "start_time": "2021-12-05T09:53:55.287Z"
   },
   {
    "duration": 1282,
    "start_time": "2021-12-05T09:53:55.300Z"
   },
   {
    "duration": 20,
    "start_time": "2021-12-05T09:53:56.585Z"
   },
   {
    "duration": 21,
    "start_time": "2021-12-05T09:53:56.608Z"
   },
   {
    "duration": 22,
    "start_time": "2021-12-05T09:53:56.631Z"
   },
   {
    "duration": 9,
    "start_time": "2021-12-05T09:53:56.655Z"
   },
   {
    "duration": 9,
    "start_time": "2021-12-05T09:53:56.665Z"
   },
   {
    "duration": 13,
    "start_time": "2021-12-05T09:53:56.676Z"
   },
   {
    "duration": 17,
    "start_time": "2021-12-05T09:53:56.692Z"
   },
   {
    "duration": 8,
    "start_time": "2021-12-05T09:53:56.711Z"
   },
   {
    "duration": 6,
    "start_time": "2021-12-05T09:53:56.721Z"
   },
   {
    "duration": 336,
    "start_time": "2021-12-06T06:40:43.483Z"
   },
   {
    "duration": 1248,
    "start_time": "2021-12-06T06:42:30.866Z"
   },
   {
    "duration": 2556,
    "start_time": "2021-12-06T06:42:32.116Z"
   },
   {
    "duration": 40,
    "start_time": "2021-12-06T06:42:37.907Z"
   },
   {
    "duration": 3,
    "start_time": "2021-12-06T06:42:52.602Z"
   },
   {
    "duration": 3,
    "start_time": "2021-12-06T06:53:29.214Z"
   },
   {
    "duration": 2621,
    "start_time": "2021-12-06T06:53:29.870Z"
   },
   {
    "duration": 7991,
    "start_time": "2021-12-06T06:53:35.861Z"
   },
   {
    "duration": 2461,
    "start_time": "2021-12-06T06:53:41.393Z"
   },
   {
    "duration": 2454,
    "start_time": "2021-12-06T06:53:41.401Z"
   },
   {
    "duration": 2445,
    "start_time": "2021-12-06T06:53:41.411Z"
   },
   {
    "duration": 2434,
    "start_time": "2021-12-06T06:53:41.423Z"
   },
   {
    "duration": 2430,
    "start_time": "2021-12-06T06:53:41.428Z"
   },
   {
    "duration": 23,
    "start_time": "2021-12-06T06:53:44.110Z"
   },
   {
    "duration": 14,
    "start_time": "2021-12-06T06:53:44.261Z"
   },
   {
    "duration": 8,
    "start_time": "2021-12-06T06:53:44.788Z"
   },
   {
    "duration": 12,
    "start_time": "2021-12-06T06:53:44.887Z"
   },
   {
    "duration": 631,
    "start_time": "2021-12-06T06:53:48.178Z"
   },
   {
    "duration": 2501,
    "start_time": "2021-12-06T06:53:46.310Z"
   },
   {
    "duration": 303,
    "start_time": "2021-12-06T06:53:49.165Z"
   },
   {
    "duration": 4,
    "start_time": "2021-12-06T06:54:31.571Z"
   },
   {
    "duration": 2144,
    "start_time": "2021-12-06T06:54:35.055Z"
   },
   {
    "duration": 34,
    "start_time": "2021-12-06T06:54:38.501Z"
   },
   {
    "duration": 3,
    "start_time": "2021-12-06T06:54:47.213Z"
   },
   {
    "duration": 14,
    "start_time": "2021-12-06T06:54:53.084Z"
   },
   {
    "duration": 14,
    "start_time": "2021-12-06T06:54:59.889Z"
   },
   {
    "duration": 14,
    "start_time": "2021-12-06T06:55:05.272Z"
   },
   {
    "duration": 17,
    "start_time": "2021-12-06T06:55:05.886Z"
   },
   {
    "duration": 32,
    "start_time": "2021-12-06T06:55:16.260Z"
   },
   {
    "duration": 15,
    "start_time": "2021-12-06T06:55:20.466Z"
   },
   {
    "duration": 26,
    "start_time": "2021-12-06T06:55:30.827Z"
   },
   {
    "duration": 13,
    "start_time": "2021-12-06T06:55:33.821Z"
   },
   {
    "duration": 9,
    "start_time": "2021-12-06T06:55:47.846Z"
   },
   {
    "duration": 7,
    "start_time": "2021-12-06T06:55:53.416Z"
   },
   {
    "duration": 330,
    "start_time": "2021-12-06T06:56:04.717Z"
   },
   {
    "duration": 330,
    "start_time": "2021-12-06T06:56:12.347Z"
   },
   {
    "duration": 369,
    "start_time": "2021-12-06T06:56:26.065Z"
   },
   {
    "duration": 469,
    "start_time": "2021-12-06T06:56:36.424Z"
   },
   {
    "duration": 346,
    "start_time": "2021-12-06T06:56:42.980Z"
   },
   {
    "duration": 417,
    "start_time": "2021-12-06T06:56:50.280Z"
   },
   {
    "duration": 388,
    "start_time": "2021-12-06T06:57:00.682Z"
   },
   {
    "duration": 7,
    "start_time": "2021-12-06T06:57:11.210Z"
   },
   {
    "duration": 496,
    "start_time": "2021-12-06T06:57:13.915Z"
   },
   {
    "duration": 481,
    "start_time": "2021-12-06T07:00:55.827Z"
   },
   {
    "duration": 459,
    "start_time": "2021-12-06T07:01:05.204Z"
   },
   {
    "duration": 797,
    "start_time": "2021-12-06T07:04:27.452Z"
   },
   {
    "duration": 8618,
    "start_time": "2021-12-06T07:05:07.358Z"
   },
   {
    "duration": 10790,
    "start_time": "2021-12-06T07:05:43.005Z"
   },
   {
    "duration": 287,
    "start_time": "2021-12-06T07:06:28.390Z"
   },
   {
    "duration": 483,
    "start_time": "2021-12-06T07:07:33.072Z"
   },
   {
    "duration": 291,
    "start_time": "2021-12-06T07:08:07.962Z"
   },
   {
    "duration": 621,
    "start_time": "2021-12-06T07:08:43.262Z"
   },
   {
    "duration": 496,
    "start_time": "2021-12-06T07:09:14.273Z"
   },
   {
    "duration": 525,
    "start_time": "2021-12-06T07:09:35.402Z"
   },
   {
    "duration": 340,
    "start_time": "2021-12-06T07:10:09.001Z"
   },
   {
    "duration": 542,
    "start_time": "2021-12-06T07:10:23.560Z"
   },
   {
    "duration": 477,
    "start_time": "2021-12-06T07:11:04.962Z"
   },
   {
    "duration": 476,
    "start_time": "2021-12-06T07:11:37.985Z"
   },
   {
    "duration": 646,
    "start_time": "2021-12-06T07:12:29.749Z"
   },
   {
    "duration": 669,
    "start_time": "2021-12-06T07:13:14.877Z"
   },
   {
    "duration": 7193,
    "start_time": "2021-12-06T07:13:21.727Z"
   },
   {
    "duration": 9053,
    "start_time": "2021-12-06T07:13:43.582Z"
   },
   {
    "duration": 633,
    "start_time": "2021-12-06T07:15:13.124Z"
   },
   {
    "duration": 662,
    "start_time": "2021-12-06T07:15:32.035Z"
   },
   {
    "duration": 819,
    "start_time": "2021-12-06T07:15:51.956Z"
   },
   {
    "duration": 469,
    "start_time": "2021-12-06T07:16:09.059Z"
   },
   {
    "duration": 619,
    "start_time": "2021-12-06T07:18:53.194Z"
   },
   {
    "duration": 459,
    "start_time": "2021-12-06T07:19:13.658Z"
   },
   {
    "duration": 455,
    "start_time": "2021-12-06T07:19:49.691Z"
   },
   {
    "duration": 453,
    "start_time": "2021-12-06T07:20:40.350Z"
   },
   {
    "duration": 450,
    "start_time": "2021-12-06T07:20:48.460Z"
   },
   {
    "duration": 647,
    "start_time": "2021-12-06T07:20:57.193Z"
   },
   {
    "duration": 563,
    "start_time": "2021-12-06T07:21:16.144Z"
   },
   {
    "duration": 456,
    "start_time": "2021-12-06T07:21:24.567Z"
   },
   {
    "duration": 568,
    "start_time": "2021-12-06T07:21:34.890Z"
   },
   {
    "duration": 552,
    "start_time": "2021-12-06T07:21:54.592Z"
   },
   {
    "duration": 465,
    "start_time": "2021-12-06T07:22:05.944Z"
   },
   {
    "duration": 297,
    "start_time": "2021-12-06T07:23:05.096Z"
   },
   {
    "duration": 368,
    "start_time": "2021-12-06T07:24:10.799Z"
   },
   {
    "duration": 280,
    "start_time": "2021-12-06T07:26:52.120Z"
   },
   {
    "duration": 301,
    "start_time": "2021-12-06T07:28:24.635Z"
   },
   {
    "duration": 567,
    "start_time": "2021-12-06T07:28:50.358Z"
   },
   {
    "duration": 6,
    "start_time": "2021-12-06T07:29:42.239Z"
   },
   {
    "duration": 388,
    "start_time": "2021-12-06T07:29:43.057Z"
   },
   {
    "duration": 459,
    "start_time": "2021-12-06T07:29:52.295Z"
   },
   {
    "duration": 365,
    "start_time": "2021-12-06T07:30:31.849Z"
   },
   {
    "duration": 1124,
    "start_time": "2021-12-06T09:21:41.722Z"
   },
   {
    "duration": 1115,
    "start_time": "2021-12-06T09:22:12.269Z"
   },
   {
    "duration": 1033,
    "start_time": "2021-12-06T09:22:32.213Z"
   },
   {
    "duration": 928,
    "start_time": "2021-12-06T09:22:56.495Z"
   },
   {
    "duration": 1018,
    "start_time": "2021-12-06T09:23:19.542Z"
   },
   {
    "duration": 345,
    "start_time": "2021-12-06T09:25:14.522Z"
   },
   {
    "duration": 264,
    "start_time": "2021-12-06T09:25:40.586Z"
   },
   {
    "duration": 332,
    "start_time": "2021-12-06T09:28:04.788Z"
   },
   {
    "duration": 342,
    "start_time": "2021-12-06T09:28:15.737Z"
   },
   {
    "duration": 391,
    "start_time": "2021-12-06T09:28:17.968Z"
   },
   {
    "duration": 339,
    "start_time": "2021-12-06T09:28:20.656Z"
   },
   {
    "duration": 443,
    "start_time": "2021-12-06T09:28:28.692Z"
   },
   {
    "duration": 387,
    "start_time": "2021-12-06T09:28:37.160Z"
   },
   {
    "duration": 7,
    "start_time": "2021-12-06T09:28:44.169Z"
   },
   {
    "duration": 495,
    "start_time": "2021-12-06T09:28:44.827Z"
   },
   {
    "duration": 450,
    "start_time": "2021-12-06T09:29:06.277Z"
   },
   {
    "duration": 8,
    "start_time": "2021-12-06T09:29:13.563Z"
   },
   {
    "duration": 906,
    "start_time": "2021-12-06T09:29:17.216Z"
   },
   {
    "duration": 20,
    "start_time": "2021-12-06T09:29:18.124Z"
   },
   {
    "duration": 5,
    "start_time": "2021-12-06T09:29:22.376Z"
   },
   {
    "duration": 21,
    "start_time": "2021-12-06T09:31:36.178Z"
   },
   {
    "duration": 19,
    "start_time": "2021-12-06T09:32:07.213Z"
   },
   {
    "duration": 20,
    "start_time": "2021-12-06T09:33:29.589Z"
   },
   {
    "duration": 110,
    "start_time": "2021-12-06T09:34:11.374Z"
   },
   {
    "duration": 130,
    "start_time": "2021-12-06T09:34:30.580Z"
   },
   {
    "duration": 22,
    "start_time": "2021-12-06T09:34:38.721Z"
   },
   {
    "duration": 98,
    "start_time": "2021-12-06T09:35:12.440Z"
   },
   {
    "duration": 21,
    "start_time": "2021-12-06T09:35:22.464Z"
   },
   {
    "duration": 23,
    "start_time": "2021-12-06T09:35:55.294Z"
   },
   {
    "duration": 21,
    "start_time": "2021-12-06T09:36:17.744Z"
   },
   {
    "duration": 23,
    "start_time": "2021-12-06T09:36:28.718Z"
   },
   {
    "duration": 10,
    "start_time": "2021-12-06T09:36:58.391Z"
   },
   {
    "duration": 9,
    "start_time": "2021-12-06T09:38:36.517Z"
   },
   {
    "duration": 326,
    "start_time": "2021-12-06T09:38:57.603Z"
   },
   {
    "duration": 10,
    "start_time": "2021-12-06T09:40:15.222Z"
   },
   {
    "duration": 5,
    "start_time": "2021-12-06T09:40:37.663Z"
   },
   {
    "duration": 6,
    "start_time": "2021-12-06T09:40:50.529Z"
   },
   {
    "duration": 5,
    "start_time": "2021-12-06T09:41:07.562Z"
   },
   {
    "duration": 9,
    "start_time": "2021-12-06T09:42:35.099Z"
   },
   {
    "duration": 5,
    "start_time": "2021-12-06T09:43:41.807Z"
   },
   {
    "duration": 6,
    "start_time": "2021-12-06T09:44:06.996Z"
   },
   {
    "duration": 10,
    "start_time": "2021-12-06T09:45:07.980Z"
   },
   {
    "duration": 9,
    "start_time": "2021-12-06T09:45:48.545Z"
   },
   {
    "duration": 8,
    "start_time": "2021-12-06T09:45:54.362Z"
   },
   {
    "duration": 119,
    "start_time": "2021-12-06T09:48:53.416Z"
   },
   {
    "duration": 9,
    "start_time": "2021-12-06T09:49:38.470Z"
   },
   {
    "duration": 7,
    "start_time": "2021-12-06T09:49:42.173Z"
   },
   {
    "duration": 8,
    "start_time": "2021-12-06T09:49:53.034Z"
   },
   {
    "duration": 6,
    "start_time": "2021-12-06T09:49:53.532Z"
   },
   {
    "duration": 5,
    "start_time": "2021-12-06T09:56:51.569Z"
   },
   {
    "duration": 8,
    "start_time": "2021-12-06T09:56:58.381Z"
   },
   {
    "duration": 3,
    "start_time": "2021-12-06T10:04:43.439Z"
   },
   {
    "duration": 3258,
    "start_time": "2021-12-06T10:04:44.116Z"
   },
   {
    "duration": 33,
    "start_time": "2021-12-06T10:04:48.008Z"
   },
   {
    "duration": 3,
    "start_time": "2021-12-06T10:04:52.553Z"
   },
   {
    "duration": 13,
    "start_time": "2021-12-06T10:06:00.487Z"
   },
   {
    "duration": 15,
    "start_time": "2021-12-06T10:06:06.336Z"
   },
   {
    "duration": 12,
    "start_time": "2021-12-06T10:06:13.051Z"
   },
   {
    "duration": 16,
    "start_time": "2021-12-06T10:06:16.911Z"
   },
   {
    "duration": 32,
    "start_time": "2021-12-06T10:07:05.011Z"
   },
   {
    "duration": 14,
    "start_time": "2021-12-06T10:07:05.728Z"
   },
   {
    "duration": 27,
    "start_time": "2021-12-06T10:07:08.465Z"
   },
   {
    "duration": 16,
    "start_time": "2021-12-06T10:07:08.710Z"
   },
   {
    "duration": 9,
    "start_time": "2021-12-06T10:07:13.947Z"
   },
   {
    "duration": 5,
    "start_time": "2021-12-06T10:07:14.324Z"
   },
   {
    "duration": 339,
    "start_time": "2021-12-06T10:07:30.727Z"
   },
   {
    "duration": 394,
    "start_time": "2021-12-06T10:07:35.852Z"
   },
   {
    "duration": 386,
    "start_time": "2021-12-06T10:07:58.831Z"
   },
   {
    "duration": 530,
    "start_time": "2021-12-06T10:09:09.749Z"
   },
   {
    "duration": 425,
    "start_time": "2021-12-06T10:09:22.895Z"
   },
   {
    "duration": 421,
    "start_time": "2021-12-06T10:10:31.226Z"
   },
   {
    "duration": 416,
    "start_time": "2021-12-06T10:10:43.574Z"
   },
   {
    "duration": 432,
    "start_time": "2021-12-06T10:10:54.943Z"
   },
   {
    "duration": 136,
    "start_time": "2021-12-06T10:11:44.559Z"
   },
   {
    "duration": 393,
    "start_time": "2021-12-06T10:12:06.773Z"
   },
   {
    "duration": 413,
    "start_time": "2021-12-06T10:12:19.320Z"
   },
   {
    "duration": 401,
    "start_time": "2021-12-06T10:12:47.083Z"
   },
   {
    "duration": 433,
    "start_time": "2021-12-06T10:12:56.336Z"
   },
   {
    "duration": 438,
    "start_time": "2021-12-06T10:13:02.284Z"
   },
   {
    "duration": 511,
    "start_time": "2021-12-06T10:13:09.863Z"
   },
   {
    "duration": 352,
    "start_time": "2021-12-06T10:13:43.478Z"
   },
   {
    "duration": 410,
    "start_time": "2021-12-06T10:14:32.593Z"
   },
   {
    "duration": 424,
    "start_time": "2021-12-06T10:14:55.489Z"
   },
   {
    "duration": 7,
    "start_time": "2021-12-06T10:15:17.544Z"
   },
   {
    "duration": 489,
    "start_time": "2021-12-06T10:15:18.249Z"
   },
   {
    "duration": 468,
    "start_time": "2021-12-06T10:15:37.107Z"
   },
   {
    "duration": 456,
    "start_time": "2021-12-06T10:16:10.960Z"
   },
   {
    "duration": 9,
    "start_time": "2021-12-06T10:16:21.112Z"
   },
   {
    "duration": 1027,
    "start_time": "2021-12-06T10:16:24.638Z"
   },
   {
    "duration": 10,
    "start_time": "2021-12-06T10:16:25.667Z"
   },
   {
    "duration": 950,
    "start_time": "2021-12-06T10:16:37.186Z"
   },
   {
    "duration": 1042,
    "start_time": "2021-12-06T10:16:58.004Z"
   },
   {
    "duration": 1014,
    "start_time": "2021-12-06T10:17:40.940Z"
   },
   {
    "duration": 1117,
    "start_time": "2021-12-06T10:17:51.846Z"
   },
   {
    "duration": 1032,
    "start_time": "2021-12-06T10:18:17.727Z"
   },
   {
    "duration": 1035,
    "start_time": "2021-12-06T10:18:29.412Z"
   },
   {
    "duration": 10,
    "start_time": "2021-12-06T10:18:41.164Z"
   },
   {
    "duration": 5,
    "start_time": "2021-12-06T10:18:45.135Z"
   },
   {
    "duration": 22,
    "start_time": "2021-12-06T10:18:57.376Z"
   },
   {
    "duration": 11,
    "start_time": "2021-12-06T10:19:07.279Z"
   },
   {
    "duration": 10,
    "start_time": "2021-12-06T10:19:25.519Z"
   },
   {
    "duration": 9,
    "start_time": "2021-12-06T10:19:40.840Z"
   },
   {
    "duration": 8,
    "start_time": "2021-12-06T10:19:44.875Z"
   },
   {
    "duration": 8,
    "start_time": "2021-12-06T10:20:15.952Z"
   },
   {
    "duration": 7,
    "start_time": "2021-12-06T10:20:25.818Z"
   },
   {
    "duration": 6,
    "start_time": "2021-12-06T10:20:42.958Z"
   },
   {
    "duration": 5,
    "start_time": "2021-12-06T10:20:56.126Z"
   },
   {
    "duration": 10,
    "start_time": "2021-12-06T10:25:54.764Z"
   },
   {
    "duration": 9,
    "start_time": "2021-12-06T10:25:58.390Z"
   },
   {
    "duration": 132,
    "start_time": "2021-12-06T10:27:27.753Z"
   },
   {
    "duration": 95,
    "start_time": "2021-12-06T10:28:02.883Z"
   },
   {
    "duration": 127,
    "start_time": "2021-12-06T10:28:11.011Z"
   },
   {
    "duration": 11,
    "start_time": "2021-12-06T10:28:44.179Z"
   },
   {
    "duration": 8,
    "start_time": "2021-12-06T10:28:51.809Z"
   },
   {
    "duration": 10,
    "start_time": "2021-12-06T10:29:02.518Z"
   },
   {
    "duration": 10,
    "start_time": "2021-12-06T10:29:22.497Z"
   },
   {
    "duration": 7,
    "start_time": "2021-12-06T10:29:27.053Z"
   },
   {
    "duration": 8,
    "start_time": "2021-12-06T10:29:52.009Z"
   },
   {
    "duration": 5,
    "start_time": "2021-12-06T10:29:52.726Z"
   },
   {
    "duration": 7,
    "start_time": "2021-12-06T10:31:57.912Z"
   },
   {
    "duration": 2932,
    "start_time": "2022-04-11T09:14:24.550Z"
   },
   {
    "duration": 2984,
    "start_time": "2022-04-11T09:14:27.487Z"
   },
   {
    "duration": 91,
    "start_time": "2022-04-11T09:14:33.436Z"
   },
   {
    "duration": 5,
    "start_time": "2022-04-11T09:14:41.287Z"
   },
   {
    "duration": 32,
    "start_time": "2022-04-11T09:17:17.075Z"
   },
   {
    "duration": 33,
    "start_time": "2022-04-11T09:17:20.545Z"
   },
   {
    "duration": 23,
    "start_time": "2022-04-11T09:17:30.816Z"
   },
   {
    "duration": 27,
    "start_time": "2022-04-11T09:17:31.327Z"
   },
   {
    "duration": 59,
    "start_time": "2022-04-11T09:17:43.251Z"
   },
   {
    "duration": 38,
    "start_time": "2022-04-11T09:17:43.331Z"
   },
   {
    "duration": 48,
    "start_time": "2022-04-11T09:17:47.431Z"
   },
   {
    "duration": 33,
    "start_time": "2022-04-11T09:30:43.068Z"
   },
   {
    "duration": 15,
    "start_time": "2022-04-11T09:30:43.521Z"
   },
   {
    "duration": 10,
    "start_time": "2022-04-11T09:30:46.069Z"
   },
   {
    "duration": 589,
    "start_time": "2022-04-11T09:30:46.853Z"
   },
   {
    "duration": 578,
    "start_time": "2022-04-11T09:30:47.445Z"
   },
   {
    "duration": 726,
    "start_time": "2022-04-11T09:30:52.906Z"
   },
   {
    "duration": 776,
    "start_time": "2022-04-11T09:30:53.635Z"
   },
   {
    "duration": 530,
    "start_time": "2022-04-11T09:31:29.022Z"
   },
   {
    "duration": 12,
    "start_time": "2022-04-11T09:31:29.607Z"
   },
   {
    "duration": 378,
    "start_time": "2022-04-11T09:31:29.986Z"
   },
   {
    "duration": 15,
    "start_time": "2022-04-11T09:31:33.808Z"
   },
   {
    "duration": 976,
    "start_time": "2022-04-11T09:31:36.999Z"
   },
   {
    "duration": 22,
    "start_time": "2022-04-11T09:31:37.979Z"
   }
  ],
  "kernelspec": {
   "display_name": "Python 3",
   "language": "python",
   "name": "python3"
  },
  "language_info": {
   "codemirror_mode": {
    "name": "ipython",
    "version": 3
   },
   "file_extension": ".py",
   "mimetype": "text/x-python",
   "name": "python",
   "nbconvert_exporter": "python",
   "pygments_lexer": "ipython3",
   "version": "3.8.5"
  },
  "toc": {
   "base_numbering": 1,
   "nav_menu": {},
   "number_sections": true,
   "sideBar": true,
   "skip_h1_title": true,
   "title_cell": "Table of Contents",
   "title_sidebar": "Contents",
   "toc_cell": false,
   "toc_position": {},
   "toc_section_display": true,
   "toc_window_display": false
  }
 },
 "nbformat": 4,
 "nbformat_minor": 4
}
