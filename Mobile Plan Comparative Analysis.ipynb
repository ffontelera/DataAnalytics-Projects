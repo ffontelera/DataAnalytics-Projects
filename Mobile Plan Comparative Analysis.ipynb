{
 "cells": [
  {
   "cell_type": "markdown",
   "metadata": {},
   "source": [
    "# Mobile Plan Comparative Analysis"
   ]
  },
  {
   "cell_type": "markdown",
   "metadata": {},
   "source": [
    "#### Objective: To analyze clients' behavior and determine which prepaid plan brings in more revenue"
   ]
  },
  {
   "cell_type": "markdown",
   "metadata": {},
   "source": [
    "## Description of the Data"
   ]
  },
  {
   "cell_type": "markdown",
   "metadata": {},
   "source": [
    "Megaline rounds seconds up to minutes, and megabytes to gigabytes. For calls, each individual call is rounded up: even if the call lasted just one second, it will be counted as one minute. For web traffic, individual web sessions are not rounded up. Instead, the total for the month is rounded up. If someone uses 1025 megabytes this month, they will be charged for 2 gigabytes.\n",
    "The users table (data on users):\n",
    "\n",
    "    user_id — unique user identifier\n",
    "    first_name — user's name\n",
    "    last_name — user's last name\n",
    "    age — user's age (years)\n",
    "    reg_date — subscription date (dd, mm, yy)\n",
    "    churn_date — the date the user stopped using the service (if the value is missing, the calling plan was being used when this data was retrieved)\n",
    "    city — user's city of residence\n",
    "    plan — calling plan name\n",
    "\n",
    "The calls table (data on calls):\n",
    "\n",
    "    id — unique call identifier\n",
    "    call_date — call date\n",
    "    duration — call duration (in minutes)\n",
    "    user_id — the identifier of the user making the call\n",
    "\n",
    "The messages table (data on texts):\n",
    "\n",
    "    id — unique text message identifier\n",
    "    message_date — text message date\n",
    "    user_id — the identifier of the user sending the text\n",
    "\n",
    "The internet table (data on web sessions):\n",
    "\n",
    "    id — unique session identifier\n",
    "    mb_used — the volume of data spent during the session (in megabytes)\n",
    "    session_date — web session date\n",
    "    user_id — user identifier\n",
    "\n",
    "The plans table (data on the plans):\n",
    "\n",
    "    plan_name — calling plan name\n",
    "    usd_monthly_fee — monthly charge in US dollars\n",
    "    minutes_included — monthly minute allowance\n",
    "    messages_included — monthly text allowance\n",
    "    mb_per_month_included — data volume allowance (in megabytes)\n",
    "    usd_per_minute — price per minute after exceeding the package limits (e.g., if the package includes 100 minutes, the 101st minute will be charged)\n",
    "    usd_per_message — price per text after exceeding the package limits\n",
    "    usd_per_gb — price per extra gigabyte of data after exceeding the package limits (1 GB = 1024 megabytes)"
   ]
  },
  {
   "cell_type": "markdown",
   "metadata": {},
   "source": [
    "## Step 1. Open the data file and study the general information"
   ]
  },
  {
   "cell_type": "code",
   "execution_count": null,
   "metadata": {},
   "outputs": [],
   "source": [
    "import pandas as pd\n",
    "from io import BytesIO\n",
    "import requests\n",
    "import numpy as np\n",
    "import matplotlib.pyplot as plt \n",
    "import seaborn as sns \n",
    "import warnings\n",
    "warnings.simplefilter(action=\"ignore\", category=FutureWarning)\n",
    "import scipy\n",
    "from scipy import stats as st"
   ]
  },
  {
   "cell_type": "code",
   "execution_count": null,
   "metadata": {},
   "outputs": [],
   "source": [
    "\n",
    "spreadsheet_id = '1EVGFrzc_zPw8NumvU1VSkG2fpunGT0lJn9gj_k2zwkY'\n",
    "file_name = 'https://docs.google.com/spreadsheets/d/{}/export?format=csv'.format(spreadsheet_id)\n",
    "r = requests.get(file_name)\n",
    "calls = pd.read_csv(BytesIO(r.content))\n",
    "\n",
    "spreadsheet_id = '1nCZXmNI_29fv719U5nqcv3YtoBaTaxqgOymehPxL38k'\n",
    "file_name = 'https://docs.google.com/spreadsheets/d/{}/export?format=csv'.format(spreadsheet_id)\n",
    "r = requests.get(file_name)\n",
    "internet = pd.read_csv(BytesIO(r.content))\n",
    "\n",
    "spreadsheet_id = '1djQbiyemfHn3ln7OyDSJMz8FBWAIPwdbqq-DCOXW7QI'\n",
    "file_name = 'https://docs.google.com/spreadsheets/d/{}/export?format=csv'.format(spreadsheet_id)\n",
    "r = requests.get(file_name)\n",
    "messages = pd.read_csv(BytesIO(r.content))\n",
    "\n",
    "spreadsheet_id = '1kpEjXWmeUpSrWdP9qOjjFE9otyz8TkfD64XjzI2FtSY'\n",
    "file_name = 'https://docs.google.com/spreadsheets/d/{}/export?format=csv'.format(spreadsheet_id)\n",
    "r = requests.get(file_name)\n",
    "plans = pd.read_csv(BytesIO(r.content))\n",
    "\n",
    "spreadsheet_id = '1ZJu1X3FgP2t7vl60TnIiVHD6fTi6_57fU2UJVBB3kw4'\n",
    "file_name = 'https://docs.google.com/spreadsheets/d/{}/export?format=csv'.format(spreadsheet_id)\n",
    "r = requests.get(file_name)\n",
    "users = pd.read_csv(BytesIO(r.content))"
   ]
  },
  {
   "cell_type": "code",
   "execution_count": null,
   "metadata": {},
   "outputs": [],
   "source": [
    "display(calls.info())\n",
    "display(calls.head())\n",
    "display(calls.describe())"
   ]
  },
  {
   "cell_type": "markdown",
   "metadata": {},
   "source": [
    "> -  **Call_date** should be changed to datetime format\n",
    "> - **Duration** should be changed to int datatype since the company rounds seconds to minutes\n",
    "> - There are no missing values\n",
    "> - Average call duration is about 6-7 minutes\n",
    "> - Maximum call duration  is about 38 minutes"
   ]
  },
  {
   "cell_type": "code",
   "execution_count": null,
   "metadata": {},
   "outputs": [],
   "source": [
    "display(internet.info())\n",
    "display(internet.head())\n",
    "display(internet.describe())"
   ]
  },
  {
   "cell_type": "markdown",
   "metadata": {},
   "source": [
    "> - **Session_date** should be changed to datetime format\n",
    "> - For web traffic, total monthly use is rounded up and not individual web sessions\n",
    "> - There are no missing values\n",
    "> - Average **mb_used** is 366"
   ]
  },
  {
   "cell_type": "code",
   "execution_count": null,
   "metadata": {},
   "outputs": [],
   "source": [
    "display(messages.info())\n",
    "display(messages.head())\n",
    "display(messages.describe())"
   ]
  },
  {
   "cell_type": "markdown",
   "metadata": {},
   "source": [
    "> -  **Message_date** needs to be changed to datetime\n",
    "> - There are no missing values"
   ]
  },
  {
   "cell_type": "code",
   "execution_count": null,
   "metadata": {},
   "outputs": [],
   "source": [
    "display(plans.info())\n",
    "display(plans.head())\n",
    "display(plans.describe())"
   ]
  },
  {
   "cell_type": "markdown",
   "metadata": {},
   "source": [
    "> - No missing values and the columns are on their right datatypes"
   ]
  },
  {
   "cell_type": "code",
   "execution_count": null,
   "metadata": {},
   "outputs": [],
   "source": [
    "display(users.info())\n",
    "display(users.head())\n",
    "display(users.describe())"
   ]
  },
  {
   "cell_type": "markdown",
   "metadata": {},
   "source": [
    "> - **Reg_date** and **churn_date** needs to be changed to datetime dtype\n",
    "> - There seems to be a lot of missing values under the **churn_date** column. According to the description of the data, churn_date is the date the user stopped using the service. If the value is missing, the calling plan was being used when the data was generated.\n",
    "> - Average users are 45 years old\n"
   ]
  },
  {
   "cell_type": "markdown",
   "metadata": {},
   "source": [
    "### Conclusion\n"
   ]
  },
  {
   "cell_type": "markdown",
   "metadata": {},
   "source": [
    "> - Looking through the data, there's not a lot of missing values. \n",
    "> -Churn_date column has the only missing values. \n",
    "> - Several columns have incorrect datatypes especially the date columns which currently have the object dataytype. We need to do some data preprocessing, data type replacement and replace missing values when necessary."
   ]
  },
  {
   "cell_type": "markdown",
   "metadata": {},
   "source": [
    "## Step 2. Prepare the data"
   ]
  },
  {
   "cell_type": "markdown",
   "metadata": {},
   "source": [
    "> - Convert the data to the necessary types\n",
    "> - Find and eliminate errors in the data\n",
    "\n",
    "For each user, find:\n",
    "> - The number of calls made and minutes used per month\n",
    "> - The number of text messages sent per month\n",
    "> - The volume of data per month\n",
    "> - The monthly revenue from each user (subtract the free package limit from the total number of calls, text messages, and data; multiply the result by the calling plan value; add the monthly charge depending on the calling plan)"
   ]
  },
  {
   "cell_type": "markdown",
   "metadata": {},
   "source": [
    "#### Changing data types"
   ]
  },
  {
   "cell_type": "code",
   "execution_count": null,
   "metadata": {},
   "outputs": [],
   "source": [
    "#Casting datetime to date columns\n",
    "calls['call_date'] = pd.to_datetime(calls['call_date'])\n",
    "internet['session_date'] = pd.to_datetime(internet['session_date'])\n",
    "messages['message_date'] = pd.to_datetime(messages['message_date'])\n",
    "users['reg_date'] = pd.to_datetime(users['reg_date'])\n",
    "users['churn_date'] = pd.to_datetime(users['churn_date'])"
   ]
  },
  {
   "cell_type": "code",
   "execution_count": null,
   "metadata": {},
   "outputs": [],
   "source": [
    "#Rounding up  all calls to minutes\n",
    "calls['duration'] = calls['duration'].apply(np.ceil).astype(int)"
   ]
  },
  {
   "cell_type": "markdown",
   "metadata": {},
   "source": [
    "> - As per company policy, I rounded all the calls to minutes "
   ]
  },
  {
   "cell_type": "markdown",
   "metadata": {},
   "source": [
    "#### Checking for duplicates"
   ]
  },
  {
   "cell_type": "code",
   "execution_count": null,
   "metadata": {},
   "outputs": [],
   "source": [
    "display(calls.duplicated().sum())\n",
    "display(internet.duplicated().sum())\n",
    "display(messages.duplicated().sum())\n",
    "display(plans.duplicated().sum())\n",
    "display(users.duplicated().sum())"
   ]
  },
  {
   "cell_type": "markdown",
   "metadata": {},
   "source": [
    "#### Missing Values Replacement"
   ]
  },
  {
   "cell_type": "markdown",
   "metadata": {},
   "source": [
    "> - As we found out earlier, the **churn_date** column under <em>Users df</em> has the only one with missing values. Let's go ahead and deal with it. \n",
    "> - According to the company, there are missing values because the calling plan was being used when the data was generated. Because of that I'm filling the missing values with <em>not available</em>."
   ]
  },
  {
   "cell_type": "code",
   "execution_count": null,
   "metadata": {},
   "outputs": [],
   "source": [
    "users['churn_date']= users['churn_date'].fillna('not available')"
   ]
  },
  {
   "cell_type": "code",
   "execution_count": null,
   "metadata": {},
   "outputs": [],
   "source": [
    "calls.info()"
   ]
  },
  {
   "cell_type": "code",
   "execution_count": null,
   "metadata": {},
   "outputs": [],
   "source": [
    "calls.loc[calls['duration']==0]"
   ]
  },
  {
   "cell_type": "code",
   "execution_count": null,
   "metadata": {},
   "outputs": [],
   "source": [
    "#categorizing call duration\n",
    "calls['type'] = np.where(calls['duration']== 0,'Missed', 'Connected')\n",
    "display(calls.sample(10))\n",
    "display(calls['type'].value_counts())"
   ]
  },
  {
   "cell_type": "code",
   "execution_count": null,
   "metadata": {},
   "outputs": [],
   "source": [
    "calls['duration'].hist()\n",
    "plt.title('Call Duration')\n",
    "plt.show()\n"
   ]
  },
  {
   "cell_type": "markdown",
   "metadata": {},
   "source": [
    "> - I decided to categorize calls that had zero minutes to **<em>Missed</em>** and **<em>Connected</em>** for the rest \n",
    "> - As we can see there are 26834 missed calls"
   ]
  },
  {
   "cell_type": "code",
   "execution_count": null,
   "metadata": {},
   "outputs": [],
   "source": [
    "internet.loc[internet['mb_used']== 0]"
   ]
  },
  {
   "cell_type": "code",
   "execution_count": 104,
   "metadata": {},
   "outputs": [
    {
     "data": {
      "image/png": "[encoded data removed]",
      "text/plain": [
       "<Figure size 432x288 with 1 Axes>"
      ]
     },
     "metadata": {},
     "output_type": "display_data"
    }
   ],
   "source": [
    "internet['mb_used'].hist()\n",
    "plt.title('Volume of data used')\n",
    "plt.xlabel('Mb_used')\n",
    "plt.show()"
   ]
  },
  {
   "cell_type": "markdown",
   "metadata": {},
   "source": [
    "> There are 13747 users that did not use their data. It could be that they're always connected to WIFI or out of the country"
   ]
  },
  {
   "cell_type": "markdown",
   "metadata": {},
   "source": [
    "#### Calculations "
   ]
  },
  {
   "cell_type": "markdown",
   "metadata": {},
   "source": [
    "**<em>Calls per month and minutes used per month</em>**"
   ]
  },
  {
   "cell_type": "code",
   "execution_count": 86,
   "metadata": {},
   "outputs": [],
   "source": [
    "calls['month'] = calls['call_date'].dt.month"
   ]
  },
  {
   "cell_type": "code",
   "execution_count": 87,
   "metadata": {},
   "outputs": [
    {
     "data": {
      "text/html": [
       "<div>\n",
       "<style scoped>\n",
       "    .dataframe tbody tr th:only-of-type {\n",
       "        vertical-align: middle;\n",
       "    }\n",
       "\n",
       "    .dataframe tbody tr th {\n",
       "        vertical-align: top;\n",
       "    }\n",
       "\n",
       "    .dataframe thead th {\n",
       "        text-align: right;\n",
       "    }\n",
       "</style>\n",
       "<table border=\"1\" class=\"dataframe\">\n",
       "  <thead>\n",
       "    <tr style=\"text-align: right;\">\n",
       "      <th></th>\n",
       "      <th></th>\n",
       "      <th>calls per month</th>\n",
       "    </tr>\n",
       "    <tr>\n",
       "      <th>user_id</th>\n",
       "      <th>month</th>\n",
       "      <th></th>\n",
       "    </tr>\n",
       "  </thead>\n",
       "  <tbody>\n",
       "    <tr>\n",
       "      <td>1000</td>\n",
       "      <td>12</td>\n",
       "      <td>16</td>\n",
       "    </tr>\n",
       "    <tr>\n",
       "      <td rowspan=\"4\" valign=\"top\">1001</td>\n",
       "      <td>8</td>\n",
       "      <td>27</td>\n",
       "    </tr>\n",
       "    <tr>\n",
       "      <td>9</td>\n",
       "      <td>49</td>\n",
       "    </tr>\n",
       "    <tr>\n",
       "      <td>10</td>\n",
       "      <td>65</td>\n",
       "    </tr>\n",
       "    <tr>\n",
       "      <td>11</td>\n",
       "      <td>64</td>\n",
       "    </tr>\n",
       "    <tr>\n",
       "      <td>...</td>\n",
       "      <td>...</td>\n",
       "      <td>...</td>\n",
       "    </tr>\n",
       "    <tr>\n",
       "      <td>1498</td>\n",
       "      <td>12</td>\n",
       "      <td>39</td>\n",
       "    </tr>\n",
       "    <tr>\n",
       "      <td rowspan=\"4\" valign=\"top\">1499</td>\n",
       "      <td>9</td>\n",
       "      <td>41</td>\n",
       "    </tr>\n",
       "    <tr>\n",
       "      <td>10</td>\n",
       "      <td>53</td>\n",
       "    </tr>\n",
       "    <tr>\n",
       "      <td>11</td>\n",
       "      <td>45</td>\n",
       "    </tr>\n",
       "    <tr>\n",
       "      <td>12</td>\n",
       "      <td>65</td>\n",
       "    </tr>\n",
       "  </tbody>\n",
       "</table>\n",
       "<p>2258 rows × 1 columns</p>\n",
       "</div>"
      ],
      "text/plain": [
       "               calls per month\n",
       "user_id month                 \n",
       "1000    12                  16\n",
       "1001    8                   27\n",
       "        9                   49\n",
       "        10                  65\n",
       "        11                  64\n",
       "...                        ...\n",
       "1498    12                  39\n",
       "1499    9                   41\n",
       "        10                  53\n",
       "        11                  45\n",
       "        12                  65\n",
       "\n",
       "[2258 rows x 1 columns]"
      ]
     },
     "metadata": {},
     "output_type": "display_data"
    },
    {
     "data": {
      "text/html": [
       "<div>\n",
       "<style scoped>\n",
       "    .dataframe tbody tr th:only-of-type {\n",
       "        vertical-align: middle;\n",
       "    }\n",
       "\n",
       "    .dataframe tbody tr th {\n",
       "        vertical-align: top;\n",
       "    }\n",
       "\n",
       "    .dataframe thead th {\n",
       "        text-align: right;\n",
       "    }\n",
       "</style>\n",
       "<table border=\"1\" class=\"dataframe\">\n",
       "  <thead>\n",
       "    <tr style=\"text-align: right;\">\n",
       "      <th></th>\n",
       "      <th></th>\n",
       "      <th>mins used</th>\n",
       "    </tr>\n",
       "    <tr>\n",
       "      <th>user_id</th>\n",
       "      <th>month</th>\n",
       "      <th></th>\n",
       "    </tr>\n",
       "  </thead>\n",
       "  <tbody>\n",
       "    <tr>\n",
       "      <td>1000</td>\n",
       "      <td>12</td>\n",
       "      <td>124</td>\n",
       "    </tr>\n",
       "    <tr>\n",
       "      <td rowspan=\"4\" valign=\"top\">1001</td>\n",
       "      <td>8</td>\n",
       "      <td>182</td>\n",
       "    </tr>\n",
       "    <tr>\n",
       "      <td>9</td>\n",
       "      <td>315</td>\n",
       "    </tr>\n",
       "    <tr>\n",
       "      <td>10</td>\n",
       "      <td>393</td>\n",
       "    </tr>\n",
       "    <tr>\n",
       "      <td>11</td>\n",
       "      <td>426</td>\n",
       "    </tr>\n",
       "    <tr>\n",
       "      <td>...</td>\n",
       "      <td>...</td>\n",
       "      <td>...</td>\n",
       "    </tr>\n",
       "    <tr>\n",
       "      <td>1498</td>\n",
       "      <td>12</td>\n",
       "      <td>339</td>\n",
       "    </tr>\n",
       "    <tr>\n",
       "      <td rowspan=\"4\" valign=\"top\">1499</td>\n",
       "      <td>9</td>\n",
       "      <td>346</td>\n",
       "    </tr>\n",
       "    <tr>\n",
       "      <td>10</td>\n",
       "      <td>385</td>\n",
       "    </tr>\n",
       "    <tr>\n",
       "      <td>11</td>\n",
       "      <td>308</td>\n",
       "    </tr>\n",
       "    <tr>\n",
       "      <td>12</td>\n",
       "      <td>496</td>\n",
       "    </tr>\n",
       "  </tbody>\n",
       "</table>\n",
       "<p>2258 rows × 1 columns</p>\n",
       "</div>"
      ],
      "text/plain": [
       "               mins used\n",
       "user_id month           \n",
       "1000    12           124\n",
       "1001    8            182\n",
       "        9            315\n",
       "        10           393\n",
       "        11           426\n",
       "...                  ...\n",
       "1498    12           339\n",
       "1499    9            346\n",
       "        10           385\n",
       "        11           308\n",
       "        12           496\n",
       "\n",
       "[2258 rows x 1 columns]"
      ]
     },
     "metadata": {},
     "output_type": "display_data"
    }
   ],
   "source": [
    "calls_per_month = calls.groupby(['user_id','month']).agg({'id':'count'}).rename(columns={'id':'calls per month'})\n",
    "display(calls_per_month)\n",
    "\n",
    "#Minutes used per month\n",
    "mins_used = calls.groupby(['user_id', 'month']).agg({'duration':'sum'}).rename(columns={'duration': 'mins used'})\n",
    "display(mins_used)"
   ]
  },
  {
   "cell_type": "markdown",
   "metadata": {},
   "source": [
    "**<em>Messages sent per month</em>**"
   ]
  },
  {
   "cell_type": "code",
   "execution_count": 88,
   "metadata": {},
   "outputs": [],
   "source": [
    "messages['month'] = messages['message_date'].dt.month"
   ]
  },
  {
   "cell_type": "code",
   "execution_count": 89,
   "metadata": {},
   "outputs": [
    {
     "data": {
      "text/html": [
       "<div>\n",
       "<style scoped>\n",
       "    .dataframe tbody tr th:only-of-type {\n",
       "        vertical-align: middle;\n",
       "    }\n",
       "\n",
       "    .dataframe tbody tr th {\n",
       "        vertical-align: top;\n",
       "    }\n",
       "\n",
       "    .dataframe thead th {\n",
       "        text-align: right;\n",
       "    }\n",
       "</style>\n",
       "<table border=\"1\" class=\"dataframe\">\n",
       "  <thead>\n",
       "    <tr style=\"text-align: right;\">\n",
       "      <th></th>\n",
       "      <th></th>\n",
       "      <th>msgs per month</th>\n",
       "    </tr>\n",
       "    <tr>\n",
       "      <th>user_id</th>\n",
       "      <th>month</th>\n",
       "      <th></th>\n",
       "    </tr>\n",
       "  </thead>\n",
       "  <tbody>\n",
       "    <tr>\n",
       "      <td>1000</td>\n",
       "      <td>12</td>\n",
       "      <td>11</td>\n",
       "    </tr>\n",
       "    <tr>\n",
       "      <td rowspan=\"4\" valign=\"top\">1001</td>\n",
       "      <td>8</td>\n",
       "      <td>30</td>\n",
       "    </tr>\n",
       "    <tr>\n",
       "      <td>9</td>\n",
       "      <td>44</td>\n",
       "    </tr>\n",
       "    <tr>\n",
       "      <td>10</td>\n",
       "      <td>53</td>\n",
       "    </tr>\n",
       "    <tr>\n",
       "      <td>11</td>\n",
       "      <td>36</td>\n",
       "    </tr>\n",
       "  </tbody>\n",
       "</table>\n",
       "</div>"
      ],
      "text/plain": [
       "               msgs per month\n",
       "user_id month                \n",
       "1000    12                 11\n",
       "1001    8                  30\n",
       "        9                  44\n",
       "        10                 53\n",
       "        11                 36"
      ]
     },
     "metadata": {},
     "output_type": "display_data"
    }
   ],
   "source": [
    "msgs_per_month = messages.groupby(['user_id', 'month']).agg({'id':'count'}).rename(columns={'id':'msgs per month'})\n",
    "display(msgs_per_month.head())"
   ]
  },
  {
   "cell_type": "markdown",
   "metadata": {},
   "source": [
    "**<em>Data per month</em>**"
   ]
  },
  {
   "cell_type": "code",
   "execution_count": 90,
   "metadata": {},
   "outputs": [],
   "source": [
    "internet['month']= internet['session_date'].dt.month"
   ]
  },
  {
   "cell_type": "code",
   "execution_count": 91,
   "metadata": {},
   "outputs": [
    {
     "data": {
      "text/html": [
       "<div>\n",
       "<style scoped>\n",
       "    .dataframe tbody tr th:only-of-type {\n",
       "        vertical-align: middle;\n",
       "    }\n",
       "\n",
       "    .dataframe tbody tr th {\n",
       "        vertical-align: top;\n",
       "    }\n",
       "\n",
       "    .dataframe thead th {\n",
       "        text-align: right;\n",
       "    }\n",
       "</style>\n",
       "<table border=\"1\" class=\"dataframe\">\n",
       "  <thead>\n",
       "    <tr style=\"text-align: right;\">\n",
       "      <th></th>\n",
       "      <th></th>\n",
       "      <th>data in mb used</th>\n",
       "      <th>data in gb per month</th>\n",
       "    </tr>\n",
       "    <tr>\n",
       "      <th>user_id</th>\n",
       "      <th>month</th>\n",
       "      <th></th>\n",
       "      <th></th>\n",
       "    </tr>\n",
       "  </thead>\n",
       "  <tbody>\n",
       "    <tr>\n",
       "      <td>1000</td>\n",
       "      <td>12</td>\n",
       "      <td>1901.47</td>\n",
       "      <td>2</td>\n",
       "    </tr>\n",
       "    <tr>\n",
       "      <td rowspan=\"4\" valign=\"top\">1001</td>\n",
       "      <td>8</td>\n",
       "      <td>6919.15</td>\n",
       "      <td>7</td>\n",
       "    </tr>\n",
       "    <tr>\n",
       "      <td>9</td>\n",
       "      <td>13314.82</td>\n",
       "      <td>14</td>\n",
       "    </tr>\n",
       "    <tr>\n",
       "      <td>10</td>\n",
       "      <td>22330.49</td>\n",
       "      <td>22</td>\n",
       "    </tr>\n",
       "    <tr>\n",
       "      <td>11</td>\n",
       "      <td>18504.30</td>\n",
       "      <td>19</td>\n",
       "    </tr>\n",
       "  </tbody>\n",
       "</table>\n",
       "</div>"
      ],
      "text/plain": [
       "               data in mb used  data in gb per month\n",
       "user_id month                                       \n",
       "1000    12             1901.47                     2\n",
       "1001    8              6919.15                     7\n",
       "        9             13314.82                    14\n",
       "        10            22330.49                    22\n",
       "        11            18504.30                    19"
      ]
     },
     "metadata": {},
     "output_type": "display_data"
    }
   ],
   "source": [
    "data_per_month = internet.groupby(['user_id','month']).agg({'mb_used':'sum'}).\\\n",
    "                rename(columns={'mb_used':'data in mb used'})\n",
    "data_per_month['data in gb per month'] = np.ceil((data_per_month['data in mb used'].values) / 1024).astype(int)\n",
    "display(data_per_month.head())"
   ]
  },
  {
   "cell_type": "code",
   "execution_count": 18,
   "metadata": {},
   "outputs": [
    {
     "data": {
      "text/html": [
       "<div>\n",
       "<style scoped>\n",
       "    .dataframe tbody tr th:only-of-type {\n",
       "        vertical-align: middle;\n",
       "    }\n",
       "\n",
       "    .dataframe tbody tr th {\n",
       "        vertical-align: top;\n",
       "    }\n",
       "\n",
       "    .dataframe thead th {\n",
       "        text-align: right;\n",
       "    }\n",
       "</style>\n",
       "<table border=\"1\" class=\"dataframe\">\n",
       "  <thead>\n",
       "    <tr style=\"text-align: right;\">\n",
       "      <th></th>\n",
       "      <th>data in mb used</th>\n",
       "      <th>data in gb per month</th>\n",
       "    </tr>\n",
       "  </thead>\n",
       "  <tbody>\n",
       "    <tr>\n",
       "      <td>count</td>\n",
       "      <td>2277.000000</td>\n",
       "      <td>2277.000000</td>\n",
       "    </tr>\n",
       "    <tr>\n",
       "      <td>mean</td>\n",
       "      <td>16882.197501</td>\n",
       "      <td>17.372859</td>\n",
       "    </tr>\n",
       "    <tr>\n",
       "      <td>std</td>\n",
       "      <td>7869.784848</td>\n",
       "      <td>7.869052</td>\n",
       "    </tr>\n",
       "    <tr>\n",
       "      <td>min</td>\n",
       "      <td>92.310000</td>\n",
       "      <td>1.000000</td>\n",
       "    </tr>\n",
       "    <tr>\n",
       "      <td>25%</td>\n",
       "      <td>12347.720000</td>\n",
       "      <td>13.000000</td>\n",
       "    </tr>\n",
       "    <tr>\n",
       "      <td>50%</td>\n",
       "      <td>16873.740000</td>\n",
       "      <td>17.000000</td>\n",
       "    </tr>\n",
       "    <tr>\n",
       "      <td>75%</td>\n",
       "      <td>21041.520000</td>\n",
       "      <td>22.000000</td>\n",
       "    </tr>\n",
       "    <tr>\n",
       "      <td>max</td>\n",
       "      <td>70931.590000</td>\n",
       "      <td>71.000000</td>\n",
       "    </tr>\n",
       "  </tbody>\n",
       "</table>\n",
       "</div>"
      ],
      "text/plain": [
       "       data in mb used  data in gb per month\n",
       "count      2277.000000           2277.000000\n",
       "mean      16882.197501             17.372859\n",
       "std        7869.784848              7.869052\n",
       "min          92.310000              1.000000\n",
       "25%       12347.720000             13.000000\n",
       "50%       16873.740000             17.000000\n",
       "75%       21041.520000             22.000000\n",
       "max       70931.590000             71.000000"
      ]
     },
     "execution_count": 18,
     "metadata": {},
     "output_type": "execute_result"
    }
   ],
   "source": [
    "data_per_month.describe()"
   ]
  },
  {
   "cell_type": "code",
   "execution_count": 19,
   "metadata": {},
   "outputs": [],
   "source": [
    "user_plan = users[['user_id', 'plan', 'city']]"
   ]
  },
  {
   "cell_type": "code",
   "execution_count": 20,
   "metadata": {},
   "outputs": [],
   "source": [
    "monthly_usage = pd.concat([calls_per_month, mins_used, msgs_per_month, data_per_month],axis=1).\\\n",
    "                reset_index().merge(user_plan, on='user_id')\n"
   ]
  },
  {
   "cell_type": "markdown",
   "metadata": {},
   "source": [
    "> - We were able to calculate the average usage monthly and created a separated dataframe so we can look at it closely. Now we need to calculate the monthly revenue."
   ]
  },
  {
   "cell_type": "code",
   "execution_count": 21,
   "metadata": {},
   "outputs": [
    {
     "data": {
      "text/html": [
       "<div>\n",
       "<style scoped>\n",
       "    .dataframe tbody tr th:only-of-type {\n",
       "        vertical-align: middle;\n",
       "    }\n",
       "\n",
       "    .dataframe tbody tr th {\n",
       "        vertical-align: top;\n",
       "    }\n",
       "\n",
       "    .dataframe thead th {\n",
       "        text-align: right;\n",
       "    }\n",
       "</style>\n",
       "<table border=\"1\" class=\"dataframe\">\n",
       "  <thead>\n",
       "    <tr style=\"text-align: right;\">\n",
       "      <th></th>\n",
       "      <th>user_id</th>\n",
       "      <th>month</th>\n",
       "      <th>calls per month</th>\n",
       "      <th>mins used</th>\n",
       "      <th>msgs per month</th>\n",
       "      <th>data in mb used</th>\n",
       "      <th>data in gb per month</th>\n",
       "      <th>plan</th>\n",
       "      <th>city</th>\n",
       "    </tr>\n",
       "  </thead>\n",
       "  <tbody>\n",
       "    <tr>\n",
       "      <td>0</td>\n",
       "      <td>1000</td>\n",
       "      <td>12</td>\n",
       "      <td>16.0</td>\n",
       "      <td>124.0</td>\n",
       "      <td>11.0</td>\n",
       "      <td>1901.47</td>\n",
       "      <td>2.0</td>\n",
       "      <td>ultimate</td>\n",
       "      <td>Atlanta-Sandy Springs-Roswell, GA MSA</td>\n",
       "    </tr>\n",
       "    <tr>\n",
       "      <td>1</td>\n",
       "      <td>1001</td>\n",
       "      <td>8</td>\n",
       "      <td>27.0</td>\n",
       "      <td>182.0</td>\n",
       "      <td>30.0</td>\n",
       "      <td>6919.15</td>\n",
       "      <td>7.0</td>\n",
       "      <td>surf</td>\n",
       "      <td>Seattle-Tacoma-Bellevue, WA MSA</td>\n",
       "    </tr>\n",
       "    <tr>\n",
       "      <td>2</td>\n",
       "      <td>1001</td>\n",
       "      <td>9</td>\n",
       "      <td>49.0</td>\n",
       "      <td>315.0</td>\n",
       "      <td>44.0</td>\n",
       "      <td>13314.82</td>\n",
       "      <td>14.0</td>\n",
       "      <td>surf</td>\n",
       "      <td>Seattle-Tacoma-Bellevue, WA MSA</td>\n",
       "    </tr>\n",
       "    <tr>\n",
       "      <td>3</td>\n",
       "      <td>1001</td>\n",
       "      <td>10</td>\n",
       "      <td>65.0</td>\n",
       "      <td>393.0</td>\n",
       "      <td>53.0</td>\n",
       "      <td>22330.49</td>\n",
       "      <td>23.0</td>\n",
       "      <td>surf</td>\n",
       "      <td>Seattle-Tacoma-Bellevue, WA MSA</td>\n",
       "    </tr>\n",
       "    <tr>\n",
       "      <td>4</td>\n",
       "      <td>1001</td>\n",
       "      <td>11</td>\n",
       "      <td>64.0</td>\n",
       "      <td>426.0</td>\n",
       "      <td>36.0</td>\n",
       "      <td>18504.30</td>\n",
       "      <td>19.0</td>\n",
       "      <td>surf</td>\n",
       "      <td>Seattle-Tacoma-Bellevue, WA MSA</td>\n",
       "    </tr>\n",
       "    <tr>\n",
       "      <td>...</td>\n",
       "      <td>...</td>\n",
       "      <td>...</td>\n",
       "      <td>...</td>\n",
       "      <td>...</td>\n",
       "      <td>...</td>\n",
       "      <td>...</td>\n",
       "      <td>...</td>\n",
       "      <td>...</td>\n",
       "      <td>...</td>\n",
       "    </tr>\n",
       "    <tr>\n",
       "      <td>2288</td>\n",
       "      <td>1498</td>\n",
       "      <td>12</td>\n",
       "      <td>39.0</td>\n",
       "      <td>339.0</td>\n",
       "      <td>NaN</td>\n",
       "      <td>23137.69</td>\n",
       "      <td>24.0</td>\n",
       "      <td>surf</td>\n",
       "      <td>New York-Newark-Jersey City, NY-NJ-PA MSA</td>\n",
       "    </tr>\n",
       "    <tr>\n",
       "      <td>2289</td>\n",
       "      <td>1499</td>\n",
       "      <td>9</td>\n",
       "      <td>41.0</td>\n",
       "      <td>346.0</td>\n",
       "      <td>NaN</td>\n",
       "      <td>12984.76</td>\n",
       "      <td>13.0</td>\n",
       "      <td>surf</td>\n",
       "      <td>Orlando-Kissimmee-Sanford, FL MSA</td>\n",
       "    </tr>\n",
       "    <tr>\n",
       "      <td>2290</td>\n",
       "      <td>1499</td>\n",
       "      <td>10</td>\n",
       "      <td>53.0</td>\n",
       "      <td>385.0</td>\n",
       "      <td>NaN</td>\n",
       "      <td>19492.43</td>\n",
       "      <td>20.0</td>\n",
       "      <td>surf</td>\n",
       "      <td>Orlando-Kissimmee-Sanford, FL MSA</td>\n",
       "    </tr>\n",
       "    <tr>\n",
       "      <td>2291</td>\n",
       "      <td>1499</td>\n",
       "      <td>11</td>\n",
       "      <td>45.0</td>\n",
       "      <td>308.0</td>\n",
       "      <td>NaN</td>\n",
       "      <td>16813.83</td>\n",
       "      <td>17.0</td>\n",
       "      <td>surf</td>\n",
       "      <td>Orlando-Kissimmee-Sanford, FL MSA</td>\n",
       "    </tr>\n",
       "    <tr>\n",
       "      <td>2292</td>\n",
       "      <td>1499</td>\n",
       "      <td>12</td>\n",
       "      <td>65.0</td>\n",
       "      <td>496.0</td>\n",
       "      <td>NaN</td>\n",
       "      <td>22059.21</td>\n",
       "      <td>23.0</td>\n",
       "      <td>surf</td>\n",
       "      <td>Orlando-Kissimmee-Sanford, FL MSA</td>\n",
       "    </tr>\n",
       "  </tbody>\n",
       "</table>\n",
       "<p>2293 rows × 9 columns</p>\n",
       "</div>"
      ],
      "text/plain": [
       "      user_id  month  calls per month  mins used  msgs per month  \\\n",
       "0        1000     12             16.0      124.0            11.0   \n",
       "1        1001      8             27.0      182.0            30.0   \n",
       "2        1001      9             49.0      315.0            44.0   \n",
       "3        1001     10             65.0      393.0            53.0   \n",
       "4        1001     11             64.0      426.0            36.0   \n",
       "...       ...    ...              ...        ...             ...   \n",
       "2288     1498     12             39.0      339.0             NaN   \n",
       "2289     1499      9             41.0      346.0             NaN   \n",
       "2290     1499     10             53.0      385.0             NaN   \n",
       "2291     1499     11             45.0      308.0             NaN   \n",
       "2292     1499     12             65.0      496.0             NaN   \n",
       "\n",
       "      data in mb used  data in gb per month      plan  \\\n",
       "0             1901.47                   2.0  ultimate   \n",
       "1             6919.15                   7.0      surf   \n",
       "2            13314.82                  14.0      surf   \n",
       "3            22330.49                  23.0      surf   \n",
       "4            18504.30                  19.0      surf   \n",
       "...               ...                   ...       ...   \n",
       "2288         23137.69                  24.0      surf   \n",
       "2289         12984.76                  13.0      surf   \n",
       "2290         19492.43                  20.0      surf   \n",
       "2291         16813.83                  17.0      surf   \n",
       "2292         22059.21                  23.0      surf   \n",
       "\n",
       "                                           city  \n",
       "0         Atlanta-Sandy Springs-Roswell, GA MSA  \n",
       "1               Seattle-Tacoma-Bellevue, WA MSA  \n",
       "2               Seattle-Tacoma-Bellevue, WA MSA  \n",
       "3               Seattle-Tacoma-Bellevue, WA MSA  \n",
       "4               Seattle-Tacoma-Bellevue, WA MSA  \n",
       "...                                         ...  \n",
       "2288  New York-Newark-Jersey City, NY-NJ-PA MSA  \n",
       "2289          Orlando-Kissimmee-Sanford, FL MSA  \n",
       "2290          Orlando-Kissimmee-Sanford, FL MSA  \n",
       "2291          Orlando-Kissimmee-Sanford, FL MSA  \n",
       "2292          Orlando-Kissimmee-Sanford, FL MSA  \n",
       "\n",
       "[2293 rows x 9 columns]"
      ]
     },
     "metadata": {},
     "output_type": "display_data"
    },
    {
     "data": {
      "text/html": [
       "<div>\n",
       "<style scoped>\n",
       "    .dataframe tbody tr th:only-of-type {\n",
       "        vertical-align: middle;\n",
       "    }\n",
       "\n",
       "    .dataframe tbody tr th {\n",
       "        vertical-align: top;\n",
       "    }\n",
       "\n",
       "    .dataframe thead th {\n",
       "        text-align: right;\n",
       "    }\n",
       "</style>\n",
       "<table border=\"1\" class=\"dataframe\">\n",
       "  <thead>\n",
       "    <tr style=\"text-align: right;\">\n",
       "      <th></th>\n",
       "      <th>user_id</th>\n",
       "      <th>month</th>\n",
       "      <th>calls per month</th>\n",
       "      <th>mins used</th>\n",
       "      <th>msgs per month</th>\n",
       "      <th>data in mb used</th>\n",
       "      <th>data in gb per month</th>\n",
       "    </tr>\n",
       "  </thead>\n",
       "  <tbody>\n",
       "    <tr>\n",
       "      <td>count</td>\n",
       "      <td>2293.000000</td>\n",
       "      <td>2293.000000</td>\n",
       "      <td>2258.000000</td>\n",
       "      <td>2258.000000</td>\n",
       "      <td>1806.000000</td>\n",
       "      <td>2277.000000</td>\n",
       "      <td>2277.000000</td>\n",
       "    </tr>\n",
       "    <tr>\n",
       "      <td>mean</td>\n",
       "      <td>1246.075883</td>\n",
       "      <td>9.172700</td>\n",
       "      <td>60.998671</td>\n",
       "      <td>435.937555</td>\n",
       "      <td>42.110188</td>\n",
       "      <td>16882.197501</td>\n",
       "      <td>17.372859</td>\n",
       "    </tr>\n",
       "    <tr>\n",
       "      <td>std</td>\n",
       "      <td>143.051927</td>\n",
       "      <td>2.496386</td>\n",
       "      <td>31.770869</td>\n",
       "      <td>231.972343</td>\n",
       "      <td>33.122931</td>\n",
       "      <td>7869.784848</td>\n",
       "      <td>7.869052</td>\n",
       "    </tr>\n",
       "    <tr>\n",
       "      <td>min</td>\n",
       "      <td>1000.000000</td>\n",
       "      <td>1.000000</td>\n",
       "      <td>1.000000</td>\n",
       "      <td>0.000000</td>\n",
       "      <td>1.000000</td>\n",
       "      <td>92.310000</td>\n",
       "      <td>1.000000</td>\n",
       "    </tr>\n",
       "    <tr>\n",
       "      <td>25%</td>\n",
       "      <td>1122.000000</td>\n",
       "      <td>8.000000</td>\n",
       "      <td>39.000000</td>\n",
       "      <td>275.000000</td>\n",
       "      <td>17.000000</td>\n",
       "      <td>12347.720000</td>\n",
       "      <td>13.000000</td>\n",
       "    </tr>\n",
       "    <tr>\n",
       "      <td>50%</td>\n",
       "      <td>1245.000000</td>\n",
       "      <td>10.000000</td>\n",
       "      <td>60.000000</td>\n",
       "      <td>429.000000</td>\n",
       "      <td>34.000000</td>\n",
       "      <td>16873.740000</td>\n",
       "      <td>17.000000</td>\n",
       "    </tr>\n",
       "    <tr>\n",
       "      <td>75%</td>\n",
       "      <td>1368.000000</td>\n",
       "      <td>11.000000</td>\n",
       "      <td>80.000000</td>\n",
       "      <td>574.750000</td>\n",
       "      <td>59.000000</td>\n",
       "      <td>21041.520000</td>\n",
       "      <td>22.000000</td>\n",
       "    </tr>\n",
       "    <tr>\n",
       "      <td>max</td>\n",
       "      <td>1499.000000</td>\n",
       "      <td>12.000000</td>\n",
       "      <td>205.000000</td>\n",
       "      <td>1510.000000</td>\n",
       "      <td>266.000000</td>\n",
       "      <td>70931.590000</td>\n",
       "      <td>71.000000</td>\n",
       "    </tr>\n",
       "  </tbody>\n",
       "</table>\n",
       "</div>"
      ],
      "text/plain": [
       "           user_id        month  calls per month    mins used  msgs per month  \\\n",
       "count  2293.000000  2293.000000      2258.000000  2258.000000     1806.000000   \n",
       "mean   1246.075883     9.172700        60.998671   435.937555       42.110188   \n",
       "std     143.051927     2.496386        31.770869   231.972343       33.122931   \n",
       "min    1000.000000     1.000000         1.000000     0.000000        1.000000   \n",
       "25%    1122.000000     8.000000        39.000000   275.000000       17.000000   \n",
       "50%    1245.000000    10.000000        60.000000   429.000000       34.000000   \n",
       "75%    1368.000000    11.000000        80.000000   574.750000       59.000000   \n",
       "max    1499.000000    12.000000       205.000000  1510.000000      266.000000   \n",
       "\n",
       "       data in mb used  data in gb per month  \n",
       "count      2277.000000           2277.000000  \n",
       "mean      16882.197501             17.372859  \n",
       "std        7869.784848              7.869052  \n",
       "min          92.310000              1.000000  \n",
       "25%       12347.720000             13.000000  \n",
       "50%       16873.740000             17.000000  \n",
       "75%       21041.520000             22.000000  \n",
       "max       70931.590000             71.000000  "
      ]
     },
     "metadata": {},
     "output_type": "display_data"
    }
   ],
   "source": [
    "display(monthly_usage)\n",
    "display(monthly_usage.describe())"
   ]
  },
  {
   "cell_type": "code",
   "execution_count": 22,
   "metadata": {},
   "outputs": [
    {
     "data": {
      "text/html": [
       "<div>\n",
       "<style scoped>\n",
       "    .dataframe tbody tr th:only-of-type {\n",
       "        vertical-align: middle;\n",
       "    }\n",
       "\n",
       "    .dataframe tbody tr th {\n",
       "        vertical-align: top;\n",
       "    }\n",
       "\n",
       "    .dataframe thead th {\n",
       "        text-align: right;\n",
       "    }\n",
       "</style>\n",
       "<table border=\"1\" class=\"dataframe\">\n",
       "  <thead>\n",
       "    <tr style=\"text-align: right;\">\n",
       "      <th></th>\n",
       "      <th>user_id</th>\n",
       "      <th>month</th>\n",
       "      <th>calls per month</th>\n",
       "      <th>mins used</th>\n",
       "      <th>msgs per month</th>\n",
       "      <th>data in mb used</th>\n",
       "      <th>data in gb per month</th>\n",
       "      <th>plan</th>\n",
       "      <th>city</th>\n",
       "      <th>messages_included</th>\n",
       "      <th>mb_per_month_included</th>\n",
       "      <th>minutes_included</th>\n",
       "      <th>usd_monthly_pay</th>\n",
       "      <th>usd_per_gb</th>\n",
       "      <th>usd_per_message</th>\n",
       "      <th>usd_per_minute</th>\n",
       "      <th>plan_name</th>\n",
       "    </tr>\n",
       "  </thead>\n",
       "  <tbody>\n",
       "    <tr>\n",
       "      <td>0</td>\n",
       "      <td>1000</td>\n",
       "      <td>12</td>\n",
       "      <td>16.0</td>\n",
       "      <td>124.0</td>\n",
       "      <td>11.0</td>\n",
       "      <td>1901.47</td>\n",
       "      <td>2.0</td>\n",
       "      <td>ultimate</td>\n",
       "      <td>Atlanta-Sandy Springs-Roswell, GA MSA</td>\n",
       "      <td>1000</td>\n",
       "      <td>30720</td>\n",
       "      <td>3000</td>\n",
       "      <td>70</td>\n",
       "      <td>7</td>\n",
       "      <td>0.01</td>\n",
       "      <td>0.01</td>\n",
       "      <td>ultimate</td>\n",
       "    </tr>\n",
       "    <tr>\n",
       "      <td>1</td>\n",
       "      <td>1006</td>\n",
       "      <td>11</td>\n",
       "      <td>2.0</td>\n",
       "      <td>10.0</td>\n",
       "      <td>15.0</td>\n",
       "      <td>2068.37</td>\n",
       "      <td>3.0</td>\n",
       "      <td>ultimate</td>\n",
       "      <td>San Francisco-Oakland-Berkeley, CA MSA</td>\n",
       "      <td>1000</td>\n",
       "      <td>30720</td>\n",
       "      <td>3000</td>\n",
       "      <td>70</td>\n",
       "      <td>7</td>\n",
       "      <td>0.01</td>\n",
       "      <td>0.01</td>\n",
       "      <td>ultimate</td>\n",
       "    </tr>\n",
       "    <tr>\n",
       "      <td>2</td>\n",
       "      <td>1006</td>\n",
       "      <td>12</td>\n",
       "      <td>9.0</td>\n",
       "      <td>59.0</td>\n",
       "      <td>139.0</td>\n",
       "      <td>32118.82</td>\n",
       "      <td>33.0</td>\n",
       "      <td>ultimate</td>\n",
       "      <td>San Francisco-Oakland-Berkeley, CA MSA</td>\n",
       "      <td>1000</td>\n",
       "      <td>30720</td>\n",
       "      <td>3000</td>\n",
       "      <td>70</td>\n",
       "      <td>7</td>\n",
       "      <td>0.01</td>\n",
       "      <td>0.01</td>\n",
       "      <td>ultimate</td>\n",
       "    </tr>\n",
       "    <tr>\n",
       "      <td>3</td>\n",
       "      <td>1008</td>\n",
       "      <td>10</td>\n",
       "      <td>71.0</td>\n",
       "      <td>476.0</td>\n",
       "      <td>21.0</td>\n",
       "      <td>17106.99</td>\n",
       "      <td>18.0</td>\n",
       "      <td>ultimate</td>\n",
       "      <td>Orlando-Kissimmee-Sanford, FL MSA</td>\n",
       "      <td>1000</td>\n",
       "      <td>30720</td>\n",
       "      <td>3000</td>\n",
       "      <td>70</td>\n",
       "      <td>7</td>\n",
       "      <td>0.01</td>\n",
       "      <td>0.01</td>\n",
       "      <td>ultimate</td>\n",
       "    </tr>\n",
       "    <tr>\n",
       "      <td>4</td>\n",
       "      <td>1008</td>\n",
       "      <td>11</td>\n",
       "      <td>63.0</td>\n",
       "      <td>446.0</td>\n",
       "      <td>37.0</td>\n",
       "      <td>23676.72</td>\n",
       "      <td>24.0</td>\n",
       "      <td>ultimate</td>\n",
       "      <td>Orlando-Kissimmee-Sanford, FL MSA</td>\n",
       "      <td>1000</td>\n",
       "      <td>30720</td>\n",
       "      <td>3000</td>\n",
       "      <td>70</td>\n",
       "      <td>7</td>\n",
       "      <td>0.01</td>\n",
       "      <td>0.01</td>\n",
       "      <td>ultimate</td>\n",
       "    </tr>\n",
       "  </tbody>\n",
       "</table>\n",
       "</div>"
      ],
      "text/plain": [
       "   user_id  month  calls per month  mins used  msgs per month  \\\n",
       "0     1000     12             16.0      124.0            11.0   \n",
       "1     1006     11              2.0       10.0            15.0   \n",
       "2     1006     12              9.0       59.0           139.0   \n",
       "3     1008     10             71.0      476.0            21.0   \n",
       "4     1008     11             63.0      446.0            37.0   \n",
       "\n",
       "   data in mb used  data in gb per month      plan  \\\n",
       "0          1901.47                   2.0  ultimate   \n",
       "1          2068.37                   3.0  ultimate   \n",
       "2         32118.82                  33.0  ultimate   \n",
       "3         17106.99                  18.0  ultimate   \n",
       "4         23676.72                  24.0  ultimate   \n",
       "\n",
       "                                     city  messages_included  \\\n",
       "0   Atlanta-Sandy Springs-Roswell, GA MSA               1000   \n",
       "1  San Francisco-Oakland-Berkeley, CA MSA               1000   \n",
       "2  San Francisco-Oakland-Berkeley, CA MSA               1000   \n",
       "3       Orlando-Kissimmee-Sanford, FL MSA               1000   \n",
       "4       Orlando-Kissimmee-Sanford, FL MSA               1000   \n",
       "\n",
       "   mb_per_month_included  minutes_included  usd_monthly_pay  usd_per_gb  \\\n",
       "0                  30720              3000               70           7   \n",
       "1                  30720              3000               70           7   \n",
       "2                  30720              3000               70           7   \n",
       "3                  30720              3000               70           7   \n",
       "4                  30720              3000               70           7   \n",
       "\n",
       "   usd_per_message  usd_per_minute plan_name  \n",
       "0             0.01            0.01  ultimate  \n",
       "1             0.01            0.01  ultimate  \n",
       "2             0.01            0.01  ultimate  \n",
       "3             0.01            0.01  ultimate  \n",
       "4             0.01            0.01  ultimate  "
      ]
     },
     "execution_count": 22,
     "metadata": {},
     "output_type": "execute_result"
    }
   ],
   "source": [
    "monthly_usage = monthly_usage.merge(plans, left_on = 'plan', right_on ='plan_name')\n",
    "monthly_usage.tail()\n",
    "monthly_usage.head()"
   ]
  },
  {
   "cell_type": "code",
   "execution_count": 23,
   "metadata": {},
   "outputs": [
    {
     "data": {
      "text/plain": [
       "user_id                    0\n",
       "month                      0\n",
       "calls per month           35\n",
       "mins used                 35\n",
       "msgs per month           487\n",
       "data in mb used           16\n",
       "data in gb per month      16\n",
       "plan                       0\n",
       "city                       0\n",
       "messages_included          0\n",
       "mb_per_month_included      0\n",
       "minutes_included           0\n",
       "usd_monthly_pay            0\n",
       "usd_per_gb                 0\n",
       "usd_per_message            0\n",
       "usd_per_minute             0\n",
       "plan_name                  0\n",
       "dtype: int64"
      ]
     },
     "execution_count": 23,
     "metadata": {},
     "output_type": "execute_result"
    }
   ],
   "source": [
    "# checking for missing values\n",
    "monthly_usage.isnull().sum()"
   ]
  },
  {
   "cell_type": "code",
   "execution_count": 24,
   "metadata": {},
   "outputs": [],
   "source": [
    "# filling in missing values with 0\n",
    "monthly_usage= monthly_usage.fillna(0)"
   ]
  },
  {
   "cell_type": "markdown",
   "metadata": {},
   "source": [
    "> -  As we can see, we had missing values but since it's based on customer usage, it makes sense to fill it in with 0. It might be because the user only used certain features on their plan. "
   ]
  },
  {
   "cell_type": "markdown",
   "metadata": {},
   "source": [
    "**<em>Monthly revenue from each user</em>**"
   ]
  },
  {
   "cell_type": "code",
   "execution_count": 25,
   "metadata": {},
   "outputs": [],
   "source": [
    "# Calculating revenue\n",
    "monthly_usage['call_cost'] = monthly_usage.apply(lambda x: max(0, x['mins used'] - x['minutes_included'])\\\n",
    "                                    * x['usd_per_minute'], axis = 1)\n",
    "monthly_usage['message_cost'] = monthly_usage.apply(lambda x: max(0, x['msgs per month'] \\\n",
    "                                  - x['messages_included']) * x['usd_per_message'], axis = 1)\n",
    "monthly_usage['data_cost'] = monthly_usage.apply(lambda x: np.ceil(max(0, x['data in mb used'] \\\n",
    "                                  - x['mb_per_month_included'])/1024)*x['usd_per_gb'],  axis = 1)\n",
    "monthly_usage['monthly_rev'] = monthly_usage['message_cost'] + monthly_usage['call_cost']\\\n",
    "                                    + monthly_usage['data_cost'] + monthly_usage['usd_monthly_pay']\n"
   ]
  },
  {
   "cell_type": "code",
   "execution_count": 26,
   "metadata": {},
   "outputs": [
    {
     "data": {
      "text/plain": [
       "64.3511469690362"
      ]
     },
     "execution_count": 26,
     "metadata": {},
     "output_type": "execute_result"
    }
   ],
   "source": [
    "monthly_usage['monthly_rev'].mean()"
   ]
  },
  {
   "cell_type": "code",
   "execution_count": 27,
   "metadata": {},
   "outputs": [],
   "source": [
    "total_revenue_month_plan = monthly_usage.groupby(['plan','month'])['monthly_rev'].sum().reset_index()"
   ]
  },
  {
   "cell_type": "code",
   "execution_count": 28,
   "metadata": {},
   "outputs": [
    {
     "data": {
      "text/plain": [
       "<matplotlib.axes._subplots.AxesSubplot at 0x7f9c7376f350>"
      ]
     },
     "execution_count": 28,
     "metadata": {},
     "output_type": "execute_result"
    },
    {
     "data": {
      "image/png": "[encoded data removed]",
      "text/plain": [
       "<Figure size 432x288 with 1 Axes>"
      ]
     },
     "metadata": {
      "needs_background": "light"
     },
     "output_type": "display_data"
    }
   ],
   "source": [
    "total_revenue_month_plan[total_revenue_month_plan['plan'] == 'surf'].plot(y='monthly_rev', x='month', kind='bar')\n",
    "plt.show()"
   ]
  },
  {
   "cell_type": "code",
   "execution_count": 29,
   "metadata": {},
   "outputs": [
    {
     "data": {
      "text/plain": [
       "<matplotlib.axes._subplots.AxesSubplot at 0x7f9c74bd0c90>"
      ]
     },
     "execution_count": 29,
     "metadata": {},
     "output_type": "execute_result"
    },
    {
     "data": {
      "image/png": "[encoded data removed]",
      "text/plain": [
       "<Figure size 432x288 with 1 Axes>"
      ]
     },
     "metadata": {
      "needs_background": "light"
     },
     "output_type": "display_data"
    }
   ],
   "source": [
    "total_revenue_month_plan[total_revenue_month_plan['plan'] == 'ultimate'].plot(y='monthly_rev', x='month', kind='bar')\n",
    "plt.show()"
   ]
  },
  {
   "cell_type": "markdown",
   "metadata": {},
   "source": [
    "> - Average monthly revenue is 64\n",
    "> - Revenue under Surf is significantly higher than Ultimate\n",
    "> - Revenue tends to be higher in the last quarter for both plans\n",
    "> - Surf revenue being higher could be due, in part, to the users' tendency to go over on their plan more than Ultimate users"
   ]
  },
  {
   "cell_type": "markdown",
   "metadata": {},
   "source": [
    "## Step 3. Analyze the data "
   ]
  },
  {
   "cell_type": "markdown",
   "metadata": {},
   "source": [
    "Now we are going to look closely at the 2 plans and compare them. Let's create 2 separate dataframe"
   ]
  },
  {
   "cell_type": "code",
   "execution_count": 30,
   "metadata": {},
   "outputs": [],
   "source": [
    "surf_usage = monthly_usage[monthly_usage['plan']=='surf']\\\n",
    "                [['user_id', 'month','mins used',\\\n",
    "                  'msgs per month', 'data in mb used',\\\n",
    "                  'data in gb per month', 'monthly_rev']]\n",
    "\n",
    "ultimate_usage = monthly_usage[monthly_usage['plan']=='ultimate']\\\n",
    "                    [['user_id', 'month','mins used',\\\n",
    "                      'msgs per month', 'data in mb used',\\\n",
    "                      'data in gb per month', 'monthly_rev']]\n",
    "                           "
   ]
  },
  {
   "cell_type": "code",
   "execution_count": 31,
   "metadata": {},
   "outputs": [
    {
     "data": {
      "text/html": [
       "<div>\n",
       "<style scoped>\n",
       "    .dataframe tbody tr th:only-of-type {\n",
       "        vertical-align: middle;\n",
       "    }\n",
       "\n",
       "    .dataframe tbody tr th {\n",
       "        vertical-align: top;\n",
       "    }\n",
       "\n",
       "    .dataframe thead th {\n",
       "        text-align: right;\n",
       "    }\n",
       "</style>\n",
       "<table border=\"1\" class=\"dataframe\">\n",
       "  <thead>\n",
       "    <tr style=\"text-align: right;\">\n",
       "      <th></th>\n",
       "      <th>user_id</th>\n",
       "      <th>month</th>\n",
       "      <th>mins used</th>\n",
       "      <th>msgs per month</th>\n",
       "      <th>data in mb used</th>\n",
       "      <th>data in gb per month</th>\n",
       "      <th>monthly_rev</th>\n",
       "    </tr>\n",
       "  </thead>\n",
       "  <tbody>\n",
       "    <tr>\n",
       "      <td>count</td>\n",
       "      <td>1573.000000</td>\n",
       "      <td>1573.000000</td>\n",
       "      <td>1573.000000</td>\n",
       "      <td>1573.000000</td>\n",
       "      <td>1573.000000</td>\n",
       "      <td>1573.000000</td>\n",
       "      <td>1573.000000</td>\n",
       "    </tr>\n",
       "    <tr>\n",
       "      <td>mean</td>\n",
       "      <td>1242.755245</td>\n",
       "      <td>9.182454</td>\n",
       "      <td>428.749523</td>\n",
       "      <td>31.159568</td>\n",
       "      <td>16558.283490</td>\n",
       "      <td>17.037508</td>\n",
       "      <td>60.706408</td>\n",
       "    </tr>\n",
       "    <tr>\n",
       "      <td>std</td>\n",
       "      <td>139.227939</td>\n",
       "      <td>2.468199</td>\n",
       "      <td>234.453150</td>\n",
       "      <td>33.566717</td>\n",
       "      <td>8013.513327</td>\n",
       "      <td>8.016395</td>\n",
       "      <td>55.388042</td>\n",
       "    </tr>\n",
       "    <tr>\n",
       "      <td>min</td>\n",
       "      <td>1001.000000</td>\n",
       "      <td>1.000000</td>\n",
       "      <td>0.000000</td>\n",
       "      <td>0.000000</td>\n",
       "      <td>0.000000</td>\n",
       "      <td>0.000000</td>\n",
       "      <td>20.000000</td>\n",
       "    </tr>\n",
       "    <tr>\n",
       "      <td>25%</td>\n",
       "      <td>1120.000000</td>\n",
       "      <td>8.000000</td>\n",
       "      <td>272.000000</td>\n",
       "      <td>3.000000</td>\n",
       "      <td>11986.520000</td>\n",
       "      <td>12.000000</td>\n",
       "      <td>20.000000</td>\n",
       "    </tr>\n",
       "    <tr>\n",
       "      <td>50%</td>\n",
       "      <td>1245.000000</td>\n",
       "      <td>10.000000</td>\n",
       "      <td>425.000000</td>\n",
       "      <td>24.000000</td>\n",
       "      <td>16829.310000</td>\n",
       "      <td>17.000000</td>\n",
       "      <td>40.360000</td>\n",
       "    </tr>\n",
       "    <tr>\n",
       "      <td>75%</td>\n",
       "      <td>1358.000000</td>\n",
       "      <td>11.000000</td>\n",
       "      <td>576.000000</td>\n",
       "      <td>47.000000</td>\n",
       "      <td>20999.610000</td>\n",
       "      <td>21.000000</td>\n",
       "      <td>80.360000</td>\n",
       "    </tr>\n",
       "    <tr>\n",
       "      <td>max</td>\n",
       "      <td>1499.000000</td>\n",
       "      <td>12.000000</td>\n",
       "      <td>1510.000000</td>\n",
       "      <td>266.000000</td>\n",
       "      <td>70931.590000</td>\n",
       "      <td>71.000000</td>\n",
       "      <td>590.370000</td>\n",
       "    </tr>\n",
       "  </tbody>\n",
       "</table>\n",
       "</div>"
      ],
      "text/plain": [
       "           user_id        month    mins used  msgs per month  data in mb used  \\\n",
       "count  1573.000000  1573.000000  1573.000000     1573.000000      1573.000000   \n",
       "mean   1242.755245     9.182454   428.749523       31.159568     16558.283490   \n",
       "std     139.227939     2.468199   234.453150       33.566717      8013.513327   \n",
       "min    1001.000000     1.000000     0.000000        0.000000         0.000000   \n",
       "25%    1120.000000     8.000000   272.000000        3.000000     11986.520000   \n",
       "50%    1245.000000    10.000000   425.000000       24.000000     16829.310000   \n",
       "75%    1358.000000    11.000000   576.000000       47.000000     20999.610000   \n",
       "max    1499.000000    12.000000  1510.000000      266.000000     70931.590000   \n",
       "\n",
       "       data in gb per month  monthly_rev  \n",
       "count           1573.000000  1573.000000  \n",
       "mean              17.037508    60.706408  \n",
       "std                8.016395    55.388042  \n",
       "min                0.000000    20.000000  \n",
       "25%               12.000000    20.000000  \n",
       "50%               17.000000    40.360000  \n",
       "75%               21.000000    80.360000  \n",
       "max               71.000000   590.370000  "
      ]
     },
     "execution_count": 31,
     "metadata": {},
     "output_type": "execute_result"
    }
   ],
   "source": [
    "surf_usage.describe()"
   ]
  },
  {
   "cell_type": "code",
   "execution_count": 32,
   "metadata": {},
   "outputs": [
    {
     "data": {
      "text/html": [
       "<div>\n",
       "<style scoped>\n",
       "    .dataframe tbody tr th:only-of-type {\n",
       "        vertical-align: middle;\n",
       "    }\n",
       "\n",
       "    .dataframe tbody tr th {\n",
       "        vertical-align: top;\n",
       "    }\n",
       "\n",
       "    .dataframe thead th {\n",
       "        text-align: right;\n",
       "    }\n",
       "</style>\n",
       "<table border=\"1\" class=\"dataframe\">\n",
       "  <thead>\n",
       "    <tr style=\"text-align: right;\">\n",
       "      <th></th>\n",
       "      <th>user_id</th>\n",
       "      <th>month</th>\n",
       "      <th>mins used</th>\n",
       "      <th>msgs per month</th>\n",
       "      <th>data in mb used</th>\n",
       "      <th>data in gb per month</th>\n",
       "      <th>monthly_rev</th>\n",
       "    </tr>\n",
       "  </thead>\n",
       "  <tbody>\n",
       "    <tr>\n",
       "      <td>count</td>\n",
       "      <td>720.000000</td>\n",
       "      <td>720.000000</td>\n",
       "      <td>720.000000</td>\n",
       "      <td>720.000000</td>\n",
       "      <td>720.000000</td>\n",
       "      <td>720.000000</td>\n",
       "      <td>720.000000</td>\n",
       "    </tr>\n",
       "    <tr>\n",
       "      <td>mean</td>\n",
       "      <td>1253.330556</td>\n",
       "      <td>9.151389</td>\n",
       "      <td>430.450000</td>\n",
       "      <td>37.551389</td>\n",
       "      <td>17214.699694</td>\n",
       "      <td>17.719444</td>\n",
       "      <td>72.313889</td>\n",
       "    </tr>\n",
       "    <tr>\n",
       "      <td>std</td>\n",
       "      <td>150.915644</td>\n",
       "      <td>2.558495</td>\n",
       "      <td>240.508762</td>\n",
       "      <td>34.767179</td>\n",
       "      <td>7851.897435</td>\n",
       "      <td>7.865289</td>\n",
       "      <td>11.395108</td>\n",
       "    </tr>\n",
       "    <tr>\n",
       "      <td>min</td>\n",
       "      <td>1000.000000</td>\n",
       "      <td>1.000000</td>\n",
       "      <td>0.000000</td>\n",
       "      <td>0.000000</td>\n",
       "      <td>0.000000</td>\n",
       "      <td>0.000000</td>\n",
       "      <td>70.000000</td>\n",
       "    </tr>\n",
       "    <tr>\n",
       "      <td>25%</td>\n",
       "      <td>1126.000000</td>\n",
       "      <td>8.000000</td>\n",
       "      <td>260.000000</td>\n",
       "      <td>7.000000</td>\n",
       "      <td>12666.955000</td>\n",
       "      <td>13.000000</td>\n",
       "      <td>70.000000</td>\n",
       "    </tr>\n",
       "    <tr>\n",
       "      <td>50%</td>\n",
       "      <td>1241.500000</td>\n",
       "      <td>10.000000</td>\n",
       "      <td>424.000000</td>\n",
       "      <td>30.000000</td>\n",
       "      <td>16858.340000</td>\n",
       "      <td>17.000000</td>\n",
       "      <td>70.000000</td>\n",
       "    </tr>\n",
       "    <tr>\n",
       "      <td>75%</td>\n",
       "      <td>1401.000000</td>\n",
       "      <td>11.000000</td>\n",
       "      <td>565.250000</td>\n",
       "      <td>61.000000</td>\n",
       "      <td>21014.527500</td>\n",
       "      <td>22.000000</td>\n",
       "      <td>70.000000</td>\n",
       "    </tr>\n",
       "    <tr>\n",
       "      <td>max</td>\n",
       "      <td>1497.000000</td>\n",
       "      <td>12.000000</td>\n",
       "      <td>1369.000000</td>\n",
       "      <td>166.000000</td>\n",
       "      <td>46595.330000</td>\n",
       "      <td>47.000000</td>\n",
       "      <td>182.000000</td>\n",
       "    </tr>\n",
       "  </tbody>\n",
       "</table>\n",
       "</div>"
      ],
      "text/plain": [
       "           user_id       month    mins used  msgs per month  data in mb used  \\\n",
       "count   720.000000  720.000000   720.000000      720.000000       720.000000   \n",
       "mean   1253.330556    9.151389   430.450000       37.551389     17214.699694   \n",
       "std     150.915644    2.558495   240.508762       34.767179      7851.897435   \n",
       "min    1000.000000    1.000000     0.000000        0.000000         0.000000   \n",
       "25%    1126.000000    8.000000   260.000000        7.000000     12666.955000   \n",
       "50%    1241.500000   10.000000   424.000000       30.000000     16858.340000   \n",
       "75%    1401.000000   11.000000   565.250000       61.000000     21014.527500   \n",
       "max    1497.000000   12.000000  1369.000000      166.000000     46595.330000   \n",
       "\n",
       "       data in gb per month  monthly_rev  \n",
       "count            720.000000   720.000000  \n",
       "mean              17.719444    72.313889  \n",
       "std                7.865289    11.395108  \n",
       "min                0.000000    70.000000  \n",
       "25%               13.000000    70.000000  \n",
       "50%               17.000000    70.000000  \n",
       "75%               22.000000    70.000000  \n",
       "max               47.000000   182.000000  "
      ]
     },
     "execution_count": 32,
     "metadata": {},
     "output_type": "execute_result"
    }
   ],
   "source": [
    "ultimate_usage.describe()"
   ]
  },
  {
   "cell_type": "markdown",
   "metadata": {},
   "source": [
    "> - Looking at the data, there are definitely more users of Surf plan than Ultimate plan , more than twice the amount.\n",
    "> - The average monthly revenue for Ultimate is not as large as expected despite being the more expensive plan, especially when compared to the average revenue of Surf.\n",
    "> - More users go over their plan under Surf which in turn drives their revenue up\n",
    "> - Users barely go over the alloted plan under Ultimate"
   ]
  },
  {
   "cell_type": "markdown",
   "metadata": {},
   "source": [
    "### Calculate mean, variance and standard deviation and histograms"
   ]
  },
  {
   "cell_type": "markdown",
   "metadata": {},
   "source": [
    "**<em>Calls</em>**"
   ]
  },
  {
   "cell_type": "code",
   "execution_count": 33,
   "metadata": {},
   "outputs": [
    {
     "name": "stdout",
     "output_type": "stream",
     "text": [
      "Defaulting to user installation because normal site-packages is not writeable\n",
      "Requirement already up-to-date: seaborn in /home/jovyan/.local/lib/python3.7/site-packages (0.11.1)\n",
      "Requirement already satisfied, skipping upgrade: numpy>=1.15 in /opt/conda/lib/python3.7/site-packages (from seaborn) (1.19.5)\n",
      "Requirement already satisfied, skipping upgrade: matplotlib>=2.2 in /opt/conda/lib/python3.7/site-packages (from seaborn) (3.1.0)\n",
      "Requirement already satisfied, skipping upgrade: pandas>=0.23 in /opt/conda/lib/python3.7/site-packages (from seaborn) (0.25.1)\n",
      "Requirement already satisfied, skipping upgrade: scipy>=1.0 in /opt/conda/lib/python3.7/site-packages (from seaborn) (1.4.1)\n",
      "Requirement already satisfied, skipping upgrade: cycler>=0.10 in /opt/conda/lib/python3.7/site-packages (from matplotlib>=2.2->seaborn) (0.10.0)\n",
      "Requirement already satisfied, skipping upgrade: python-dateutil>=2.1 in /opt/conda/lib/python3.7/site-packages (from matplotlib>=2.2->seaborn) (2.8.1)\n",
      "Requirement already satisfied, skipping upgrade: pyparsing!=2.0.4,!=2.1.2,!=2.1.6,>=2.0.1 in /opt/conda/lib/python3.7/site-packages (from matplotlib>=2.2->seaborn) (2.4.7)\n",
      "Requirement already satisfied, skipping upgrade: kiwisolver>=1.0.1 in /opt/conda/lib/python3.7/site-packages (from matplotlib>=2.2->seaborn) (1.3.1)\n",
      "Requirement already satisfied, skipping upgrade: pytz>=2017.2 in /opt/conda/lib/python3.7/site-packages (from pandas>=0.23->seaborn) (2021.1)\n",
      "Requirement already satisfied, skipping upgrade: six in /opt/conda/lib/python3.7/site-packages (from cycler>=0.10->matplotlib>=2.2->seaborn) (1.15.0)\n",
      "Note: you may need to restart the kernel to use updated packages.\n"
     ]
    }
   ],
   "source": [
    "pip install seaborn --upgrade"
   ]
  },
  {
   "cell_type": "code",
   "execution_count": 34,
   "metadata": {},
   "outputs": [
    {
     "data": {
      "text/plain": [
       "Text(0.5, 0.98, 'Surf Plan')"
      ]
     },
     "execution_count": 34,
     "metadata": {},
     "output_type": "execute_result"
    },
    {
     "data": {
      "image/png": "[encoded data removed]",
      "text/plain": [
       "<Figure size 720x360 with 1 Axes>"
      ]
     },
     "metadata": {
      "needs_background": "light"
     },
     "output_type": "display_data"
    }
   ],
   "source": [
    "plt.figure(figsize = (10,5))\n",
    "sns.set(style='darkgrid')\n",
    "sns.histplot(data =surf_usage, x='mins used',color= 'darkgreen', kde=True)\\\n",
    "            .set_title('Monthly call duration in minutes')\n",
    "plt.suptitle('Surf Plan')\n",
    "plt.show()\n",
    "\n"
   ]
  },
  {
   "cell_type": "code",
   "execution_count": 35,
   "metadata": {},
   "outputs": [
    {
     "data": {
      "text/plain": [
       "Text(0.5, 0.98, 'Ultimate Plan')"
      ]
     },
     "execution_count": 35,
     "metadata": {},
     "output_type": "execute_result"
    },
    {
     "data": {
      "image/png": "[encoded data removed]",
      "text/plain": [
       "<Figure size 720x360 with 1 Axes>"
      ]
     },
     "metadata": {},
     "output_type": "display_data"
    }
   ],
   "source": [
    "plt.figure(figsize = (10,5))\n",
    "sns.set(style='darkgrid')\n",
    "sns.histplot(data =ultimate_usage, x='mins used',color= 'darkred', kde=True)\\\n",
    "            .set_title('Monthly call duration in minutes')\n",
    "plt.suptitle('Ultimate Plan')\n",
    "plt.show()\n"
   ]
  },
  {
   "cell_type": "markdown",
   "metadata": {},
   "source": [
    "> - Average  for both Surf and Ultimate is 428 and 430, respectively, which is really close and has a standard deviation with 234 and 240\n",
    "> - Distribution is close to normal as the values for both median and mean are really close to each other"
   ]
  },
  {
   "cell_type": "code",
   "execution_count": 36,
   "metadata": {},
   "outputs": [
    {
     "data": {
      "text/html": [
       "<div>\n",
       "<style scoped>\n",
       "    .dataframe tbody tr th:only-of-type {\n",
       "        vertical-align: middle;\n",
       "    }\n",
       "\n",
       "    .dataframe tbody tr th {\n",
       "        vertical-align: top;\n",
       "    }\n",
       "\n",
       "    .dataframe thead th {\n",
       "        text-align: right;\n",
       "    }\n",
       "</style>\n",
       "<table border=\"1\" class=\"dataframe\">\n",
       "  <thead>\n",
       "    <tr style=\"text-align: right;\">\n",
       "      <th></th>\n",
       "      <th>mean</th>\n",
       "      <th>var</th>\n",
       "      <th>std</th>\n",
       "    </tr>\n",
       "    <tr>\n",
       "      <th>plan</th>\n",
       "      <th></th>\n",
       "      <th></th>\n",
       "      <th></th>\n",
       "    </tr>\n",
       "  </thead>\n",
       "  <tbody>\n",
       "    <tr>\n",
       "      <td>surf</td>\n",
       "      <td>428.749523</td>\n",
       "      <td>54968.279461</td>\n",
       "      <td>234.453150</td>\n",
       "    </tr>\n",
       "    <tr>\n",
       "      <td>ultimate</td>\n",
       "      <td>430.450000</td>\n",
       "      <td>57844.464812</td>\n",
       "      <td>240.508762</td>\n",
       "    </tr>\n",
       "  </tbody>\n",
       "</table>\n",
       "</div>"
      ],
      "text/plain": [
       "                mean           var         std\n",
       "plan                                          \n",
       "surf      428.749523  54968.279461  234.453150\n",
       "ultimate  430.450000  57844.464812  240.508762"
      ]
     },
     "execution_count": 36,
     "metadata": {},
     "output_type": "execute_result"
    }
   ],
   "source": [
    "monthly_usage.groupby('plan')['mins used'].agg(['mean', 'var', 'std'])"
   ]
  },
  {
   "cell_type": "markdown",
   "metadata": {},
   "source": [
    "Surf plan limit is 500 minutes per month. Let's take a look how many people exceeded their minutes"
   ]
  },
  {
   "cell_type": "code",
   "execution_count": 37,
   "metadata": {},
   "outputs": [
    {
     "data": {
      "text/html": [
       "<div>\n",
       "<style scoped>\n",
       "    .dataframe tbody tr th:only-of-type {\n",
       "        vertical-align: middle;\n",
       "    }\n",
       "\n",
       "    .dataframe tbody tr th {\n",
       "        vertical-align: top;\n",
       "    }\n",
       "\n",
       "    .dataframe thead th {\n",
       "        text-align: right;\n",
       "    }\n",
       "</style>\n",
       "<table border=\"1\" class=\"dataframe\">\n",
       "  <thead>\n",
       "    <tr style=\"text-align: right;\">\n",
       "      <th></th>\n",
       "      <th>user_id</th>\n",
       "      <th>month</th>\n",
       "      <th>mins used</th>\n",
       "      <th>msgs per month</th>\n",
       "      <th>data in mb used</th>\n",
       "      <th>data in gb per month</th>\n",
       "      <th>monthly_rev</th>\n",
       "    </tr>\n",
       "  </thead>\n",
       "  <tbody>\n",
       "    <tr>\n",
       "      <td>728</td>\n",
       "      <td>1003</td>\n",
       "      <td>12</td>\n",
       "      <td>1104.0</td>\n",
       "      <td>50.0</td>\n",
       "      <td>27044.14</td>\n",
       "      <td>28.0</td>\n",
       "      <td>158.12</td>\n",
       "    </tr>\n",
       "    <tr>\n",
       "      <td>740</td>\n",
       "      <td>1007</td>\n",
       "      <td>10</td>\n",
       "      <td>645.0</td>\n",
       "      <td>59.0</td>\n",
       "      <td>37885.63</td>\n",
       "      <td>38.0</td>\n",
       "      <td>244.62</td>\n",
       "    </tr>\n",
       "    <tr>\n",
       "      <td>741</td>\n",
       "      <td>1007</td>\n",
       "      <td>11</td>\n",
       "      <td>524.0</td>\n",
       "      <td>48.0</td>\n",
       "      <td>24334.00</td>\n",
       "      <td>25.0</td>\n",
       "      <td>110.72</td>\n",
       "    </tr>\n",
       "    <tr>\n",
       "      <td>742</td>\n",
       "      <td>1007</td>\n",
       "      <td>12</td>\n",
       "      <td>617.0</td>\n",
       "      <td>50.0</td>\n",
       "      <td>29069.28</td>\n",
       "      <td>30.0</td>\n",
       "      <td>163.51</td>\n",
       "    </tr>\n",
       "    <tr>\n",
       "      <td>743</td>\n",
       "      <td>1009</td>\n",
       "      <td>5</td>\n",
       "      <td>534.0</td>\n",
       "      <td>0.0</td>\n",
       "      <td>20389.40</td>\n",
       "      <td>21.0</td>\n",
       "      <td>71.02</td>\n",
       "    </tr>\n",
       "    <tr>\n",
       "      <td>...</td>\n",
       "      <td>...</td>\n",
       "      <td>...</td>\n",
       "      <td>...</td>\n",
       "      <td>...</td>\n",
       "      <td>...</td>\n",
       "      <td>...</td>\n",
       "      <td>...</td>\n",
       "    </tr>\n",
       "    <tr>\n",
       "      <td>2247</td>\n",
       "      <td>1489</td>\n",
       "      <td>10</td>\n",
       "      <td>518.0</td>\n",
       "      <td>84.0</td>\n",
       "      <td>14695.08</td>\n",
       "      <td>15.0</td>\n",
       "      <td>21.56</td>\n",
       "    </tr>\n",
       "    <tr>\n",
       "      <td>2256</td>\n",
       "      <td>1491</td>\n",
       "      <td>10</td>\n",
       "      <td>585.0</td>\n",
       "      <td>51.0</td>\n",
       "      <td>8480.09</td>\n",
       "      <td>9.0</td>\n",
       "      <td>22.58</td>\n",
       "    </tr>\n",
       "    <tr>\n",
       "      <td>2266</td>\n",
       "      <td>1494</td>\n",
       "      <td>10</td>\n",
       "      <td>616.0</td>\n",
       "      <td>38.0</td>\n",
       "      <td>14498.50</td>\n",
       "      <td>15.0</td>\n",
       "      <td>23.48</td>\n",
       "    </tr>\n",
       "    <tr>\n",
       "      <td>2267</td>\n",
       "      <td>1494</td>\n",
       "      <td>11</td>\n",
       "      <td>509.0</td>\n",
       "      <td>35.0</td>\n",
       "      <td>18405.82</td>\n",
       "      <td>19.0</td>\n",
       "      <td>50.27</td>\n",
       "    </tr>\n",
       "    <tr>\n",
       "      <td>2270</td>\n",
       "      <td>1495</td>\n",
       "      <td>10</td>\n",
       "      <td>610.0</td>\n",
       "      <td>0.0</td>\n",
       "      <td>26899.41</td>\n",
       "      <td>27.0</td>\n",
       "      <td>143.30</td>\n",
       "    </tr>\n",
       "  </tbody>\n",
       "</table>\n",
       "<p>566 rows × 7 columns</p>\n",
       "</div>"
      ],
      "text/plain": [
       "      user_id  month  mins used  msgs per month  data in mb used  \\\n",
       "728      1003     12     1104.0            50.0         27044.14   \n",
       "740      1007     10      645.0            59.0         37885.63   \n",
       "741      1007     11      524.0            48.0         24334.00   \n",
       "742      1007     12      617.0            50.0         29069.28   \n",
       "743      1009      5      534.0             0.0         20389.40   \n",
       "...       ...    ...        ...             ...              ...   \n",
       "2247     1489     10      518.0            84.0         14695.08   \n",
       "2256     1491     10      585.0            51.0          8480.09   \n",
       "2266     1494     10      616.0            38.0         14498.50   \n",
       "2267     1494     11      509.0            35.0         18405.82   \n",
       "2270     1495     10      610.0             0.0         26899.41   \n",
       "\n",
       "      data in gb per month  monthly_rev  \n",
       "728                   28.0       158.12  \n",
       "740                   38.0       244.62  \n",
       "741                   25.0       110.72  \n",
       "742                   30.0       163.51  \n",
       "743                   21.0        71.02  \n",
       "...                    ...          ...  \n",
       "2247                  15.0        21.56  \n",
       "2256                   9.0        22.58  \n",
       "2266                  15.0        23.48  \n",
       "2267                  19.0        50.27  \n",
       "2270                  27.0       143.30  \n",
       "\n",
       "[566 rows x 7 columns]"
      ]
     },
     "metadata": {},
     "output_type": "display_data"
    },
    {
     "data": {
      "text/html": [
       "<div>\n",
       "<style scoped>\n",
       "    .dataframe tbody tr th:only-of-type {\n",
       "        vertical-align: middle;\n",
       "    }\n",
       "\n",
       "    .dataframe tbody tr th {\n",
       "        vertical-align: top;\n",
       "    }\n",
       "\n",
       "    .dataframe thead th {\n",
       "        text-align: right;\n",
       "    }\n",
       "</style>\n",
       "<table border=\"1\" class=\"dataframe\">\n",
       "  <thead>\n",
       "    <tr style=\"text-align: right;\">\n",
       "      <th></th>\n",
       "      <th>user_id</th>\n",
       "      <th>month</th>\n",
       "      <th>mins used</th>\n",
       "      <th>msgs per month</th>\n",
       "      <th>data in mb used</th>\n",
       "      <th>data in gb per month</th>\n",
       "      <th>monthly_rev</th>\n",
       "    </tr>\n",
       "  </thead>\n",
       "  <tbody>\n",
       "    <tr>\n",
       "      <td>961</td>\n",
       "      <td>1080</td>\n",
       "      <td>8</td>\n",
       "      <td>0.0</td>\n",
       "      <td>31.0</td>\n",
       "      <td>20519.74</td>\n",
       "      <td>21.0</td>\n",
       "      <td>80.00</td>\n",
       "    </tr>\n",
       "    <tr>\n",
       "      <td>962</td>\n",
       "      <td>1080</td>\n",
       "      <td>9</td>\n",
       "      <td>0.0</td>\n",
       "      <td>64.0</td>\n",
       "      <td>25499.72</td>\n",
       "      <td>26.0</td>\n",
       "      <td>120.42</td>\n",
       "    </tr>\n",
       "    <tr>\n",
       "      <td>963</td>\n",
       "      <td>1080</td>\n",
       "      <td>10</td>\n",
       "      <td>0.0</td>\n",
       "      <td>59.0</td>\n",
       "      <td>30161.57</td>\n",
       "      <td>31.0</td>\n",
       "      <td>170.27</td>\n",
       "    </tr>\n",
       "    <tr>\n",
       "      <td>964</td>\n",
       "      <td>1080</td>\n",
       "      <td>11</td>\n",
       "      <td>0.0</td>\n",
       "      <td>50.0</td>\n",
       "      <td>33559.88</td>\n",
       "      <td>34.0</td>\n",
       "      <td>200.00</td>\n",
       "    </tr>\n",
       "    <tr>\n",
       "      <td>965</td>\n",
       "      <td>1080</td>\n",
       "      <td>12</td>\n",
       "      <td>0.0</td>\n",
       "      <td>61.0</td>\n",
       "      <td>24543.42</td>\n",
       "      <td>25.0</td>\n",
       "      <td>110.33</td>\n",
       "    </tr>\n",
       "    <tr>\n",
       "      <td>992</td>\n",
       "      <td>1089</td>\n",
       "      <td>12</td>\n",
       "      <td>0.0</td>\n",
       "      <td>27.0</td>\n",
       "      <td>16597.91</td>\n",
       "      <td>17.0</td>\n",
       "      <td>40.00</td>\n",
       "    </tr>\n",
       "    <tr>\n",
       "      <td>1003</td>\n",
       "      <td>1094</td>\n",
       "      <td>10</td>\n",
       "      <td>0.0</td>\n",
       "      <td>0.0</td>\n",
       "      <td>1728.71</td>\n",
       "      <td>2.0</td>\n",
       "      <td>20.00</td>\n",
       "    </tr>\n",
       "    <tr>\n",
       "      <td>1117</td>\n",
       "      <td>1121</td>\n",
       "      <td>11</td>\n",
       "      <td>0.0</td>\n",
       "      <td>1.0</td>\n",
       "      <td>1236.65</td>\n",
       "      <td>2.0</td>\n",
       "      <td>20.00</td>\n",
       "    </tr>\n",
       "    <tr>\n",
       "      <td>1118</td>\n",
       "      <td>1121</td>\n",
       "      <td>12</td>\n",
       "      <td>0.0</td>\n",
       "      <td>97.0</td>\n",
       "      <td>66863.89</td>\n",
       "      <td>67.0</td>\n",
       "      <td>531.41</td>\n",
       "    </tr>\n",
       "    <tr>\n",
       "      <td>1146</td>\n",
       "      <td>1131</td>\n",
       "      <td>5</td>\n",
       "      <td>0.0</td>\n",
       "      <td>18.0</td>\n",
       "      <td>6468.11</td>\n",
       "      <td>7.0</td>\n",
       "      <td>20.00</td>\n",
       "    </tr>\n",
       "    <tr>\n",
       "      <td>1147</td>\n",
       "      <td>1131</td>\n",
       "      <td>6</td>\n",
       "      <td>0.0</td>\n",
       "      <td>27.0</td>\n",
       "      <td>14637.04</td>\n",
       "      <td>15.0</td>\n",
       "      <td>20.00</td>\n",
       "    </tr>\n",
       "    <tr>\n",
       "      <td>1148</td>\n",
       "      <td>1131</td>\n",
       "      <td>7</td>\n",
       "      <td>0.0</td>\n",
       "      <td>28.0</td>\n",
       "      <td>16564.01</td>\n",
       "      <td>17.0</td>\n",
       "      <td>40.00</td>\n",
       "    </tr>\n",
       "    <tr>\n",
       "      <td>1149</td>\n",
       "      <td>1131</td>\n",
       "      <td>8</td>\n",
       "      <td>0.0</td>\n",
       "      <td>33.0</td>\n",
       "      <td>12271.78</td>\n",
       "      <td>13.0</td>\n",
       "      <td>20.00</td>\n",
       "    </tr>\n",
       "    <tr>\n",
       "      <td>1150</td>\n",
       "      <td>1131</td>\n",
       "      <td>9</td>\n",
       "      <td>0.0</td>\n",
       "      <td>26.0</td>\n",
       "      <td>15594.75</td>\n",
       "      <td>16.0</td>\n",
       "      <td>30.00</td>\n",
       "    </tr>\n",
       "    <tr>\n",
       "      <td>1151</td>\n",
       "      <td>1131</td>\n",
       "      <td>10</td>\n",
       "      <td>0.0</td>\n",
       "      <td>31.0</td>\n",
       "      <td>21292.61</td>\n",
       "      <td>22.0</td>\n",
       "      <td>80.00</td>\n",
       "    </tr>\n",
       "    <tr>\n",
       "      <td>1152</td>\n",
       "      <td>1131</td>\n",
       "      <td>11</td>\n",
       "      <td>0.0</td>\n",
       "      <td>20.0</td>\n",
       "      <td>13697.04</td>\n",
       "      <td>14.0</td>\n",
       "      <td>20.00</td>\n",
       "    </tr>\n",
       "    <tr>\n",
       "      <td>1153</td>\n",
       "      <td>1131</td>\n",
       "      <td>12</td>\n",
       "      <td>0.0</td>\n",
       "      <td>33.0</td>\n",
       "      <td>15212.42</td>\n",
       "      <td>16.0</td>\n",
       "      <td>20.00</td>\n",
       "    </tr>\n",
       "    <tr>\n",
       "      <td>1161</td>\n",
       "      <td>1137</td>\n",
       "      <td>10</td>\n",
       "      <td>0.0</td>\n",
       "      <td>48.0</td>\n",
       "      <td>7002.91</td>\n",
       "      <td>8.0</td>\n",
       "      <td>20.00</td>\n",
       "    </tr>\n",
       "    <tr>\n",
       "      <td>1162</td>\n",
       "      <td>1137</td>\n",
       "      <td>11</td>\n",
       "      <td>0.0</td>\n",
       "      <td>64.0</td>\n",
       "      <td>3084.69</td>\n",
       "      <td>4.0</td>\n",
       "      <td>20.42</td>\n",
       "    </tr>\n",
       "    <tr>\n",
       "      <td>1163</td>\n",
       "      <td>1137</td>\n",
       "      <td>12</td>\n",
       "      <td>0.0</td>\n",
       "      <td>56.0</td>\n",
       "      <td>6745.66</td>\n",
       "      <td>7.0</td>\n",
       "      <td>20.18</td>\n",
       "    </tr>\n",
       "    <tr>\n",
       "      <td>1366</td>\n",
       "      <td>1194</td>\n",
       "      <td>8</td>\n",
       "      <td>0.0</td>\n",
       "      <td>10.0</td>\n",
       "      <td>5704.93</td>\n",
       "      <td>6.0</td>\n",
       "      <td>20.00</td>\n",
       "    </tr>\n",
       "    <tr>\n",
       "      <td>1367</td>\n",
       "      <td>1194</td>\n",
       "      <td>9</td>\n",
       "      <td>0.0</td>\n",
       "      <td>76.0</td>\n",
       "      <td>37298.02</td>\n",
       "      <td>38.0</td>\n",
       "      <td>240.78</td>\n",
       "    </tr>\n",
       "    <tr>\n",
       "      <td>1368</td>\n",
       "      <td>1194</td>\n",
       "      <td>10</td>\n",
       "      <td>0.0</td>\n",
       "      <td>88.0</td>\n",
       "      <td>31538.39</td>\n",
       "      <td>32.0</td>\n",
       "      <td>181.14</td>\n",
       "    </tr>\n",
       "    <tr>\n",
       "      <td>1369</td>\n",
       "      <td>1194</td>\n",
       "      <td>11</td>\n",
       "      <td>0.0</td>\n",
       "      <td>62.0</td>\n",
       "      <td>42866.10</td>\n",
       "      <td>43.0</td>\n",
       "      <td>290.36</td>\n",
       "    </tr>\n",
       "    <tr>\n",
       "      <td>1370</td>\n",
       "      <td>1194</td>\n",
       "      <td>12</td>\n",
       "      <td>0.0</td>\n",
       "      <td>56.0</td>\n",
       "      <td>31088.49</td>\n",
       "      <td>32.0</td>\n",
       "      <td>180.18</td>\n",
       "    </tr>\n",
       "    <tr>\n",
       "      <td>1868</td>\n",
       "      <td>1349</td>\n",
       "      <td>10</td>\n",
       "      <td>0.0</td>\n",
       "      <td>76.0</td>\n",
       "      <td>13093.55</td>\n",
       "      <td>14.0</td>\n",
       "      <td>20.78</td>\n",
       "    </tr>\n",
       "    <tr>\n",
       "      <td>1869</td>\n",
       "      <td>1349</td>\n",
       "      <td>11</td>\n",
       "      <td>0.0</td>\n",
       "      <td>72.0</td>\n",
       "      <td>17128.26</td>\n",
       "      <td>18.0</td>\n",
       "      <td>40.66</td>\n",
       "    </tr>\n",
       "    <tr>\n",
       "      <td>1870</td>\n",
       "      <td>1349</td>\n",
       "      <td>12</td>\n",
       "      <td>0.0</td>\n",
       "      <td>61.0</td>\n",
       "      <td>13039.91</td>\n",
       "      <td>14.0</td>\n",
       "      <td>20.33</td>\n",
       "    </tr>\n",
       "    <tr>\n",
       "      <td>1915</td>\n",
       "      <td>1361</td>\n",
       "      <td>5</td>\n",
       "      <td>0.0</td>\n",
       "      <td>2.0</td>\n",
       "      <td>1519.69</td>\n",
       "      <td>2.0</td>\n",
       "      <td>20.00</td>\n",
       "    </tr>\n",
       "  </tbody>\n",
       "</table>\n",
       "</div>"
      ],
      "text/plain": [
       "      user_id  month  mins used  msgs per month  data in mb used  \\\n",
       "961      1080      8        0.0            31.0         20519.74   \n",
       "962      1080      9        0.0            64.0         25499.72   \n",
       "963      1080     10        0.0            59.0         30161.57   \n",
       "964      1080     11        0.0            50.0         33559.88   \n",
       "965      1080     12        0.0            61.0         24543.42   \n",
       "992      1089     12        0.0            27.0         16597.91   \n",
       "1003     1094     10        0.0             0.0          1728.71   \n",
       "1117     1121     11        0.0             1.0          1236.65   \n",
       "1118     1121     12        0.0            97.0         66863.89   \n",
       "1146     1131      5        0.0            18.0          6468.11   \n",
       "1147     1131      6        0.0            27.0         14637.04   \n",
       "1148     1131      7        0.0            28.0         16564.01   \n",
       "1149     1131      8        0.0            33.0         12271.78   \n",
       "1150     1131      9        0.0            26.0         15594.75   \n",
       "1151     1131     10        0.0            31.0         21292.61   \n",
       "1152     1131     11        0.0            20.0         13697.04   \n",
       "1153     1131     12        0.0            33.0         15212.42   \n",
       "1161     1137     10        0.0            48.0          7002.91   \n",
       "1162     1137     11        0.0            64.0          3084.69   \n",
       "1163     1137     12        0.0            56.0          6745.66   \n",
       "1366     1194      8        0.0            10.0          5704.93   \n",
       "1367     1194      9        0.0            76.0         37298.02   \n",
       "1368     1194     10        0.0            88.0         31538.39   \n",
       "1369     1194     11        0.0            62.0         42866.10   \n",
       "1370     1194     12        0.0            56.0         31088.49   \n",
       "1868     1349     10        0.0            76.0         13093.55   \n",
       "1869     1349     11        0.0            72.0         17128.26   \n",
       "1870     1349     12        0.0            61.0         13039.91   \n",
       "1915     1361      5        0.0             2.0          1519.69   \n",
       "\n",
       "      data in gb per month  monthly_rev  \n",
       "961                   21.0        80.00  \n",
       "962                   26.0       120.42  \n",
       "963                   31.0       170.27  \n",
       "964                   34.0       200.00  \n",
       "965                   25.0       110.33  \n",
       "992                   17.0        40.00  \n",
       "1003                   2.0        20.00  \n",
       "1117                   2.0        20.00  \n",
       "1118                  67.0       531.41  \n",
       "1146                   7.0        20.00  \n",
       "1147                  15.0        20.00  \n",
       "1148                  17.0        40.00  \n",
       "1149                  13.0        20.00  \n",
       "1150                  16.0        30.00  \n",
       "1151                  22.0        80.00  \n",
       "1152                  14.0        20.00  \n",
       "1153                  16.0        20.00  \n",
       "1161                   8.0        20.00  \n",
       "1162                   4.0        20.42  \n",
       "1163                   7.0        20.18  \n",
       "1366                   6.0        20.00  \n",
       "1367                  38.0       240.78  \n",
       "1368                  32.0       181.14  \n",
       "1369                  43.0       290.36  \n",
       "1370                  32.0       180.18  \n",
       "1868                  14.0        20.78  \n",
       "1869                  18.0        40.66  \n",
       "1870                  14.0        20.33  \n",
       "1915                   2.0        20.00  "
      ]
     },
     "metadata": {},
     "output_type": "display_data"
    },
    {
     "data": {
      "text/plain": [
       "count    1573.000000\n",
       "mean      428.749523\n",
       "std       234.453150\n",
       "min         0.000000\n",
       "25%       272.000000\n",
       "50%       425.000000\n",
       "75%       576.000000\n",
       "max      1510.000000\n",
       "Name: mins used, dtype: float64"
      ]
     },
     "execution_count": 37,
     "metadata": {},
     "output_type": "execute_result"
    }
   ],
   "source": [
    "display(surf_usage.query('`mins used` > 500'))\n",
    "display(surf_usage.query('`mins used` == 0'))\n",
    "surf_usage['mins used'].describe()"
   ]
  },
  {
   "cell_type": "markdown",
   "metadata": {},
   "source": [
    "> - 566 users exceeded their minutes\n",
    "> - 1510 mins is the max number of minutes a user had used. That's 3 times the alloted minutes for the plan and creates profit for the company\n",
    "> - 29 users did not use their minutes at all"
   ]
  },
  {
   "cell_type": "code",
   "execution_count": 38,
   "metadata": {},
   "outputs": [
    {
     "data": {
      "text/html": [
       "<div>\n",
       "<style scoped>\n",
       "    .dataframe tbody tr th:only-of-type {\n",
       "        vertical-align: middle;\n",
       "    }\n",
       "\n",
       "    .dataframe tbody tr th {\n",
       "        vertical-align: top;\n",
       "    }\n",
       "\n",
       "    .dataframe thead th {\n",
       "        text-align: right;\n",
       "    }\n",
       "</style>\n",
       "<table border=\"1\" class=\"dataframe\">\n",
       "  <thead>\n",
       "    <tr style=\"text-align: right;\">\n",
       "      <th></th>\n",
       "      <th>user_id</th>\n",
       "      <th>month</th>\n",
       "      <th>mins used</th>\n",
       "      <th>msgs per month</th>\n",
       "      <th>data in mb used</th>\n",
       "      <th>data in gb per month</th>\n",
       "      <th>monthly_rev</th>\n",
       "    </tr>\n",
       "  </thead>\n",
       "  <tbody>\n",
       "  </tbody>\n",
       "</table>\n",
       "</div>"
      ],
      "text/plain": [
       "Empty DataFrame\n",
       "Columns: [user_id, month, mins used, msgs per month, data in mb used, data in gb per month, monthly_rev]\n",
       "Index: []"
      ]
     },
     "metadata": {},
     "output_type": "display_data"
    },
    {
     "data": {
      "text/html": [
       "<div>\n",
       "<style scoped>\n",
       "    .dataframe tbody tr th:only-of-type {\n",
       "        vertical-align: middle;\n",
       "    }\n",
       "\n",
       "    .dataframe tbody tr th {\n",
       "        vertical-align: top;\n",
       "    }\n",
       "\n",
       "    .dataframe thead th {\n",
       "        text-align: right;\n",
       "    }\n",
       "</style>\n",
       "<table border=\"1\" class=\"dataframe\">\n",
       "  <thead>\n",
       "    <tr style=\"text-align: right;\">\n",
       "      <th></th>\n",
       "      <th>user_id</th>\n",
       "      <th>month</th>\n",
       "      <th>mins used</th>\n",
       "      <th>msgs per month</th>\n",
       "      <th>data in mb used</th>\n",
       "      <th>data in gb per month</th>\n",
       "      <th>monthly_rev</th>\n",
       "    </tr>\n",
       "  </thead>\n",
       "  <tbody>\n",
       "    <tr>\n",
       "      <td>16</td>\n",
       "      <td>1028</td>\n",
       "      <td>2</td>\n",
       "      <td>0.0</td>\n",
       "      <td>12.0</td>\n",
       "      <td>12591.91</td>\n",
       "      <td>13.0</td>\n",
       "      <td>70.0</td>\n",
       "    </tr>\n",
       "    <tr>\n",
       "      <td>161</td>\n",
       "      <td>1108</td>\n",
       "      <td>12</td>\n",
       "      <td>0.0</td>\n",
       "      <td>0.0</td>\n",
       "      <td>233.17</td>\n",
       "      <td>1.0</td>\n",
       "      <td>70.0</td>\n",
       "    </tr>\n",
       "    <tr>\n",
       "      <td>304</td>\n",
       "      <td>1204</td>\n",
       "      <td>11</td>\n",
       "      <td>0.0</td>\n",
       "      <td>42.0</td>\n",
       "      <td>21346.95</td>\n",
       "      <td>22.0</td>\n",
       "      <td>70.0</td>\n",
       "    </tr>\n",
       "    <tr>\n",
       "      <td>305</td>\n",
       "      <td>1204</td>\n",
       "      <td>12</td>\n",
       "      <td>0.0</td>\n",
       "      <td>78.0</td>\n",
       "      <td>36730.05</td>\n",
       "      <td>37.0</td>\n",
       "      <td>112.0</td>\n",
       "    </tr>\n",
       "    <tr>\n",
       "      <td>326</td>\n",
       "      <td>1224</td>\n",
       "      <td>6</td>\n",
       "      <td>0.0</td>\n",
       "      <td>5.0</td>\n",
       "      <td>2966.21</td>\n",
       "      <td>3.0</td>\n",
       "      <td>70.0</td>\n",
       "    </tr>\n",
       "    <tr>\n",
       "      <td>426</td>\n",
       "      <td>1311</td>\n",
       "      <td>6</td>\n",
       "      <td>0.0</td>\n",
       "      <td>0.0</td>\n",
       "      <td>1498.83</td>\n",
       "      <td>2.0</td>\n",
       "      <td>70.0</td>\n",
       "    </tr>\n",
       "    <tr>\n",
       "      <td>561</td>\n",
       "      <td>1407</td>\n",
       "      <td>11</td>\n",
       "      <td>0.0</td>\n",
       "      <td>1.0</td>\n",
       "      <td>290.06</td>\n",
       "      <td>1.0</td>\n",
       "      <td>70.0</td>\n",
       "    </tr>\n",
       "    <tr>\n",
       "      <td>704</td>\n",
       "      <td>1482</td>\n",
       "      <td>10</td>\n",
       "      <td>0.0</td>\n",
       "      <td>2.0</td>\n",
       "      <td>0.00</td>\n",
       "      <td>0.0</td>\n",
       "      <td>70.0</td>\n",
       "    </tr>\n",
       "  </tbody>\n",
       "</table>\n",
       "</div>"
      ],
      "text/plain": [
       "     user_id  month  mins used  msgs per month  data in mb used  \\\n",
       "16      1028      2        0.0            12.0         12591.91   \n",
       "161     1108     12        0.0             0.0           233.17   \n",
       "304     1204     11        0.0            42.0         21346.95   \n",
       "305     1204     12        0.0            78.0         36730.05   \n",
       "326     1224      6        0.0             5.0          2966.21   \n",
       "426     1311      6        0.0             0.0          1498.83   \n",
       "561     1407     11        0.0             1.0           290.06   \n",
       "704     1482     10        0.0             2.0             0.00   \n",
       "\n",
       "     data in gb per month  monthly_rev  \n",
       "16                   13.0         70.0  \n",
       "161                   1.0         70.0  \n",
       "304                  22.0         70.0  \n",
       "305                  37.0        112.0  \n",
       "326                   3.0         70.0  \n",
       "426                   2.0         70.0  \n",
       "561                   1.0         70.0  \n",
       "704                   0.0         70.0  "
      ]
     },
     "metadata": {},
     "output_type": "display_data"
    },
    {
     "data": {
      "text/plain": [
       "count     720.000000\n",
       "mean      430.450000\n",
       "std       240.508762\n",
       "min         0.000000\n",
       "25%       260.000000\n",
       "50%       424.000000\n",
       "75%       565.250000\n",
       "max      1369.000000\n",
       "Name: mins used, dtype: float64"
      ]
     },
     "execution_count": 38,
     "metadata": {},
     "output_type": "execute_result"
    }
   ],
   "source": [
    "display(ultimate_usage.query('`mins used` > 3000'))\n",
    "display(ultimate_usage.query('`mins used` == 0'))\n",
    "ultimate_usage['mins used'].describe()"
   ]
  },
  {
   "cell_type": "markdown",
   "metadata": {},
   "source": [
    "> - As we can see, no one exceeded their minutes for the Ultimate plan\n",
    "> - Eight users did not use their minutes at all\n",
    "> - The max number of minutes a user had used is 1369, barely half of what the Ultimate plan offered"
   ]
  },
  {
   "cell_type": "markdown",
   "metadata": {},
   "source": [
    "**<em>Messages</em>**"
   ]
  },
  {
   "cell_type": "code",
   "execution_count": 39,
   "metadata": {},
   "outputs": [
    {
     "data": {
      "text/plain": [
       "Text(0.5, 0.98, 'Surf Plan')"
      ]
     },
     "execution_count": 39,
     "metadata": {},
     "output_type": "execute_result"
    },
    {
     "data": {
      "image/png": "[encoded data removed]",
      "text/plain": [
       "<Figure size 720x360 with 1 Axes>"
      ]
     },
     "metadata": {},
     "output_type": "display_data"
    }
   ],
   "source": [
    "plt.figure(figsize = (10,5))\n",
    "sns.set(style='darkgrid')\n",
    "sns.histplot(data =surf_usage, x='msgs per month',color= 'darkgreen', kde=True)\\\n",
    "            .set_title('Number of messages per month')\n",
    "plt.suptitle('Surf Plan')"
   ]
  },
  {
   "cell_type": "code",
   "execution_count": 40,
   "metadata": {},
   "outputs": [
    {
     "data": {
      "text/plain": [
       "Text(0.5, 0.98, 'Ultimate Plan')"
      ]
     },
     "execution_count": 40,
     "metadata": {},
     "output_type": "execute_result"
    },
    {
     "data": {
      "image/png": "[encoded data removed]",
      "text/plain": [
       "<Figure size 720x360 with 1 Axes>"
      ]
     },
     "metadata": {},
     "output_type": "display_data"
    }
   ],
   "source": [
    "plt.figure(figsize = (10,5))\n",
    "sns.set(style='darkgrid')\n",
    "sns.histplot(data =ultimate_usage, x='mins used',color= 'darkred', kde=True).set_title('Number of messages per month')\n",
    "plt.suptitle('Ultimate Plan')"
   ]
  },
  {
   "cell_type": "code",
   "execution_count": 41,
   "metadata": {},
   "outputs": [
    {
     "data": {
      "text/html": [
       "<div>\n",
       "<style scoped>\n",
       "    .dataframe tbody tr th:only-of-type {\n",
       "        vertical-align: middle;\n",
       "    }\n",
       "\n",
       "    .dataframe tbody tr th {\n",
       "        vertical-align: top;\n",
       "    }\n",
       "\n",
       "    .dataframe thead th {\n",
       "        text-align: right;\n",
       "    }\n",
       "</style>\n",
       "<table border=\"1\" class=\"dataframe\">\n",
       "  <thead>\n",
       "    <tr style=\"text-align: right;\">\n",
       "      <th></th>\n",
       "      <th>mean</th>\n",
       "      <th>var</th>\n",
       "      <th>std</th>\n",
       "    </tr>\n",
       "    <tr>\n",
       "      <th>plan</th>\n",
       "      <th></th>\n",
       "      <th></th>\n",
       "      <th></th>\n",
       "    </tr>\n",
       "  </thead>\n",
       "  <tbody>\n",
       "    <tr>\n",
       "      <td>surf</td>\n",
       "      <td>31.159568</td>\n",
       "      <td>1126.724522</td>\n",
       "      <td>33.566717</td>\n",
       "    </tr>\n",
       "    <tr>\n",
       "      <td>ultimate</td>\n",
       "      <td>37.551389</td>\n",
       "      <td>1208.756744</td>\n",
       "      <td>34.767179</td>\n",
       "    </tr>\n",
       "  </tbody>\n",
       "</table>\n",
       "</div>"
      ],
      "text/plain": [
       "               mean          var        std\n",
       "plan                                       \n",
       "surf      31.159568  1126.724522  33.566717\n",
       "ultimate  37.551389  1208.756744  34.767179"
      ]
     },
     "execution_count": 41,
     "metadata": {},
     "output_type": "execute_result"
    }
   ],
   "source": [
    "monthly_usage.groupby('plan')['msgs per month'].agg(['mean','var', 'std'])"
   ]
  },
  {
   "cell_type": "markdown",
   "metadata": {},
   "source": [
    "> - The histogram for both the Ultimate and Surf plans is right skewed\n",
    "> - Standard deviation is almost the same as mean\n",
    "> - Surf users sent less messages than ultimate plan users, which makes sense because they have a lower limit and try to avoid exceeding the messaging limit"
   ]
  },
  {
   "cell_type": "code",
   "execution_count": 42,
   "metadata": {},
   "outputs": [
    {
     "data": {
      "text/html": [
       "<div>\n",
       "<style scoped>\n",
       "    .dataframe tbody tr th:only-of-type {\n",
       "        vertical-align: middle;\n",
       "    }\n",
       "\n",
       "    .dataframe tbody tr th {\n",
       "        vertical-align: top;\n",
       "    }\n",
       "\n",
       "    .dataframe thead th {\n",
       "        text-align: right;\n",
       "    }\n",
       "</style>\n",
       "<table border=\"1\" class=\"dataframe\">\n",
       "  <thead>\n",
       "    <tr style=\"text-align: right;\">\n",
       "      <th></th>\n",
       "      <th>user_id</th>\n",
       "      <th>month</th>\n",
       "      <th>mins used</th>\n",
       "      <th>msgs per month</th>\n",
       "      <th>data in mb used</th>\n",
       "      <th>data in gb per month</th>\n",
       "      <th>monthly_rev</th>\n",
       "    </tr>\n",
       "  </thead>\n",
       "  <tbody>\n",
       "    <tr>\n",
       "      <td>722</td>\n",
       "      <td>1001</td>\n",
       "      <td>10</td>\n",
       "      <td>393.0</td>\n",
       "      <td>53.0</td>\n",
       "      <td>22330.49</td>\n",
       "      <td>23.0</td>\n",
       "      <td>90.09</td>\n",
       "    </tr>\n",
       "    <tr>\n",
       "      <td>738</td>\n",
       "      <td>1007</td>\n",
       "      <td>8</td>\n",
       "      <td>456.0</td>\n",
       "      <td>51.0</td>\n",
       "      <td>24439.88</td>\n",
       "      <td>25.0</td>\n",
       "      <td>110.03</td>\n",
       "    </tr>\n",
       "    <tr>\n",
       "      <td>740</td>\n",
       "      <td>1007</td>\n",
       "      <td>10</td>\n",
       "      <td>645.0</td>\n",
       "      <td>59.0</td>\n",
       "      <td>37885.63</td>\n",
       "      <td>38.0</td>\n",
       "      <td>244.62</td>\n",
       "    </tr>\n",
       "    <tr>\n",
       "      <td>763</td>\n",
       "      <td>1014</td>\n",
       "      <td>12</td>\n",
       "      <td>1114.0</td>\n",
       "      <td>64.0</td>\n",
       "      <td>7792.41</td>\n",
       "      <td>8.0</td>\n",
       "      <td>38.84</td>\n",
       "    </tr>\n",
       "    <tr>\n",
       "      <td>764</td>\n",
       "      <td>1015</td>\n",
       "      <td>12</td>\n",
       "      <td>96.0</td>\n",
       "      <td>68.0</td>\n",
       "      <td>17495.12</td>\n",
       "      <td>18.0</td>\n",
       "      <td>50.54</td>\n",
       "    </tr>\n",
       "    <tr>\n",
       "      <td>...</td>\n",
       "      <td>...</td>\n",
       "      <td>...</td>\n",
       "      <td>...</td>\n",
       "      <td>...</td>\n",
       "      <td>...</td>\n",
       "      <td>...</td>\n",
       "      <td>...</td>\n",
       "    </tr>\n",
       "    <tr>\n",
       "      <td>2248</td>\n",
       "      <td>1489</td>\n",
       "      <td>11</td>\n",
       "      <td>429.0</td>\n",
       "      <td>91.0</td>\n",
       "      <td>18266.25</td>\n",
       "      <td>19.0</td>\n",
       "      <td>51.23</td>\n",
       "    </tr>\n",
       "    <tr>\n",
       "      <td>2249</td>\n",
       "      <td>1489</td>\n",
       "      <td>12</td>\n",
       "      <td>394.0</td>\n",
       "      <td>86.0</td>\n",
       "      <td>15321.07</td>\n",
       "      <td>16.0</td>\n",
       "      <td>21.08</td>\n",
       "    </tr>\n",
       "    <tr>\n",
       "      <td>2252</td>\n",
       "      <td>1491</td>\n",
       "      <td>6</td>\n",
       "      <td>394.0</td>\n",
       "      <td>54.0</td>\n",
       "      <td>11034.31</td>\n",
       "      <td>12.0</td>\n",
       "      <td>20.12</td>\n",
       "    </tr>\n",
       "    <tr>\n",
       "      <td>2253</td>\n",
       "      <td>1491</td>\n",
       "      <td>7</td>\n",
       "      <td>463.0</td>\n",
       "      <td>64.0</td>\n",
       "      <td>7833.29</td>\n",
       "      <td>8.0</td>\n",
       "      <td>20.42</td>\n",
       "    </tr>\n",
       "    <tr>\n",
       "      <td>2256</td>\n",
       "      <td>1491</td>\n",
       "      <td>10</td>\n",
       "      <td>585.0</td>\n",
       "      <td>51.0</td>\n",
       "      <td>8480.09</td>\n",
       "      <td>9.0</td>\n",
       "      <td>22.58</td>\n",
       "    </tr>\n",
       "  </tbody>\n",
       "</table>\n",
       "<p>340 rows × 7 columns</p>\n",
       "</div>"
      ],
      "text/plain": [
       "      user_id  month  mins used  msgs per month  data in mb used  \\\n",
       "722      1001     10      393.0            53.0         22330.49   \n",
       "738      1007      8      456.0            51.0         24439.88   \n",
       "740      1007     10      645.0            59.0         37885.63   \n",
       "763      1014     12     1114.0            64.0          7792.41   \n",
       "764      1015     12       96.0            68.0         17495.12   \n",
       "...       ...    ...        ...             ...              ...   \n",
       "2248     1489     11      429.0            91.0         18266.25   \n",
       "2249     1489     12      394.0            86.0         15321.07   \n",
       "2252     1491      6      394.0            54.0         11034.31   \n",
       "2253     1491      7      463.0            64.0          7833.29   \n",
       "2256     1491     10      585.0            51.0          8480.09   \n",
       "\n",
       "      data in gb per month  monthly_rev  \n",
       "722                   23.0        90.09  \n",
       "738                   25.0       110.03  \n",
       "740                   38.0       244.62  \n",
       "763                    8.0        38.84  \n",
       "764                   18.0        50.54  \n",
       "...                    ...          ...  \n",
       "2248                  19.0        51.23  \n",
       "2249                  16.0        21.08  \n",
       "2252                  12.0        20.12  \n",
       "2253                   8.0        20.42  \n",
       "2256                   9.0        22.58  \n",
       "\n",
       "[340 rows x 7 columns]"
      ]
     },
     "metadata": {},
     "output_type": "display_data"
    },
    {
     "data": {
      "text/html": [
       "<div>\n",
       "<style scoped>\n",
       "    .dataframe tbody tr th:only-of-type {\n",
       "        vertical-align: middle;\n",
       "    }\n",
       "\n",
       "    .dataframe tbody tr th {\n",
       "        vertical-align: top;\n",
       "    }\n",
       "\n",
       "    .dataframe thead th {\n",
       "        text-align: right;\n",
       "    }\n",
       "</style>\n",
       "<table border=\"1\" class=\"dataframe\">\n",
       "  <thead>\n",
       "    <tr style=\"text-align: right;\">\n",
       "      <th></th>\n",
       "      <th>user_id</th>\n",
       "      <th>month</th>\n",
       "      <th>mins used</th>\n",
       "      <th>msgs per month</th>\n",
       "      <th>data in mb used</th>\n",
       "      <th>data in gb per month</th>\n",
       "      <th>monthly_rev</th>\n",
       "    </tr>\n",
       "  </thead>\n",
       "  <tbody>\n",
       "    <tr>\n",
       "      <td>743</td>\n",
       "      <td>1009</td>\n",
       "      <td>5</td>\n",
       "      <td>534.0</td>\n",
       "      <td>0.0</td>\n",
       "      <td>20389.40</td>\n",
       "      <td>21.0</td>\n",
       "      <td>71.02</td>\n",
       "    </tr>\n",
       "    <tr>\n",
       "      <td>744</td>\n",
       "      <td>1009</td>\n",
       "      <td>6</td>\n",
       "      <td>823.0</td>\n",
       "      <td>0.0</td>\n",
       "      <td>18845.90</td>\n",
       "      <td>19.0</td>\n",
       "      <td>69.69</td>\n",
       "    </tr>\n",
       "    <tr>\n",
       "      <td>745</td>\n",
       "      <td>1009</td>\n",
       "      <td>7</td>\n",
       "      <td>880.0</td>\n",
       "      <td>0.0</td>\n",
       "      <td>30421.65</td>\n",
       "      <td>31.0</td>\n",
       "      <td>181.40</td>\n",
       "    </tr>\n",
       "    <tr>\n",
       "      <td>746</td>\n",
       "      <td>1009</td>\n",
       "      <td>8</td>\n",
       "      <td>731.0</td>\n",
       "      <td>0.0</td>\n",
       "      <td>24557.52</td>\n",
       "      <td>25.0</td>\n",
       "      <td>116.93</td>\n",
       "    </tr>\n",
       "    <tr>\n",
       "      <td>747</td>\n",
       "      <td>1009</td>\n",
       "      <td>9</td>\n",
       "      <td>776.0</td>\n",
       "      <td>0.0</td>\n",
       "      <td>20962.40</td>\n",
       "      <td>21.0</td>\n",
       "      <td>88.28</td>\n",
       "    </tr>\n",
       "    <tr>\n",
       "      <td>...</td>\n",
       "      <td>...</td>\n",
       "      <td>...</td>\n",
       "      <td>...</td>\n",
       "      <td>...</td>\n",
       "      <td>...</td>\n",
       "      <td>...</td>\n",
       "      <td>...</td>\n",
       "    </tr>\n",
       "    <tr>\n",
       "      <td>2288</td>\n",
       "      <td>1498</td>\n",
       "      <td>12</td>\n",
       "      <td>339.0</td>\n",
       "      <td>0.0</td>\n",
       "      <td>23137.69</td>\n",
       "      <td>24.0</td>\n",
       "      <td>100.00</td>\n",
       "    </tr>\n",
       "    <tr>\n",
       "      <td>2289</td>\n",
       "      <td>1499</td>\n",
       "      <td>9</td>\n",
       "      <td>346.0</td>\n",
       "      <td>0.0</td>\n",
       "      <td>12984.76</td>\n",
       "      <td>13.0</td>\n",
       "      <td>20.00</td>\n",
       "    </tr>\n",
       "    <tr>\n",
       "      <td>2290</td>\n",
       "      <td>1499</td>\n",
       "      <td>10</td>\n",
       "      <td>385.0</td>\n",
       "      <td>0.0</td>\n",
       "      <td>19492.43</td>\n",
       "      <td>20.0</td>\n",
       "      <td>70.00</td>\n",
       "    </tr>\n",
       "    <tr>\n",
       "      <td>2291</td>\n",
       "      <td>1499</td>\n",
       "      <td>11</td>\n",
       "      <td>308.0</td>\n",
       "      <td>0.0</td>\n",
       "      <td>16813.83</td>\n",
       "      <td>17.0</td>\n",
       "      <td>40.00</td>\n",
       "    </tr>\n",
       "    <tr>\n",
       "      <td>2292</td>\n",
       "      <td>1499</td>\n",
       "      <td>12</td>\n",
       "      <td>496.0</td>\n",
       "      <td>0.0</td>\n",
       "      <td>22059.21</td>\n",
       "      <td>23.0</td>\n",
       "      <td>90.00</td>\n",
       "    </tr>\n",
       "  </tbody>\n",
       "</table>\n",
       "<p>351 rows × 7 columns</p>\n",
       "</div>"
      ],
      "text/plain": [
       "      user_id  month  mins used  msgs per month  data in mb used  \\\n",
       "743      1009      5      534.0             0.0         20389.40   \n",
       "744      1009      6      823.0             0.0         18845.90   \n",
       "745      1009      7      880.0             0.0         30421.65   \n",
       "746      1009      8      731.0             0.0         24557.52   \n",
       "747      1009      9      776.0             0.0         20962.40   \n",
       "...       ...    ...        ...             ...              ...   \n",
       "2288     1498     12      339.0             0.0         23137.69   \n",
       "2289     1499      9      346.0             0.0         12984.76   \n",
       "2290     1499     10      385.0             0.0         19492.43   \n",
       "2291     1499     11      308.0             0.0         16813.83   \n",
       "2292     1499     12      496.0             0.0         22059.21   \n",
       "\n",
       "      data in gb per month  monthly_rev  \n",
       "743                   21.0        71.02  \n",
       "744                   19.0        69.69  \n",
       "745                   31.0       181.40  \n",
       "746                   25.0       116.93  \n",
       "747                   21.0        88.28  \n",
       "...                    ...          ...  \n",
       "2288                  24.0       100.00  \n",
       "2289                  13.0        20.00  \n",
       "2290                  20.0        70.00  \n",
       "2291                  17.0        40.00  \n",
       "2292                  23.0        90.00  \n",
       "\n",
       "[351 rows x 7 columns]"
      ]
     },
     "metadata": {},
     "output_type": "display_data"
    },
    {
     "data": {
      "text/plain": [
       "count    1573.000000\n",
       "mean       31.159568\n",
       "std        33.566717\n",
       "min         0.000000\n",
       "25%         3.000000\n",
       "50%        24.000000\n",
       "75%        47.000000\n",
       "max       266.000000\n",
       "Name: msgs per month, dtype: float64"
      ]
     },
     "execution_count": 42,
     "metadata": {},
     "output_type": "execute_result"
    }
   ],
   "source": [
    "display(surf_usage.query('`msgs per month`> 50'))\n",
    "display(surf_usage.query('`msgs per month` ==0'))\n",
    "surf_usage['msgs per month'].describe()"
   ]
  },
  {
   "cell_type": "markdown",
   "metadata": {},
   "source": [
    "> - 340 users exceeded their messaging limit\n",
    "> - 351 did not use messaging at all\n",
    "> - 266 is the max number of messages a user had sent. That's 5 times the alloted number of messages"
   ]
  },
  {
   "cell_type": "code",
   "execution_count": 43,
   "metadata": {},
   "outputs": [
    {
     "data": {
      "text/html": [
       "<div>\n",
       "<style scoped>\n",
       "    .dataframe tbody tr th:only-of-type {\n",
       "        vertical-align: middle;\n",
       "    }\n",
       "\n",
       "    .dataframe tbody tr th {\n",
       "        vertical-align: top;\n",
       "    }\n",
       "\n",
       "    .dataframe thead th {\n",
       "        text-align: right;\n",
       "    }\n",
       "</style>\n",
       "<table border=\"1\" class=\"dataframe\">\n",
       "  <thead>\n",
       "    <tr style=\"text-align: right;\">\n",
       "      <th></th>\n",
       "      <th>user_id</th>\n",
       "      <th>month</th>\n",
       "      <th>mins used</th>\n",
       "      <th>msgs per month</th>\n",
       "      <th>data in mb used</th>\n",
       "      <th>data in gb per month</th>\n",
       "      <th>monthly_rev</th>\n",
       "    </tr>\n",
       "  </thead>\n",
       "  <tbody>\n",
       "  </tbody>\n",
       "</table>\n",
       "</div>"
      ],
      "text/plain": [
       "Empty DataFrame\n",
       "Columns: [user_id, month, mins used, msgs per month, data in mb used, data in gb per month, monthly_rev]\n",
       "Index: []"
      ]
     },
     "metadata": {},
     "output_type": "display_data"
    },
    {
     "data": {
      "text/html": [
       "<div>\n",
       "<style scoped>\n",
       "    .dataframe tbody tr th:only-of-type {\n",
       "        vertical-align: middle;\n",
       "    }\n",
       "\n",
       "    .dataframe tbody tr th {\n",
       "        vertical-align: top;\n",
       "    }\n",
       "\n",
       "    .dataframe thead th {\n",
       "        text-align: right;\n",
       "    }\n",
       "</style>\n",
       "<table border=\"1\" class=\"dataframe\">\n",
       "  <thead>\n",
       "    <tr style=\"text-align: right;\">\n",
       "      <th></th>\n",
       "      <th>user_id</th>\n",
       "      <th>month</th>\n",
       "      <th>mins used</th>\n",
       "      <th>msgs per month</th>\n",
       "      <th>data in mb used</th>\n",
       "      <th>data in gb per month</th>\n",
       "      <th>monthly_rev</th>\n",
       "    </tr>\n",
       "  </thead>\n",
       "  <tbody>\n",
       "    <tr>\n",
       "      <td>60</td>\n",
       "      <td>1041</td>\n",
       "      <td>3</td>\n",
       "      <td>23.0</td>\n",
       "      <td>0.0</td>\n",
       "      <td>1586.39</td>\n",
       "      <td>2.0</td>\n",
       "      <td>70.0</td>\n",
       "    </tr>\n",
       "    <tr>\n",
       "      <td>61</td>\n",
       "      <td>1041</td>\n",
       "      <td>4</td>\n",
       "      <td>453.0</td>\n",
       "      <td>0.0</td>\n",
       "      <td>20601.58</td>\n",
       "      <td>21.0</td>\n",
       "      <td>70.0</td>\n",
       "    </tr>\n",
       "    <tr>\n",
       "      <td>62</td>\n",
       "      <td>1041</td>\n",
       "      <td>5</td>\n",
       "      <td>407.0</td>\n",
       "      <td>0.0</td>\n",
       "      <td>18259.46</td>\n",
       "      <td>19.0</td>\n",
       "      <td>70.0</td>\n",
       "    </tr>\n",
       "    <tr>\n",
       "      <td>63</td>\n",
       "      <td>1041</td>\n",
       "      <td>6</td>\n",
       "      <td>311.0</td>\n",
       "      <td>0.0</td>\n",
       "      <td>20033.17</td>\n",
       "      <td>21.0</td>\n",
       "      <td>70.0</td>\n",
       "    </tr>\n",
       "    <tr>\n",
       "      <td>64</td>\n",
       "      <td>1041</td>\n",
       "      <td>7</td>\n",
       "      <td>533.0</td>\n",
       "      <td>0.0</td>\n",
       "      <td>23400.72</td>\n",
       "      <td>24.0</td>\n",
       "      <td>70.0</td>\n",
       "    </tr>\n",
       "    <tr>\n",
       "      <td>...</td>\n",
       "      <td>...</td>\n",
       "      <td>...</td>\n",
       "      <td>...</td>\n",
       "      <td>...</td>\n",
       "      <td>...</td>\n",
       "      <td>...</td>\n",
       "      <td>...</td>\n",
       "    </tr>\n",
       "    <tr>\n",
       "      <td>714</td>\n",
       "      <td>1493</td>\n",
       "      <td>8</td>\n",
       "      <td>373.0</td>\n",
       "      <td>0.0</td>\n",
       "      <td>14137.82</td>\n",
       "      <td>15.0</td>\n",
       "      <td>70.0</td>\n",
       "    </tr>\n",
       "    <tr>\n",
       "      <td>715</td>\n",
       "      <td>1493</td>\n",
       "      <td>9</td>\n",
       "      <td>529.0</td>\n",
       "      <td>0.0</td>\n",
       "      <td>14991.17</td>\n",
       "      <td>15.0</td>\n",
       "      <td>70.0</td>\n",
       "    </tr>\n",
       "    <tr>\n",
       "      <td>716</td>\n",
       "      <td>1493</td>\n",
       "      <td>10</td>\n",
       "      <td>450.0</td>\n",
       "      <td>0.0</td>\n",
       "      <td>16329.57</td>\n",
       "      <td>17.0</td>\n",
       "      <td>70.0</td>\n",
       "    </tr>\n",
       "    <tr>\n",
       "      <td>717</td>\n",
       "      <td>1493</td>\n",
       "      <td>11</td>\n",
       "      <td>500.0</td>\n",
       "      <td>0.0</td>\n",
       "      <td>15630.78</td>\n",
       "      <td>16.0</td>\n",
       "      <td>70.0</td>\n",
       "    </tr>\n",
       "    <tr>\n",
       "      <td>718</td>\n",
       "      <td>1493</td>\n",
       "      <td>12</td>\n",
       "      <td>473.0</td>\n",
       "      <td>0.0</td>\n",
       "      <td>15289.09</td>\n",
       "      <td>16.0</td>\n",
       "      <td>70.0</td>\n",
       "    </tr>\n",
       "  </tbody>\n",
       "</table>\n",
       "<p>136 rows × 7 columns</p>\n",
       "</div>"
      ],
      "text/plain": [
       "     user_id  month  mins used  msgs per month  data in mb used  \\\n",
       "60      1041      3       23.0             0.0          1586.39   \n",
       "61      1041      4      453.0             0.0         20601.58   \n",
       "62      1041      5      407.0             0.0         18259.46   \n",
       "63      1041      6      311.0             0.0         20033.17   \n",
       "64      1041      7      533.0             0.0         23400.72   \n",
       "..       ...    ...        ...             ...              ...   \n",
       "714     1493      8      373.0             0.0         14137.82   \n",
       "715     1493      9      529.0             0.0         14991.17   \n",
       "716     1493     10      450.0             0.0         16329.57   \n",
       "717     1493     11      500.0             0.0         15630.78   \n",
       "718     1493     12      473.0             0.0         15289.09   \n",
       "\n",
       "     data in gb per month  monthly_rev  \n",
       "60                    2.0         70.0  \n",
       "61                   21.0         70.0  \n",
       "62                   19.0         70.0  \n",
       "63                   21.0         70.0  \n",
       "64                   24.0         70.0  \n",
       "..                    ...          ...  \n",
       "714                  15.0         70.0  \n",
       "715                  15.0         70.0  \n",
       "716                  17.0         70.0  \n",
       "717                  16.0         70.0  \n",
       "718                  16.0         70.0  \n",
       "\n",
       "[136 rows x 7 columns]"
      ]
     },
     "metadata": {},
     "output_type": "display_data"
    },
    {
     "data": {
      "text/plain": [
       "count    720.000000\n",
       "mean      37.551389\n",
       "std       34.767179\n",
       "min        0.000000\n",
       "25%        7.000000\n",
       "50%       30.000000\n",
       "75%       61.000000\n",
       "max      166.000000\n",
       "Name: msgs per month, dtype: float64"
      ]
     },
     "execution_count": 43,
     "metadata": {},
     "output_type": "execute_result"
    }
   ],
   "source": [
    "display(ultimate_usage.query('`msgs per month`> 1000'))\n",
    "display(ultimate_usage.query('`msgs per month` ==0'))\n",
    "ultimate_usage['msgs per month'].describe()"
   ]
  },
  {
   "cell_type": "markdown",
   "metadata": {},
   "source": [
    "> - As we can see from above, no one exceeded their messaging limit under the Ultimate plan\n",
    "> - 136 users did not use their messaging at all\n",
    "> - 166 is the max number of messages a user had used, which is barely 20% of the plan"
   ]
  },
  {
   "cell_type": "markdown",
   "metadata": {},
   "source": [
    "**<em>Data</em>**"
   ]
  },
  {
   "cell_type": "code",
   "execution_count": 44,
   "metadata": {},
   "outputs": [
    {
     "data": {
      "text/plain": [
       "Text(0.5, 0.98, 'Surf Plan')"
      ]
     },
     "execution_count": 44,
     "metadata": {},
     "output_type": "execute_result"
    },
    {
     "data": {
      "image/png": "[encoded data removed]",
      "text/plain": [
       "<Figure size 720x360 with 1 Axes>"
      ]
     },
     "metadata": {},
     "output_type": "display_data"
    }
   ],
   "source": [
    "plt.figure(figsize = (10,5))\n",
    "sns.set(style='darkgrid')\n",
    "sns.histplot(data =surf_usage, x='data in gb per month',color= 'darkgreen', kde=True).set_title('Data used per month')\n",
    "plt.ylabel('frequency')\n",
    "plt.suptitle('Surf Plan')\n",
    "plt.show()"
   ]
  },
  {
   "cell_type": "code",
   "execution_count": 45,
   "metadata": {},
   "outputs": [
    {
     "data": {
      "text/plain": [
       "Text(0.5, 0.98, 'Ultimate Plan')"
      ]
     },
     "execution_count": 45,
     "metadata": {},
     "output_type": "execute_result"
    },
    {
     "data": {
      "image/png": "[encoded data removed]",
      "text/plain": [
       "<Figure size 720x360 with 1 Axes>"
      ]
     },
     "metadata": {},
     "output_type": "display_data"
    }
   ],
   "source": [
    "plt.figure(figsize = (10,5))\n",
    "sns.set(style='darkgrid')\n",
    "sns.histplot(data =ultimate_usage, x='data in gb per month',color= 'darkred', kde=True).set_title('Data used per month')\n",
    "plt.ylabel('frequency')\n",
    "plt.suptitle('Ultimate Plan')\n",
    "plt.show()"
   ]
  },
  {
   "cell_type": "code",
   "execution_count": 46,
   "metadata": {},
   "outputs": [
    {
     "data": {
      "text/html": [
       "<div>\n",
       "<style scoped>\n",
       "    .dataframe tbody tr th:only-of-type {\n",
       "        vertical-align: middle;\n",
       "    }\n",
       "\n",
       "    .dataframe tbody tr th {\n",
       "        vertical-align: top;\n",
       "    }\n",
       "\n",
       "    .dataframe thead th {\n",
       "        text-align: right;\n",
       "    }\n",
       "</style>\n",
       "<table border=\"1\" class=\"dataframe\">\n",
       "  <thead>\n",
       "    <tr style=\"text-align: right;\">\n",
       "      <th></th>\n",
       "      <th>mean</th>\n",
       "      <th>var</th>\n",
       "      <th>std</th>\n",
       "    </tr>\n",
       "    <tr>\n",
       "      <th>plan</th>\n",
       "      <th></th>\n",
       "      <th></th>\n",
       "      <th></th>\n",
       "    </tr>\n",
       "  </thead>\n",
       "  <tbody>\n",
       "    <tr>\n",
       "      <td>surf</td>\n",
       "      <td>17.037508</td>\n",
       "      <td>64.262587</td>\n",
       "      <td>8.016395</td>\n",
       "    </tr>\n",
       "    <tr>\n",
       "      <td>ultimate</td>\n",
       "      <td>17.719444</td>\n",
       "      <td>61.862765</td>\n",
       "      <td>7.865289</td>\n",
       "    </tr>\n",
       "  </tbody>\n",
       "</table>\n",
       "</div>"
      ],
      "text/plain": [
       "               mean        var       std\n",
       "plan                                    \n",
       "surf      17.037508  64.262587  8.016395\n",
       "ultimate  17.719444  61.862765  7.865289"
      ]
     },
     "execution_count": 46,
     "metadata": {},
     "output_type": "execute_result"
    }
   ],
   "source": [
    "monthly_usage.groupby('plan')['data in gb per month'].agg(['mean','var', 'std'])"
   ]
  },
  {
   "cell_type": "markdown",
   "metadata": {},
   "source": [
    "> - Graphs for both Surf and Ultimate have similar distribution\n",
    "> - Mean and median are almost identical which is a sign that the distribution is close to normal"
   ]
  },
  {
   "cell_type": "code",
   "execution_count": 47,
   "metadata": {},
   "outputs": [
    {
     "data": {
      "text/html": [
       "<div>\n",
       "<style scoped>\n",
       "    .dataframe tbody tr th:only-of-type {\n",
       "        vertical-align: middle;\n",
       "    }\n",
       "\n",
       "    .dataframe tbody tr th {\n",
       "        vertical-align: top;\n",
       "    }\n",
       "\n",
       "    .dataframe thead th {\n",
       "        text-align: right;\n",
       "    }\n",
       "</style>\n",
       "<table border=\"1\" class=\"dataframe\">\n",
       "  <thead>\n",
       "    <tr style=\"text-align: right;\">\n",
       "      <th></th>\n",
       "      <th>user_id</th>\n",
       "      <th>month</th>\n",
       "      <th>mins used</th>\n",
       "      <th>msgs per month</th>\n",
       "      <th>data in mb used</th>\n",
       "      <th>data in gb per month</th>\n",
       "      <th>monthly_rev</th>\n",
       "    </tr>\n",
       "  </thead>\n",
       "  <tbody>\n",
       "    <tr>\n",
       "      <td>722</td>\n",
       "      <td>1001</td>\n",
       "      <td>10</td>\n",
       "      <td>393.0</td>\n",
       "      <td>53.0</td>\n",
       "      <td>22330.49</td>\n",
       "      <td>23.0</td>\n",
       "      <td>90.09</td>\n",
       "    </tr>\n",
       "    <tr>\n",
       "      <td>723</td>\n",
       "      <td>1001</td>\n",
       "      <td>11</td>\n",
       "      <td>426.0</td>\n",
       "      <td>36.0</td>\n",
       "      <td>18504.30</td>\n",
       "      <td>19.0</td>\n",
       "      <td>60.00</td>\n",
       "    </tr>\n",
       "    <tr>\n",
       "      <td>724</td>\n",
       "      <td>1001</td>\n",
       "      <td>12</td>\n",
       "      <td>412.0</td>\n",
       "      <td>44.0</td>\n",
       "      <td>19369.18</td>\n",
       "      <td>20.0</td>\n",
       "      <td>60.00</td>\n",
       "    </tr>\n",
       "    <tr>\n",
       "      <td>726</td>\n",
       "      <td>1002</td>\n",
       "      <td>11</td>\n",
       "      <td>386.0</td>\n",
       "      <td>32.0</td>\n",
       "      <td>19345.08</td>\n",
       "      <td>20.0</td>\n",
       "      <td>60.00</td>\n",
       "    </tr>\n",
       "    <tr>\n",
       "      <td>728</td>\n",
       "      <td>1003</td>\n",
       "      <td>12</td>\n",
       "      <td>1104.0</td>\n",
       "      <td>50.0</td>\n",
       "      <td>27044.14</td>\n",
       "      <td>28.0</td>\n",
       "      <td>158.12</td>\n",
       "    </tr>\n",
       "    <tr>\n",
       "      <td>...</td>\n",
       "      <td>...</td>\n",
       "      <td>...</td>\n",
       "      <td>...</td>\n",
       "      <td>...</td>\n",
       "      <td>...</td>\n",
       "      <td>...</td>\n",
       "      <td>...</td>\n",
       "    </tr>\n",
       "    <tr>\n",
       "      <td>2287</td>\n",
       "      <td>1498</td>\n",
       "      <td>11</td>\n",
       "      <td>223.0</td>\n",
       "      <td>0.0</td>\n",
       "      <td>19168.55</td>\n",
       "      <td>20.0</td>\n",
       "      <td>60.00</td>\n",
       "    </tr>\n",
       "    <tr>\n",
       "      <td>2288</td>\n",
       "      <td>1498</td>\n",
       "      <td>12</td>\n",
       "      <td>339.0</td>\n",
       "      <td>0.0</td>\n",
       "      <td>23137.69</td>\n",
       "      <td>24.0</td>\n",
       "      <td>100.00</td>\n",
       "    </tr>\n",
       "    <tr>\n",
       "      <td>2290</td>\n",
       "      <td>1499</td>\n",
       "      <td>10</td>\n",
       "      <td>385.0</td>\n",
       "      <td>0.0</td>\n",
       "      <td>19492.43</td>\n",
       "      <td>20.0</td>\n",
       "      <td>70.00</td>\n",
       "    </tr>\n",
       "    <tr>\n",
       "      <td>2291</td>\n",
       "      <td>1499</td>\n",
       "      <td>11</td>\n",
       "      <td>308.0</td>\n",
       "      <td>0.0</td>\n",
       "      <td>16813.83</td>\n",
       "      <td>17.0</td>\n",
       "      <td>40.00</td>\n",
       "    </tr>\n",
       "    <tr>\n",
       "      <td>2292</td>\n",
       "      <td>1499</td>\n",
       "      <td>12</td>\n",
       "      <td>496.0</td>\n",
       "      <td>0.0</td>\n",
       "      <td>22059.21</td>\n",
       "      <td>23.0</td>\n",
       "      <td>90.00</td>\n",
       "    </tr>\n",
       "  </tbody>\n",
       "</table>\n",
       "<p>950 rows × 7 columns</p>\n",
       "</div>"
      ],
      "text/plain": [
       "      user_id  month  mins used  msgs per month  data in mb used  \\\n",
       "722      1001     10      393.0            53.0         22330.49   \n",
       "723      1001     11      426.0            36.0         18504.30   \n",
       "724      1001     12      412.0            44.0         19369.18   \n",
       "726      1002     11      386.0            32.0         19345.08   \n",
       "728      1003     12     1104.0            50.0         27044.14   \n",
       "...       ...    ...        ...             ...              ...   \n",
       "2287     1498     11      223.0             0.0         19168.55   \n",
       "2288     1498     12      339.0             0.0         23137.69   \n",
       "2290     1499     10      385.0             0.0         19492.43   \n",
       "2291     1499     11      308.0             0.0         16813.83   \n",
       "2292     1499     12      496.0             0.0         22059.21   \n",
       "\n",
       "      data in gb per month  monthly_rev  \n",
       "722                   23.0        90.09  \n",
       "723                   19.0        60.00  \n",
       "724                   20.0        60.00  \n",
       "726                   20.0        60.00  \n",
       "728                   28.0       158.12  \n",
       "...                    ...          ...  \n",
       "2287                  20.0        60.00  \n",
       "2288                  24.0       100.00  \n",
       "2290                  20.0        70.00  \n",
       "2291                  17.0        40.00  \n",
       "2292                  23.0        90.00  \n",
       "\n",
       "[950 rows x 7 columns]"
      ]
     },
     "metadata": {},
     "output_type": "display_data"
    },
    {
     "data": {
      "text/html": [
       "<div>\n",
       "<style scoped>\n",
       "    .dataframe tbody tr th:only-of-type {\n",
       "        vertical-align: middle;\n",
       "    }\n",
       "\n",
       "    .dataframe tbody tr th {\n",
       "        vertical-align: top;\n",
       "    }\n",
       "\n",
       "    .dataframe thead th {\n",
       "        text-align: right;\n",
       "    }\n",
       "</style>\n",
       "<table border=\"1\" class=\"dataframe\">\n",
       "  <thead>\n",
       "    <tr style=\"text-align: right;\">\n",
       "      <th></th>\n",
       "      <th>user_id</th>\n",
       "      <th>month</th>\n",
       "      <th>mins used</th>\n",
       "      <th>msgs per month</th>\n",
       "      <th>data in mb used</th>\n",
       "      <th>data in gb per month</th>\n",
       "      <th>monthly_rev</th>\n",
       "    </tr>\n",
       "  </thead>\n",
       "  <tbody>\n",
       "    <tr>\n",
       "      <td>818</td>\n",
       "      <td>1044</td>\n",
       "      <td>8</td>\n",
       "      <td>13.0</td>\n",
       "      <td>0.0</td>\n",
       "      <td>0.0</td>\n",
       "      <td>0.0</td>\n",
       "      <td>20.00</td>\n",
       "    </tr>\n",
       "    <tr>\n",
       "      <td>1449</td>\n",
       "      <td>1222</td>\n",
       "      <td>6</td>\n",
       "      <td>14.0</td>\n",
       "      <td>2.0</td>\n",
       "      <td>0.0</td>\n",
       "      <td>0.0</td>\n",
       "      <td>20.00</td>\n",
       "    </tr>\n",
       "    <tr>\n",
       "      <td>1847</td>\n",
       "      <td>1340</td>\n",
       "      <td>8</td>\n",
       "      <td>46.0</td>\n",
       "      <td>8.0</td>\n",
       "      <td>0.0</td>\n",
       "      <td>0.0</td>\n",
       "      <td>20.00</td>\n",
       "    </tr>\n",
       "    <tr>\n",
       "      <td>1849</td>\n",
       "      <td>1340</td>\n",
       "      <td>10</td>\n",
       "      <td>441.0</td>\n",
       "      <td>62.0</td>\n",
       "      <td>0.0</td>\n",
       "      <td>0.0</td>\n",
       "      <td>20.36</td>\n",
       "    </tr>\n",
       "    <tr>\n",
       "      <td>2009</td>\n",
       "      <td>1393</td>\n",
       "      <td>10</td>\n",
       "      <td>71.0</td>\n",
       "      <td>4.0</td>\n",
       "      <td>0.0</td>\n",
       "      <td>0.0</td>\n",
       "      <td>20.00</td>\n",
       "    </tr>\n",
       "    <tr>\n",
       "      <td>2200</td>\n",
       "      <td>1470</td>\n",
       "      <td>5</td>\n",
       "      <td>240.0</td>\n",
       "      <td>51.0</td>\n",
       "      <td>0.0</td>\n",
       "      <td>0.0</td>\n",
       "      <td>20.03</td>\n",
       "    </tr>\n",
       "    <tr>\n",
       "      <td>2201</td>\n",
       "      <td>1470</td>\n",
       "      <td>6</td>\n",
       "      <td>565.0</td>\n",
       "      <td>133.0</td>\n",
       "      <td>0.0</td>\n",
       "      <td>0.0</td>\n",
       "      <td>24.44</td>\n",
       "    </tr>\n",
       "    <tr>\n",
       "      <td>2202</td>\n",
       "      <td>1470</td>\n",
       "      <td>7</td>\n",
       "      <td>524.0</td>\n",
       "      <td>147.0</td>\n",
       "      <td>0.0</td>\n",
       "      <td>0.0</td>\n",
       "      <td>23.63</td>\n",
       "    </tr>\n",
       "    <tr>\n",
       "      <td>2203</td>\n",
       "      <td>1470</td>\n",
       "      <td>8</td>\n",
       "      <td>580.0</td>\n",
       "      <td>141.0</td>\n",
       "      <td>0.0</td>\n",
       "      <td>0.0</td>\n",
       "      <td>25.13</td>\n",
       "    </tr>\n",
       "    <tr>\n",
       "      <td>2204</td>\n",
       "      <td>1470</td>\n",
       "      <td>9</td>\n",
       "      <td>471.0</td>\n",
       "      <td>130.0</td>\n",
       "      <td>0.0</td>\n",
       "      <td>0.0</td>\n",
       "      <td>22.40</td>\n",
       "    </tr>\n",
       "    <tr>\n",
       "      <td>2205</td>\n",
       "      <td>1470</td>\n",
       "      <td>10</td>\n",
       "      <td>459.0</td>\n",
       "      <td>145.0</td>\n",
       "      <td>0.0</td>\n",
       "      <td>0.0</td>\n",
       "      <td>22.85</td>\n",
       "    </tr>\n",
       "    <tr>\n",
       "      <td>2206</td>\n",
       "      <td>1470</td>\n",
       "      <td>11</td>\n",
       "      <td>632.0</td>\n",
       "      <td>156.0</td>\n",
       "      <td>0.0</td>\n",
       "      <td>0.0</td>\n",
       "      <td>27.14</td>\n",
       "    </tr>\n",
       "    <tr>\n",
       "      <td>2207</td>\n",
       "      <td>1470</td>\n",
       "      <td>12</td>\n",
       "      <td>592.0</td>\n",
       "      <td>153.0</td>\n",
       "      <td>0.0</td>\n",
       "      <td>0.0</td>\n",
       "      <td>25.85</td>\n",
       "    </tr>\n",
       "    <tr>\n",
       "      <td>2234</td>\n",
       "      <td>1484</td>\n",
       "      <td>11</td>\n",
       "      <td>38.0</td>\n",
       "      <td>1.0</td>\n",
       "      <td>0.0</td>\n",
       "      <td>0.0</td>\n",
       "      <td>20.00</td>\n",
       "    </tr>\n",
       "    <tr>\n",
       "      <td>2250</td>\n",
       "      <td>1491</td>\n",
       "      <td>4</td>\n",
       "      <td>44.0</td>\n",
       "      <td>6.0</td>\n",
       "      <td>0.0</td>\n",
       "      <td>0.0</td>\n",
       "      <td>20.00</td>\n",
       "    </tr>\n",
       "  </tbody>\n",
       "</table>\n",
       "</div>"
      ],
      "text/plain": [
       "      user_id  month  mins used  msgs per month  data in mb used  \\\n",
       "818      1044      8       13.0             0.0              0.0   \n",
       "1449     1222      6       14.0             2.0              0.0   \n",
       "1847     1340      8       46.0             8.0              0.0   \n",
       "1849     1340     10      441.0            62.0              0.0   \n",
       "2009     1393     10       71.0             4.0              0.0   \n",
       "2200     1470      5      240.0            51.0              0.0   \n",
       "2201     1470      6      565.0           133.0              0.0   \n",
       "2202     1470      7      524.0           147.0              0.0   \n",
       "2203     1470      8      580.0           141.0              0.0   \n",
       "2204     1470      9      471.0           130.0              0.0   \n",
       "2205     1470     10      459.0           145.0              0.0   \n",
       "2206     1470     11      632.0           156.0              0.0   \n",
       "2207     1470     12      592.0           153.0              0.0   \n",
       "2234     1484     11       38.0             1.0              0.0   \n",
       "2250     1491      4       44.0             6.0              0.0   \n",
       "\n",
       "      data in gb per month  monthly_rev  \n",
       "818                    0.0        20.00  \n",
       "1449                   0.0        20.00  \n",
       "1847                   0.0        20.00  \n",
       "1849                   0.0        20.36  \n",
       "2009                   0.0        20.00  \n",
       "2200                   0.0        20.03  \n",
       "2201                   0.0        24.44  \n",
       "2202                   0.0        23.63  \n",
       "2203                   0.0        25.13  \n",
       "2204                   0.0        22.40  \n",
       "2205                   0.0        22.85  \n",
       "2206                   0.0        27.14  \n",
       "2207                   0.0        25.85  \n",
       "2234                   0.0        20.00  \n",
       "2250                   0.0        20.00  "
      ]
     },
     "metadata": {},
     "output_type": "display_data"
    },
    {
     "data": {
      "text/plain": [
       "count    1573.000000\n",
       "mean       17.037508\n",
       "std         8.016395\n",
       "min         0.000000\n",
       "25%        12.000000\n",
       "50%        17.000000\n",
       "75%        21.000000\n",
       "max        71.000000\n",
       "Name: data in gb per month, dtype: float64"
      ]
     },
     "execution_count": 47,
     "metadata": {},
     "output_type": "execute_result"
    }
   ],
   "source": [
    "display(surf_usage.query('`data in gb per month` > 15'))\n",
    "display(surf_usage.query('`data in gb per month` == 0'))\n",
    "surf_usage['data in gb per month'].describe()"
   ]
  },
  {
   "cell_type": "markdown",
   "metadata": {},
   "source": [
    "> -  950 users have exceeded their data usage under Surf plan, which is 60% of the users\n",
    "> - 15 users did not use their data at all\n",
    "> - 71 gb of data is the max a user had used, which is 5 times the alloted data provided "
   ]
  },
  {
   "cell_type": "code",
   "execution_count": 48,
   "metadata": {},
   "outputs": [
    {
     "data": {
      "text/plain": [
       "46"
      ]
     },
     "metadata": {},
     "output_type": "display_data"
    },
    {
     "data": {
      "text/html": [
       "<div>\n",
       "<style scoped>\n",
       "    .dataframe tbody tr th:only-of-type {\n",
       "        vertical-align: middle;\n",
       "    }\n",
       "\n",
       "    .dataframe tbody tr th {\n",
       "        vertical-align: top;\n",
       "    }\n",
       "\n",
       "    .dataframe thead th {\n",
       "        text-align: right;\n",
       "    }\n",
       "</style>\n",
       "<table border=\"1\" class=\"dataframe\">\n",
       "  <thead>\n",
       "    <tr style=\"text-align: right;\">\n",
       "      <th></th>\n",
       "      <th>user_id</th>\n",
       "      <th>month</th>\n",
       "      <th>mins used</th>\n",
       "      <th>msgs per month</th>\n",
       "      <th>data in mb used</th>\n",
       "      <th>data in gb per month</th>\n",
       "      <th>monthly_rev</th>\n",
       "    </tr>\n",
       "  </thead>\n",
       "  <tbody>\n",
       "    <tr>\n",
       "      <td>704</td>\n",
       "      <td>1482</td>\n",
       "      <td>10</td>\n",
       "      <td>0.0</td>\n",
       "      <td>2.0</td>\n",
       "      <td>0.0</td>\n",
       "      <td>0.0</td>\n",
       "      <td>70.0</td>\n",
       "    </tr>\n",
       "  </tbody>\n",
       "</table>\n",
       "</div>"
      ],
      "text/plain": [
       "     user_id  month  mins used  msgs per month  data in mb used  \\\n",
       "704     1482     10        0.0             2.0              0.0   \n",
       "\n",
       "     data in gb per month  monthly_rev  \n",
       "704                   0.0         70.0  "
      ]
     },
     "metadata": {},
     "output_type": "display_data"
    },
    {
     "data": {
      "text/plain": [
       "count    720.000000\n",
       "mean      17.719444\n",
       "std        7.865289\n",
       "min        0.000000\n",
       "25%       13.000000\n",
       "50%       17.000000\n",
       "75%       22.000000\n",
       "max       47.000000\n",
       "Name: data in gb per month, dtype: float64"
      ]
     },
     "execution_count": 48,
     "metadata": {},
     "output_type": "execute_result"
    }
   ],
   "source": [
    "display(len(ultimate_usage.query('`data in gb per month` > 30')))\n",
    "display(ultimate_usage.query('`data in gb per month` == 0'))\n",
    "ultimate_usage['data in gb per month'].describe()"
   ]
  },
  {
   "cell_type": "markdown",
   "metadata": {},
   "source": [
    "> - 46 users had exceeded their limit under Ultimate plan\n",
    "> - Only 1 user did not use their data at all\n",
    "> - 47 gb of the data is the max a user had used, which is more than half the alloted data per month"
   ]
  },
  {
   "cell_type": "markdown",
   "metadata": {},
   "source": [
    "## Step 4. Test the hypotheses"
   ]
  },
  {
   "cell_type": "markdown",
   "metadata": {},
   "source": [
    "**Test 1.** The average revenue from users of Ultimate and Surf calling plan differs"
   ]
  },
  {
   "cell_type": "markdown",
   "metadata": {},
   "source": [
    "In this experiment, the null hypothesis is that the average revenue from users of Ultimate and Surf calling plan are the same. The alternative hypothesis is that the average revenue from users of Ultimate and Surf calling plans differs. We're going to use 5% significance level. When the probability of obtaining a sample mean is less than 5% if the null hypothesis were true, then we reject the value stated in the null hypothesis."
   ]
  },
  {
   "cell_type": "markdown",
   "metadata": {},
   "source": [
    "> - $H_{0}$ - Null Hypothesis: Average revenue from users of Surf and Ultimate calling plan are the same\n",
    "> - $H_{1}$ -Alternative Hypothesis: Average revenue from users of  Surf and Ultimate calling plan are different\n",
    "> - .05 -  Significance level or alpha \n",
    "> - <em>scipy.stats.ttest_ind()</em> - the method test we're going to use\n"
   ]
  },
  {
   "cell_type": "code",
   "execution_count": 49,
   "metadata": {},
   "outputs": [
    {
     "name": "stdout",
     "output_type": "stream",
     "text": [
      "p-value:  2.862674510698644e-08\n",
      "We reject the null hypothesis\n"
     ]
    }
   ],
   "source": [
    "#getting the samples\n",
    "surf_sample = surf_usage['monthly_rev']\n",
    "ultimate_sample = ultimate_usage['monthly_rev']\n",
    "\n",
    "alpha = 0.05  # critical statistical significance level\n",
    "# if the p-value is less than alpha, we reject the hypothesis\n",
    "\n",
    "results = st.ttest_ind(surf_sample, ultimate_sample)\n",
    "\n",
    "print('p-value: ', results.pvalue)\n",
    "\n",
    "if results.pvalue < alpha:\n",
    "    print(\"We reject the null hypothesis\")\n",
    "else:\n",
    "    print(\"We can't reject the null hypothesis\") "
   ]
  },
  {
   "cell_type": "markdown",
   "metadata": {},
   "source": [
    "#### Conclusion"
   ]
  },
  {
   "cell_type": "markdown",
   "metadata": {},
   "source": [
    "- We stated the null hypothesis that average revenue are the same for both Surf and Ultimate\n",
    "- Based on the statistic test, we reached the decision to <em> to reject the null hypothesis</em>\n",
    "- Since we rejected the null hypothesis, we can now accept the alternative hypothesis. The average revenues do differ just looking at the data"
   ]
  },
  {
   "cell_type": "markdown",
   "metadata": {},
   "source": [
    "**Test 2.** The average revenue from users in NY-NJ area is different from that of the users from other regions"
   ]
  },
  {
   "cell_type": "markdown",
   "metadata": {},
   "source": [
    "In this experiment, the null hypothesis is that the average revenue from **NY-NJ** users are the same from other region users. The alternative hypothesis is that the average revenue from **NY-NJ** users is different from other region users. We're going to use 5% significance level. We will apply the method <em>scipy.stats.ttest_ind()</em> in order to test our hypothesis that the means of two statistical populations are equal based on samples taken from them"
   ]
  },
  {
   "cell_type": "markdown",
   "metadata": {},
   "source": [
    "> - $H_{0}$- Null hypothesis - Average revenue from NY-NJ users are the same from other regions\n",
    "> -$H_{1}$ - Alternative hypothesis - Average revenue from NY-NJ users are different from other regions\n",
    "> - .05 -  Significance level or alpha \n",
    "> - <em>scipy.stats.ttest_ind()</em> - the statistic test we're going to use"
   ]
  },
  {
   "cell_type": "markdown",
   "metadata": {},
   "source": [
    "Before moving on , we need to get the revenue from NY_NJ and  the revenue from other regions"
   ]
  },
  {
   "cell_type": "code",
   "execution_count": 50,
   "metadata": {},
   "outputs": [
    {
     "data": {
      "text/plain": [
       "array(['Atlanta-Sandy Springs-Roswell, GA MSA',\n",
       "       'San Francisco-Oakland-Berkeley, CA MSA',\n",
       "       'Orlando-Kissimmee-Sanford, FL MSA', 'Cleveland-Elyria, OH MSA',\n",
       "       'Knoxville, TN MSA', 'Houston-The Woodlands-Sugar Land, TX MSA',\n",
       "       'Philadelphia-Camden-Wilmington, PA-NJ-DE-MD MSA',\n",
       "       'Chicago-Naperville-Elgin, IL-IN-WI MSA',\n",
       "       'New York-Newark-Jersey City, NY-NJ-PA MSA',\n",
       "       'Birmingham-Hoover, AL MSA', 'Oklahoma City, OK MSA',\n",
       "       'Denver-Aurora-Lakewood, CO MSA',\n",
       "       'Seattle-Tacoma-Bellevue, WA MSA',\n",
       "       'Nashville-Davidson–Murfreesboro–Franklin, TN MSA',\n",
       "       'Columbus, OH MSA', 'Las Vegas-Henderson-Paradise, NV MSA',\n",
       "       'Indianapolis-Carmel-Anderson, IN MSA',\n",
       "       'Miami-Fort Lauderdale-West Palm Beach, FL MSA',\n",
       "       'Columbia, SC MSA', 'San Antonio-New Braunfels, TX MSA',\n",
       "       'Charlotte-Concord-Gastonia, NC-SC MSA',\n",
       "       'Phoenix-Mesa-Chandler, AZ MSA',\n",
       "       'Riverside-San Bernardino-Ontario, CA MSA',\n",
       "       'Salt Lake City, UT MSA', 'Grand Rapids-Kentwood, MI MSA',\n",
       "       'New Haven-Milford, CT MSA', 'Cincinnati, OH-KY-IN MSA',\n",
       "       'Virginia Beach-Norfolk-Newport News, VA-NC MSA',\n",
       "       'Los Angeles-Long Beach-Anaheim, CA MSA',\n",
       "       'Sacramento–Roseville–Folsom, CA MSA',\n",
       "       'Louisville/Jefferson County, KY-IN MSA', 'Richmond, VA MSA',\n",
       "       'St. Louis, MO-IL MSA',\n",
       "       'Minneapolis-St. Paul-Bloomington, MN-WI MSA',\n",
       "       'San Diego-Chula Vista-Carlsbad, CA MSA',\n",
       "       'Austin-Round Rock-Georgetown, TX MSA',\n",
       "       'San Jose-Sunnyvale-Santa Clara, CA MSA',\n",
       "       'Tampa-St. Petersburg-Clearwater, FL MSA', 'Baton Rouge, LA MSA',\n",
       "       'Charleston-North Charleston, SC MSA',\n",
       "       'Detroit-Warren-Dearborn, MI MSA', 'Memphis, TN-MS-AR MSA',\n",
       "       'Tucson, AZ MSA', 'Pittsburgh, PA MSA',\n",
       "       'Washington-Arlington-Alexandria, DC-VA-MD-WV MSA',\n",
       "       'Dallas-Fort Worth-Arlington, TX MSA', 'Bakersfield, CA MSA',\n",
       "       'Fresno, CA MSA', 'Portland-Vancouver-Hillsboro, OR-WA MSA',\n",
       "       'Cape Coral-Fort Myers, FL MSA',\n",
       "       'Boston-Cambridge-Newton, MA-NH MSA', 'Tulsa, OK MSA',\n",
       "       'Jacksonville, FL MSA', 'Omaha-Council Bluffs, NE-IA MSA',\n",
       "       'Albuquerque, NM MSA', 'Buffalo-Cheektowaga, NY MSA',\n",
       "       'Albany-Schenectady-Troy, NY MSA', 'Providence-Warwick, RI-MA MSA',\n",
       "       'Urban Honolulu, HI MSA', 'El Paso, TX MSA',\n",
       "       'North Port-Sarasota-Bradenton, FL MSA',\n",
       "       'New Orleans-Metairie, LA MSA',\n",
       "       'Bridgeport-Stamford-Norwalk, CT MSA',\n",
       "       'Baltimore-Columbia-Towson, MD MSA', 'Milwaukee-Waukesha, WI MSA',\n",
       "       'Oxnard-Thousand Oaks-Ventura, CA MSA', 'Dayton-Kettering, OH MSA',\n",
       "       'Kansas City, MO-KS MSA', 'Rochester, NY MSA',\n",
       "       'Raleigh-Cary, NC MSA', 'Greensboro-High Point, NC MSA',\n",
       "       'Colorado Springs, CO MSA', 'Stockton, CA MSA'], dtype=object)"
      ]
     },
     "execution_count": 50,
     "metadata": {},
     "output_type": "execute_result"
    }
   ],
   "source": [
    "monthly_usage['city'].unique()"
   ]
  },
  {
   "cell_type": "code",
   "execution_count": 51,
   "metadata": {},
   "outputs": [],
   "source": [
    "ny_nj_users = monthly_usage.query('city ==\"New York-Newark-Jersey City, NY-NJ-PA MSA\"')['monthly_rev']\n",
    "other_regions_users = monthly_usage.query('city !=\"New York-Newark-Jersey City, NY-NJ-PA MSA\"')['monthly_rev']"
   ]
  },
  {
   "cell_type": "code",
   "execution_count": 52,
   "metadata": {},
   "outputs": [
    {
     "data": {
      "text/plain": [
       "(59.92135278514589, 65.2227713987474)"
      ]
     },
     "execution_count": 52,
     "metadata": {},
     "output_type": "execute_result"
    }
   ],
   "source": [
    "#finding the mean of 2 samples\n",
    "ny_nj_users.mean(),other_regions_users.mean()"
   ]
  },
  {
   "cell_type": "code",
   "execution_count": 53,
   "metadata": {},
   "outputs": [
    {
     "name": "stdout",
     "output_type": "stream",
     "text": [
      "p-value:  0.03352561588530032\n",
      "We reject the null hypothesis\n"
     ]
    }
   ],
   "source": [
    "#getting the samples\n",
    "ny_nj_users = monthly_usage.query('city ==\"New York-Newark-Jersey City, NY-NJ-PA MSA\"')['monthly_rev']\n",
    "other_regions_users = monthly_usage.query('city !=\"New York-Newark-Jersey City, NY-NJ-PA MSA\"')['monthly_rev']\n",
    "\n",
    "alpha = 0.05  # critical statistical significance level\n",
    "# if the p-value is less than alpha, we reject the hypothesis\n",
    "\n",
    "results = st.ttest_ind(ny_nj_users, other_regions_users, equal_var=False)\n",
    "\n",
    "print('p-value: ', results.pvalue)\n",
    "\n",
    "if results.pvalue < alpha:\n",
    "    print(\"We reject the null hypothesis\")\n",
    "else:\n",
    "    print(\"We can't reject the null hypothesis\") "
   ]
  },
  {
   "cell_type": "markdown",
   "metadata": {},
   "source": [
    "#### Conclusion"
   ]
  },
  {
   "cell_type": "markdown",
   "metadata": {},
   "source": [
    "\n",
    "\n",
    "- We stated in the null hypothesis that the average revenue from users in the New York-New Jersey area and users from other regions are the same.\n",
    "- We used the method **<em>scipy.stats.ttest_ind()</em>**  to test the hypothesis using a significance level of 0.05.  - Since the p-value is less than 0.05, it means that we have to reject the null hypothesis.\n",
    "- We may not know the size of the difference between the average revenue from users in the New York-New Jersey area, and users from other regions. All the test tells us is that they are different. \n",
    "- By calculating the average number for revenue from users in both groups, we can say with certainty that the mean of the revenue between the two groups are significantly different.\n"
   ]
  },
  {
   "cell_type": "markdown",
   "metadata": {},
   "source": [
    "## Step 5. Overall Conclusion"
   ]
  },
  {
   "cell_type": "markdown",
   "metadata": {},
   "source": [
    "At first glance, there's not a lot of missing values. The **Churn_date** column has the only missing values. Several columns have incorrect datatypes especially the date columns which had the object dataytype. We did some data preprocessing, data type replacement, and replaced missing values when necessary.\n",
    "\n",
    "We did calculations to find the number of calls made and minutes used per month. We also calculated the number of text messages, volume of data per month, and the monthly revenue from each user. We also plotted histograms to determine distribution for each plan. We were able to determine that Surf had more revenue than Ultimate and that there are almost twice as many Surf users than there are Ultimate users. We also found out that Surf users tend to go over their limit more frequently than Ultimate users.\n",
    "\n",
    "We also did statistical hypotheses testing. We tested two hypotheses:\n",
    "\n",
    "> - The average profit from users of Ultimate and Surf plans differs;\n",
    "> - The average profit from users in the NY-NJ area is different from that of the users from other regions.\n",
    "\n",
    "And in both cases we have rejected the null - each pair of populations does not bring the same average profit to the company.\n",
    "> - We stated in the null hypothesis that average revenues are the same for both Surf and Ultimate\n",
    "> - Based on the statistic test, we reached the decision to reject the null hypothesis\n",
    "> - Since we rejected the null hypothesis, we can now accept the alternative hypothesis. We determined that the average revenues do differ just from looking at the data\n",
    "> - We stated in the null hypothesis that the average revenue from users in the New York-New Jersey area and users from other regions are the same.\n",
    "> - We used the method scipy.stats.ttest_ind() to test the hypothesis using a significance level of 0.05. - Since the p-value is less than 0.05, it means that we have to reject the null hypothesis.\n",
    "> -By calculating the average number for revenue from users in both groups, we can say with certainty that the mean of the revenue between the two groups is significantly different.\n",
    "\n",
    "Based on our analysis, we can conclude that:\n",
    "> - There's definitely more Surf plan users than Ultimate plan, more than twice as many\n",
    "> - Average monthly revenue for Ultimate is not as big of a difference compared to the average revenue for Surf considering their plan is more expensive\n",
    "> - More users go over their plan under Surf which in turn drives their revenue up\n",
    "> - Users barely go over the alloted plan under Ultimate\n",
    "> - Revenue tends to be higher in the last quarter for both plans\n",
    "> - Surf revenues being higher could be in part of the users tendency to go over their plan more than Ultimate users\n",
    "> - The Ultimate plan's limits should be reconsidered as users quite rarely reach the limits. They should lower the limit and the monthly cost. The reason Surf is more profitable is that the initial cost is way cheaper which has always attracted more customers\n",
    "\n",
    "\n"
   ]
  }
 ],
 "metadata": {
  "ExecuteTimeLog": [
   {
    "duration": 12007,
    "start_time": "2021-08-06T09:35:30.658Z"
   },
   {
    "duration": 739,
    "start_time": "2021-08-06T09:35:42.668Z"
   },
   {
    "duration": 60,
    "start_time": "2021-08-06T09:35:43.410Z"
   },
   {
    "duration": 74,
    "start_time": "2021-08-06T09:35:43.473Z"
   },
   {
    "duration": 61,
    "start_time": "2021-08-06T09:35:43.550Z"
   },
   {
    "duration": 58,
    "start_time": "2021-08-06T09:35:43.613Z"
   },
   {
    "duration": 39,
    "start_time": "2021-08-06T09:35:43.702Z"
   },
   {
    "duration": 229,
    "start_time": "2021-08-06T09:35:43.745Z"
   },
   {
    "duration": 5,
    "start_time": "2021-08-06T09:35:43.977Z"
   },
   {
    "duration": 157,
    "start_time": "2021-08-06T09:35:43.985Z"
   },
   {
    "duration": 7,
    "start_time": "2021-08-06T09:35:44.144Z"
   },
   {
    "duration": 48,
    "start_time": "2021-08-06T09:35:44.153Z"
   },
   {
    "duration": 63,
    "start_time": "2021-08-06T09:35:44.204Z"
   },
   {
    "duration": 34,
    "start_time": "2021-08-06T09:35:44.270Z"
   },
   {
    "duration": 22,
    "start_time": "2021-08-06T09:35:44.307Z"
   },
   {
    "duration": 17,
    "start_time": "2021-08-06T09:35:44.332Z"
   },
   {
    "duration": 51,
    "start_time": "2021-08-06T09:35:44.352Z"
   },
   {
    "duration": 21,
    "start_time": "2021-08-06T09:35:44.405Z"
   },
   {
    "duration": 5,
    "start_time": "2021-08-06T09:35:44.429Z"
   },
   {
    "duration": 64,
    "start_time": "2021-08-06T09:35:44.437Z"
   },
   {
    "duration": 59,
    "start_time": "2021-08-06T09:35:44.503Z"
   },
   {
    "duration": 54,
    "start_time": "2021-08-06T09:35:44.565Z"
   },
   {
    "duration": 9,
    "start_time": "2021-08-06T09:35:44.625Z"
   },
   {
    "duration": 9,
    "start_time": "2021-08-06T09:35:44.637Z"
   },
   {
    "duration": 374,
    "start_time": "2021-08-06T09:35:44.648Z"
   },
   {
    "duration": 5,
    "start_time": "2021-08-06T09:35:45.025Z"
   },
   {
    "duration": 20,
    "start_time": "2021-08-06T09:35:45.033Z"
   },
   {
    "duration": 308,
    "start_time": "2021-08-06T09:35:45.056Z"
   },
   {
    "duration": 380,
    "start_time": "2021-08-06T09:35:45.367Z"
   },
   {
    "duration": 12,
    "start_time": "2021-08-06T09:35:45.749Z"
   },
   {
    "duration": 62,
    "start_time": "2021-08-06T09:35:45.763Z"
   },
   {
    "duration": 42,
    "start_time": "2021-08-06T09:35:45.828Z"
   },
   {
    "duration": 1901,
    "start_time": "2021-08-06T09:35:45.873Z"
   },
   {
    "duration": 576,
    "start_time": "2021-08-06T09:35:47.200Z"
   },
   {
    "duration": 573,
    "start_time": "2021-08-06T09:35:47.204Z"
   },
   {
    "duration": 550,
    "start_time": "2021-08-06T09:35:47.229Z"
   },
   {
    "duration": 547,
    "start_time": "2021-08-06T09:35:47.233Z"
   },
   {
    "duration": 545,
    "start_time": "2021-08-06T09:35:47.237Z"
   },
   {
    "duration": 540,
    "start_time": "2021-08-06T09:35:47.243Z"
   },
   {
    "duration": 536,
    "start_time": "2021-08-06T09:35:47.248Z"
   },
   {
    "duration": 532,
    "start_time": "2021-08-06T09:35:47.253Z"
   },
   {
    "duration": 529,
    "start_time": "2021-08-06T09:35:47.258Z"
   },
   {
    "duration": 526,
    "start_time": "2021-08-06T09:35:47.262Z"
   },
   {
    "duration": 524,
    "start_time": "2021-08-06T09:35:47.265Z"
   },
   {
    "duration": 523,
    "start_time": "2021-08-06T09:35:47.268Z"
   },
   {
    "duration": 521,
    "start_time": "2021-08-06T09:35:47.271Z"
   },
   {
    "duration": 517,
    "start_time": "2021-08-06T09:35:47.276Z"
   },
   {
    "duration": 516,
    "start_time": "2021-08-06T09:35:47.279Z"
   },
   {
    "duration": 514,
    "start_time": "2021-08-06T09:35:47.283Z"
   },
   {
    "duration": 512,
    "start_time": "2021-08-06T09:35:47.286Z"
   },
   {
    "duration": 508,
    "start_time": "2021-08-06T09:35:47.291Z"
   },
   {
    "duration": 505,
    "start_time": "2021-08-06T09:35:47.296Z"
   },
   {
    "duration": 45,
    "start_time": "2021-08-06T10:41:25.319Z"
   },
   {
    "duration": 107,
    "start_time": "2021-08-06T10:41:30.557Z"
   },
   {
    "duration": 34,
    "start_time": "2021-08-06T10:41:32.308Z"
   },
   {
    "duration": 5138,
    "start_time": "2021-08-06T10:44:28.777Z"
   },
   {
    "duration": 12387,
    "start_time": "2021-08-06T10:44:57.859Z"
   },
   {
    "duration": 622,
    "start_time": "2021-08-06T10:45:10.248Z"
   },
   {
    "duration": 69,
    "start_time": "2021-08-06T10:45:10.873Z"
   },
   {
    "duration": 78,
    "start_time": "2021-08-06T10:45:10.945Z"
   },
   {
    "duration": 36,
    "start_time": "2021-08-06T10:45:11.026Z"
   },
   {
    "duration": 85,
    "start_time": "2021-08-06T10:45:11.065Z"
   },
   {
    "duration": 64,
    "start_time": "2021-08-06T10:45:11.153Z"
   },
   {
    "duration": 212,
    "start_time": "2021-08-06T10:45:11.220Z"
   },
   {
    "duration": 6,
    "start_time": "2021-08-06T10:45:11.435Z"
   },
   {
    "duration": 165,
    "start_time": "2021-08-06T10:45:11.444Z"
   },
   {
    "duration": 7,
    "start_time": "2021-08-06T10:45:11.611Z"
   },
   {
    "duration": 25,
    "start_time": "2021-08-06T10:45:11.620Z"
   },
   {
    "duration": 87,
    "start_time": "2021-08-06T10:45:11.647Z"
   },
   {
    "duration": 15,
    "start_time": "2021-08-06T10:45:11.737Z"
   },
   {
    "duration": 48,
    "start_time": "2021-08-06T10:45:11.754Z"
   },
   {
    "duration": 18,
    "start_time": "2021-08-06T10:45:11.804Z"
   },
   {
    "duration": 24,
    "start_time": "2021-08-06T10:45:11.824Z"
   },
   {
    "duration": 52,
    "start_time": "2021-08-06T10:45:11.850Z"
   },
   {
    "duration": 8,
    "start_time": "2021-08-06T10:45:11.905Z"
   },
   {
    "duration": 42,
    "start_time": "2021-08-06T10:45:11.916Z"
   },
   {
    "duration": 78,
    "start_time": "2021-08-06T10:45:11.961Z"
   },
   {
    "duration": 30,
    "start_time": "2021-08-06T10:45:12.042Z"
   },
   {
    "duration": 30,
    "start_time": "2021-08-06T10:45:12.077Z"
   },
   {
    "duration": 10,
    "start_time": "2021-08-06T10:45:12.110Z"
   },
   {
    "duration": 342,
    "start_time": "2021-08-06T10:45:12.123Z"
   },
   {
    "duration": 6,
    "start_time": "2021-08-06T10:45:12.468Z"
   },
   {
    "duration": 14,
    "start_time": "2021-08-06T10:45:12.476Z"
   },
   {
    "duration": 309,
    "start_time": "2021-08-06T10:45:12.501Z"
   },
   {
    "duration": 316,
    "start_time": "2021-08-06T10:45:12.813Z"
   },
   {
    "duration": 10,
    "start_time": "2021-08-06T10:45:13.132Z"
   },
   {
    "duration": 61,
    "start_time": "2021-08-06T10:45:13.145Z"
   },
   {
    "duration": 40,
    "start_time": "2021-08-06T10:45:13.209Z"
   },
   {
    "duration": 4934,
    "start_time": "2021-08-06T10:45:13.251Z"
   },
   {
    "duration": 708,
    "start_time": "2021-08-06T10:45:18.188Z"
   },
   {
    "duration": 703,
    "start_time": "2021-08-06T10:45:18.901Z"
   },
   {
    "duration": 19,
    "start_time": "2021-08-06T10:45:19.607Z"
   },
   {
    "duration": 86,
    "start_time": "2021-08-06T10:45:19.629Z"
   },
   {
    "duration": 36,
    "start_time": "2021-08-06T10:45:19.718Z"
   },
   {
    "duration": 652,
    "start_time": "2021-08-06T10:45:19.757Z"
   },
   {
    "duration": 599,
    "start_time": "2021-08-06T10:45:20.412Z"
   },
   {
    "duration": 18,
    "start_time": "2021-08-06T10:45:21.013Z"
   },
   {
    "duration": 74,
    "start_time": "2021-08-06T10:45:21.033Z"
   },
   {
    "duration": 36,
    "start_time": "2021-08-06T10:45:21.110Z"
   },
   {
    "duration": 713,
    "start_time": "2021-08-06T10:45:21.148Z"
   },
   {
    "duration": 565,
    "start_time": "2021-08-06T10:45:21.864Z"
   },
   {
    "duration": 18,
    "start_time": "2021-08-06T10:45:22.432Z"
   },
   {
    "duration": 66,
    "start_time": "2021-08-06T10:45:22.452Z"
   },
   {
    "duration": 25,
    "start_time": "2021-08-06T10:45:22.521Z"
   },
   {
    "duration": 7,
    "start_time": "2021-08-06T10:45:22.548Z"
   },
   {
    "duration": 44,
    "start_time": "2021-08-06T10:45:22.558Z"
   },
   {
    "duration": 14,
    "start_time": "2021-08-06T10:45:22.605Z"
   },
   {
    "duration": 9,
    "start_time": "2021-08-06T10:45:22.622Z"
   },
   {
    "duration": 16,
    "start_time": "2021-08-06T10:45:22.633Z"
   },
   {
    "duration": 14781,
    "start_time": "2021-08-06T11:23:04.239Z"
   },
   {
    "duration": 757,
    "start_time": "2021-08-06T11:23:19.023Z"
   },
   {
    "duration": 82,
    "start_time": "2021-08-06T11:23:19.783Z"
   },
   {
    "duration": 50,
    "start_time": "2021-08-06T11:23:19.868Z"
   },
   {
    "duration": 57,
    "start_time": "2021-08-06T11:23:40.334Z"
   },
   {
    "duration": 50,
    "start_time": "2021-08-06T11:23:41.635Z"
   },
   {
    "duration": 37,
    "start_time": "2021-08-06T11:23:45.278Z"
   },
   {
    "duration": 57,
    "start_time": "2021-08-06T11:23:49.634Z"
   },
   {
    "duration": 40,
    "start_time": "2021-08-06T11:23:58.790Z"
   },
   {
    "duration": 21,
    "start_time": "2021-08-06T11:25:46.942Z"
   },
   {
    "duration": 530,
    "start_time": "2021-08-06T11:31:16.180Z"
   },
   {
    "duration": 271,
    "start_time": "2021-08-06T11:31:24.870Z"
   },
   {
    "duration": 275,
    "start_time": "2021-08-06T11:32:07.868Z"
   },
   {
    "duration": 11841,
    "start_time": "2021-08-06T11:32:20.380Z"
   },
   {
    "duration": 6,
    "start_time": "2021-08-06T11:32:32.225Z"
   },
   {
    "duration": 104,
    "start_time": "2021-08-06T11:32:32.236Z"
   },
   {
    "duration": 74,
    "start_time": "2021-08-06T11:32:32.343Z"
   },
   {
    "duration": 65,
    "start_time": "2021-08-06T11:32:32.419Z"
   },
   {
    "duration": 120,
    "start_time": "2021-08-06T11:32:32.488Z"
   },
   {
    "duration": 50,
    "start_time": "2021-08-06T11:32:37.390Z"
   },
   {
    "duration": 210,
    "start_time": "2021-08-06T11:32:42.573Z"
   },
   {
    "duration": 7,
    "start_time": "2021-08-06T11:32:42.824Z"
   },
   {
    "duration": 195,
    "start_time": "2021-08-06T11:32:54.904Z"
   },
   {
    "duration": 7,
    "start_time": "2021-08-06T11:33:02.829Z"
   },
   {
    "duration": 18,
    "start_time": "2021-08-06T11:33:03.512Z"
   },
   {
    "duration": 290,
    "start_time": "2021-08-06T11:33:06.284Z"
   },
   {
    "duration": 1986,
    "start_time": "2021-08-06T11:34:11.210Z"
   },
   {
    "duration": 4888,
    "start_time": "2021-08-06T11:37:07.636Z"
   },
   {
    "duration": 282,
    "start_time": "2021-08-06T11:37:17.881Z"
   },
   {
    "duration": 1001,
    "start_time": "2021-08-06T11:38:12.050Z"
   },
   {
    "duration": 7,
    "start_time": "2021-08-06T11:41:58.451Z"
   },
   {
    "duration": 21,
    "start_time": "2021-08-06T11:42:09.494Z"
   },
   {
    "duration": 7,
    "start_time": "2021-08-06T11:42:21.896Z"
   },
   {
    "duration": 378,
    "start_time": "2021-08-06T11:42:41.468Z"
   },
   {
    "duration": 13861,
    "start_time": "2021-08-06T11:42:52.604Z"
   },
   {
    "duration": 4,
    "start_time": "2021-08-06T11:43:06.468Z"
   },
   {
    "duration": 3480,
    "start_time": "2021-08-06T11:43:06.475Z"
   },
   {
    "duration": 66,
    "start_time": "2021-08-06T11:43:09.958Z"
   },
   {
    "duration": 75,
    "start_time": "2021-08-06T11:43:10.027Z"
   },
   {
    "duration": 51,
    "start_time": "2021-08-06T11:43:10.105Z"
   },
   {
    "duration": 29,
    "start_time": "2021-08-06T11:43:37.869Z"
   },
   {
    "duration": 20,
    "start_time": "2021-08-06T11:54:24.586Z"
   },
   {
    "duration": 612,
    "start_time": "2021-08-06T12:19:35.395Z"
   },
   {
    "duration": 29,
    "start_time": "2021-08-06T12:19:44.354Z"
   },
   {
    "duration": 28,
    "start_time": "2021-08-06T12:21:32.115Z"
   },
   {
    "duration": 55,
    "start_time": "2021-08-06T12:21:41.444Z"
   },
   {
    "duration": 46,
    "start_time": "2021-08-06T12:21:58.475Z"
   },
   {
    "duration": 67,
    "start_time": "2021-08-06T12:23:16.918Z"
   },
   {
    "duration": 65,
    "start_time": "2021-08-06T12:25:22.630Z"
   },
   {
    "duration": 297,
    "start_time": "2021-08-06T12:26:57.381Z"
   },
   {
    "duration": 114,
    "start_time": "2021-08-06T12:27:28.271Z"
   },
   {
    "duration": 10859,
    "start_time": "2021-08-06T12:27:33.877Z"
   },
   {
    "duration": 5,
    "start_time": "2021-08-06T12:27:44.739Z"
   },
   {
    "duration": 78,
    "start_time": "2021-08-06T12:27:44.748Z"
   },
   {
    "duration": 68,
    "start_time": "2021-08-06T12:27:44.830Z"
   },
   {
    "duration": 67,
    "start_time": "2021-08-06T12:27:44.900Z"
   },
   {
    "duration": 59,
    "start_time": "2021-08-06T12:27:44.970Z"
   },
   {
    "duration": 63,
    "start_time": "2021-08-06T12:27:45.032Z"
   },
   {
    "duration": 241,
    "start_time": "2021-08-06T12:27:45.099Z"
   },
   {
    "duration": 14,
    "start_time": "2021-08-06T12:27:45.343Z"
   },
   {
    "duration": 146,
    "start_time": "2021-08-06T12:27:45.360Z"
   },
   {
    "duration": 6,
    "start_time": "2021-08-06T12:27:45.509Z"
   },
   {
    "duration": 44,
    "start_time": "2021-08-06T12:27:45.518Z"
   },
   {
    "duration": 269,
    "start_time": "2021-08-06T12:27:45.565Z"
   },
   {
    "duration": 15,
    "start_time": "2021-08-06T12:27:45.821Z"
   },
   {
    "duration": 5,
    "start_time": "2021-08-06T12:27:53.246Z"
   },
   {
    "duration": 19,
    "start_time": "2021-08-06T12:27:53.339Z"
   },
   {
    "duration": 268,
    "start_time": "2021-08-06T12:27:53.539Z"
   },
   {
    "duration": -29,
    "start_time": "2021-08-06T12:27:53.838Z"
   },
   {
    "duration": 85,
    "start_time": "2021-08-06T12:27:59.004Z"
   },
   {
    "duration": 24,
    "start_time": "2021-08-06T12:28:13.004Z"
   },
   {
    "duration": 20,
    "start_time": "2021-08-06T12:28:32.658Z"
   },
   {
    "duration": 9,
    "start_time": "2021-08-06T12:28:51.489Z"
   },
   {
    "duration": 24,
    "start_time": "2021-08-06T12:29:06.953Z"
   },
   {
    "duration": 588,
    "start_time": "2021-08-06T12:36:30.848Z"
   },
   {
    "duration": 578,
    "start_time": "2021-08-06T12:37:03.258Z"
   },
   {
    "duration": 331,
    "start_time": "2021-08-06T12:47:59.681Z"
   },
   {
    "duration": 563,
    "start_time": "2021-08-06T12:48:10.424Z"
   },
   {
    "duration": 751,
    "start_time": "2021-08-06T12:48:40.924Z"
   },
   {
    "duration": 1650,
    "start_time": "2021-08-06T12:48:59.451Z"
   },
   {
    "duration": 876,
    "start_time": "2021-08-06T12:49:19.014Z"
   },
   {
    "duration": 604,
    "start_time": "2021-08-06T12:50:09.529Z"
   },
   {
    "duration": 26,
    "start_time": "2021-08-06T12:50:38.146Z"
   },
   {
    "duration": 30,
    "start_time": "2021-08-06T12:50:48.804Z"
   },
   {
    "duration": 94,
    "start_time": "2021-08-06T12:51:12.003Z"
   },
   {
    "duration": 35,
    "start_time": "2021-08-06T12:52:00.206Z"
   },
   {
    "duration": 318,
    "start_time": "2021-08-06T12:54:13.874Z"
   },
   {
    "duration": 23,
    "start_time": "2021-08-06T12:54:23.767Z"
   },
   {
    "duration": 67,
    "start_time": "2021-08-06T12:54:23.881Z"
   },
   {
    "duration": 19,
    "start_time": "2021-08-06T12:54:24.385Z"
   },
   {
    "duration": 25,
    "start_time": "2021-08-06T12:54:27.134Z"
   },
   {
    "duration": 20,
    "start_time": "2021-08-06T12:54:27.470Z"
   },
   {
    "duration": 30,
    "start_time": "2021-08-06T12:54:29.598Z"
   },
   {
    "duration": 27,
    "start_time": "2021-08-06T13:01:46.479Z"
   },
   {
    "duration": 13,
    "start_time": "2021-08-06T13:03:03.576Z"
   },
   {
    "duration": 1092,
    "start_time": "2021-08-06T13:03:15.345Z"
   },
   {
    "duration": 476,
    "start_time": "2021-08-06T13:03:47.039Z"
   },
   {
    "duration": 515,
    "start_time": "2021-08-06T13:05:07.989Z"
   },
   {
    "duration": 965,
    "start_time": "2021-08-06T13:06:28.536Z"
   },
   {
    "duration": 473,
    "start_time": "2021-08-06T13:06:35.457Z"
   },
   {
    "duration": 534,
    "start_time": "2021-08-06T13:07:37.674Z"
   },
   {
    "duration": 512,
    "start_time": "2021-08-06T13:08:47.108Z"
   },
   {
    "duration": 587,
    "start_time": "2021-08-06T13:08:57.458Z"
   },
   {
    "duration": 471,
    "start_time": "2021-08-06T13:09:15.634Z"
   },
   {
    "duration": 26,
    "start_time": "2021-08-06T13:16:01.492Z"
   },
   {
    "duration": 488,
    "start_time": "2021-08-06T13:23:15.925Z"
   },
   {
    "duration": 678,
    "start_time": "2021-08-06T13:27:31.688Z"
   }
  ],
  "kernelspec": {
   "display_name": "Python 3",
   "language": "python",
   "name": "python3"
  },
  "language_info": {
   "codemirror_mode": {
    "name": "ipython",
    "version": 3
   },
   "file_extension": ".py",
   "mimetype": "text/x-python",
   "name": "python",
   "nbconvert_exporter": "python",
   "pygments_lexer": "ipython3",
   "version": "3.8.5"
  },
  "toc": {
   "base_numbering": 1,
   "nav_menu": {},
   "number_sections": true,
   "sideBar": true,
   "skip_h1_title": true,
   "title_cell": "Table of Contents",
   "title_sidebar": "Contents",
   "toc_cell": false,
   "toc_position": {},
   "toc_section_display": true,
   "toc_window_display": false
  }
 },
 "nbformat": 4,
 "nbformat_minor": 4
}
