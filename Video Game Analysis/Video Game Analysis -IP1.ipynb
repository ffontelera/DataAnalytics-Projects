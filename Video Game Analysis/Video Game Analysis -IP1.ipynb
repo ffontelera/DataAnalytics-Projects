{
 "cells": [
  {
   "cell_type": "markdown",
   "metadata": {},
   "source": [
    "# Integrated Project\n"
   ]
  },
  {
   "cell_type": "markdown",
   "metadata": {},
   "source": [
    "## Video Games Analysis "
   ]
  },
  {
   "cell_type": "markdown",
   "metadata": {},
   "source": [
    "#### Objective: To identify patterns that determine whether a game succeeds or not"
   ]
  },
  {
   "cell_type": "markdown",
   "metadata": {},
   "source": [
    "## Data Description"
   ]
  },
  {
   "cell_type": "markdown",
   "metadata": {},
   "source": [
    "> - Name\n",
    "> - Platform\n",
    "> - Year_of_Release\n",
    "> - Genre\n",
    "> - NA_sales (North American sales in USD million)\n",
    "> - EU_sales (sales in Europe in USD million)\n",
    "> - JP_sales (sales in Japan in USD million)\n",
    "> - Other_sales (sales in other countries in USD million)\n",
    "> - Critic_Score (maximum of 100)\n",
    "> - User_Score (maximum of 10)\n",
    "> - Rating (ESRB)\n",
    "Data for 2016 may be incomplete."
   ]
  },
  {
   "cell_type": "markdown",
   "metadata": {},
   "source": [
    "## Step 1. Open the data file and study the general information"
   ]
  },
  {
   "cell_type": "code",
   "execution_count": 1,
   "metadata": {},
   "outputs": [],
   "source": [
    "import pandas as pd\n",
    "import numpy as np\n",
    "import matplotlib.pyplot as plt \n",
    "import seaborn as sns \n",
    "import warnings\n",
    "warnings.simplefilter(action=\"ignore\", category=FutureWarning)\n",
    "import scipy\n",
    "from scipy import stats as st"
   ]
  },
  {
   "cell_type": "code",
   "execution_count": 2,
   "metadata": {},
   "outputs": [],
   "source": [
    "from io import BytesIO\n",
    "import requests\n",
    "spreadsheet_id = '16GOlneHbTy3hFgu2U2niXLS6IeBNUYEmaklcZRoPOLs'\n",
    "file_name = 'https://docs.google.com/spreadsheets/d/{}/export?format=csv'.format(spreadsheet_id)\n",
    "r = requests.get(file_name)\n",
    "games_df = pd.read_csv(BytesIO(r.content))\n",
    "\n"
   ]
  },
  {
   "cell_type": "code",
   "execution_count": 3,
   "metadata": {},
   "outputs": [
    {
     "data": {
      "text/html": [
       "<div>\n",
       "<style scoped>\n",
       "    .dataframe tbody tr th:only-of-type {\n",
       "        vertical-align: middle;\n",
       "    }\n",
       "\n",
       "    .dataframe tbody tr th {\n",
       "        vertical-align: top;\n",
       "    }\n",
       "\n",
       "    .dataframe thead th {\n",
       "        text-align: right;\n",
       "    }\n",
       "</style>\n",
       "<table border=\"1\" class=\"dataframe\">\n",
       "  <thead>\n",
       "    <tr style=\"text-align: right;\">\n",
       "      <th></th>\n",
       "      <th>Name</th>\n",
       "      <th>Platform</th>\n",
       "      <th>Year_of_Release</th>\n",
       "      <th>Genre</th>\n",
       "      <th>NA_sales</th>\n",
       "      <th>EU_sales</th>\n",
       "      <th>JP_sales</th>\n",
       "      <th>Other_sales</th>\n",
       "      <th>Critic_Score</th>\n",
       "      <th>User_Score</th>\n",
       "      <th>Rating</th>\n",
       "    </tr>\n",
       "  </thead>\n",
       "  <tbody>\n",
       "    <tr>\n",
       "      <td>0</td>\n",
       "      <td>Wii Sports</td>\n",
       "      <td>Wii</td>\n",
       "      <td>2006.0</td>\n",
       "      <td>Sports</td>\n",
       "      <td>41.36</td>\n",
       "      <td>28.96</td>\n",
       "      <td>3.77</td>\n",
       "      <td>8.45</td>\n",
       "      <td>76.0</td>\n",
       "      <td>8</td>\n",
       "      <td>E</td>\n",
       "    </tr>\n",
       "    <tr>\n",
       "      <td>1</td>\n",
       "      <td>Super Mario Bros.</td>\n",
       "      <td>NES</td>\n",
       "      <td>1985.0</td>\n",
       "      <td>Platform</td>\n",
       "      <td>29.08</td>\n",
       "      <td>3.58</td>\n",
       "      <td>6.81</td>\n",
       "      <td>0.77</td>\n",
       "      <td>NaN</td>\n",
       "      <td>NaN</td>\n",
       "      <td>NaN</td>\n",
       "    </tr>\n",
       "    <tr>\n",
       "      <td>2</td>\n",
       "      <td>Mario Kart Wii</td>\n",
       "      <td>Wii</td>\n",
       "      <td>2008.0</td>\n",
       "      <td>Racing</td>\n",
       "      <td>15.68</td>\n",
       "      <td>12.76</td>\n",
       "      <td>3.79</td>\n",
       "      <td>3.29</td>\n",
       "      <td>82.0</td>\n",
       "      <td>8.3</td>\n",
       "      <td>E</td>\n",
       "    </tr>\n",
       "    <tr>\n",
       "      <td>3</td>\n",
       "      <td>Wii Sports Resort</td>\n",
       "      <td>Wii</td>\n",
       "      <td>2009.0</td>\n",
       "      <td>Sports</td>\n",
       "      <td>15.61</td>\n",
       "      <td>10.93</td>\n",
       "      <td>3.28</td>\n",
       "      <td>2.95</td>\n",
       "      <td>80.0</td>\n",
       "      <td>8</td>\n",
       "      <td>E</td>\n",
       "    </tr>\n",
       "    <tr>\n",
       "      <td>4</td>\n",
       "      <td>Pokemon Red/Pokemon Blue</td>\n",
       "      <td>GB</td>\n",
       "      <td>1996.0</td>\n",
       "      <td>Role-Playing</td>\n",
       "      <td>11.27</td>\n",
       "      <td>8.89</td>\n",
       "      <td>10.22</td>\n",
       "      <td>1.00</td>\n",
       "      <td>NaN</td>\n",
       "      <td>NaN</td>\n",
       "      <td>NaN</td>\n",
       "    </tr>\n",
       "    <tr>\n",
       "      <td>...</td>\n",
       "      <td>...</td>\n",
       "      <td>...</td>\n",
       "      <td>...</td>\n",
       "      <td>...</td>\n",
       "      <td>...</td>\n",
       "      <td>...</td>\n",
       "      <td>...</td>\n",
       "      <td>...</td>\n",
       "      <td>...</td>\n",
       "      <td>...</td>\n",
       "      <td>...</td>\n",
       "    </tr>\n",
       "    <tr>\n",
       "      <td>16710</td>\n",
       "      <td>Samurai Warriors: Sanada Maru</td>\n",
       "      <td>PS3</td>\n",
       "      <td>2016.0</td>\n",
       "      <td>Action</td>\n",
       "      <td>0.00</td>\n",
       "      <td>0.00</td>\n",
       "      <td>0.01</td>\n",
       "      <td>0.00</td>\n",
       "      <td>NaN</td>\n",
       "      <td>NaN</td>\n",
       "      <td>NaN</td>\n",
       "    </tr>\n",
       "    <tr>\n",
       "      <td>16711</td>\n",
       "      <td>LMA Manager 2007</td>\n",
       "      <td>X360</td>\n",
       "      <td>2006.0</td>\n",
       "      <td>Sports</td>\n",
       "      <td>0.00</td>\n",
       "      <td>0.01</td>\n",
       "      <td>0.00</td>\n",
       "      <td>0.00</td>\n",
       "      <td>NaN</td>\n",
       "      <td>NaN</td>\n",
       "      <td>NaN</td>\n",
       "    </tr>\n",
       "    <tr>\n",
       "      <td>16712</td>\n",
       "      <td>Haitaka no Psychedelica</td>\n",
       "      <td>PSV</td>\n",
       "      <td>2016.0</td>\n",
       "      <td>Adventure</td>\n",
       "      <td>0.00</td>\n",
       "      <td>0.00</td>\n",
       "      <td>0.01</td>\n",
       "      <td>0.00</td>\n",
       "      <td>NaN</td>\n",
       "      <td>NaN</td>\n",
       "      <td>NaN</td>\n",
       "    </tr>\n",
       "    <tr>\n",
       "      <td>16713</td>\n",
       "      <td>Spirits &amp; Spells</td>\n",
       "      <td>GBA</td>\n",
       "      <td>2003.0</td>\n",
       "      <td>Platform</td>\n",
       "      <td>0.01</td>\n",
       "      <td>0.00</td>\n",
       "      <td>0.00</td>\n",
       "      <td>0.00</td>\n",
       "      <td>NaN</td>\n",
       "      <td>NaN</td>\n",
       "      <td>NaN</td>\n",
       "    </tr>\n",
       "    <tr>\n",
       "      <td>16714</td>\n",
       "      <td>Winning Post 8 2016</td>\n",
       "      <td>PSV</td>\n",
       "      <td>2016.0</td>\n",
       "      <td>Simulation</td>\n",
       "      <td>0.00</td>\n",
       "      <td>0.00</td>\n",
       "      <td>0.01</td>\n",
       "      <td>0.00</td>\n",
       "      <td>NaN</td>\n",
       "      <td>NaN</td>\n",
       "      <td>NaN</td>\n",
       "    </tr>\n",
       "  </tbody>\n",
       "</table>\n",
       "<p>16715 rows × 11 columns</p>\n",
       "</div>"
      ],
      "text/plain": [
       "                                Name Platform  Year_of_Release         Genre  \\\n",
       "0                         Wii Sports      Wii           2006.0        Sports   \n",
       "1                  Super Mario Bros.      NES           1985.0      Platform   \n",
       "2                     Mario Kart Wii      Wii           2008.0        Racing   \n",
       "3                  Wii Sports Resort      Wii           2009.0        Sports   \n",
       "4           Pokemon Red/Pokemon Blue       GB           1996.0  Role-Playing   \n",
       "...                              ...      ...              ...           ...   \n",
       "16710  Samurai Warriors: Sanada Maru      PS3           2016.0        Action   \n",
       "16711               LMA Manager 2007     X360           2006.0        Sports   \n",
       "16712        Haitaka no Psychedelica      PSV           2016.0     Adventure   \n",
       "16713               Spirits & Spells      GBA           2003.0      Platform   \n",
       "16714            Winning Post 8 2016      PSV           2016.0    Simulation   \n",
       "\n",
       "       NA_sales  EU_sales  JP_sales  Other_sales  Critic_Score User_Score  \\\n",
       "0         41.36     28.96      3.77         8.45          76.0          8   \n",
       "1         29.08      3.58      6.81         0.77           NaN        NaN   \n",
       "2         15.68     12.76      3.79         3.29          82.0        8.3   \n",
       "3         15.61     10.93      3.28         2.95          80.0          8   \n",
       "4         11.27      8.89     10.22         1.00           NaN        NaN   \n",
       "...         ...       ...       ...          ...           ...        ...   \n",
       "16710      0.00      0.00      0.01         0.00           NaN        NaN   \n",
       "16711      0.00      0.01      0.00         0.00           NaN        NaN   \n",
       "16712      0.00      0.00      0.01         0.00           NaN        NaN   \n",
       "16713      0.01      0.00      0.00         0.00           NaN        NaN   \n",
       "16714      0.00      0.00      0.01         0.00           NaN        NaN   \n",
       "\n",
       "      Rating  \n",
       "0          E  \n",
       "1        NaN  \n",
       "2          E  \n",
       "3          E  \n",
       "4        NaN  \n",
       "...      ...  \n",
       "16710    NaN  \n",
       "16711    NaN  \n",
       "16712    NaN  \n",
       "16713    NaN  \n",
       "16714    NaN  \n",
       "\n",
       "[16715 rows x 11 columns]"
      ]
     },
     "metadata": {},
     "output_type": "display_data"
    },
    {
     "data": {
      "text/html": [
       "<div>\n",
       "<style scoped>\n",
       "    .dataframe tbody tr th:only-of-type {\n",
       "        vertical-align: middle;\n",
       "    }\n",
       "\n",
       "    .dataframe tbody tr th {\n",
       "        vertical-align: top;\n",
       "    }\n",
       "\n",
       "    .dataframe thead th {\n",
       "        text-align: right;\n",
       "    }\n",
       "</style>\n",
       "<table border=\"1\" class=\"dataframe\">\n",
       "  <thead>\n",
       "    <tr style=\"text-align: right;\">\n",
       "      <th></th>\n",
       "      <th>Year_of_Release</th>\n",
       "      <th>NA_sales</th>\n",
       "      <th>EU_sales</th>\n",
       "      <th>JP_sales</th>\n",
       "      <th>Other_sales</th>\n",
       "      <th>Critic_Score</th>\n",
       "    </tr>\n",
       "  </thead>\n",
       "  <tbody>\n",
       "    <tr>\n",
       "      <td>count</td>\n",
       "      <td>16446.000000</td>\n",
       "      <td>16715.000000</td>\n",
       "      <td>16715.000000</td>\n",
       "      <td>16715.000000</td>\n",
       "      <td>16715.000000</td>\n",
       "      <td>8137.000000</td>\n",
       "    </tr>\n",
       "    <tr>\n",
       "      <td>mean</td>\n",
       "      <td>2006.484616</td>\n",
       "      <td>0.263377</td>\n",
       "      <td>0.145060</td>\n",
       "      <td>0.077617</td>\n",
       "      <td>0.047342</td>\n",
       "      <td>68.967679</td>\n",
       "    </tr>\n",
       "    <tr>\n",
       "      <td>std</td>\n",
       "      <td>5.877050</td>\n",
       "      <td>0.813604</td>\n",
       "      <td>0.503339</td>\n",
       "      <td>0.308853</td>\n",
       "      <td>0.186731</td>\n",
       "      <td>13.938165</td>\n",
       "    </tr>\n",
       "    <tr>\n",
       "      <td>min</td>\n",
       "      <td>1980.000000</td>\n",
       "      <td>0.000000</td>\n",
       "      <td>0.000000</td>\n",
       "      <td>0.000000</td>\n",
       "      <td>0.000000</td>\n",
       "      <td>13.000000</td>\n",
       "    </tr>\n",
       "    <tr>\n",
       "      <td>25%</td>\n",
       "      <td>2003.000000</td>\n",
       "      <td>0.000000</td>\n",
       "      <td>0.000000</td>\n",
       "      <td>0.000000</td>\n",
       "      <td>0.000000</td>\n",
       "      <td>60.000000</td>\n",
       "    </tr>\n",
       "    <tr>\n",
       "      <td>50%</td>\n",
       "      <td>2007.000000</td>\n",
       "      <td>0.080000</td>\n",
       "      <td>0.020000</td>\n",
       "      <td>0.000000</td>\n",
       "      <td>0.010000</td>\n",
       "      <td>71.000000</td>\n",
       "    </tr>\n",
       "    <tr>\n",
       "      <td>75%</td>\n",
       "      <td>2010.000000</td>\n",
       "      <td>0.240000</td>\n",
       "      <td>0.110000</td>\n",
       "      <td>0.040000</td>\n",
       "      <td>0.030000</td>\n",
       "      <td>79.000000</td>\n",
       "    </tr>\n",
       "    <tr>\n",
       "      <td>max</td>\n",
       "      <td>2016.000000</td>\n",
       "      <td>41.360000</td>\n",
       "      <td>28.960000</td>\n",
       "      <td>10.220000</td>\n",
       "      <td>10.570000</td>\n",
       "      <td>98.000000</td>\n",
       "    </tr>\n",
       "  </tbody>\n",
       "</table>\n",
       "</div>"
      ],
      "text/plain": [
       "       Year_of_Release      NA_sales      EU_sales      JP_sales  \\\n",
       "count     16446.000000  16715.000000  16715.000000  16715.000000   \n",
       "mean       2006.484616      0.263377      0.145060      0.077617   \n",
       "std           5.877050      0.813604      0.503339      0.308853   \n",
       "min        1980.000000      0.000000      0.000000      0.000000   \n",
       "25%        2003.000000      0.000000      0.000000      0.000000   \n",
       "50%        2007.000000      0.080000      0.020000      0.000000   \n",
       "75%        2010.000000      0.240000      0.110000      0.040000   \n",
       "max        2016.000000     41.360000     28.960000     10.220000   \n",
       "\n",
       "        Other_sales  Critic_Score  \n",
       "count  16715.000000   8137.000000  \n",
       "mean       0.047342     68.967679  \n",
       "std        0.186731     13.938165  \n",
       "min        0.000000     13.000000  \n",
       "25%        0.000000     60.000000  \n",
       "50%        0.010000     71.000000  \n",
       "75%        0.030000     79.000000  \n",
       "max       10.570000     98.000000  "
      ]
     },
     "metadata": {},
     "output_type": "display_data"
    },
    {
     "data": {
      "text/html": [
       "<div>\n",
       "<style scoped>\n",
       "    .dataframe tbody tr th:only-of-type {\n",
       "        vertical-align: middle;\n",
       "    }\n",
       "\n",
       "    .dataframe tbody tr th {\n",
       "        vertical-align: top;\n",
       "    }\n",
       "\n",
       "    .dataframe thead th {\n",
       "        text-align: right;\n",
       "    }\n",
       "</style>\n",
       "<table border=\"1\" class=\"dataframe\">\n",
       "  <thead>\n",
       "    <tr style=\"text-align: right;\">\n",
       "      <th></th>\n",
       "      <th>Name</th>\n",
       "      <th>Platform</th>\n",
       "      <th>Year_of_Release</th>\n",
       "      <th>Genre</th>\n",
       "      <th>NA_sales</th>\n",
       "      <th>EU_sales</th>\n",
       "      <th>JP_sales</th>\n",
       "      <th>Other_sales</th>\n",
       "      <th>Critic_Score</th>\n",
       "      <th>User_Score</th>\n",
       "      <th>Rating</th>\n",
       "    </tr>\n",
       "  </thead>\n",
       "  <tbody>\n",
       "    <tr>\n",
       "      <td>1321</td>\n",
       "      <td>Namco Museum 64</td>\n",
       "      <td>N64</td>\n",
       "      <td>1999.0</td>\n",
       "      <td>Misc</td>\n",
       "      <td>1.24</td>\n",
       "      <td>0.17</td>\n",
       "      <td>0.03</td>\n",
       "      <td>0.01</td>\n",
       "      <td>NaN</td>\n",
       "      <td>NaN</td>\n",
       "      <td>NaN</td>\n",
       "    </tr>\n",
       "  </tbody>\n",
       "</table>\n",
       "</div>"
      ],
      "text/plain": [
       "                 Name Platform  Year_of_Release Genre  NA_sales  EU_sales  \\\n",
       "1321  Namco Museum 64      N64           1999.0  Misc      1.24      0.17   \n",
       "\n",
       "      JP_sales  Other_sales  Critic_Score User_Score Rating  \n",
       "1321      0.03         0.01           NaN        NaN    NaN  "
      ]
     },
     "metadata": {},
     "output_type": "display_data"
    },
    {
     "data": {
      "text/html": [
       "<div>\n",
       "<style scoped>\n",
       "    .dataframe tbody tr th:only-of-type {\n",
       "        vertical-align: middle;\n",
       "    }\n",
       "\n",
       "    .dataframe tbody tr th {\n",
       "        vertical-align: top;\n",
       "    }\n",
       "\n",
       "    .dataframe thead th {\n",
       "        text-align: right;\n",
       "    }\n",
       "</style>\n",
       "<table border=\"1\" class=\"dataframe\">\n",
       "  <thead>\n",
       "    <tr style=\"text-align: right;\">\n",
       "      <th></th>\n",
       "      <th>Name</th>\n",
       "      <th>Platform</th>\n",
       "      <th>Year_of_Release</th>\n",
       "      <th>Genre</th>\n",
       "      <th>NA_sales</th>\n",
       "      <th>EU_sales</th>\n",
       "      <th>JP_sales</th>\n",
       "      <th>Other_sales</th>\n",
       "      <th>Critic_Score</th>\n",
       "      <th>User_Score</th>\n",
       "      <th>Rating</th>\n",
       "    </tr>\n",
       "  </thead>\n",
       "  <tbody>\n",
       "    <tr>\n",
       "      <td>0</td>\n",
       "      <td>Wii Sports</td>\n",
       "      <td>Wii</td>\n",
       "      <td>2006.0</td>\n",
       "      <td>Sports</td>\n",
       "      <td>41.36</td>\n",
       "      <td>28.96</td>\n",
       "      <td>3.77</td>\n",
       "      <td>8.45</td>\n",
       "      <td>76.0</td>\n",
       "      <td>8</td>\n",
       "      <td>E</td>\n",
       "    </tr>\n",
       "    <tr>\n",
       "      <td>1</td>\n",
       "      <td>Super Mario Bros.</td>\n",
       "      <td>NES</td>\n",
       "      <td>1985.0</td>\n",
       "      <td>Platform</td>\n",
       "      <td>29.08</td>\n",
       "      <td>3.58</td>\n",
       "      <td>6.81</td>\n",
       "      <td>0.77</td>\n",
       "      <td>NaN</td>\n",
       "      <td>NaN</td>\n",
       "      <td>NaN</td>\n",
       "    </tr>\n",
       "    <tr>\n",
       "      <td>2</td>\n",
       "      <td>Mario Kart Wii</td>\n",
       "      <td>Wii</td>\n",
       "      <td>2008.0</td>\n",
       "      <td>Racing</td>\n",
       "      <td>15.68</td>\n",
       "      <td>12.76</td>\n",
       "      <td>3.79</td>\n",
       "      <td>3.29</td>\n",
       "      <td>82.0</td>\n",
       "      <td>8.3</td>\n",
       "      <td>E</td>\n",
       "    </tr>\n",
       "    <tr>\n",
       "      <td>3</td>\n",
       "      <td>Wii Sports Resort</td>\n",
       "      <td>Wii</td>\n",
       "      <td>2009.0</td>\n",
       "      <td>Sports</td>\n",
       "      <td>15.61</td>\n",
       "      <td>10.93</td>\n",
       "      <td>3.28</td>\n",
       "      <td>2.95</td>\n",
       "      <td>80.0</td>\n",
       "      <td>8</td>\n",
       "      <td>E</td>\n",
       "    </tr>\n",
       "    <tr>\n",
       "      <td>4</td>\n",
       "      <td>Pokemon Red/Pokemon Blue</td>\n",
       "      <td>GB</td>\n",
       "      <td>1996.0</td>\n",
       "      <td>Role-Playing</td>\n",
       "      <td>11.27</td>\n",
       "      <td>8.89</td>\n",
       "      <td>10.22</td>\n",
       "      <td>1.00</td>\n",
       "      <td>NaN</td>\n",
       "      <td>NaN</td>\n",
       "      <td>NaN</td>\n",
       "    </tr>\n",
       "  </tbody>\n",
       "</table>\n",
       "</div>"
      ],
      "text/plain": [
       "                       Name Platform  Year_of_Release         Genre  NA_sales  \\\n",
       "0                Wii Sports      Wii           2006.0        Sports     41.36   \n",
       "1         Super Mario Bros.      NES           1985.0      Platform     29.08   \n",
       "2            Mario Kart Wii      Wii           2008.0        Racing     15.68   \n",
       "3         Wii Sports Resort      Wii           2009.0        Sports     15.61   \n",
       "4  Pokemon Red/Pokemon Blue       GB           1996.0  Role-Playing     11.27   \n",
       "\n",
       "   EU_sales  JP_sales  Other_sales  Critic_Score User_Score Rating  \n",
       "0     28.96      3.77         8.45          76.0          8      E  \n",
       "1      3.58      6.81         0.77           NaN        NaN    NaN  \n",
       "2     12.76      3.79         3.29          82.0        8.3      E  \n",
       "3     10.93      3.28         2.95          80.0          8      E  \n",
       "4      8.89     10.22         1.00           NaN        NaN    NaN  "
      ]
     },
     "metadata": {},
     "output_type": "display_data"
    },
    {
     "name": "stdout",
     "output_type": "stream",
     "text": [
      "<class 'pandas.core.frame.DataFrame'>\n",
      "RangeIndex: 16715 entries, 0 to 16714\n",
      "Data columns (total 11 columns):\n",
      "Name               16713 non-null object\n",
      "Platform           16715 non-null object\n",
      "Year_of_Release    16446 non-null float64\n",
      "Genre              16713 non-null object\n",
      "NA_sales           16715 non-null float64\n",
      "EU_sales           16715 non-null float64\n",
      "JP_sales           16715 non-null float64\n",
      "Other_sales        16715 non-null float64\n",
      "Critic_Score       8137 non-null float64\n",
      "User_Score         10014 non-null object\n",
      "Rating             9949 non-null object\n",
      "dtypes: float64(6), object(5)\n",
      "memory usage: 1.4+ MB\n"
     ]
    },
    {
     "data": {
      "text/plain": [
       "None"
      ]
     },
     "metadata": {},
     "output_type": "display_data"
    }
   ],
   "source": [
    "display(games_df)\n",
    "display(games_df.describe())\n",
    "display(games_df.sample())\n",
    "display(games_df.head())\n",
    "display(games_df.info())"
   ]
  },
  {
   "cell_type": "code",
   "execution_count": 4,
   "metadata": {},
   "outputs": [
    {
     "data": {
      "text/html": [
       "<div>\n",
       "<style scoped>\n",
       "    .dataframe tbody tr th:only-of-type {\n",
       "        vertical-align: middle;\n",
       "    }\n",
       "\n",
       "    .dataframe tbody tr th {\n",
       "        vertical-align: top;\n",
       "    }\n",
       "\n",
       "    .dataframe thead th {\n",
       "        text-align: right;\n",
       "    }\n",
       "</style>\n",
       "<table border=\"1\" class=\"dataframe\">\n",
       "  <thead>\n",
       "    <tr style=\"text-align: right;\">\n",
       "      <th></th>\n",
       "      <th>Null Values</th>\n",
       "      <th>Percentage of Null Values</th>\n",
       "    </tr>\n",
       "  </thead>\n",
       "  <tbody>\n",
       "    <tr>\n",
       "      <td>Name</td>\n",
       "      <td>2</td>\n",
       "      <td>0.01</td>\n",
       "    </tr>\n",
       "    <tr>\n",
       "      <td>Platform</td>\n",
       "      <td>0</td>\n",
       "      <td>0.00</td>\n",
       "    </tr>\n",
       "    <tr>\n",
       "      <td>Year_of_Release</td>\n",
       "      <td>269</td>\n",
       "      <td>1.61</td>\n",
       "    </tr>\n",
       "    <tr>\n",
       "      <td>Genre</td>\n",
       "      <td>2</td>\n",
       "      <td>0.01</td>\n",
       "    </tr>\n",
       "    <tr>\n",
       "      <td>NA_sales</td>\n",
       "      <td>0</td>\n",
       "      <td>0.00</td>\n",
       "    </tr>\n",
       "    <tr>\n",
       "      <td>EU_sales</td>\n",
       "      <td>0</td>\n",
       "      <td>0.00</td>\n",
       "    </tr>\n",
       "    <tr>\n",
       "      <td>JP_sales</td>\n",
       "      <td>0</td>\n",
       "      <td>0.00</td>\n",
       "    </tr>\n",
       "    <tr>\n",
       "      <td>Other_sales</td>\n",
       "      <td>0</td>\n",
       "      <td>0.00</td>\n",
       "    </tr>\n",
       "    <tr>\n",
       "      <td>Critic_Score</td>\n",
       "      <td>8578</td>\n",
       "      <td>51.32</td>\n",
       "    </tr>\n",
       "    <tr>\n",
       "      <td>User_Score</td>\n",
       "      <td>6701</td>\n",
       "      <td>40.09</td>\n",
       "    </tr>\n",
       "    <tr>\n",
       "      <td>Rating</td>\n",
       "      <td>6766</td>\n",
       "      <td>40.48</td>\n",
       "    </tr>\n",
       "  </tbody>\n",
       "</table>\n",
       "</div>"
      ],
      "text/plain": [
       "                 Null Values  Percentage of Null Values\n",
       "Name                       2                       0.01\n",
       "Platform                   0                       0.00\n",
       "Year_of_Release          269                       1.61\n",
       "Genre                      2                       0.01\n",
       "NA_sales                   0                       0.00\n",
       "EU_sales                   0                       0.00\n",
       "JP_sales                   0                       0.00\n",
       "Other_sales                0                       0.00\n",
       "Critic_Score            8578                      51.32\n",
       "User_Score              6701                      40.09\n",
       "Rating                  6766                      40.48"
      ]
     },
     "execution_count": 4,
     "metadata": {},
     "output_type": "execute_result"
    }
   ],
   "source": [
    "def number_of_nulls(df):\n",
    "    null_values = games_df.isnull().sum()\n",
    "    percentage_of_null_values = games_df.isnull().sum() / len(games_df) *100\n",
    "    null_values_table = pd.concat([null_values, percentage_of_null_values], axis = 1)\\\n",
    "                        .rename(columns = {0 : 'Null Values', 1 : 'Percentage of Null Values'}).round(2)\n",
    "    return null_values_table\n",
    "\n",
    "number_of_nulls(games_df)"
   ]
  },
  {
   "cell_type": "markdown",
   "metadata": {},
   "source": [
    "> - First look, there are a lot of missing values in **<em>Name</em>**,**<em>Year_of_Release</em>**,**<em>Critic_Score</em>**,**<em>Genre</em>**, **<em>User_AScore</em>** and **<em>Rating<em>** column\n",
    "> - We need to change the datatypes for **<em>Year_of_Release</em>**,**<em>Critic_Score</em>** and **<em>User_Score</em>**\n",
    "> - I also noticed there's 'tbd' under User_score column. We also need to address that"
   ]
  },
  {
   "cell_type": "markdown",
   "metadata": {},
   "source": [
    "## Step 2. Prepare the data"
   ]
  },
  {
   "cell_type": "markdown",
   "metadata": {},
   "source": [
    "### Replace column names"
   ]
  },
  {
   "cell_type": "code",
   "execution_count": 5,
   "metadata": {},
   "outputs": [
    {
     "data": {
      "text/plain": [
       "Index(['name', 'platform', 'year_of_release', 'genre', 'na_sales', 'eu_sales',\n",
       "       'jp_sales', 'other_sales', 'critic_score', 'user_score', 'rating'],\n",
       "      dtype='object')"
      ]
     },
     "execution_count": 5,
     "metadata": {},
     "output_type": "execute_result"
    }
   ],
   "source": [
    "games_df.columns= games_df.columns.str.lower()\n",
    "games_df.columns"
   ]
  },
  {
   "cell_type": "markdown",
   "metadata": {},
   "source": [
    "### Missing Values"
   ]
  },
  {
   "cell_type": "code",
   "execution_count": 6,
   "metadata": {},
   "outputs": [
    {
     "data": {
      "text/html": [
       "<div>\n",
       "<style scoped>\n",
       "    .dataframe tbody tr th:only-of-type {\n",
       "        vertical-align: middle;\n",
       "    }\n",
       "\n",
       "    .dataframe tbody tr th {\n",
       "        vertical-align: top;\n",
       "    }\n",
       "\n",
       "    .dataframe thead th {\n",
       "        text-align: right;\n",
       "    }\n",
       "</style>\n",
       "<table border=\"1\" class=\"dataframe\">\n",
       "  <thead>\n",
       "    <tr style=\"text-align: right;\">\n",
       "      <th></th>\n",
       "      <th>name</th>\n",
       "      <th>platform</th>\n",
       "      <th>year_of_release</th>\n",
       "      <th>genre</th>\n",
       "      <th>na_sales</th>\n",
       "      <th>eu_sales</th>\n",
       "      <th>jp_sales</th>\n",
       "      <th>other_sales</th>\n",
       "      <th>critic_score</th>\n",
       "      <th>user_score</th>\n",
       "      <th>rating</th>\n",
       "    </tr>\n",
       "  </thead>\n",
       "  <tbody>\n",
       "    <tr>\n",
       "      <td>659</td>\n",
       "      <td>NaN</td>\n",
       "      <td>GEN</td>\n",
       "      <td>1993.0</td>\n",
       "      <td>NaN</td>\n",
       "      <td>1.78</td>\n",
       "      <td>0.53</td>\n",
       "      <td>0.00</td>\n",
       "      <td>0.08</td>\n",
       "      <td>NaN</td>\n",
       "      <td>NaN</td>\n",
       "      <td>NaN</td>\n",
       "    </tr>\n",
       "    <tr>\n",
       "      <td>14244</td>\n",
       "      <td>NaN</td>\n",
       "      <td>GEN</td>\n",
       "      <td>1993.0</td>\n",
       "      <td>NaN</td>\n",
       "      <td>0.00</td>\n",
       "      <td>0.00</td>\n",
       "      <td>0.03</td>\n",
       "      <td>0.00</td>\n",
       "      <td>NaN</td>\n",
       "      <td>NaN</td>\n",
       "      <td>NaN</td>\n",
       "    </tr>\n",
       "  </tbody>\n",
       "</table>\n",
       "</div>"
      ],
      "text/plain": [
       "      name platform  year_of_release genre  na_sales  eu_sales  jp_sales  \\\n",
       "659    NaN      GEN           1993.0   NaN      1.78      0.53      0.00   \n",
       "14244  NaN      GEN           1993.0   NaN      0.00      0.00      0.03   \n",
       "\n",
       "       other_sales  critic_score user_score rating  \n",
       "659           0.08           NaN        NaN    NaN  \n",
       "14244         0.00           NaN        NaN    NaN  "
      ]
     },
     "execution_count": 6,
     "metadata": {},
     "output_type": "execute_result"
    }
   ],
   "source": [
    "games_df.loc[games_df['name'].isnull()]\n"
   ]
  },
  {
   "cell_type": "code",
   "execution_count": 7,
   "metadata": {},
   "outputs": [],
   "source": [
    "#Dropping the missing values on name and genre column\n",
    "games_df.dropna(subset=['name','genre'], inplace=True)\n",
    "\n"
   ]
  },
  {
   "cell_type": "markdown",
   "metadata": {},
   "source": [
    "> I decided to drop the missing values from the **<em>name</em>** and **<em>genre</em>** columns as it was only 1% percent of the data and would not affect the analysis"
   ]
  },
  {
   "cell_type": "code",
   "execution_count": 8,
   "metadata": {},
   "outputs": [
    {
     "data": {
      "text/html": [
       "<div>\n",
       "<style scoped>\n",
       "    .dataframe tbody tr th:only-of-type {\n",
       "        vertical-align: middle;\n",
       "    }\n",
       "\n",
       "    .dataframe tbody tr th {\n",
       "        vertical-align: top;\n",
       "    }\n",
       "\n",
       "    .dataframe thead th {\n",
       "        text-align: right;\n",
       "    }\n",
       "</style>\n",
       "<table border=\"1\" class=\"dataframe\">\n",
       "  <thead>\n",
       "    <tr style=\"text-align: right;\">\n",
       "      <th></th>\n",
       "      <th>name</th>\n",
       "      <th>platform</th>\n",
       "      <th>year_of_release</th>\n",
       "      <th>genre</th>\n",
       "      <th>na_sales</th>\n",
       "      <th>eu_sales</th>\n",
       "      <th>jp_sales</th>\n",
       "      <th>other_sales</th>\n",
       "      <th>critic_score</th>\n",
       "      <th>user_score</th>\n",
       "      <th>rating</th>\n",
       "    </tr>\n",
       "  </thead>\n",
       "  <tbody>\n",
       "    <tr>\n",
       "      <td>183</td>\n",
       "      <td>Madden NFL 2004</td>\n",
       "      <td>PS2</td>\n",
       "      <td>NaN</td>\n",
       "      <td>Sports</td>\n",
       "      <td>4.26</td>\n",
       "      <td>0.26</td>\n",
       "      <td>0.01</td>\n",
       "      <td>0.71</td>\n",
       "      <td>94.0</td>\n",
       "      <td>8.5</td>\n",
       "      <td>E</td>\n",
       "    </tr>\n",
       "    <tr>\n",
       "      <td>377</td>\n",
       "      <td>FIFA Soccer 2004</td>\n",
       "      <td>PS2</td>\n",
       "      <td>NaN</td>\n",
       "      <td>Sports</td>\n",
       "      <td>0.59</td>\n",
       "      <td>2.36</td>\n",
       "      <td>0.04</td>\n",
       "      <td>0.51</td>\n",
       "      <td>84.0</td>\n",
       "      <td>6.4</td>\n",
       "      <td>E</td>\n",
       "    </tr>\n",
       "    <tr>\n",
       "      <td>456</td>\n",
       "      <td>LEGO Batman: The Videogame</td>\n",
       "      <td>Wii</td>\n",
       "      <td>NaN</td>\n",
       "      <td>Action</td>\n",
       "      <td>1.80</td>\n",
       "      <td>0.97</td>\n",
       "      <td>0.00</td>\n",
       "      <td>0.29</td>\n",
       "      <td>74.0</td>\n",
       "      <td>7.9</td>\n",
       "      <td>E10+</td>\n",
       "    </tr>\n",
       "    <tr>\n",
       "      <td>475</td>\n",
       "      <td>wwe Smackdown vs. Raw 2006</td>\n",
       "      <td>PS2</td>\n",
       "      <td>NaN</td>\n",
       "      <td>Fighting</td>\n",
       "      <td>1.57</td>\n",
       "      <td>1.02</td>\n",
       "      <td>0.00</td>\n",
       "      <td>0.41</td>\n",
       "      <td>NaN</td>\n",
       "      <td>NaN</td>\n",
       "      <td>NaN</td>\n",
       "    </tr>\n",
       "    <tr>\n",
       "      <td>609</td>\n",
       "      <td>Space Invaders</td>\n",
       "      <td>2600</td>\n",
       "      <td>NaN</td>\n",
       "      <td>Shooter</td>\n",
       "      <td>2.36</td>\n",
       "      <td>0.14</td>\n",
       "      <td>0.00</td>\n",
       "      <td>0.03</td>\n",
       "      <td>NaN</td>\n",
       "      <td>NaN</td>\n",
       "      <td>NaN</td>\n",
       "    </tr>\n",
       "    <tr>\n",
       "      <td>...</td>\n",
       "      <td>...</td>\n",
       "      <td>...</td>\n",
       "      <td>...</td>\n",
       "      <td>...</td>\n",
       "      <td>...</td>\n",
       "      <td>...</td>\n",
       "      <td>...</td>\n",
       "      <td>...</td>\n",
       "      <td>...</td>\n",
       "      <td>...</td>\n",
       "      <td>...</td>\n",
       "    </tr>\n",
       "    <tr>\n",
       "      <td>16373</td>\n",
       "      <td>PDC World Championship Darts 2008</td>\n",
       "      <td>PSP</td>\n",
       "      <td>NaN</td>\n",
       "      <td>Sports</td>\n",
       "      <td>0.01</td>\n",
       "      <td>0.00</td>\n",
       "      <td>0.00</td>\n",
       "      <td>0.00</td>\n",
       "      <td>43.0</td>\n",
       "      <td>tbd</td>\n",
       "      <td>E10+</td>\n",
       "    </tr>\n",
       "    <tr>\n",
       "      <td>16405</td>\n",
       "      <td>Freaky Flyers</td>\n",
       "      <td>GC</td>\n",
       "      <td>NaN</td>\n",
       "      <td>Racing</td>\n",
       "      <td>0.01</td>\n",
       "      <td>0.00</td>\n",
       "      <td>0.00</td>\n",
       "      <td>0.00</td>\n",
       "      <td>69.0</td>\n",
       "      <td>6.5</td>\n",
       "      <td>T</td>\n",
       "    </tr>\n",
       "    <tr>\n",
       "      <td>16448</td>\n",
       "      <td>Inversion</td>\n",
       "      <td>PC</td>\n",
       "      <td>NaN</td>\n",
       "      <td>Shooter</td>\n",
       "      <td>0.01</td>\n",
       "      <td>0.00</td>\n",
       "      <td>0.00</td>\n",
       "      <td>0.00</td>\n",
       "      <td>59.0</td>\n",
       "      <td>6.7</td>\n",
       "      <td>M</td>\n",
       "    </tr>\n",
       "    <tr>\n",
       "      <td>16458</td>\n",
       "      <td>Hakuouki: Shinsengumi Kitan</td>\n",
       "      <td>PS3</td>\n",
       "      <td>NaN</td>\n",
       "      <td>Adventure</td>\n",
       "      <td>0.01</td>\n",
       "      <td>0.00</td>\n",
       "      <td>0.00</td>\n",
       "      <td>0.00</td>\n",
       "      <td>NaN</td>\n",
       "      <td>NaN</td>\n",
       "      <td>NaN</td>\n",
       "    </tr>\n",
       "    <tr>\n",
       "      <td>16522</td>\n",
       "      <td>Virtua Quest</td>\n",
       "      <td>GC</td>\n",
       "      <td>NaN</td>\n",
       "      <td>Role-Playing</td>\n",
       "      <td>0.01</td>\n",
       "      <td>0.00</td>\n",
       "      <td>0.00</td>\n",
       "      <td>0.00</td>\n",
       "      <td>55.0</td>\n",
       "      <td>5.5</td>\n",
       "      <td>T</td>\n",
       "    </tr>\n",
       "  </tbody>\n",
       "</table>\n",
       "<p>269 rows × 11 columns</p>\n",
       "</div>"
      ],
      "text/plain": [
       "                                    name platform  year_of_release  \\\n",
       "183                      Madden NFL 2004      PS2              NaN   \n",
       "377                     FIFA Soccer 2004      PS2              NaN   \n",
       "456           LEGO Batman: The Videogame      Wii              NaN   \n",
       "475           wwe Smackdown vs. Raw 2006      PS2              NaN   \n",
       "609                       Space Invaders     2600              NaN   \n",
       "...                                  ...      ...              ...   \n",
       "16373  PDC World Championship Darts 2008      PSP              NaN   \n",
       "16405                      Freaky Flyers       GC              NaN   \n",
       "16448                          Inversion       PC              NaN   \n",
       "16458        Hakuouki: Shinsengumi Kitan      PS3              NaN   \n",
       "16522                       Virtua Quest       GC              NaN   \n",
       "\n",
       "              genre  na_sales  eu_sales  jp_sales  other_sales  critic_score  \\\n",
       "183          Sports      4.26      0.26      0.01         0.71          94.0   \n",
       "377          Sports      0.59      2.36      0.04         0.51          84.0   \n",
       "456          Action      1.80      0.97      0.00         0.29          74.0   \n",
       "475        Fighting      1.57      1.02      0.00         0.41           NaN   \n",
       "609         Shooter      2.36      0.14      0.00         0.03           NaN   \n",
       "...             ...       ...       ...       ...          ...           ...   \n",
       "16373        Sports      0.01      0.00      0.00         0.00          43.0   \n",
       "16405        Racing      0.01      0.00      0.00         0.00          69.0   \n",
       "16448       Shooter      0.01      0.00      0.00         0.00          59.0   \n",
       "16458     Adventure      0.01      0.00      0.00         0.00           NaN   \n",
       "16522  Role-Playing      0.01      0.00      0.00         0.00          55.0   \n",
       "\n",
       "      user_score rating  \n",
       "183          8.5      E  \n",
       "377          6.4      E  \n",
       "456          7.9   E10+  \n",
       "475          NaN    NaN  \n",
       "609          NaN    NaN  \n",
       "...          ...    ...  \n",
       "16373        tbd   E10+  \n",
       "16405        6.5      T  \n",
       "16448        6.7      M  \n",
       "16458        NaN    NaN  \n",
       "16522        5.5      T  \n",
       "\n",
       "[269 rows x 11 columns]"
      ]
     },
     "execution_count": 8,
     "metadata": {},
     "output_type": "execute_result"
    }
   ],
   "source": [
    "games_df.loc[games_df['year_of_release'].isnull()]\n"
   ]
  },
  {
   "cell_type": "code",
   "execution_count": 9,
   "metadata": {},
   "outputs": [
    {
     "data": {
      "text/html": [
       "<div>\n",
       "<style scoped>\n",
       "    .dataframe tbody tr th:only-of-type {\n",
       "        vertical-align: middle;\n",
       "    }\n",
       "\n",
       "    .dataframe tbody tr th {\n",
       "        vertical-align: top;\n",
       "    }\n",
       "\n",
       "    .dataframe thead th {\n",
       "        text-align: right;\n",
       "    }\n",
       "</style>\n",
       "<table border=\"1\" class=\"dataframe\">\n",
       "  <thead>\n",
       "    <tr style=\"text-align: right;\">\n",
       "      <th></th>\n",
       "      <th>name</th>\n",
       "      <th>platform</th>\n",
       "      <th>year_of_release</th>\n",
       "      <th>genre</th>\n",
       "      <th>na_sales</th>\n",
       "      <th>eu_sales</th>\n",
       "      <th>jp_sales</th>\n",
       "      <th>other_sales</th>\n",
       "      <th>critic_score</th>\n",
       "      <th>user_score</th>\n",
       "      <th>rating</th>\n",
       "    </tr>\n",
       "  </thead>\n",
       "  <tbody>\n",
       "    <tr>\n",
       "      <td>183</td>\n",
       "      <td>Madden NFL 2004</td>\n",
       "      <td>PS2</td>\n",
       "      <td>NaN</td>\n",
       "      <td>Sports</td>\n",
       "      <td>4.26</td>\n",
       "      <td>0.26</td>\n",
       "      <td>0.01</td>\n",
       "      <td>0.71</td>\n",
       "      <td>94.0</td>\n",
       "      <td>8.5</td>\n",
       "      <td>E</td>\n",
       "    </tr>\n",
       "    <tr>\n",
       "      <td>1881</td>\n",
       "      <td>Madden NFL 2004</td>\n",
       "      <td>XB</td>\n",
       "      <td>2003.0</td>\n",
       "      <td>Sports</td>\n",
       "      <td>1.02</td>\n",
       "      <td>0.02</td>\n",
       "      <td>0.00</td>\n",
       "      <td>0.05</td>\n",
       "      <td>92.0</td>\n",
       "      <td>8.3</td>\n",
       "      <td>E</td>\n",
       "    </tr>\n",
       "    <tr>\n",
       "      <td>3889</td>\n",
       "      <td>Madden NFL 2004</td>\n",
       "      <td>GC</td>\n",
       "      <td>2003.0</td>\n",
       "      <td>Sports</td>\n",
       "      <td>0.40</td>\n",
       "      <td>0.10</td>\n",
       "      <td>0.00</td>\n",
       "      <td>0.01</td>\n",
       "      <td>94.0</td>\n",
       "      <td>7.7</td>\n",
       "      <td>E</td>\n",
       "    </tr>\n",
       "    <tr>\n",
       "      <td>5708</td>\n",
       "      <td>Madden NFL 2004</td>\n",
       "      <td>GBA</td>\n",
       "      <td>2003.0</td>\n",
       "      <td>Sports</td>\n",
       "      <td>0.22</td>\n",
       "      <td>0.08</td>\n",
       "      <td>0.00</td>\n",
       "      <td>0.01</td>\n",
       "      <td>70.0</td>\n",
       "      <td>6.6</td>\n",
       "      <td>E</td>\n",
       "    </tr>\n",
       "  </tbody>\n",
       "</table>\n",
       "</div>"
      ],
      "text/plain": [
       "                 name platform  year_of_release   genre  na_sales  eu_sales  \\\n",
       "183   Madden NFL 2004      PS2              NaN  Sports      4.26      0.26   \n",
       "1881  Madden NFL 2004       XB           2003.0  Sports      1.02      0.02   \n",
       "3889  Madden NFL 2004       GC           2003.0  Sports      0.40      0.10   \n",
       "5708  Madden NFL 2004      GBA           2003.0  Sports      0.22      0.08   \n",
       "\n",
       "      jp_sales  other_sales  critic_score user_score rating  \n",
       "183       0.01         0.71          94.0        8.5      E  \n",
       "1881      0.00         0.05          92.0        8.3      E  \n",
       "3889      0.00         0.01          94.0        7.7      E  \n",
       "5708      0.00         0.01          70.0        6.6      E  "
      ]
     },
     "execution_count": 9,
     "metadata": {},
     "output_type": "execute_result"
    }
   ],
   "source": [
    "games_df.loc[games_df['name']== 'Madden NFL 2004']\n"
   ]
  },
  {
   "cell_type": "code",
   "execution_count": 10,
   "metadata": {},
   "outputs": [],
   "source": [
    "games_df['year_of_release']= games_df.groupby(['name'])['year_of_release'].apply(lambda x: x.fillna(x.ffill().bfill()))"
   ]
  },
  {
   "cell_type": "code",
   "execution_count": 11,
   "metadata": {},
   "outputs": [
    {
     "data": {
      "text/plain": [
       "146"
      ]
     },
     "execution_count": 11,
     "metadata": {},
     "output_type": "execute_result"
    }
   ],
   "source": [
    "\n",
    "games_df['year_of_release'].isnull().sum()"
   ]
  },
  {
   "cell_type": "code",
   "execution_count": 12,
   "metadata": {},
   "outputs": [],
   "source": [
    "games_df['year_of_release'] = games_df['year_of_release'].fillna(games_df['year_of_release'].median())"
   ]
  },
  {
   "cell_type": "markdown",
   "metadata": {},
   "source": [
    "> - As with the missing values from year_of_release column. There's 269 of them. Gaming company usually release their games the same year for all platforms. As the year_of_release is present in other platform, I'm going to fill it in with the year from the other platforms\n",
    "> - I used ffill and ffill to populate the empty cells with the corresponding value in the next row or previous row.\n",
    "> - I filled the rest of the missing values with the median"
   ]
  },
  {
   "cell_type": "code",
   "execution_count": 13,
   "metadata": {},
   "outputs": [],
   "source": [
    "#replacing tbd with nan \n",
    "games_df['user_score']= games_df['user_score'].replace('tbd', np.nan)\n",
    "\n",
    "#Filling in the rating with the most common rating based on genre\n",
    "games_df['rating'] = games_df.groupby('genre')['rating'].apply(lambda x: x.fillna(x.mode().iloc[0]))\n",
    "\n",
    "#Filling in missing values in critic_score\n",
    "games_df['critic_score']= games_df.groupby('name')['critic_score'].apply(lambda x: x.fillna(x.mean()))\n",
    "\n",
    "\n",
    "\n"
   ]
  },
  {
   "cell_type": "code",
   "execution_count": 14,
   "metadata": {},
   "outputs": [],
   "source": [
    "#filling in missing values in user_score and critic_score with median\n",
    "games_df['user_score']= games_df['user_score'].fillna(games_df['user_score'].median())\n",
    "\n",
    "games_df['critic_score'] = games_df['critic_score'].fillna(games_df['critic_score'].median())"
   ]
  },
  {
   "cell_type": "code",
   "execution_count": 15,
   "metadata": {},
   "outputs": [
    {
     "data": {
      "text/html": [
       "<div>\n",
       "<style scoped>\n",
       "    .dataframe tbody tr th:only-of-type {\n",
       "        vertical-align: middle;\n",
       "    }\n",
       "\n",
       "    .dataframe tbody tr th {\n",
       "        vertical-align: top;\n",
       "    }\n",
       "\n",
       "    .dataframe thead th {\n",
       "        text-align: right;\n",
       "    }\n",
       "</style>\n",
       "<table border=\"1\" class=\"dataframe\">\n",
       "  <thead>\n",
       "    <tr style=\"text-align: right;\">\n",
       "      <th></th>\n",
       "      <th>Null Values</th>\n",
       "      <th>Percentage of Null Values</th>\n",
       "    </tr>\n",
       "  </thead>\n",
       "  <tbody>\n",
       "    <tr>\n",
       "      <td>name</td>\n",
       "      <td>0</td>\n",
       "      <td>0.0</td>\n",
       "    </tr>\n",
       "    <tr>\n",
       "      <td>platform</td>\n",
       "      <td>0</td>\n",
       "      <td>0.0</td>\n",
       "    </tr>\n",
       "    <tr>\n",
       "      <td>year_of_release</td>\n",
       "      <td>0</td>\n",
       "      <td>0.0</td>\n",
       "    </tr>\n",
       "    <tr>\n",
       "      <td>genre</td>\n",
       "      <td>0</td>\n",
       "      <td>0.0</td>\n",
       "    </tr>\n",
       "    <tr>\n",
       "      <td>na_sales</td>\n",
       "      <td>0</td>\n",
       "      <td>0.0</td>\n",
       "    </tr>\n",
       "    <tr>\n",
       "      <td>eu_sales</td>\n",
       "      <td>0</td>\n",
       "      <td>0.0</td>\n",
       "    </tr>\n",
       "    <tr>\n",
       "      <td>jp_sales</td>\n",
       "      <td>0</td>\n",
       "      <td>0.0</td>\n",
       "    </tr>\n",
       "    <tr>\n",
       "      <td>other_sales</td>\n",
       "      <td>0</td>\n",
       "      <td>0.0</td>\n",
       "    </tr>\n",
       "    <tr>\n",
       "      <td>critic_score</td>\n",
       "      <td>0</td>\n",
       "      <td>0.0</td>\n",
       "    </tr>\n",
       "    <tr>\n",
       "      <td>user_score</td>\n",
       "      <td>0</td>\n",
       "      <td>0.0</td>\n",
       "    </tr>\n",
       "    <tr>\n",
       "      <td>rating</td>\n",
       "      <td>0</td>\n",
       "      <td>0.0</td>\n",
       "    </tr>\n",
       "  </tbody>\n",
       "</table>\n",
       "</div>"
      ],
      "text/plain": [
       "                 Null Values  Percentage of Null Values\n",
       "name                       0                        0.0\n",
       "platform                   0                        0.0\n",
       "year_of_release            0                        0.0\n",
       "genre                      0                        0.0\n",
       "na_sales                   0                        0.0\n",
       "eu_sales                   0                        0.0\n",
       "jp_sales                   0                        0.0\n",
       "other_sales                0                        0.0\n",
       "critic_score               0                        0.0\n",
       "user_score                 0                        0.0\n",
       "rating                     0                        0.0"
      ]
     },
     "execution_count": 15,
     "metadata": {},
     "output_type": "execute_result"
    }
   ],
   "source": [
    "number_of_nulls(games_df)"
   ]
  },
  {
   "cell_type": "markdown",
   "metadata": {},
   "source": [
    "> - I decided to replace the **<em>tbd</em>** value in the user score column with nan because we can't really use that for analysis\n",
    "> - Then I filled in the **<em>user_score</em>** with median to not skew the analysis\n",
    "> - I used mode to fill in the missing values for the **<em>rating</em>** column based on the most common rating for that genre. Usually games with similar genre have similar or at least close to similar rating that's why I chose the mode to get the most common rating\n",
    "> - Then I decided to fill in the missing values for **<em>critic_score</em>** using the average score based on the title. It is a reasonable way to fill in the missing values because there are already a established score from critics and we're going to take the average of that\n",
    "> - I decided to fill in the remaining missing values in ***critic_score*** with median to not skew the data much\n",
    "> - I also decided to fill in the remaining missing values in **<em>user_score</em>** with the median to also not skew the analysis\n",
    "> - These missing values occured because the way the data was imported or in the ***critic score*** and ***user score*** case, it might be because these games were not reviewed at all"
   ]
  },
  {
   "cell_type": "markdown",
   "metadata": {},
   "source": [
    "### Datatype conversion"
   ]
  },
  {
   "cell_type": "code",
   "execution_count": 16,
   "metadata": {
    "scrolled": true
   },
   "outputs": [],
   "source": [
    "games_df['year_of_release'] = games_df['year_of_release'].astype(int)\n",
    "games_df['critic_score'] = games_df['critic_score'].astype(int)\n",
    "games_df['user_score'] = games_df['user_score'].astype(float)"
   ]
  },
  {
   "cell_type": "code",
   "execution_count": 17,
   "metadata": {},
   "outputs": [
    {
     "name": "stdout",
     "output_type": "stream",
     "text": [
      "<class 'pandas.core.frame.DataFrame'>\n",
      "Int64Index: 16713 entries, 0 to 16714\n",
      "Data columns (total 11 columns):\n",
      "name               16713 non-null object\n",
      "platform           16713 non-null object\n",
      "year_of_release    16713 non-null int64\n",
      "genre              16713 non-null object\n",
      "na_sales           16713 non-null float64\n",
      "eu_sales           16713 non-null float64\n",
      "jp_sales           16713 non-null float64\n",
      "other_sales        16713 non-null float64\n",
      "critic_score       16713 non-null int64\n",
      "user_score         16713 non-null float64\n",
      "rating             16713 non-null object\n",
      "dtypes: float64(5), int64(2), object(4)\n",
      "memory usage: 1.5+ MB\n"
     ]
    }
   ],
   "source": [
    "games_df.info()"
   ]
  },
  {
   "cell_type": "markdown",
   "metadata": {},
   "source": [
    "> Now we can see everything is in its right data type "
   ]
  },
  {
   "cell_type": "markdown",
   "metadata": {},
   "source": [
    "###  Calculate total sales"
   ]
  },
  {
   "cell_type": "code",
   "execution_count": 18,
   "metadata": {},
   "outputs": [
    {
     "data": {
      "text/html": [
       "<div>\n",
       "<style scoped>\n",
       "    .dataframe tbody tr th:only-of-type {\n",
       "        vertical-align: middle;\n",
       "    }\n",
       "\n",
       "    .dataframe tbody tr th {\n",
       "        vertical-align: top;\n",
       "    }\n",
       "\n",
       "    .dataframe thead th {\n",
       "        text-align: right;\n",
       "    }\n",
       "</style>\n",
       "<table border=\"1\" class=\"dataframe\">\n",
       "  <thead>\n",
       "    <tr style=\"text-align: right;\">\n",
       "      <th></th>\n",
       "      <th>name</th>\n",
       "      <th>platform</th>\n",
       "      <th>year_of_release</th>\n",
       "      <th>genre</th>\n",
       "      <th>na_sales</th>\n",
       "      <th>eu_sales</th>\n",
       "      <th>jp_sales</th>\n",
       "      <th>other_sales</th>\n",
       "      <th>critic_score</th>\n",
       "      <th>user_score</th>\n",
       "      <th>rating</th>\n",
       "      <th>total_sales</th>\n",
       "    </tr>\n",
       "  </thead>\n",
       "  <tbody>\n",
       "    <tr>\n",
       "      <td>0</td>\n",
       "      <td>Wii Sports</td>\n",
       "      <td>Wii</td>\n",
       "      <td>2006</td>\n",
       "      <td>Sports</td>\n",
       "      <td>41.36</td>\n",
       "      <td>28.96</td>\n",
       "      <td>3.77</td>\n",
       "      <td>8.45</td>\n",
       "      <td>76</td>\n",
       "      <td>8.0</td>\n",
       "      <td>E</td>\n",
       "      <td>82.54</td>\n",
       "    </tr>\n",
       "    <tr>\n",
       "      <td>1</td>\n",
       "      <td>Super Mario Bros.</td>\n",
       "      <td>NES</td>\n",
       "      <td>1985</td>\n",
       "      <td>Platform</td>\n",
       "      <td>29.08</td>\n",
       "      <td>3.58</td>\n",
       "      <td>6.81</td>\n",
       "      <td>0.77</td>\n",
       "      <td>71</td>\n",
       "      <td>7.5</td>\n",
       "      <td>E</td>\n",
       "      <td>40.24</td>\n",
       "    </tr>\n",
       "    <tr>\n",
       "      <td>2</td>\n",
       "      <td>Mario Kart Wii</td>\n",
       "      <td>Wii</td>\n",
       "      <td>2008</td>\n",
       "      <td>Racing</td>\n",
       "      <td>15.68</td>\n",
       "      <td>12.76</td>\n",
       "      <td>3.79</td>\n",
       "      <td>3.29</td>\n",
       "      <td>82</td>\n",
       "      <td>8.3</td>\n",
       "      <td>E</td>\n",
       "      <td>35.52</td>\n",
       "    </tr>\n",
       "    <tr>\n",
       "      <td>3</td>\n",
       "      <td>Wii Sports Resort</td>\n",
       "      <td>Wii</td>\n",
       "      <td>2009</td>\n",
       "      <td>Sports</td>\n",
       "      <td>15.61</td>\n",
       "      <td>10.93</td>\n",
       "      <td>3.28</td>\n",
       "      <td>2.95</td>\n",
       "      <td>80</td>\n",
       "      <td>8.0</td>\n",
       "      <td>E</td>\n",
       "      <td>32.77</td>\n",
       "    </tr>\n",
       "    <tr>\n",
       "      <td>4</td>\n",
       "      <td>Pokemon Red/Pokemon Blue</td>\n",
       "      <td>GB</td>\n",
       "      <td>1996</td>\n",
       "      <td>Role-Playing</td>\n",
       "      <td>11.27</td>\n",
       "      <td>8.89</td>\n",
       "      <td>10.22</td>\n",
       "      <td>1.00</td>\n",
       "      <td>71</td>\n",
       "      <td>7.5</td>\n",
       "      <td>T</td>\n",
       "      <td>31.38</td>\n",
       "    </tr>\n",
       "  </tbody>\n",
       "</table>\n",
       "</div>"
      ],
      "text/plain": [
       "                       name platform  year_of_release         genre  na_sales  \\\n",
       "0                Wii Sports      Wii             2006        Sports     41.36   \n",
       "1         Super Mario Bros.      NES             1985      Platform     29.08   \n",
       "2            Mario Kart Wii      Wii             2008        Racing     15.68   \n",
       "3         Wii Sports Resort      Wii             2009        Sports     15.61   \n",
       "4  Pokemon Red/Pokemon Blue       GB             1996  Role-Playing     11.27   \n",
       "\n",
       "   eu_sales  jp_sales  other_sales  critic_score  user_score rating  \\\n",
       "0     28.96      3.77         8.45            76         8.0      E   \n",
       "1      3.58      6.81         0.77            71         7.5      E   \n",
       "2     12.76      3.79         3.29            82         8.3      E   \n",
       "3     10.93      3.28         2.95            80         8.0      E   \n",
       "4      8.89     10.22         1.00            71         7.5      T   \n",
       "\n",
       "   total_sales  \n",
       "0        82.54  \n",
       "1        40.24  \n",
       "2        35.52  \n",
       "3        32.77  \n",
       "4        31.38  "
      ]
     },
     "execution_count": 18,
     "metadata": {},
     "output_type": "execute_result"
    }
   ],
   "source": [
    "games_df['total_sales'] = games_df['na_sales'] + games_df['eu_sales'] + games_df['jp_sales'] + games_df['other_sales']\n",
    "games_df.head()"
   ]
  },
  {
   "cell_type": "markdown",
   "metadata": {},
   "source": [
    "### Checking for duplicates"
   ]
  },
  {
   "cell_type": "code",
   "execution_count": 19,
   "metadata": {},
   "outputs": [
    {
     "data": {
      "text/plain": [
       "0"
      ]
     },
     "execution_count": 19,
     "metadata": {},
     "output_type": "execute_result"
    }
   ],
   "source": [
    "games_df.duplicated().sum()"
   ]
  },
  {
   "cell_type": "markdown",
   "metadata": {},
   "source": [
    "### Conclusion"
   ]
  },
  {
   "cell_type": "markdown",
   "metadata": {},
   "source": [
    "> - Prepared the data by converting the column names to lower case\n",
    "> - Dropped missing values in the name and genre column because it was only 2 and would not affect the analysis\n",
    "> - Filled in missing values in the year_of_release, user_score and rating column\n",
    "> - Decided to fill in the remaining missing values in critic_score with the median \n",
    "> - Changed <em>tbd</em> values to nan values\n",
    "> - Replaced datatypes to their appropriate types\n",
    "> - Calculated the total sales in all region\n",
    "> - Checked for duplicates and there are no duplicates\n",
    "\n"
   ]
  },
  {
   "cell_type": "markdown",
   "metadata": {},
   "source": [
    "## Step 3. Analyze the data"
   ]
  },
  {
   "cell_type": "markdown",
   "metadata": {},
   "source": [
    "#### Games released per year"
   ]
  },
  {
   "cell_type": "code",
   "execution_count": 20,
   "metadata": {},
   "outputs": [
    {
     "data": {
      "text/plain": [
       "<Figure size 1872x576 with 0 Axes>"
      ]
     },
     "metadata": {},
     "output_type": "display_data"
    },
    {
     "data": {
      "image/png": "[encoded data removed]",
      "text/plain": [
       "<Figure size 432x288 with 1 Axes>"
      ]
     },
     "metadata": {
      "needs_background": "light"
     },
     "output_type": "display_data"
    }
   ],
   "source": [
    "plt.figure(figsize = (26,8))\n",
    "games_df.hist('year_of_release')\n",
    "plt.title('Number of games released per year', fontsize=15)\n",
    "plt.xlabel('year')\n",
    "plt.ylabel('frequency')\n",
    "plt.show()"
   ]
  },
  {
   "cell_type": "markdown",
   "metadata": {},
   "source": [
    "> There was not a lot of games prior to 1995, so these data are not significant. However, the 2000s had a sudden surge of game releases especially around 2007-2012. "
   ]
  },
  {
   "cell_type": "markdown",
   "metadata": {},
   "source": [
    "#### Platform Sales"
   ]
  },
  {
   "cell_type": "code",
   "execution_count": 21,
   "metadata": {},
   "outputs": [
    {
     "data": {
      "image/png": "[encoded data removed]",
      "text/plain": [
       "<Figure size 1080x360 with 1 Axes>"
      ]
     },
     "metadata": {
      "needs_background": "light"
     },
     "output_type": "display_data"
    }
   ],
   "source": [
    "sales_platform = games_df.pivot_table(index='platform', values='total_sales', aggfunc='sum').sort_values(by='total_sales', ascending=False)\n",
    "plt.figure(figsize = (15,5))\n",
    "sns.set(style='darkgrid')\n",
    "sns.color_palette()\n",
    "sns.barplot(x=sales_platform.index ,y=sales_platform['total_sales']).set_title('Total Sales Per Platform')\n",
    "plt.xlabel('Platform')\n",
    "plt.ylabel('Total sales')\n",
    "plt.show()"
   ]
  },
  {
   "cell_type": "markdown",
   "metadata": {},
   "source": [
    "> The graph shows the platform with number of total sales. There's 6 that stand out: **_PS2, X360, PS3, Wii, DS, PS_**"
   ]
  },
  {
   "cell_type": "code",
   "execution_count": 22,
   "metadata": {},
   "outputs": [
    {
     "data": {
      "text/html": [
       "<div>\n",
       "<style scoped>\n",
       "    .dataframe tbody tr th:only-of-type {\n",
       "        vertical-align: middle;\n",
       "    }\n",
       "\n",
       "    .dataframe tbody tr th {\n",
       "        vertical-align: top;\n",
       "    }\n",
       "\n",
       "    .dataframe thead th {\n",
       "        text-align: right;\n",
       "    }\n",
       "</style>\n",
       "<table border=\"1\" class=\"dataframe\">\n",
       "  <thead>\n",
       "    <tr style=\"text-align: right;\">\n",
       "      <th></th>\n",
       "      <th>total_sales</th>\n",
       "    </tr>\n",
       "    <tr>\n",
       "      <th>platform</th>\n",
       "      <th></th>\n",
       "    </tr>\n",
       "  </thead>\n",
       "  <tbody>\n",
       "    <tr>\n",
       "      <td>PS2</td>\n",
       "      <td>1255.77</td>\n",
       "    </tr>\n",
       "    <tr>\n",
       "      <td>X360</td>\n",
       "      <td>971.42</td>\n",
       "    </tr>\n",
       "    <tr>\n",
       "      <td>PS3</td>\n",
       "      <td>939.65</td>\n",
       "    </tr>\n",
       "    <tr>\n",
       "      <td>Wii</td>\n",
       "      <td>907.51</td>\n",
       "    </tr>\n",
       "    <tr>\n",
       "      <td>DS</td>\n",
       "      <td>806.12</td>\n",
       "    </tr>\n",
       "  </tbody>\n",
       "</table>\n",
       "</div>"
      ],
      "text/plain": [
       "          total_sales\n",
       "platform             \n",
       "PS2           1255.77\n",
       "X360           971.42\n",
       "PS3            939.65\n",
       "Wii            907.51\n",
       "DS             806.12"
      ]
     },
     "execution_count": 22,
     "metadata": {},
     "output_type": "execute_result"
    }
   ],
   "source": [
    "sales_platform.head()"
   ]
  },
  {
   "cell_type": "markdown",
   "metadata": {},
   "source": [
    "#### Top Platforms Sales Per Year"
   ]
  },
  {
   "cell_type": "code",
   "execution_count": 23,
   "metadata": {},
   "outputs": [
    {
     "data": {
      "image/png": "[encoded data removed]",
      "text/plain": [
       "<Figure size 1152x504 with 2 Axes>"
      ]
     },
     "metadata": {},
     "output_type": "display_data"
    }
   ],
   "source": [
    "platform_year = games_df[games_df['platform'].isin(['PS2','X360','PS3','Wii','DS','PS'])]\\\n",
    "                .groupby([\"platform\",\"year_of_release\"]).size().unstack()\n",
    "\n",
    "sns.set(style='darkgrid')\n",
    "plt.figure(figsize=(16,7))\n",
    "sns.heatmap(platform_year, square=True,cbar_kws={'fraction' : 0.02},cmap='YlGnBu',linewidth=1)\n",
    "plt.show()"
   ]
  },
  {
   "cell_type": "markdown",
   "metadata": {},
   "source": [
    "> - 'X360', 'PS3' and 'Wii' are the only one that till had sales out of the top 5 platform. Very low volume from year 2012 to 2016\n",
    "> - Wii was popular between 2006 and 2011. It's popularity has reduced since it now have zero sales.\n",
    "> - DS was popular between 2005 and 2010\n",
    "> - X360 was on the height of popularity between 2008 and 2011\n",
    "> - PS3 was popular between 2008 and 2013. Sales dropped sharply in 2016\n",
    "> - PS2 was popular between 2001 and 2007. Sales started dropping after 2008 which is when PS3 started getting popular. \n",
    "> - With the release of PS3, PS2 sales decreased as the consumers started to upgarde their consoles\n",
    "> - The other 3 platforms PS2, PS,DS used to be very popular but in 2016 recorded zero sales.\n",
    "> - It takes around 7 years for new platforms to appear and old ones to fade\n",
    "> - To build a prognosis for 2017, we need to identify platforms that are still popular in 2016.\n",
    "> - It takes about 5 to 6 years for a console to reach peak of popularity from the beginnning. We will take the data for the past 6 years to build a prognosis for 2017"
   ]
  },
  {
   "cell_type": "markdown",
   "metadata": {},
   "source": [
    "#### Top platform based on sales"
   ]
  },
  {
   "cell_type": "code",
   "execution_count": 24,
   "metadata": {},
   "outputs": [],
   "source": [
    "# getting the data from 2011 to 2016\n",
    "new_df = games_df[games_df['year_of_release'] >= 2011]\n"
   ]
  },
  {
   "cell_type": "markdown",
   "metadata": {},
   "source": [
    "> I picked data from 2011 to 2016 because 5 years is usually how long the company takes to release a newer console and also how long a console takes to reach peak popularity"
   ]
  },
  {
   "cell_type": "code",
   "execution_count": 25,
   "metadata": {},
   "outputs": [
    {
     "name": "stdout",
     "output_type": "stream",
     "text": [
      "<class 'pandas.core.frame.DataFrame'>\n",
      "Int64Index: 4052 entries, 16 to 16714\n",
      "Data columns (total 12 columns):\n",
      "name               4052 non-null object\n",
      "platform           4052 non-null object\n",
      "year_of_release    4052 non-null int64\n",
      "genre              4052 non-null object\n",
      "na_sales           4052 non-null float64\n",
      "eu_sales           4052 non-null float64\n",
      "jp_sales           4052 non-null float64\n",
      "other_sales        4052 non-null float64\n",
      "critic_score       4052 non-null int64\n",
      "user_score         4052 non-null float64\n",
      "rating             4052 non-null object\n",
      "total_sales        4052 non-null float64\n",
      "dtypes: float64(6), int64(2), object(4)\n",
      "memory usage: 411.5+ KB\n"
     ]
    }
   ],
   "source": [
    "new_df.info()"
   ]
  },
  {
   "cell_type": "code",
   "execution_count": 26,
   "metadata": {},
   "outputs": [
    {
     "data": {
      "image/png": "[encoded data removed]",
      "text/plain": [
       "<Figure size 864x432 with 1 Axes>"
      ]
     },
     "metadata": {},
     "output_type": "display_data"
    }
   ],
   "source": [
    "plt.figure(figsize=(12,6))\n",
    "sns.set(style='darkgrid')\n",
    "sns.barplot(x='platform', y='total_sales',estimator=sum, data=new_df)\n",
    "plt.title('Total sales per platform (USD)',fontsize=15)\n",
    "plt.ylabel('total sales')\n",
    "plt.show()"
   ]
  },
  {
   "cell_type": "markdown",
   "metadata": {},
   "source": [
    "> - As we can see from the graph, ***PS3, X360, PS4, 3DS, XOne*** are the top 5 leading in sales\n",
    "> - ***PS3*** is the leading console but of course the company are going to release more games for PS4 and XOne, which will change the sales as the company tries to boost the sales for newer consoles.\n",
    "> - We can expect that games for PS3 and X360 at the year 2017 will continue to drop since is it not profitable."
   ]
  },
  {
   "cell_type": "markdown",
   "metadata": {},
   "source": [
    "#### Boxplot for global sale of all games by platform"
   ]
  },
  {
   "cell_type": "markdown",
   "metadata": {},
   "source": [
    "> I will only select the top 5 platforms"
   ]
  },
  {
   "cell_type": "code",
   "execution_count": 27,
   "metadata": {},
   "outputs": [],
   "source": [
    "top_sales= new_df[new_df['platform'].isin(['PS4', 'PS3', 'X360', '3DS', 'XOne'])]"
   ]
  },
  {
   "cell_type": "code",
   "execution_count": 28,
   "metadata": {},
   "outputs": [
    {
     "data": {
      "image/png": "[encoded data removed]",
      "text/plain": [
       "<Figure size 864x432 with 1 Axes>"
      ]
     },
     "metadata": {},
     "output_type": "display_data"
    }
   ],
   "source": [
    "plt.figure(figsize=(12,6))\n",
    "sns.boxplot(x= 'platform', y='total_sales', data=top_sales)\n",
    "plt.suptitle('')\n",
    "plt.title('Differences In Sales Between Platforms',fontsize=15)\n",
    "plt.show()\n",
    "\n"
   ]
  },
  {
   "cell_type": "markdown",
   "metadata": {},
   "source": [
    "> There's no significant difference in sales and the boxplots look similar. PS3 had slightly higher sales but nothing significant\n",
    "\n",
    "\n"
   ]
  },
  {
   "cell_type": "code",
   "execution_count": 29,
   "metadata": {},
   "outputs": [
    {
     "data": {
      "text/html": [
       "<div>\n",
       "<style scoped>\n",
       "    .dataframe tbody tr th:only-of-type {\n",
       "        vertical-align: middle;\n",
       "    }\n",
       "\n",
       "    .dataframe tbody tr th {\n",
       "        vertical-align: top;\n",
       "    }\n",
       "\n",
       "    .dataframe thead tr th {\n",
       "        text-align: left;\n",
       "    }\n",
       "\n",
       "    .dataframe thead tr:last-of-type th {\n",
       "        text-align: right;\n",
       "    }\n",
       "</style>\n",
       "<table border=\"1\" class=\"dataframe\">\n",
       "  <thead>\n",
       "    <tr>\n",
       "      <th></th>\n",
       "      <th>mean</th>\n",
       "      <th>median</th>\n",
       "    </tr>\n",
       "    <tr>\n",
       "      <th></th>\n",
       "      <th>total_sales</th>\n",
       "      <th>total_sales</th>\n",
       "    </tr>\n",
       "    <tr>\n",
       "      <th>platform</th>\n",
       "      <th></th>\n",
       "      <th></th>\n",
       "    </tr>\n",
       "  </thead>\n",
       "  <tbody>\n",
       "    <tr>\n",
       "      <td>3DS</td>\n",
       "      <td>0.503333</td>\n",
       "      <td>0.120</td>\n",
       "    </tr>\n",
       "    <tr>\n",
       "      <td>PS3</td>\n",
       "      <td>0.627896</td>\n",
       "      <td>0.210</td>\n",
       "    </tr>\n",
       "    <tr>\n",
       "      <td>PS4</td>\n",
       "      <td>0.801378</td>\n",
       "      <td>0.200</td>\n",
       "    </tr>\n",
       "    <tr>\n",
       "      <td>X360</td>\n",
       "      <td>0.756423</td>\n",
       "      <td>0.265</td>\n",
       "    </tr>\n",
       "    <tr>\n",
       "      <td>XOne</td>\n",
       "      <td>0.645020</td>\n",
       "      <td>0.220</td>\n",
       "    </tr>\n",
       "  </tbody>\n",
       "</table>\n",
       "</div>"
      ],
      "text/plain": [
       "                mean      median\n",
       "         total_sales total_sales\n",
       "platform                        \n",
       "3DS         0.503333       0.120\n",
       "PS3         0.627896       0.210\n",
       "PS4         0.801378       0.200\n",
       "X360        0.756423       0.265\n",
       "XOne        0.645020       0.220"
      ]
     },
     "execution_count": 29,
     "metadata": {},
     "output_type": "execute_result"
    }
   ],
   "source": [
    "top_sales.pivot_table(index='platform', values='total_sales', aggfunc=['mean', 'median'])"
   ]
  },
  {
   "cell_type": "markdown",
   "metadata": {},
   "source": [
    "> As we can see the mean is much higher than median which shows the positive distribution in the graph"
   ]
  },
  {
   "cell_type": "markdown",
   "metadata": {},
   "source": [
    "#### Correlation between reviews and sales"
   ]
  },
  {
   "cell_type": "code",
   "execution_count": 30,
   "metadata": {},
   "outputs": [
    {
     "data": {
      "text/html": [
       "<div>\n",
       "<style scoped>\n",
       "    .dataframe tbody tr th:only-of-type {\n",
       "        vertical-align: middle;\n",
       "    }\n",
       "\n",
       "    .dataframe tbody tr th {\n",
       "        vertical-align: top;\n",
       "    }\n",
       "\n",
       "    .dataframe thead th {\n",
       "        text-align: right;\n",
       "    }\n",
       "</style>\n",
       "<table border=\"1\" class=\"dataframe\">\n",
       "  <thead>\n",
       "    <tr style=\"text-align: right;\">\n",
       "      <th></th>\n",
       "      <th>critic_score</th>\n",
       "      <th>user_score</th>\n",
       "      <th>total_sales</th>\n",
       "    </tr>\n",
       "  </thead>\n",
       "  <tbody>\n",
       "    <tr>\n",
       "      <td>critic_score</td>\n",
       "      <td>1.000000</td>\n",
       "      <td>0.499067</td>\n",
       "      <td>0.335171</td>\n",
       "    </tr>\n",
       "    <tr>\n",
       "      <td>user_score</td>\n",
       "      <td>0.499067</td>\n",
       "      <td>1.000000</td>\n",
       "      <td>-0.062756</td>\n",
       "    </tr>\n",
       "    <tr>\n",
       "      <td>total_sales</td>\n",
       "      <td>0.335171</td>\n",
       "      <td>-0.062756</td>\n",
       "      <td>1.000000</td>\n",
       "    </tr>\n",
       "  </tbody>\n",
       "</table>\n",
       "</div>"
      ],
      "text/plain": [
       "              critic_score  user_score  total_sales\n",
       "critic_score      1.000000    0.499067     0.335171\n",
       "user_score        0.499067    1.000000    -0.062756\n",
       "total_sales       0.335171   -0.062756     1.000000"
      ]
     },
     "execution_count": 30,
     "metadata": {},
     "output_type": "execute_result"
    }
   ],
   "source": [
    "new_df[new_df.platform == 'PS4'][['critic_score','user_score', 'total_sales']].corr()"
   ]
  },
  {
   "cell_type": "code",
   "execution_count": 31,
   "metadata": {},
   "outputs": [],
   "source": [
    "ps4= new_df[new_df['platform']=='PS4']\n"
   ]
  },
  {
   "cell_type": "code",
   "execution_count": 32,
   "metadata": {},
   "outputs": [
    {
     "data": {
      "image/png": "[encoded data removed]",
      "text/plain": [
       "<Figure size 432x288 with 1 Axes>"
      ]
     },
     "metadata": {},
     "output_type": "display_data"
    }
   ],
   "source": [
    "sns.scatterplot(x= 'critic_score', y= 'total_sales',data=ps4, alpha=.20)\n",
    "plt.title('Correlation between sales and critic reviews for \"PS4\"',fontsize=13);"
   ]
  },
  {
   "cell_type": "code",
   "execution_count": 33,
   "metadata": {},
   "outputs": [
    {
     "data": {
      "image/png": "[encoded data removed]",
      "text/plain": [
       "<Figure size 432x288 with 1 Axes>"
      ]
     },
     "metadata": {},
     "output_type": "display_data"
    }
   ],
   "source": [
    "sns.scatterplot(x= 'user_score', y= 'total_sales',data=ps4, alpha=.20)\n",
    "plt.title('Correlation between sales and user reviews for \"PS4\"',fontsize=13);"
   ]
  },
  {
   "cell_type": "markdown",
   "metadata": {},
   "source": [
    " > - Based on the graph above, there's weak  correlation between sales and critic reviews since it's only ***.33***.\n",
    " > - There is almost no connection between user reviews and total sales"
   ]
  },
  {
   "cell_type": "markdown",
   "metadata": {},
   "source": [
    "#### Comparison of games on other platforms"
   ]
  },
  {
   "cell_type": "code",
   "execution_count": 34,
   "metadata": {},
   "outputs": [
    {
     "data": {
      "text/html": [
       "<div>\n",
       "<style scoped>\n",
       "    .dataframe tbody tr th:only-of-type {\n",
       "        vertical-align: middle;\n",
       "    }\n",
       "\n",
       "    .dataframe tbody tr th {\n",
       "        vertical-align: top;\n",
       "    }\n",
       "\n",
       "    .dataframe thead th {\n",
       "        text-align: right;\n",
       "    }\n",
       "</style>\n",
       "<table border=\"1\" class=\"dataframe\">\n",
       "  <thead>\n",
       "    <tr style=\"text-align: right;\">\n",
       "      <th></th>\n",
       "      <th></th>\n",
       "      <th>total_sales</th>\n",
       "    </tr>\n",
       "    <tr>\n",
       "      <th>name</th>\n",
       "      <th>platform</th>\n",
       "      <th></th>\n",
       "    </tr>\n",
       "  </thead>\n",
       "  <tbody>\n",
       "    <tr>\n",
       "      <td rowspan=\"2\" valign=\"top\">Grand Theft Auto V</td>\n",
       "      <td>PS3</td>\n",
       "      <td>21.05</td>\n",
       "    </tr>\n",
       "    <tr>\n",
       "      <td>X360</td>\n",
       "      <td>16.27</td>\n",
       "    </tr>\n",
       "    <tr>\n",
       "      <td>Call of Duty: Modern Warfare 3</td>\n",
       "      <td>X360</td>\n",
       "      <td>14.73</td>\n",
       "    </tr>\n",
       "    <tr>\n",
       "      <td>Call of Duty: Black Ops 3</td>\n",
       "      <td>PS4</td>\n",
       "      <td>14.63</td>\n",
       "    </tr>\n",
       "    <tr>\n",
       "      <td>Pokemon X/Pokemon Y</td>\n",
       "      <td>3DS</td>\n",
       "      <td>14.60</td>\n",
       "    </tr>\n",
       "    <tr>\n",
       "      <td>...</td>\n",
       "      <td>...</td>\n",
       "      <td>...</td>\n",
       "    </tr>\n",
       "    <tr>\n",
       "      <td>Resistance Dual Pack</td>\n",
       "      <td>PS3</td>\n",
       "      <td>0.01</td>\n",
       "    </tr>\n",
       "    <tr>\n",
       "      <td>Naruto Shippuden: Ultimate Ninja Storm Collection</td>\n",
       "      <td>PS3</td>\n",
       "      <td>0.01</td>\n",
       "    </tr>\n",
       "    <tr>\n",
       "      <td>Dead Rising</td>\n",
       "      <td>XOne</td>\n",
       "      <td>0.01</td>\n",
       "    </tr>\n",
       "    <tr>\n",
       "      <td>Dead Rising 2</td>\n",
       "      <td>XOne</td>\n",
       "      <td>0.01</td>\n",
       "    </tr>\n",
       "    <tr>\n",
       "      <td>Turbo: Super Stunt Squad</td>\n",
       "      <td>PS3</td>\n",
       "      <td>0.01</td>\n",
       "    </tr>\n",
       "  </tbody>\n",
       "</table>\n",
       "<p>2370 rows × 1 columns</p>\n",
       "</div>"
      ],
      "text/plain": [
       "                                                            total_sales\n",
       "name                                              platform             \n",
       "Grand Theft Auto V                                PS3             21.05\n",
       "                                                  X360            16.27\n",
       "Call of Duty: Modern Warfare 3                    X360            14.73\n",
       "Call of Duty: Black Ops 3                         PS4             14.63\n",
       "Pokemon X/Pokemon Y                               3DS             14.60\n",
       "...                                                                 ...\n",
       "Resistance Dual Pack                              PS3              0.01\n",
       "Naruto Shippuden: Ultimate Ninja Storm Collection PS3              0.01\n",
       "Dead Rising                                       XOne             0.01\n",
       "Dead Rising 2                                     XOne             0.01\n",
       "Turbo: Super Stunt Squad                          PS3              0.01\n",
       "\n",
       "[2370 rows x 1 columns]"
      ]
     },
     "execution_count": 34,
     "metadata": {},
     "output_type": "execute_result"
    }
   ],
   "source": [
    "top_sales.pivot_table(index=['name','platform'], values='total_sales', aggfunc='sum')\\\n",
    "        .sort_values(by='total_sales', ascending=False)"
   ]
  },
  {
   "cell_type": "code",
   "execution_count": 35,
   "metadata": {},
   "outputs": [],
   "source": [
    "top_games = (top_sales.pivot_table(index='name', values='total_sales', aggfunc='sum')\\\n",
    "             .sort_values('total_sales', ascending=False)).head(10)"
   ]
  },
  {
   "cell_type": "code",
   "execution_count": 36,
   "metadata": {},
   "outputs": [
    {
     "data": {
      "image/png": "[encoded data removed]",
      "text/plain": [
       "<Figure size 1080x360 with 1 Axes>"
      ]
     },
     "metadata": {},
     "output_type": "display_data"
    }
   ],
   "source": [
    "pd.pivot_table(top_sales[top_sales[\"name\"].isin(top_games.index)],\\\n",
    "            values = 'total_sales', index = 'name',columns = 'platform',aggfunc ='sum')\\\n",
    "            .plot(kind='bar', figsize=(15,5))\n",
    "plt.title('Game Sales Per Platform', fontsize = 15)\n",
    "plt.show()\n",
    "\n",
    "\n",
    "\n"
   ]
  },
  {
   "cell_type": "markdown",
   "metadata": {},
   "source": [
    "> Based on the graph above, we can see that Playstation platform had slightly more sales on certain games than Xbox platform."
   ]
  },
  {
   "cell_type": "markdown",
   "metadata": {},
   "source": [
    "#### Distribution of games by genre"
   ]
  },
  {
   "cell_type": "code",
   "execution_count": 37,
   "metadata": {},
   "outputs": [
    {
     "data": {
      "text/html": [
       "<div>\n",
       "<style scoped>\n",
       "    .dataframe tbody tr th:only-of-type {\n",
       "        vertical-align: middle;\n",
       "    }\n",
       "\n",
       "    .dataframe tbody tr th {\n",
       "        vertical-align: top;\n",
       "    }\n",
       "\n",
       "    .dataframe thead th {\n",
       "        text-align: right;\n",
       "    }\n",
       "</style>\n",
       "<table border=\"1\" class=\"dataframe\">\n",
       "  <thead>\n",
       "    <tr style=\"text-align: right;\">\n",
       "      <th></th>\n",
       "      <th>genre</th>\n",
       "      <th>total_sales</th>\n",
       "    </tr>\n",
       "  </thead>\n",
       "  <tbody>\n",
       "    <tr>\n",
       "      <td>0</td>\n",
       "      <td>Action</td>\n",
       "      <td>565.22</td>\n",
       "    </tr>\n",
       "    <tr>\n",
       "      <td>1</td>\n",
       "      <td>Shooter</td>\n",
       "      <td>402.96</td>\n",
       "    </tr>\n",
       "    <tr>\n",
       "      <td>2</td>\n",
       "      <td>Role-Playing</td>\n",
       "      <td>245.63</td>\n",
       "    </tr>\n",
       "    <tr>\n",
       "      <td>3</td>\n",
       "      <td>Sports</td>\n",
       "      <td>237.40</td>\n",
       "    </tr>\n",
       "    <tr>\n",
       "      <td>4</td>\n",
       "      <td>Misc</td>\n",
       "      <td>139.91</td>\n",
       "    </tr>\n",
       "    <tr>\n",
       "      <td>5</td>\n",
       "      <td>Platform</td>\n",
       "      <td>88.68</td>\n",
       "    </tr>\n",
       "    <tr>\n",
       "      <td>6</td>\n",
       "      <td>Racing</td>\n",
       "      <td>88.31</td>\n",
       "    </tr>\n",
       "    <tr>\n",
       "      <td>7</td>\n",
       "      <td>Fighting</td>\n",
       "      <td>66.90</td>\n",
       "    </tr>\n",
       "    <tr>\n",
       "      <td>8</td>\n",
       "      <td>Simulation</td>\n",
       "      <td>50.26</td>\n",
       "    </tr>\n",
       "    <tr>\n",
       "      <td>9</td>\n",
       "      <td>Adventure</td>\n",
       "      <td>45.04</td>\n",
       "    </tr>\n",
       "    <tr>\n",
       "      <td>10</td>\n",
       "      <td>Strategy</td>\n",
       "      <td>22.51</td>\n",
       "    </tr>\n",
       "    <tr>\n",
       "      <td>11</td>\n",
       "      <td>Puzzle</td>\n",
       "      <td>9.85</td>\n",
       "    </tr>\n",
       "  </tbody>\n",
       "</table>\n",
       "</div>"
      ],
      "text/plain": [
       "           genre  total_sales\n",
       "0         Action       565.22\n",
       "1        Shooter       402.96\n",
       "2   Role-Playing       245.63\n",
       "3         Sports       237.40\n",
       "4           Misc       139.91\n",
       "5       Platform        88.68\n",
       "6         Racing        88.31\n",
       "7       Fighting        66.90\n",
       "8     Simulation        50.26\n",
       "9      Adventure        45.04\n",
       "10      Strategy        22.51\n",
       "11        Puzzle         9.85"
      ]
     },
     "execution_count": 37,
     "metadata": {},
     "output_type": "execute_result"
    }
   ],
   "source": [
    "game_genre = new_df.pivot_table(index='genre', values='total_sales', aggfunc='sum')\\\n",
    "            .sort_values(by='total_sales', ascending=False)\n",
    "game_genre = game_genre.reset_index().rename_axis(None, axis=1)\n",
    "game_genre"
   ]
  },
  {
   "cell_type": "code",
   "execution_count": 38,
   "metadata": {},
   "outputs": [
    {
     "data": {
      "image/png": "[encoded data removed]",
      "text/plain": [
       "<Figure size 1152x576 with 1 Axes>"
      ]
     },
     "metadata": {},
     "output_type": "display_data"
    }
   ],
   "source": [
    "plt.figure(figsize=(16,8))\n",
    "plt.title('Total Sales Based On Genre',fontsize=15)\n",
    "sns.barplot(data=game_genre, x='genre', y='total_sales')\n",
    "plt.xlabel('genre')\n",
    "plt.ylabel('total_sales')\n",
    "plt.show()"
   ]
  },
  {
   "cell_type": "markdown",
   "metadata": {},
   "source": [
    "> As we can see, action dominates the total sales with shooter coming in close to second.We can conclude that action games are the most profitable as well as popular. In general, more active games like action and shooter games have higher sales while strategy and puzzle have the lowest sales."
   ]
  },
  {
   "cell_type": "markdown",
   "metadata": {},
   "source": [
    "### Conclusion\n"
   ]
  },
  {
   "cell_type": "markdown",
   "metadata": {},
   "source": [
    "> - In this section, we look at how many games were released per year and we confirmed that companies did not release a lot games until the 2000s. Companies released the highest volume of games between 2007 and 2012\n",
    "> - We look at how sales varied from platform to platform and we confirmed that PS2 and X360 had the top 2 sales\n",
    "> - We then looked at the top platforms that had the highest sales and build a map to see the platform's sales throughout its lifespan\n",
    "> - We concluded that when company release a newer console, the sales dropped for the older console (ex: PS, PS2,PS3)\n",
    "> - We decided that we should take at least 6 years worth of data for our analysis to build a prognosis for 2017\n",
    "> - Then, we looked at the platforms with the highest sales based on our new data. PS3 had the most sales\n",
    "> - We looked at how professonal review affect the sales. There was a weak correlation between professional reviews and total sales\n",
    "> - We then looked at sales comparison based on the platform with the same games. Playstation had a slight edge on some  games\n",
    "> - Lastly, we looked at genre. We concluded that action is the most profitable and puzzle is the least profitable"
   ]
  },
  {
   "cell_type": "markdown",
   "metadata": {},
   "source": [
    "## Step 4. User profile for each region"
   ]
  },
  {
   "cell_type": "markdown",
   "metadata": {},
   "source": [
    "#### Top platforms per region"
   ]
  },
  {
   "cell_type": "code",
   "execution_count": 39,
   "metadata": {},
   "outputs": [
    {
     "data": {
      "text/html": [
       "<div>\n",
       "<style scoped>\n",
       "    .dataframe tbody tr th:only-of-type {\n",
       "        vertical-align: middle;\n",
       "    }\n",
       "\n",
       "    .dataframe tbody tr th {\n",
       "        vertical-align: top;\n",
       "    }\n",
       "\n",
       "    .dataframe thead th {\n",
       "        text-align: right;\n",
       "    }\n",
       "</style>\n",
       "<table border=\"1\" class=\"dataframe\">\n",
       "  <thead>\n",
       "    <tr style=\"text-align: right;\">\n",
       "      <th></th>\n",
       "      <th>na_sales</th>\n",
       "    </tr>\n",
       "    <tr>\n",
       "      <th>platform</th>\n",
       "      <th></th>\n",
       "    </tr>\n",
       "  </thead>\n",
       "  <tbody>\n",
       "    <tr>\n",
       "      <td>X360</td>\n",
       "      <td>228.18</td>\n",
       "    </tr>\n",
       "    <tr>\n",
       "      <td>PS3</td>\n",
       "      <td>168.96</td>\n",
       "    </tr>\n",
       "    <tr>\n",
       "      <td>PS4</td>\n",
       "      <td>108.74</td>\n",
       "    </tr>\n",
       "    <tr>\n",
       "      <td>XOne</td>\n",
       "      <td>93.12</td>\n",
       "    </tr>\n",
       "    <tr>\n",
       "      <td>3DS</td>\n",
       "      <td>82.83</td>\n",
       "    </tr>\n",
       "  </tbody>\n",
       "</table>\n",
       "</div>"
      ],
      "text/plain": [
       "          na_sales\n",
       "platform          \n",
       "X360        228.18\n",
       "PS3         168.96\n",
       "PS4         108.74\n",
       "XOne         93.12\n",
       "3DS          82.83"
      ]
     },
     "metadata": {},
     "output_type": "display_data"
    },
    {
     "data": {
      "text/html": [
       "<div>\n",
       "<style scoped>\n",
       "    .dataframe tbody tr th:only-of-type {\n",
       "        vertical-align: middle;\n",
       "    }\n",
       "\n",
       "    .dataframe tbody tr th {\n",
       "        vertical-align: top;\n",
       "    }\n",
       "\n",
       "    .dataframe thead th {\n",
       "        text-align: right;\n",
       "    }\n",
       "</style>\n",
       "<table border=\"1\" class=\"dataframe\">\n",
       "  <thead>\n",
       "    <tr style=\"text-align: right;\">\n",
       "      <th></th>\n",
       "      <th>eu_sales</th>\n",
       "    </tr>\n",
       "    <tr>\n",
       "      <th>platform</th>\n",
       "      <th></th>\n",
       "    </tr>\n",
       "  </thead>\n",
       "  <tbody>\n",
       "    <tr>\n",
       "      <td>PS3</td>\n",
       "      <td>164.15</td>\n",
       "    </tr>\n",
       "    <tr>\n",
       "      <td>PS4</td>\n",
       "      <td>141.09</td>\n",
       "    </tr>\n",
       "    <tr>\n",
       "      <td>X360</td>\n",
       "      <td>117.87</td>\n",
       "    </tr>\n",
       "    <tr>\n",
       "      <td>3DS</td>\n",
       "      <td>61.46</td>\n",
       "    </tr>\n",
       "    <tr>\n",
       "      <td>PC</td>\n",
       "      <td>57.38</td>\n",
       "    </tr>\n",
       "  </tbody>\n",
       "</table>\n",
       "</div>"
      ],
      "text/plain": [
       "          eu_sales\n",
       "platform          \n",
       "PS3         164.15\n",
       "PS4         141.09\n",
       "X360        117.87\n",
       "3DS          61.46\n",
       "PC           57.38"
      ]
     },
     "metadata": {},
     "output_type": "display_data"
    },
    {
     "data": {
      "text/html": [
       "<div>\n",
       "<style scoped>\n",
       "    .dataframe tbody tr th:only-of-type {\n",
       "        vertical-align: middle;\n",
       "    }\n",
       "\n",
       "    .dataframe tbody tr th {\n",
       "        vertical-align: top;\n",
       "    }\n",
       "\n",
       "    .dataframe thead th {\n",
       "        text-align: right;\n",
       "    }\n",
       "</style>\n",
       "<table border=\"1\" class=\"dataframe\">\n",
       "  <thead>\n",
       "    <tr style=\"text-align: right;\">\n",
       "      <th></th>\n",
       "      <th>jp_sales</th>\n",
       "    </tr>\n",
       "    <tr>\n",
       "      <th>platform</th>\n",
       "      <th></th>\n",
       "    </tr>\n",
       "  </thead>\n",
       "  <tbody>\n",
       "    <tr>\n",
       "      <td>3DS</td>\n",
       "      <td>100.62</td>\n",
       "    </tr>\n",
       "    <tr>\n",
       "      <td>PS3</td>\n",
       "      <td>49.40</td>\n",
       "    </tr>\n",
       "    <tr>\n",
       "      <td>PSP</td>\n",
       "      <td>24.28</td>\n",
       "    </tr>\n",
       "    <tr>\n",
       "      <td>PSV</td>\n",
       "      <td>21.84</td>\n",
       "    </tr>\n",
       "    <tr>\n",
       "      <td>PS4</td>\n",
       "      <td>15.96</td>\n",
       "    </tr>\n",
       "  </tbody>\n",
       "</table>\n",
       "</div>"
      ],
      "text/plain": [
       "          jp_sales\n",
       "platform          \n",
       "3DS         100.62\n",
       "PS3          49.40\n",
       "PSP          24.28\n",
       "PSV          21.84\n",
       "PS4          15.96"
      ]
     },
     "metadata": {},
     "output_type": "display_data"
    }
   ],
   "source": [
    "regions = ['na_sales','eu_sales','jp_sales']\n",
    "\n",
    "for region in regions:\n",
    "    display(new_df.pivot_table(index='platform',values=region,aggfunc='sum')\\\n",
    "            .sort_values(by=region,ascending=False).head())\n"
   ]
  },
  {
   "cell_type": "code",
   "execution_count": 40,
   "metadata": {},
   "outputs": [
    {
     "data": {
      "image/png": "[encoded data removed]",
      "text/plain": [
       "<Figure size 576x576 with 1 Axes>"
      ]
     },
     "metadata": {},
     "output_type": "display_data"
    },
    {
     "data": {
      "image/png": "[encoded data removed]",
      "text/plain": [
       "<Figure size 576x576 with 1 Axes>"
      ]
     },
     "metadata": {},
     "output_type": "display_data"
    },
    {
     "data": {
      "image/png": "[encoded data removed]",
      "text/plain": [
       "<Figure size 576x576 with 1 Axes>"
      ]
     },
     "metadata": {},
     "output_type": "display_data"
    }
   ],
   "source": [
    "new_df_regions = new_df.groupby(['platform'])['na_sales'].sum().reset_index()\\\n",
    "                .sort_values(by='na_sales', ascending = False)\n",
    "popular_platforms = new_df_regions.head()\n",
    "(popular_platforms.set_index('platform').plot(y='na_sales', kind='pie',figsize=(8,8),\\\n",
    "                                              autopct='%1.1f%%',explode=[0.04]*5,pctdistance=0.5, shadow=True)\n",
    ")\n",
    "plt.title('Top Platforms In North America',fontsize=15)\n",
    "\n",
    "\n",
    "new_df_regions = new_df.groupby(['platform'])['eu_sales'].sum().reset_index()\\\n",
    "                .sort_values(by='eu_sales', ascending = False)\n",
    "popular_platforms = new_df_regions.head()\n",
    "(popular_platforms.set_index('platform').plot(y='eu_sales', kind='pie',figsize=(8,8),\\\n",
    "                                              autopct='%1.1f%%',explode=[0.05]*5,pctdistance=0.5, shadow=True))\n",
    "plt.title('Top Platforms In Europe',fontsize=15)\n",
    "\n",
    "\n",
    "new_df_regions = new_df.groupby(['platform'])['jp_sales'].sum().reset_index()\\\n",
    "                .sort_values(by='jp_sales', ascending = False)\n",
    "popular_platforms = new_df_regions.head()\n",
    "(popular_platforms.set_index('platform').plot(y='jp_sales', kind='pie',figsize=(8,8),\\\n",
    "                                              autopct='%1.1f%%',explode=[0.05]*5,pctdistance=0.5, shadow=True))\n",
    "plt.title('Top Platforms In Japan',fontsize=15)\n",
    "plt.show()\n"
   ]
  },
  {
   "cell_type": "markdown",
   "metadata": {},
   "source": [
    "> -  X360 is the top platform for North America\n",
    "> - PS3 is the top platform for Europe\n",
    "> - 3DS is the top platform for Japan\n",
    "> - Each regions have different platforms that dominate the market. 3DS leads almost half of the sales of the console market in Japan"
   ]
  },
  {
   "cell_type": "markdown",
   "metadata": {},
   "source": [
    "#### Top genres per region"
   ]
  },
  {
   "cell_type": "code",
   "execution_count": 41,
   "metadata": {},
   "outputs": [
    {
     "data": {
      "text/html": [
       "<div>\n",
       "<style scoped>\n",
       "    .dataframe tbody tr th:only-of-type {\n",
       "        vertical-align: middle;\n",
       "    }\n",
       "\n",
       "    .dataframe tbody tr th {\n",
       "        vertical-align: top;\n",
       "    }\n",
       "\n",
       "    .dataframe thead th {\n",
       "        text-align: right;\n",
       "    }\n",
       "</style>\n",
       "<table border=\"1\" class=\"dataframe\">\n",
       "  <thead>\n",
       "    <tr style=\"text-align: right;\">\n",
       "      <th></th>\n",
       "      <th>na_sales</th>\n",
       "    </tr>\n",
       "    <tr>\n",
       "      <th>genre</th>\n",
       "      <th></th>\n",
       "    </tr>\n",
       "  </thead>\n",
       "  <tbody>\n",
       "    <tr>\n",
       "      <td>Action</td>\n",
       "      <td>234.41</td>\n",
       "    </tr>\n",
       "    <tr>\n",
       "      <td>Shooter</td>\n",
       "      <td>194.45</td>\n",
       "    </tr>\n",
       "    <tr>\n",
       "      <td>Sports</td>\n",
       "      <td>108.70</td>\n",
       "    </tr>\n",
       "    <tr>\n",
       "      <td>Role-Playing</td>\n",
       "      <td>83.78</td>\n",
       "    </tr>\n",
       "    <tr>\n",
       "      <td>Misc</td>\n",
       "      <td>69.81</td>\n",
       "    </tr>\n",
       "  </tbody>\n",
       "</table>\n",
       "</div>"
      ],
      "text/plain": [
       "              na_sales\n",
       "genre                 \n",
       "Action          234.41\n",
       "Shooter         194.45\n",
       "Sports          108.70\n",
       "Role-Playing     83.78\n",
       "Misc             69.81"
      ]
     },
     "metadata": {},
     "output_type": "display_data"
    },
    {
     "data": {
      "text/html": [
       "<div>\n",
       "<style scoped>\n",
       "    .dataframe tbody tr th:only-of-type {\n",
       "        vertical-align: middle;\n",
       "    }\n",
       "\n",
       "    .dataframe tbody tr th {\n",
       "        vertical-align: top;\n",
       "    }\n",
       "\n",
       "    .dataframe thead th {\n",
       "        text-align: right;\n",
       "    }\n",
       "</style>\n",
       "<table border=\"1\" class=\"dataframe\">\n",
       "  <thead>\n",
       "    <tr style=\"text-align: right;\">\n",
       "      <th></th>\n",
       "      <th>eu_sales</th>\n",
       "    </tr>\n",
       "    <tr>\n",
       "      <th>genre</th>\n",
       "      <th></th>\n",
       "    </tr>\n",
       "  </thead>\n",
       "  <tbody>\n",
       "    <tr>\n",
       "      <td>Action</td>\n",
       "      <td>202.17</td>\n",
       "    </tr>\n",
       "    <tr>\n",
       "      <td>Shooter</td>\n",
       "      <td>148.05</td>\n",
       "    </tr>\n",
       "    <tr>\n",
       "      <td>Sports</td>\n",
       "      <td>88.67</td>\n",
       "    </tr>\n",
       "    <tr>\n",
       "      <td>Role-Playing</td>\n",
       "      <td>62.30</td>\n",
       "    </tr>\n",
       "    <tr>\n",
       "      <td>Racing</td>\n",
       "      <td>40.58</td>\n",
       "    </tr>\n",
       "  </tbody>\n",
       "</table>\n",
       "</div>"
      ],
      "text/plain": [
       "              eu_sales\n",
       "genre                 \n",
       "Action          202.17\n",
       "Shooter         148.05\n",
       "Sports           88.67\n",
       "Role-Playing     62.30\n",
       "Racing           40.58"
      ]
     },
     "metadata": {},
     "output_type": "display_data"
    },
    {
     "data": {
      "text/html": [
       "<div>\n",
       "<style scoped>\n",
       "    .dataframe tbody tr th:only-of-type {\n",
       "        vertical-align: middle;\n",
       "    }\n",
       "\n",
       "    .dataframe tbody tr th {\n",
       "        vertical-align: top;\n",
       "    }\n",
       "\n",
       "    .dataframe thead th {\n",
       "        text-align: right;\n",
       "    }\n",
       "</style>\n",
       "<table border=\"1\" class=\"dataframe\">\n",
       "  <thead>\n",
       "    <tr style=\"text-align: right;\">\n",
       "      <th></th>\n",
       "      <th>jp_sales</th>\n",
       "    </tr>\n",
       "    <tr>\n",
       "      <th>genre</th>\n",
       "      <th></th>\n",
       "    </tr>\n",
       "  </thead>\n",
       "  <tbody>\n",
       "    <tr>\n",
       "      <td>Role-Playing</td>\n",
       "      <td>79.87</td>\n",
       "    </tr>\n",
       "    <tr>\n",
       "      <td>Action</td>\n",
       "      <td>63.63</td>\n",
       "    </tr>\n",
       "    <tr>\n",
       "      <td>Misc</td>\n",
       "      <td>17.85</td>\n",
       "    </tr>\n",
       "    <tr>\n",
       "      <td>Fighting</td>\n",
       "      <td>12.38</td>\n",
       "    </tr>\n",
       "    <tr>\n",
       "      <td>Platform</td>\n",
       "      <td>12.13</td>\n",
       "    </tr>\n",
       "  </tbody>\n",
       "</table>\n",
       "</div>"
      ],
      "text/plain": [
       "              jp_sales\n",
       "genre                 \n",
       "Role-Playing     79.87\n",
       "Action           63.63\n",
       "Misc             17.85\n",
       "Fighting         12.38\n",
       "Platform         12.13"
      ]
     },
     "metadata": {},
     "output_type": "display_data"
    }
   ],
   "source": [
    "regions = ['na_sales','eu_sales','jp_sales']\n",
    "\n",
    "for region in regions:\n",
    "    display(new_df.pivot_table(index='genre',values=region,aggfunc='sum').sort_values(by=region,ascending=False).head())\n"
   ]
  },
  {
   "cell_type": "code",
   "execution_count": 42,
   "metadata": {},
   "outputs": [
    {
     "data": {
      "text/plain": [
       "platform\n",
       "3DS     87\n",
       "DS      11\n",
       "PC      40\n",
       "PS3     76\n",
       "PS4     51\n",
       "PSP     62\n",
       "PSV     85\n",
       "Wii      9\n",
       "WiiU     7\n",
       "X360    23\n",
       "XOne    14\n",
       "Name: genre, dtype: int64"
      ]
     },
     "execution_count": 42,
     "metadata": {},
     "output_type": "execute_result"
    }
   ],
   "source": [
    "#checking which platform has the most role-playing games\n",
    "new_df[new_df['genre']=='Role-Playing'].groupby('platform')['genre'].count()"
   ]
  },
  {
   "cell_type": "markdown",
   "metadata": {},
   "source": [
    "> - Action is both the top genre in North America and Europe \n",
    "> - Role-playing is the top genre in Japan, with action coming in second\n",
    "> - North America and Europe have pretty much similar genre preference as it has the same rankings 1-4 except the fifth spot\n",
    "> - After checking which platform has the most role-playing games, we can see that 3DS has the most role-playing games which makes sense because it is the top platform in Japan\n"
   ]
  },
  {
   "cell_type": "markdown",
   "metadata": {},
   "source": [
    "#### ESRB ratings per region"
   ]
  },
  {
   "cell_type": "code",
   "execution_count": 43,
   "metadata": {},
   "outputs": [
    {
     "data": {
      "text/html": [
       "<div>\n",
       "<style scoped>\n",
       "    .dataframe tbody tr th:only-of-type {\n",
       "        vertical-align: middle;\n",
       "    }\n",
       "\n",
       "    .dataframe tbody tr th {\n",
       "        vertical-align: top;\n",
       "    }\n",
       "\n",
       "    .dataframe thead th {\n",
       "        text-align: right;\n",
       "    }\n",
       "</style>\n",
       "<table border=\"1\" class=\"dataframe\">\n",
       "  <thead>\n",
       "    <tr style=\"text-align: right;\">\n",
       "      <th></th>\n",
       "      <th>na_sales</th>\n",
       "    </tr>\n",
       "    <tr>\n",
       "      <th>rating</th>\n",
       "      <th></th>\n",
       "    </tr>\n",
       "  </thead>\n",
       "  <tbody>\n",
       "    <tr>\n",
       "      <td>M</td>\n",
       "      <td>329.66</td>\n",
       "    </tr>\n",
       "    <tr>\n",
       "      <td>E</td>\n",
       "      <td>211.09</td>\n",
       "    </tr>\n",
       "    <tr>\n",
       "      <td>T</td>\n",
       "      <td>172.47</td>\n",
       "    </tr>\n",
       "    <tr>\n",
       "      <td>E10+</td>\n",
       "      <td>119.95</td>\n",
       "    </tr>\n",
       "    <tr>\n",
       "      <td>EC</td>\n",
       "      <td>0.42</td>\n",
       "    </tr>\n",
       "  </tbody>\n",
       "</table>\n",
       "</div>"
      ],
      "text/plain": [
       "        na_sales\n",
       "rating          \n",
       "M         329.66\n",
       "E         211.09\n",
       "T         172.47\n",
       "E10+      119.95\n",
       "EC          0.42"
      ]
     },
     "metadata": {},
     "output_type": "display_data"
    },
    {
     "data": {
      "text/html": [
       "<div>\n",
       "<style scoped>\n",
       "    .dataframe tbody tr th:only-of-type {\n",
       "        vertical-align: middle;\n",
       "    }\n",
       "\n",
       "    .dataframe tbody tr th {\n",
       "        vertical-align: top;\n",
       "    }\n",
       "\n",
       "    .dataframe thead th {\n",
       "        text-align: right;\n",
       "    }\n",
       "</style>\n",
       "<table border=\"1\" class=\"dataframe\">\n",
       "  <thead>\n",
       "    <tr style=\"text-align: right;\">\n",
       "      <th></th>\n",
       "      <th>eu_sales</th>\n",
       "    </tr>\n",
       "    <tr>\n",
       "      <th>rating</th>\n",
       "      <th></th>\n",
       "    </tr>\n",
       "  </thead>\n",
       "  <tbody>\n",
       "    <tr>\n",
       "      <td>M</td>\n",
       "      <td>268.95</td>\n",
       "    </tr>\n",
       "    <tr>\n",
       "      <td>E</td>\n",
       "      <td>195.14</td>\n",
       "    </tr>\n",
       "    <tr>\n",
       "      <td>T</td>\n",
       "      <td>129.28</td>\n",
       "    </tr>\n",
       "    <tr>\n",
       "      <td>E10+</td>\n",
       "      <td>79.88</td>\n",
       "    </tr>\n",
       "    <tr>\n",
       "      <td>RP</td>\n",
       "      <td>0.03</td>\n",
       "    </tr>\n",
       "  </tbody>\n",
       "</table>\n",
       "</div>"
      ],
      "text/plain": [
       "        eu_sales\n",
       "rating          \n",
       "M         268.95\n",
       "E         195.14\n",
       "T         129.28\n",
       "E10+       79.88\n",
       "RP          0.03"
      ]
     },
     "metadata": {},
     "output_type": "display_data"
    },
    {
     "data": {
      "text/html": [
       "<div>\n",
       "<style scoped>\n",
       "    .dataframe tbody tr th:only-of-type {\n",
       "        vertical-align: middle;\n",
       "    }\n",
       "\n",
       "    .dataframe tbody tr th {\n",
       "        vertical-align: top;\n",
       "    }\n",
       "\n",
       "    .dataframe thead th {\n",
       "        text-align: right;\n",
       "    }\n",
       "</style>\n",
       "<table border=\"1\" class=\"dataframe\">\n",
       "  <thead>\n",
       "    <tr style=\"text-align: right;\">\n",
       "      <th></th>\n",
       "      <th>jp_sales</th>\n",
       "    </tr>\n",
       "    <tr>\n",
       "      <th>rating</th>\n",
       "      <th></th>\n",
       "    </tr>\n",
       "  </thead>\n",
       "  <tbody>\n",
       "    <tr>\n",
       "      <td>T</td>\n",
       "      <td>134.34</td>\n",
       "    </tr>\n",
       "    <tr>\n",
       "      <td>E</td>\n",
       "      <td>73.01</td>\n",
       "    </tr>\n",
       "    <tr>\n",
       "      <td>M</td>\n",
       "      <td>27.33</td>\n",
       "    </tr>\n",
       "    <tr>\n",
       "      <td>E10+</td>\n",
       "      <td>11.23</td>\n",
       "    </tr>\n",
       "    <tr>\n",
       "      <td>EC</td>\n",
       "      <td>0.00</td>\n",
       "    </tr>\n",
       "  </tbody>\n",
       "</table>\n",
       "</div>"
      ],
      "text/plain": [
       "        jp_sales\n",
       "rating          \n",
       "T         134.34\n",
       "E          73.01\n",
       "M          27.33\n",
       "E10+       11.23\n",
       "EC          0.00"
      ]
     },
     "metadata": {},
     "output_type": "display_data"
    }
   ],
   "source": [
    "regions = ['na_sales','eu_sales','jp_sales']\n",
    "\n",
    "for region in regions:\n",
    "    display(new_df.pivot_table(index='rating',values=region,aggfunc='sum')\\\n",
    "            .sort_values(by=region,ascending=False).head())"
   ]
  },
  {
   "cell_type": "markdown",
   "metadata": {},
   "source": [
    "> - As we can see, the top rating for North America and Europe is ***M*** with ***E*** coming close to second \n",
    "> - Both North America and Europe have the same game rating rankings\n",
    "> - ***T*** is the top rating for Japan, with ***E*** coming in second\n",
    "> - ESRB ratings does affect sales in individual regions. It gives us an idea on what our target audience is in the gaming industry per region. We can plan our advertising campaigns accordingly.\n",
    "\n",
    "> So to summarize each region:\n",
    "> - North America - gamers prefer to play ***action*** games with an ***M*** rating on the ***X360*** platform\n",
    "> - Europe - gamers prefer to play ***action*** games with an ***M*** rating on the ***PS3*** platform\n",
    "> - Japan - gamers prefer to play ***role-playing*** games with a ***T*** rating on the ***3DS*** platform"
   ]
  },
  {
   "cell_type": "markdown",
   "metadata": {},
   "source": [
    "# #  Step 5. Hypotheses Testing"
   ]
  },
  {
   "cell_type": "markdown",
   "metadata": {},
   "source": [
    "#### Average user ratings of Xbox One and PC platforms are the same"
   ]
  },
  {
   "cell_type": "markdown",
   "metadata": {},
   "source": [
    "$H_{0}$-Null Hypothesis: Average user ratings of the \"XOne\" and \"PC\" platforms are the same\n",
    "\n",
    "$H_{1}$ - Alternative Hypotheis: Average user ratings of the \"XOne\" and \"PC\" platforms are different"
   ]
  },
  {
   "cell_type": "code",
   "execution_count": 44,
   "metadata": {},
   "outputs": [
    {
     "data": {
      "text/plain": [
       "(6.778947368421053, 6.680303030303031)"
      ]
     },
     "execution_count": 44,
     "metadata": {},
     "output_type": "execute_result"
    }
   ],
   "source": [
    "#getting the samples\n",
    "sample_x = new_df[new_df['platform'] == \"XOne\"]['user_score']\n",
    "sample_p = new_df[new_df['platform'] == \"PC\"]['user_score']\n",
    "\n",
    "sample_x.mean(), sample_p.mean()"
   ]
  },
  {
   "cell_type": "code",
   "execution_count": 45,
   "metadata": {},
   "outputs": [
    {
     "name": "stdout",
     "output_type": "stream",
     "text": [
      "p-value:  0.3689095074328791\n",
      "We can't reject the null hypothesis\n"
     ]
    }
   ],
   "source": [
    "alpha = .05 # critical statistical significance level\n",
    "                        # if the p-value is less than alpha, we reject the hypothesis\n",
    "\n",
    "results = st.ttest_ind(sample_x, sample_p, equal_var=False)\n",
    "\n",
    "print('p-value: ', results.pvalue)\n",
    "\n",
    "\n",
    "if (results.pvalue < alpha):\n",
    "        print(\"We reject the null hypothesis\")\n",
    "else:\n",
    "        print(\"We can't reject the null hypothesis\")"
   ]
  },
  {
   "cell_type": "markdown",
   "metadata": {},
   "source": [
    "> We calculated the mean  for user rating for both the Xbox and PC. We can see that the mean is pretty much the same but instead of basing our comparison on the mean alone, we use the data to perform a statistical test. We stated the null hypothesis that the average user ratings of the Xbox One and PC platforms are the same. The alternative hypothesis is that the average user ratings of the Xbox One and PC platforms are different. We used a significance level of 0.05, which means that only in 5% of the case will we reject the null hypothesis when it is true. \n",
    "Based on the result, there is no statistically significant difference between the average user ratings of the Xbox One and PC platforms, therefore they are the same.\n",
    " \n"
   ]
  },
  {
   "cell_type": "markdown",
   "metadata": {},
   "source": [
    "#### Average user ratings for the action and sport genres are the different"
   ]
  },
  {
   "cell_type": "markdown",
   "metadata": {},
   "source": [
    "$H_{0}$- Null Hypothesis: Average user ratings of the action and sport platforms are the same\n",
    "\n",
    "$H_{1}$- Alternative Hypothesis: Average user ratings of the action and sport platforms are different"
   ]
  },
  {
   "cell_type": "code",
   "execution_count": 46,
   "metadata": {},
   "outputs": [
    {
     "data": {
      "text/plain": [
       "(7.124397824397823, 6.333589743589744)"
      ]
     },
     "execution_count": 46,
     "metadata": {},
     "output_type": "execute_result"
    }
   ],
   "source": [
    "#getting the samples\n",
    "sample_a = new_df[new_df['genre'] == 'Action']['user_score']\n",
    "sample_s = new_df[new_df['genre'] == 'Sports']['user_score']\n",
    "\n",
    "sample_a.mean(), sample_s.mean()"
   ]
  },
  {
   "cell_type": "code",
   "execution_count": 47,
   "metadata": {},
   "outputs": [
    {
     "name": "stdout",
     "output_type": "stream",
     "text": [
      "p-value:  2.109616274131074e-18\n",
      "We reject the null hypothesis\n"
     ]
    }
   ],
   "source": [
    "alpha = .05 # critical statistical significance level\n",
    "                        # if the p-value is less than alpha, we reject the hypothesis\n",
    "\n",
    "results = st.ttest_ind(sample_a, sample_s, equal_var=False)\n",
    "\n",
    "print('p-value: ', results.pvalue)\n",
    "\n",
    "\n",
    "if (results.pvalue < alpha):\n",
    "        print(\"We reject the null hypothesis\")\n",
    "else:\n",
    "        print(\"We can't reject the null hypothesis\")"
   ]
  },
  {
   "cell_type": "markdown",
   "metadata": {},
   "source": [
    ">  We calculated the mean for user rating for both action and sports genre. We stated the null hypothesis that the average for both genres are the same. The alternative hypothesis is that the average user ratings for action and spport genre are different. We  set the siginificance level at 0.05. Based on the results, the decision is to reject the null hypothesis. We can see the significant difference when we calculated the mean and this result just confirms it. The test suggests that there is a statistically significant difference between the average user ratings for the action and sports genres, therefore they are different. "
   ]
  },
  {
   "cell_type": "markdown",
   "metadata": {},
   "source": [
    "## Step 6. Overall Conclusion"
   ]
  },
  {
   "cell_type": "markdown",
   "metadata": {},
   "source": [
    "At first glance,there are a lot of missing values in Name,Year_of_Release,Critic_Score,Genre, User_Score and Rating column. We filled the missing values on a case by case basis We also noticed that several columns have incorrect data types. We converted these columns to their right data types. User_score column had 'tbd'values that switched to NaN to make filling in missing values easier.\n",
    "\n",
    "In analyzing our data, we can conclude that:\n",
    "> - Companies did not release a lot games until the 2000s. Companies released the highest volume of games between 2007 and 2012\n",
    "> - We looked at how sales varied from platform to platform and we confirmed that PS2 and X360 had the top 2 sales\n",
    "> - When company release a newer console, the sales dropped for the older console (ex: PS, PS2,PS3)\n",
    "> - We need at least 6 years worth of data for our analysis to build a prognosis for 2017\n",
    "> - PS3 had the most sales, based on our  data\n",
    "> - There was a weak correlation between professional reviews and total sales\n",
    "> - There was no correlation between user ratings and total sales\n",
    "> - Playstation platforms(PS3 & PS4) had a slight edge on some  games when we looked at sales comparison based on the platofrm with the same games\n",
    "> - Action is the most profitable genre and puzzle is the least profitable genre\n",
    "\n",
    "In analyzing based on sales per region, we can conclude that:\n",
    "> - The top rating for North America and Europe is ***M*** with ***E*** coming close to second \n",
    "> - Both North America and Europe have the same game rating rankings\n",
    "> - ***T*** is the top rating for Japan, with ***E*** coming in second\n",
    "> - ESRB ratings does affect sales in individual regions. It gives us an idea on the preference and the age of our target audience is in the gaming industry per region. We can plan our advertising campaigns accordingly.\n",
    "> So to summarize each region:\n",
    "> - North America - gamers prefer to play ***action*** games with an ***M*** rating on the ***X360*** platform\n",
    "> - Europe - gamers prefer to play ***action*** games with an ***M*** rating on the ***PS3*** platform\n",
    "> - Japan - gamers prefer to play ***role-playing*** games with a ***T*** rating on the ***3DS*** platform\n",
    "\n",
    "The final step is hypotheses testing. We tested two hypotheses:\n",
    "> - Average user ratings of the Xbox One and PC platforms are the same\n",
    "> - Average user ratings for the Action and Sports genres are different\n",
    "\n",
    "We both use 0.05 significance level for the test. For the first test, we cannot reject the null hypothesis therefore the average user ratings for the Xbox One and PC platform are the same. For the second test, we reject the null hypothesis therefore the average user ratings for action and sports genre are different.\n",
    "\n",
    "\n",
    "        \n",
    "\n"
   ]
  }
 ],
 "metadata": {
  "ExecuteTimeLog": [
   {
    "duration": 1582,
    "start_time": "2021-08-10T09:42:30.672Z"
   },
   {
    "duration": 1913,
    "start_time": "2021-08-10T09:42:32.257Z"
   },
   {
    "duration": 188,
    "start_time": "2021-08-10T09:42:34.174Z"
   },
   {
    "duration": 41,
    "start_time": "2021-08-10T09:42:34.365Z"
   },
   {
    "duration": 7,
    "start_time": "2021-08-10T09:42:34.409Z"
   },
   {
    "duration": 59,
    "start_time": "2021-08-10T09:42:34.419Z"
   },
   {
    "duration": 12,
    "start_time": "2021-08-10T09:42:34.481Z"
   },
   {
    "duration": 32,
    "start_time": "2021-08-10T09:42:34.498Z"
   },
   {
    "duration": 20,
    "start_time": "2021-08-10T09:42:34.561Z"
   },
   {
    "duration": 14855,
    "start_time": "2021-08-10T09:42:34.584Z"
   },
   {
    "duration": 8,
    "start_time": "2021-08-10T09:42:49.442Z"
   },
   {
    "duration": 7,
    "start_time": "2021-08-10T09:42:49.461Z"
   },
   {
    "duration": 9298,
    "start_time": "2021-08-10T09:42:49.471Z"
   },
   {
    "duration": 11,
    "start_time": "2021-08-10T09:42:58.772Z"
   },
   {
    "duration": 29,
    "start_time": "2021-08-10T09:42:58.796Z"
   },
   {
    "duration": 12,
    "start_time": "2021-08-10T09:42:58.829Z"
   },
   {
    "duration": 16,
    "start_time": "2021-08-10T09:42:58.863Z"
   },
   {
    "duration": 25,
    "start_time": "2021-08-10T09:42:58.882Z"
   },
   {
    "duration": 59,
    "start_time": "2021-08-10T09:42:58.910Z"
   },
   {
    "duration": 12270,
    "start_time": "2021-08-10T09:42:58.972Z"
   },
   {
    "duration": -7,
    "start_time": "2021-08-10T09:43:11.270Z"
   },
   {
    "duration": -12,
    "start_time": "2021-08-10T09:43:11.276Z"
   },
   {
    "duration": -13,
    "start_time": "2021-08-10T09:43:11.279Z"
   },
   {
    "duration": -16,
    "start_time": "2021-08-10T09:43:11.283Z"
   },
   {
    "duration": -17,
    "start_time": "2021-08-10T09:43:11.286Z"
   },
   {
    "duration": -21,
    "start_time": "2021-08-10T09:43:11.291Z"
   },
   {
    "duration": -91,
    "start_time": "2021-08-10T09:43:11.363Z"
   },
   {
    "duration": -98,
    "start_time": "2021-08-10T09:43:11.371Z"
   },
   {
    "duration": -100,
    "start_time": "2021-08-10T09:43:11.375Z"
   },
   {
    "duration": -106,
    "start_time": "2021-08-10T09:43:11.382Z"
   },
   {
    "duration": -107,
    "start_time": "2021-08-10T09:43:11.385Z"
   },
   {
    "duration": -111,
    "start_time": "2021-08-10T09:43:11.390Z"
   },
   {
    "duration": -112,
    "start_time": "2021-08-10T09:43:11.393Z"
   },
   {
    "duration": -115,
    "start_time": "2021-08-10T09:43:11.397Z"
   },
   {
    "duration": -117,
    "start_time": "2021-08-10T09:43:11.401Z"
   },
   {
    "duration": -180,
    "start_time": "2021-08-10T09:43:11.466Z"
   },
   {
    "duration": -183,
    "start_time": "2021-08-10T09:43:11.470Z"
   },
   {
    "duration": -184,
    "start_time": "2021-08-10T09:43:11.473Z"
   },
   {
    "duration": -116,
    "start_time": "2021-08-10T09:43:11.478Z"
   },
   {
    "duration": -119,
    "start_time": "2021-08-10T09:43:11.483Z"
   },
   {
    "duration": -124,
    "start_time": "2021-08-10T09:43:11.489Z"
   },
   {
    "duration": -127,
    "start_time": "2021-08-10T09:43:11.494Z"
   },
   {
    "duration": -129,
    "start_time": "2021-08-10T09:43:11.498Z"
   },
   {
    "duration": -132,
    "start_time": "2021-08-10T09:43:11.502Z"
   },
   {
    "duration": -135,
    "start_time": "2021-08-10T09:43:11.507Z"
   },
   {
    "duration": -138,
    "start_time": "2021-08-10T09:43:11.511Z"
   },
   {
    "duration": -139,
    "start_time": "2021-08-10T09:43:11.514Z"
   },
   {
    "duration": 1545,
    "start_time": "2021-08-10T10:36:46.512Z"
   },
   {
    "duration": 2508,
    "start_time": "2021-08-10T10:36:48.063Z"
   },
   {
    "duration": 131,
    "start_time": "2021-08-10T10:36:50.577Z"
   },
   {
    "duration": 59,
    "start_time": "2021-08-10T10:36:50.711Z"
   },
   {
    "duration": 8,
    "start_time": "2021-08-10T10:36:50.773Z"
   },
   {
    "duration": 22,
    "start_time": "2021-08-10T10:36:50.785Z"
   },
   {
    "duration": 17,
    "start_time": "2021-08-10T10:36:50.810Z"
   },
   {
    "duration": 30,
    "start_time": "2021-08-10T10:36:50.865Z"
   },
   {
    "duration": 20,
    "start_time": "2021-08-10T10:36:50.898Z"
   },
   {
    "duration": 11864,
    "start_time": "2021-08-10T10:36:50.920Z"
   },
   {
    "duration": 5,
    "start_time": "2021-08-10T10:37:02.787Z"
   },
   {
    "duration": 9,
    "start_time": "2021-08-10T10:37:02.795Z"
   },
   {
    "duration": 6410,
    "start_time": "2021-08-10T10:37:02.806Z"
   },
   {
    "duration": 11,
    "start_time": "2021-08-10T10:37:09.218Z"
   },
   {
    "duration": 37,
    "start_time": "2021-08-10T10:37:09.231Z"
   },
   {
    "duration": 9,
    "start_time": "2021-08-10T10:37:09.271Z"
   },
   {
    "duration": 14,
    "start_time": "2021-08-10T10:37:09.283Z"
   },
   {
    "duration": 23,
    "start_time": "2021-08-10T10:37:09.299Z"
   },
   {
    "duration": 58,
    "start_time": "2021-08-10T10:37:09.324Z"
   },
   {
    "duration": 514,
    "start_time": "2021-08-10T10:37:09.385Z"
   },
   {
    "duration": -58,
    "start_time": "2021-08-10T10:37:09.961Z"
   },
   {
    "duration": -58,
    "start_time": "2021-08-10T10:37:09.964Z"
   },
   {
    "duration": -60,
    "start_time": "2021-08-10T10:37:09.968Z"
   },
   {
    "duration": -62,
    "start_time": "2021-08-10T10:37:09.972Z"
   },
   {
    "duration": -64,
    "start_time": "2021-08-10T10:37:09.976Z"
   },
   {
    "duration": -64,
    "start_time": "2021-08-10T10:37:09.979Z"
   },
   {
    "duration": -66,
    "start_time": "2021-08-10T10:37:09.983Z"
   },
   {
    "duration": -67,
    "start_time": "2021-08-10T10:37:09.986Z"
   },
   {
    "duration": -96,
    "start_time": "2021-08-10T10:37:10.017Z"
   },
   {
    "duration": -103,
    "start_time": "2021-08-10T10:37:10.026Z"
   },
   {
    "duration": -105,
    "start_time": "2021-08-10T10:37:10.030Z"
   },
   {
    "duration": -106,
    "start_time": "2021-08-10T10:37:10.033Z"
   },
   {
    "duration": -108,
    "start_time": "2021-08-10T10:37:10.037Z"
   },
   {
    "duration": -109,
    "start_time": "2021-08-10T10:37:10.040Z"
   },
   {
    "duration": -112,
    "start_time": "2021-08-10T10:37:10.045Z"
   },
   {
    "duration": -113,
    "start_time": "2021-08-10T10:37:10.048Z"
   },
   {
    "duration": -114,
    "start_time": "2021-08-10T10:37:10.051Z"
   },
   {
    "duration": -115,
    "start_time": "2021-08-10T10:37:10.054Z"
   },
   {
    "duration": -96,
    "start_time": "2021-08-10T10:37:10.057Z"
   },
   {
    "duration": -97,
    "start_time": "2021-08-10T10:37:10.061Z"
   },
   {
    "duration": -98,
    "start_time": "2021-08-10T10:37:10.064Z"
   },
   {
    "duration": -99,
    "start_time": "2021-08-10T10:37:10.067Z"
   },
   {
    "duration": -100,
    "start_time": "2021-08-10T10:37:10.070Z"
   },
   {
    "duration": -102,
    "start_time": "2021-08-10T10:37:10.074Z"
   },
   {
    "duration": -105,
    "start_time": "2021-08-10T10:37:10.079Z"
   },
   {
    "duration": -113,
    "start_time": "2021-08-10T10:37:10.089Z"
   },
   {
    "duration": -118,
    "start_time": "2021-08-10T10:37:10.096Z"
   },
   {
    "duration": 1067,
    "start_time": "2021-08-10T12:11:53.971Z"
   },
   {
    "duration": 1903,
    "start_time": "2021-08-10T12:11:55.040Z"
   },
   {
    "duration": 69,
    "start_time": "2021-08-10T12:11:58.528Z"
   },
   {
    "duration": 22,
    "start_time": "2021-08-10T12:11:59.035Z"
   },
   {
    "duration": 5,
    "start_time": "2021-08-10T12:12:04.512Z"
   },
   {
    "duration": 16,
    "start_time": "2021-08-10T12:12:09.205Z"
   },
   {
    "duration": 9,
    "start_time": "2021-08-10T12:12:09.640Z"
   },
   {
    "duration": 17,
    "start_time": "2021-08-10T12:12:12.925Z"
   },
   {
    "duration": 13,
    "start_time": "2021-08-10T12:12:13.588Z"
   },
   {
    "duration": 6163,
    "start_time": "2021-08-10T12:12:16.212Z"
   },
   {
    "duration": 4,
    "start_time": "2021-08-10T12:12:22.377Z"
   },
   {
    "duration": 14,
    "start_time": "2021-08-10T12:12:22.382Z"
   },
   {
    "duration": 3200,
    "start_time": "2021-08-10T12:12:24.067Z"
   },
   {
    "duration": 7,
    "start_time": "2021-08-10T12:12:27.269Z"
   },
   {
    "duration": 3,
    "start_time": "2021-08-10T12:22:45.739Z"
   },
   {
    "duration": 1866,
    "start_time": "2021-08-10T12:22:46.261Z"
   },
   {
    "duration": 106,
    "start_time": "2021-08-10T12:22:50.035Z"
   },
   {
    "duration": 19,
    "start_time": "2021-08-10T12:22:55.140Z"
   },
   {
    "duration": 25,
    "start_time": "2021-08-10T12:42:01.455Z"
   },
   {
    "duration": 5,
    "start_time": "2021-08-10T12:42:02.914Z"
   },
   {
    "duration": 15,
    "start_time": "2021-08-10T12:42:03.543Z"
   },
   {
    "duration": 8,
    "start_time": "2021-08-10T12:42:03.693Z"
   },
   {
    "duration": 19,
    "start_time": "2021-08-10T12:42:04.281Z"
   },
   {
    "duration": 13,
    "start_time": "2021-08-10T12:42:04.465Z"
   },
   {
    "duration": 6249,
    "start_time": "2021-08-10T12:42:04.833Z"
   },
   {
    "duration": 4,
    "start_time": "2021-08-10T12:42:11.084Z"
   },
   {
    "duration": 5,
    "start_time": "2021-08-10T12:42:11.090Z"
   },
   {
    "duration": 3348,
    "start_time": "2021-08-10T12:42:11.097Z"
   },
   {
    "duration": 9,
    "start_time": "2021-08-10T12:42:14.447Z"
   },
   {
    "duration": 18,
    "start_time": "2021-08-10T12:42:14.458Z"
   },
   {
    "duration": 18,
    "start_time": "2021-08-10T12:42:18.228Z"
   },
   {
    "duration": 6,
    "start_time": "2021-08-10T12:42:22.640Z"
   },
   {
    "duration": 10,
    "start_time": "2021-08-10T12:42:23.028Z"
   },
   {
    "duration": 15,
    "start_time": "2021-08-10T12:42:33.254Z"
   },
   {
    "duration": 14,
    "start_time": "2021-08-10T12:42:33.611Z"
   },
   {
    "duration": 340,
    "start_time": "2021-08-10T12:42:56.794Z"
   },
   {
    "duration": 13,
    "start_time": "2021-08-10T12:43:53.987Z"
   },
   {
    "duration": 3462,
    "start_time": "2021-08-10T12:45:02.990Z"
   },
   {
    "duration": 265,
    "start_time": "2021-08-10T12:45:30.109Z"
   },
   {
    "duration": 251,
    "start_time": "2021-08-10T12:46:58.425Z"
   },
   {
    "duration": 277,
    "start_time": "2021-08-10T12:50:15.127Z"
   },
   {
    "duration": 87,
    "start_time": "2021-08-10T12:51:26.082Z"
   },
   {
    "duration": 478,
    "start_time": "2021-08-10T13:03:50.690Z"
   },
   {
    "duration": 454,
    "start_time": "2021-08-10T13:03:50.719Z"
   },
   {
    "duration": 443,
    "start_time": "2021-08-10T13:03:50.730Z"
   },
   {
    "duration": 432,
    "start_time": "2021-08-10T13:03:50.743Z"
   },
   {
    "duration": 421,
    "start_time": "2021-08-10T13:03:50.756Z"
   },
   {
    "duration": 403,
    "start_time": "2021-08-10T13:03:50.776Z"
   },
   {
    "duration": 394,
    "start_time": "2021-08-10T13:03:50.787Z"
   },
   {
    "duration": 381,
    "start_time": "2021-08-10T13:03:50.802Z"
   },
   {
    "duration": 376,
    "start_time": "2021-08-10T13:03:50.809Z"
   },
   {
    "duration": 367,
    "start_time": "2021-08-10T13:03:50.820Z"
   },
   {
    "duration": 352,
    "start_time": "2021-08-10T13:03:50.837Z"
   },
   {
    "duration": 345,
    "start_time": "2021-08-10T13:03:50.847Z"
   },
   {
    "duration": 4,
    "start_time": "2021-08-10T13:04:30.080Z"
   },
   {
    "duration": 3,
    "start_time": "2021-08-10T13:04:40.614Z"
   },
   {
    "duration": 1935,
    "start_time": "2021-08-10T13:04:41.128Z"
   },
   {
    "duration": 65,
    "start_time": "2021-08-10T13:04:43.192Z"
   },
   {
    "duration": 18,
    "start_time": "2021-08-10T13:04:45.847Z"
   },
   {
    "duration": 4,
    "start_time": "2021-08-10T13:04:51.216Z"
   },
   {
    "duration": 12,
    "start_time": "2021-08-10T13:04:51.716Z"
   },
   {
    "duration": 9,
    "start_time": "2021-08-10T13:04:52.169Z"
   },
   {
    "duration": 19,
    "start_time": "2021-08-10T13:04:52.629Z"
   },
   {
    "duration": 13,
    "start_time": "2021-08-10T13:04:52.879Z"
   },
   {
    "duration": 9375,
    "start_time": "2021-08-10T13:04:52.960Z"
   },
   {
    "duration": 5,
    "start_time": "2021-08-10T13:05:02.337Z"
   },
   {
    "duration": 5,
    "start_time": "2021-08-10T13:05:02.344Z"
   },
   {
    "duration": 3433,
    "start_time": "2021-08-10T13:05:02.351Z"
   },
   {
    "duration": 9,
    "start_time": "2021-08-10T13:05:05.786Z"
   },
   {
    "duration": 22,
    "start_time": "2021-08-10T13:05:05.797Z"
   },
   {
    "duration": 3,
    "start_time": "2021-08-10T13:05:05.821Z"
   },
   {
    "duration": 8,
    "start_time": "2021-08-10T13:05:05.842Z"
   },
   {
    "duration": 26,
    "start_time": "2021-08-10T13:05:05.851Z"
   },
   {
    "duration": 9,
    "start_time": "2021-08-10T13:05:11.669Z"
   },
   {
    "duration": 14,
    "start_time": "2021-08-10T13:05:12.798Z"
   },
   {
    "duration": 14,
    "start_time": "2021-08-10T13:05:21.935Z"
   },
   {
    "duration": 308,
    "start_time": "2021-08-10T13:05:24.379Z"
   },
   {
    "duration": 597,
    "start_time": "2021-08-10T13:12:11.793Z"
   },
   {
    "duration": 14,
    "start_time": "2021-08-10T13:24:52.661Z"
   },
   {
    "duration": 18,
    "start_time": "2021-08-10T13:24:52.676Z"
   },
   {
    "duration": 3,
    "start_time": "2021-08-10T14:02:44.017Z"
   },
   {
    "duration": 1286,
    "start_time": "2021-08-10T14:02:44.058Z"
   },
   {
    "duration": 111,
    "start_time": "2021-08-10T14:02:45.352Z"
   },
   {
    "duration": 35,
    "start_time": "2021-08-10T14:02:45.484Z"
   },
   {
    "duration": 13,
    "start_time": "2021-08-10T14:02:45.536Z"
   },
   {
    "duration": 8,
    "start_time": "2021-08-10T14:02:45.624Z"
   },
   {
    "duration": 7,
    "start_time": "2021-08-10T14:02:45.662Z"
   },
   {
    "duration": 511,
    "start_time": "2021-08-10T14:02:45.441Z"
   },
   {
    "duration": 492,
    "start_time": "2021-08-10T14:02:45.462Z"
   },
   {
    "duration": 490,
    "start_time": "2021-08-10T14:02:45.466Z"
   },
   {
    "duration": 486,
    "start_time": "2021-08-10T14:02:45.472Z"
   },
   {
    "duration": 483,
    "start_time": "2021-08-10T14:02:45.476Z"
   },
   {
    "duration": 480,
    "start_time": "2021-08-10T14:02:45.480Z"
   },
   {
    "duration": 477,
    "start_time": "2021-08-10T14:02:45.484Z"
   },
   {
    "duration": 473,
    "start_time": "2021-08-10T14:02:45.488Z"
   },
   {
    "duration": 471,
    "start_time": "2021-08-10T14:02:45.491Z"
   },
   {
    "duration": 468,
    "start_time": "2021-08-10T14:02:45.495Z"
   },
   {
    "duration": 465,
    "start_time": "2021-08-10T14:02:45.500Z"
   },
   {
    "duration": 461,
    "start_time": "2021-08-10T14:02:45.504Z"
   },
   {
    "duration": 458,
    "start_time": "2021-08-10T14:02:45.508Z"
   },
   {
    "duration": 454,
    "start_time": "2021-08-10T14:02:45.513Z"
   },
   {
    "duration": 451,
    "start_time": "2021-08-10T14:02:45.517Z"
   },
   {
    "duration": 448,
    "start_time": "2021-08-10T14:02:45.521Z"
   },
   {
    "duration": 4,
    "start_time": "2021-08-10T14:14:42.205Z"
   },
   {
    "duration": 1967,
    "start_time": "2021-08-10T14:14:42.605Z"
   },
   {
    "duration": 73,
    "start_time": "2021-08-10T14:14:44.574Z"
   },
   {
    "duration": 18,
    "start_time": "2021-08-10T14:14:44.649Z"
   },
   {
    "duration": 5,
    "start_time": "2021-08-10T14:14:50.622Z"
   },
   {
    "duration": 13,
    "start_time": "2021-08-10T14:14:51.048Z"
   },
   {
    "duration": 9,
    "start_time": "2021-08-10T14:14:51.301Z"
   },
   {
    "duration": 18,
    "start_time": "2021-08-10T14:14:54.114Z"
   },
   {
    "duration": 12,
    "start_time": "2021-08-10T14:14:54.206Z"
   },
   {
    "duration": 6074,
    "start_time": "2021-08-10T14:14:54.441Z"
   },
   {
    "duration": 5,
    "start_time": "2021-08-10T14:15:00.517Z"
   },
   {
    "duration": 22,
    "start_time": "2021-08-10T14:15:00.524Z"
   },
   {
    "duration": 3655,
    "start_time": "2021-08-10T14:15:00.548Z"
   },
   {
    "duration": 7,
    "start_time": "2021-08-10T14:15:04.205Z"
   },
   {
    "duration": 31,
    "start_time": "2021-08-10T14:15:04.214Z"
   },
   {
    "duration": 3,
    "start_time": "2021-08-10T14:15:04.246Z"
   },
   {
    "duration": 6,
    "start_time": "2021-08-10T14:17:33.108Z"
   },
   {
    "duration": 10,
    "start_time": "2021-08-10T14:17:33.672Z"
   },
   {
    "duration": 14,
    "start_time": "2021-08-10T14:17:35.376Z"
   },
   {
    "duration": 15,
    "start_time": "2021-08-10T14:17:38.493Z"
   },
   {
    "duration": 254,
    "start_time": "2021-08-10T14:17:41.324Z"
   },
   {
    "duration": 325,
    "start_time": "2021-08-10T14:18:02.719Z"
   },
   {
    "duration": 253,
    "start_time": "2021-08-10T14:18:18.680Z"
   },
   {
    "duration": 255,
    "start_time": "2021-08-10T14:18:36.585Z"
   },
   {
    "duration": 251,
    "start_time": "2021-08-10T14:18:43.519Z"
   },
   {
    "duration": 250,
    "start_time": "2021-08-10T14:43:21.393Z"
   },
   {
    "duration": 251,
    "start_time": "2021-08-10T14:43:31.203Z"
   },
   {
    "duration": 382,
    "start_time": "2021-08-10T14:43:38.760Z"
   },
   {
    "duration": 249,
    "start_time": "2021-08-10T14:43:46.631Z"
   },
   {
    "duration": 255,
    "start_time": "2021-08-10T14:44:02.731Z"
   },
   {
    "duration": 247,
    "start_time": "2021-08-10T14:44:11.260Z"
   },
   {
    "duration": 6,
    "start_time": "2021-08-10T14:50:04.361Z"
   },
   {
    "duration": 1964,
    "start_time": "2021-08-11T12:14:12.892Z"
   },
   {
    "duration": 2240,
    "start_time": "2021-08-11T12:14:14.858Z"
   },
   {
    "duration": 160,
    "start_time": "2021-08-11T12:14:17.099Z"
   },
   {
    "duration": 21,
    "start_time": "2021-08-11T12:14:17.261Z"
   },
   {
    "duration": 62,
    "start_time": "2021-08-11T12:14:17.283Z"
   },
   {
    "duration": 24,
    "start_time": "2021-08-11T12:14:17.346Z"
   },
   {
    "duration": 16,
    "start_time": "2021-08-11T12:14:17.372Z"
   },
   {
    "duration": 68,
    "start_time": "2021-08-11T12:14:17.390Z"
   },
   {
    "duration": 12,
    "start_time": "2021-08-11T12:14:17.460Z"
   },
   {
    "duration": 12610,
    "start_time": "2021-08-11T12:14:17.474Z"
   },
   {
    "duration": 58,
    "start_time": "2021-08-11T12:14:30.085Z"
   },
   {
    "duration": 10,
    "start_time": "2021-08-11T12:14:30.145Z"
   },
   {
    "duration": 6688,
    "start_time": "2021-08-11T12:14:30.156Z"
   },
   {
    "duration": 7,
    "start_time": "2021-08-11T12:14:36.846Z"
   },
   {
    "duration": 20,
    "start_time": "2021-08-11T12:14:36.855Z"
   },
   {
    "duration": 64,
    "start_time": "2021-08-11T12:14:36.877Z"
   },
   {
    "duration": 10,
    "start_time": "2021-08-11T12:14:36.942Z"
   },
   {
    "duration": 13,
    "start_time": "2021-08-11T12:14:36.953Z"
   },
   {
    "duration": 80,
    "start_time": "2021-08-11T12:14:36.967Z"
   },
   {
    "duration": 392,
    "start_time": "2021-08-11T12:14:37.049Z"
   },
   {
    "duration": 841,
    "start_time": "2021-08-11T12:14:37.442Z"
   },
   {
    "duration": 7,
    "start_time": "2021-08-11T12:14:38.341Z"
   },
   {
    "duration": 932,
    "start_time": "2021-08-11T12:14:38.353Z"
   },
   {
    "duration": 5,
    "start_time": "2021-08-11T12:14:39.340Z"
   },
   {
    "duration": 9,
    "start_time": "2021-08-11T12:14:39.347Z"
   },
   {
    "duration": 2622,
    "start_time": "2021-08-11T12:14:39.357Z"
   },
   {
    "duration": 60,
    "start_time": "2021-08-11T12:14:41.981Z"
   },
   {
    "duration": 513,
    "start_time": "2021-08-11T12:14:42.044Z"
   },
   {
    "duration": 21,
    "start_time": "2021-08-11T12:14:42.558Z"
   },
   {
    "duration": 68,
    "start_time": "2021-08-11T12:14:42.580Z"
   },
   {
    "duration": 6,
    "start_time": "2021-08-11T12:14:42.650Z"
   },
   {
    "duration": 606,
    "start_time": "2021-08-11T12:14:42.658Z"
   },
   {
    "duration": 696,
    "start_time": "2021-08-11T12:14:43.267Z"
   },
   {
    "duration": 77,
    "start_time": "2021-08-11T12:14:43.964Z"
   },
   {
    "duration": 12,
    "start_time": "2021-08-11T12:14:44.043Z"
   },
   {
    "duration": 1200,
    "start_time": "2021-08-11T12:14:44.057Z"
   },
   {
    "duration": 18,
    "start_time": "2021-08-11T12:14:45.259Z"
   },
   {
    "duration": 1072,
    "start_time": "2021-08-11T12:14:45.279Z"
   },
   {
    "duration": 99,
    "start_time": "2021-08-11T12:14:46.352Z"
   },
   {
    "duration": 1509,
    "start_time": "2021-08-11T12:14:46.452Z"
   },
   {
    "duration": 94,
    "start_time": "2021-08-11T12:14:47.963Z"
   },
   {
    "duration": 7,
    "start_time": "2021-08-11T12:14:48.059Z"
   },
   {
    "duration": 92,
    "start_time": "2021-08-11T12:14:48.068Z"
   },
   {
    "duration": 8,
    "start_time": "2021-08-11T12:14:48.162Z"
   },
   {
    "duration": 71,
    "start_time": "2021-08-11T12:14:48.171Z"
   },
   {
    "duration": 8,
    "start_time": "2021-08-11T12:14:48.244Z"
   },
   {
    "duration": 8,
    "start_time": "2021-08-11T12:14:48.254Z"
   }
  ],
  "kernelspec": {
   "display_name": "Python 3",
   "language": "python",
   "name": "python3"
  },
  "language_info": {
   "codemirror_mode": {
    "name": "ipython",
    "version": 3
   },
   "file_extension": ".py",
   "mimetype": "text/x-python",
   "name": "python",
   "nbconvert_exporter": "python",
   "pygments_lexer": "ipython3",
   "version": "3.8.5"
  },
  "toc": {
   "base_numbering": 1,
   "nav_menu": {},
   "number_sections": true,
   "sideBar": true,
   "skip_h1_title": true,
   "title_cell": "Table of Contents",
   "title_sidebar": "Contents",
   "toc_cell": false,
   "toc_position": {},
   "toc_section_display": true,
   "toc_window_display": false
  }
 },
 "nbformat": 4,
 "nbformat_minor": 4
}
